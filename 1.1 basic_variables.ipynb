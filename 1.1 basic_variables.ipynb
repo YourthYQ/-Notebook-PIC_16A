{
 "cells": [
  {
   "cell_type": "markdown",
   "metadata": {},
   "source": [
    "Announcements:\n",
    "- Introduce teaching staff\n",
    "- Please take the pre-quarter survey until tonight! It takes 10 minutes!\n",
    "- Quick overview of syllabus and schedule"
   ]
  },
  {
   "cell_type": "markdown",
   "metadata": {},
   "source": [
    "Jupyter Notebook Files have extensions of .ipynb. \n",
    "\n",
    "Visual Studio (VS) Code application can open .ipynb files, among others."
   ]
  },
  {
   "cell_type": "markdown",
   "metadata": {},
   "source": [
    "Quick demos for tomorrow:\n",
    "\n",
    "Python comments start with `#`.\n",
    "\n",
    "Unlike in C++, you don't need to specify beforehand what data type the variable will be.\n",
    "\n",
    "- int, float, bool, str\n",
    "\n",
    "- `print(x)`: prints the value of object named `x`. A newline character `\\n` is always appended at the end by default, so each call to the `print()` function writes on different lines.\n",
    "- `type(x)`: returns the data type of object named `x`."
   ]
  },
  {
   "cell_type": "code",
   "execution_count": 1,
   "metadata": {
    "tags": []
   },
   "outputs": [
    {
     "name": "stdout",
     "output_type": "stream",
     "text": [
      "Hello, world!\n"
     ]
    }
   ],
   "source": [
    "print(\"Hello, world!\")"
   ]
  },
  {
   "cell_type": "markdown",
   "metadata": {},
   "source": [
    "Integers: unlimited number of digits allowed."
   ]
  },
  {
   "cell_type": "code",
   "execution_count": null,
   "metadata": {
    "tags": []
   },
   "outputs": [
    {
     "name": "stdout",
     "output_type": "stream",
     "text": [
      "5293487509823475897234908578928437590273409857920834790578203894759027\n",
      "<class 'int'>\n"
     ]
    }
   ],
   "source": [
    "# int\n",
    "# dont do int x = 5\n",
    "x = 5293487509823475897234908578928437590273409857920834790578203894759027\n",
    "print(x)\n",
    "print(type(x))"
   ]
  },
  {
   "cell_type": "markdown",
   "metadata": {},
   "source": [
    "Floats: IEEE 754 \"double precision\" numbers (`double` in C++)"
   ]
  },
  {
   "cell_type": "code",
   "execution_count": null,
   "metadata": {
    "tags": []
   },
   "outputs": [
    {
     "name": "stdout",
     "output_type": "stream",
     "text": [
      "5.0\n",
      "<class 'float'>\n"
     ]
    }
   ],
   "source": [
    "# float\n",
    "y = 5.0\n",
    "print(y)\n",
    "print(type(y))\n"
   ]
  },
  {
   "cell_type": "markdown",
   "metadata": {},
   "source": [
    "Boolean: `True` or `False`. "
   ]
  },
  {
   "cell_type": "code",
   "execution_count": null,
   "metadata": {
    "tags": []
   },
   "outputs": [
    {
     "name": "stdout",
     "output_type": "stream",
     "text": [
      "True\n",
      "<class 'bool'>\n"
     ]
    }
   ],
   "source": [
    "# bool\n",
    "flag = True # or False\n",
    "print(flag)\n",
    "print(type(flag))"
   ]
  },
  {
   "cell_type": "markdown",
   "metadata": {},
   "source": [
    "String: `str`, no `char` type in Python. Defined in a matching pair of quotation marks: `\"\"` or `''` (they both represent strings). Escapes work similarly as in C++: `\\n` for newline, `\\t` for tab, etc. \n",
    "\n",
    "They are all valid strings: `\"'\"`, `'\"'`, `'\\''`, and  `\"\\\"\"`"
   ]
  },
  {
   "cell_type": "code",
   "execution_count": null,
   "metadata": {
    "tags": []
   },
   "outputs": [
    {
     "name": "stdout",
     "output_type": "stream",
     "text": [
      "p <class 'str'>\n",
      "catdog catdog!0123\n",
      "<class 'str'> <class 'str'>\n"
     ]
    }
   ],
   "source": [
    "# str\n",
    "# Python doesn't have a separate char class.\n",
    "\n",
    "s = \"catdog\"\n",
    "s1 = 'catdog!0123'\n",
    "s2 = 'p'\n",
    "print(s2, type(s2)) \n",
    "print(s, s1)  \n",
    "print(type(s), type(s1))\n",
    "\n",
    "# useful when\n",
    "# debugging: print(\"T at line 23 is\", T, type(T))\n",
    "# showing output: print(\"The algorithm took\", t, \"minutes.\")"
   ]
  },
  {
   "cell_type": "code",
   "execution_count": 7,
   "metadata": {},
   "outputs": [
    {
     "name": "stdout",
     "output_type": "stream",
     "text": [
      "[\"'\", '\"', \"'\", '\"']\n"
     ]
    }
   ],
   "source": [
    "[\"'\", '\"', '\\'', \"\\\"\"]"
   ]
  },
  {
   "cell_type": "markdown",
   "metadata": {},
   "source": [
    "4 rules of variable naming in Python:\n",
    "- It cannot be a keyword: https://docs.python.org/3/reference/lexical_analysis.html#keywords\n",
    "- It can only contain A-z, 0-9, _\n",
    "- case-sensitive, e.g. X is not the same as x\n",
    "- cannot start with a number, e.g. can only be x1, not 1x"
   ]
  },
  {
   "cell_type": "markdown",
   "metadata": {},
   "source": [
    "2 conventions of variable naming: \n",
    "- snake_case, e.g. `age_of_puppycat = 12`\n",
    "- CamelCase, e.g. `AgeOfPuppycat = 12`"
   ]
  },
  {
   "cell_type": "code",
   "execution_count": null,
   "metadata": {
    "tags": []
   },
   "outputs": [
    {
     "name": "stdout",
     "output_type": "stream",
     "text": [
      "Catdog\n"
     ]
    }
   ],
   "source": [
    "Catdog = 'Catdog'\n",
    "print(Catdog)"
   ]
  },
  {
   "cell_type": "code",
   "execution_count": null,
   "metadata": {
    "tags": []
   },
   "outputs": [
    {
     "name": "stdout",
     "output_type": "stream",
     "text": [
      "10\n"
     ]
    }
   ],
   "source": [
    "_ = 10\n",
    "print(_)"
   ]
  },
  {
   "cell_type": "code",
   "execution_count": null,
   "metadata": {
    "tags": []
   },
   "outputs": [
    {
     "ename": "SyntaxError",
     "evalue": "cannot assign to True (1122478409.py, line 1)",
     "output_type": "error",
     "traceback": [
      "\u001b[0;36m  Cell \u001b[0;32mIn[9], line 1\u001b[0;36m\u001b[0m\n\u001b[0;31m    True = 3 # doesn't work because True is a keyword\u001b[0m\n\u001b[0m    ^\u001b[0m\n\u001b[0;31mSyntaxError\u001b[0m\u001b[0;31m:\u001b[0m cannot assign to True\n"
     ]
    }
   ],
   "source": [
    "True = 3 # doesn't work because True is a keyword\n",
    "print(True)"
   ]
  },
  {
   "cell_type": "markdown",
   "metadata": {},
   "source": [
    "Follow instructions in setup.pdf"
   ]
  }
 ],
 "metadata": {
  "interpreter": {
   "hash": "1052a735994ab10982ef3a1c252711ac3a3f9c97d5e5be175fa2c98d8f54edbb"
  },
  "kernelspec": {
   "display_name": "Python 3 (ipykernel)",
   "language": "python",
   "name": "python3"
  },
  "language_info": {
   "codemirror_mode": {
    "name": "ipython",
    "version": 3
   },
   "file_extension": ".py",
   "mimetype": "text/x-python",
   "name": "python",
   "nbconvert_exporter": "python",
   "pygments_lexer": "ipython3",
   "version": "3.9.6"
  }
 },
 "nbformat": 4,
 "nbformat_minor": 4
}
