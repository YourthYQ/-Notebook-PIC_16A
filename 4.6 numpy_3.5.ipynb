{
 "cells": [
  {
   "cell_type": "markdown",
   "id": "90fb779f-496f-422d-bf20-52b78ed44f85",
   "metadata": {
    "tags": []
   },
   "source": [
    "## Copies and views\n",
    "\n",
    "https://numpy.org/doc/stable/user/basics.copies.html"
   ]
  },
  {
   "cell_type": "code",
   "execution_count": 1,
   "id": "a778fdd6-ffbe-47d6-950a-bcb8f9e5091c",
   "metadata": {
    "tags": []
   },
   "outputs": [],
   "source": [
    "import numpy as np"
   ]
  },
  {
   "cell_type": "markdown",
   "id": "b30e98ed-6db9-48e8-aa2a-411ed08b6d69",
   "metadata": {},
   "source": [
    "Indexing a sub-array (but not an array scalar) creates a *view*.\n",
    "\n",
    "In the following example:\n",
    " - `a` has underlying data;\n",
    " - `b` does not have its own data, it accesses `a`'s data.\n",
    "\n",
    "We say that `b = a[1]` creates a view. \n",
    "\n",
    "A list of all types available with numpy is provided here: \n"
   ]
  },
  {
   "cell_type": "code",
   "execution_count": 2,
   "id": "9edd9ef4-0a37-48a9-9021-0703f7cf0c45",
   "metadata": {
    "tags": []
   },
   "outputs": [
    {
     "name": "stdout",
     "output_type": "stream",
     "text": [
      "a =\n",
      "[[200 201 202 203]\n",
      " [210 211 212 213]\n",
      " [220 221 222 223]]\n",
      "\n",
      "b =\n",
      "[210 211 212 213]\n",
      "\n",
      "after b[2] = 88\n",
      "\n",
      "a =\n",
      "[[200 201 202 203]\n",
      " [210 211  88 213]\n",
      " [220 221 222 223]]\n",
      "\n",
      "b =\n",
      "[210 211  88 213]\n",
      "\n"
     ]
    }
   ],
   "source": [
    "a = np.array([[200, 201, 202, 203], [210, 211, 212, 213], [220, 221, 222, 223]], dtype = np.int32)\n",
    "b = a[1] # same as a[1, :] # `=` is a deep copy\n",
    "\n",
    "print('a =')\n",
    "print(a)\n",
    "print('')\n",
    "\n",
    "print('b =')\n",
    "print(b)\n",
    "print('')\n",
    "\n",
    "b[2] = 88 # `=` is deep copy\n",
    "print('after b[2] = 88')\n",
    "print('')\n",
    "\n",
    "print('a =')\n",
    "print(a)\n",
    "print('')\n",
    "\n",
    "print('b =')\n",
    "print(b)\n",
    "print('')"
   ]
  },
  {
   "cell_type": "markdown",
   "id": "6ae79de3",
   "metadata": {},
   "source": [
    "`dtype` (data type) in NumPy specifies the type of elements stored in an array. It's a way to tell NumPy how to interpret each element of the array, which has a significant impact on the amount of memory used to store the array and how operations on the array are performed."
   ]
  },
  {
   "cell_type": "markdown",
   "id": "158005fe-bf73-43d9-971f-ecf1854dba29",
   "metadata": {},
   "source": [
    "`https://numpy.org/doc/stable/user/basics.types.html`.\n",
    "\n",
    "We commonly use: `np.bool`, `np.uint8`, `np.float32`, `np.float64`, `np.int32`, and `np.int64`\n",
    "\n",
    "If we were to talk about audio, we'd need `np.int16`, and sometimes `np.int32`, too."
   ]
  },
  {
   "cell_type": "code",
   "execution_count": 4,
   "id": "d657a13f-f71b-458e-a2c2-26be35f7e387",
   "metadata": {
    "tags": []
   },
   "outputs": [
    {
     "name": "stdout",
     "output_type": "stream",
     "text": [
      "a =\n",
      "[[200 201 202 203]\n",
      " [210 211 212 213]\n",
      " [220 221 222 223]]\n",
      "\n",
      "b =\n",
      "[210 211 212 213]\n",
      "\n",
      "after b[2] = 88\n",
      "\n",
      "a =\n",
      "[[200 201 202 203]\n",
      " [210 211 212 213]\n",
      " [220 221 222 223]]\n",
      "\n",
      "b =\n",
      "[210 211  88 213]\n",
      "\n"
     ]
    }
   ],
   "source": [
    "a = np.array([[200, 201, 202, 203], [210, 211, 212, 213], [220, 221, 222, 223]], dtype = np.int32)\n",
    "b = a[1].copy() # `.copy()` is a shallow copy\n",
    "\n",
    "print('a =')\n",
    "print(a)\n",
    "print('')\n",
    "\n",
    "print('b =')\n",
    "print(b)\n",
    "print('')\n",
    "\n",
    "b[2] = 88\n",
    "print('after b[2] = 88')\n",
    "print('')\n",
    "\n",
    "print('a =')\n",
    "print(a)\n",
    "print('')\n",
    "\n",
    "print('b =')\n",
    "print(b)\n",
    "print('')"
   ]
  },
  {
   "cell_type": "markdown",
   "id": "7fa79c56-52b2-40c6-9e25-eac0c518c46d",
   "metadata": {},
   "source": [
    "Two reasons for using `copy`:\n",
    " - You genuinely want to copy the data so you can edit it without affecting the original data.\n",
    " - You have taken a smaller part of some very large data, and no longer need the rest of the very large data.\n",
    "   Then\n",
    "   ```\n",
    "    b = a[indexing].copy()\n",
    "    del a\n",
    "   ```\n",
    "   seems appropriate, because it'll allow Python's garbage collection to destroy the large data."
   ]
  },
  {
   "cell_type": "markdown",
   "id": "0ac8e502-b45c-434c-b49a-c75059d48ff5",
   "metadata": {},
   "source": [
    "We have seen some basic slicing for images. There's a few other things to know about slicing:\n",
    " - slicing creates a view;\n",
    " - slicing can be combined with usual indexing;\n",
    "   - slicing preserves an axis;\n",
    "   - an index causes that axis to \"indexed away\";\n",
    " - when fewer indices and slices are provided than the number of axes, \n",
    "   the missing trailing indices are considered complete slices;\n",
    " - `...` can be used to fill in as many total slices `:` as needed to make sense."
   ]
  },
  {
   "cell_type": "markdown",
   "id": "83ee01cd",
   "metadata": {},
   "source": [
    "```python\n",
    "np.fromfunction(function_body, shape_of_array, dtype)\n",
    "```"
   ]
  },
  {
   "cell_type": "code",
   "execution_count": 7,
   "id": "a14d6d05",
   "metadata": {},
   "outputs": [
    {
     "data": {
      "text/plain": [
       "<function __main__.<lambda>(i0, i1, i2)>"
      ]
     },
     "execution_count": 7,
     "metadata": {},
     "output_type": "execute_result"
    }
   ],
   "source": [
    "a = lambda i0, i1, i2: 3000 + 100*i0 + 10*i1 + 1*i2\n",
    "a"
   ]
  },
  {
   "cell_type": "code",
   "execution_count": 9,
   "id": "64acfb64-67ff-497c-9bd2-edc721b98406",
   "metadata": {
    "tags": []
   },
   "outputs": [
    {
     "name": "stdout",
     "output_type": "stream",
     "text": [
      "[[[3000 3001 3002 3003 3004]\n",
      "  [3010 3011 3012 3013 3014]\n",
      "  [3020 3021 3022 3023 3024]\n",
      "  [3030 3031 3032 3033 3034]]\n",
      "\n",
      " [[3100 3101 3102 3103 3104]\n",
      "  [3110 3111 3112 3113 3114]\n",
      "  [3120 3121 3122 3123 3124]\n",
      "  [3130 3131 3132 3133 3134]]]\n"
     ]
    }
   ],
   "source": [
    "a = np.fromfunction(lambda i0, i1, i2: 3000 + 100*i0 + 10*i1 + 1*i2, (2, 4, 5), dtype=np.int32)\n",
    "print(a)"
   ]
  },
  {
   "cell_type": "markdown",
   "id": "ba46e0f7",
   "metadata": {},
   "source": [
    "**Grid of Indices**: NumPy constructs a grid of indices where each dimension corresponds to one of the function's arguments. For a 3D array of shape (2, 4, 5), the indices for each dimension would be:\n",
    "\n",
    "For i0: Two values (0 and 1), since the first dimension's size is 2. <br>\n",
    "For i1: Four values (0, 1, 2, 3), since the second dimension's size is 4. <br>\n",
    "For i2: Five values (0, 1, 2, 3, 4), since the third dimension's size is 5.\n",
    "\n",
    "**Function Calls**: The function is called with each combination of these indices. For example, the first call might be with (i0=0, i1=0, i2=0), the next with (i0=0, i1=0, i2=1), and so on, covering every possible combination up to (i0=1, i1=3, i2=4) for the last element of the array. This results in the function being called once for each element of the array, with the indices specifying the position of that element.\n",
    "\n",
    "**Element Computation**: For each call, the function computes the value of the array element at the position specified by the indices. In your example, the computation is 3000 + 100*i0 + 10*i1 + 1*i2, so the indices directly determine each element's value, with the function effectively iterating through the indices with a step of one."
   ]
  },
  {
   "cell_type": "code",
   "execution_count": 10,
   "id": "b0945922-8769-421c-9f9e-1dae14a9719d",
   "metadata": {},
   "outputs": [
    {
     "name": "stdout",
     "output_type": "stream",
     "text": [
      "[[[3010 3012 3014]\n",
      "  [3020 3022 3024]]\n",
      "\n",
      " [[3110 3112 3114]\n",
      "  [3120 3122 3124]]]\n"
     ]
    }
   ],
   "source": [
    "b = a[:,1:3,::2] # the first axis is left alone, only have 1,2 from the second axis, only have 0,2,4 from the last axis\n",
    "print(b)"
   ]
  },
  {
   "cell_type": "code",
   "execution_count": 11,
   "id": "9d9e089c-4f0d-4def-bb84-b251e9266bc4",
   "metadata": {},
   "outputs": [
    {
     "name": "stdout",
     "output_type": "stream",
     "text": [
      "a =\n",
      "[[[3000 3001 3002 3003 3004]\n",
      "  [3010 3011 3012 3013 3014]\n",
      "  [3020 3021 3022 3023 3024]\n",
      "  [3030 3031 3032 3033 3034]]\n",
      "\n",
      " [[3100 3101 3102 3103 3104]\n",
      "  [3110 3111 3112 3113   88]\n",
      "  [3120 3121 3122 3123 3124]\n",
      "  [3130 3131 3132 3133 3134]]]\n",
      "\n",
      "b =\n",
      "[[[3010 3012 3014]\n",
      "  [3020 3022 3024]]\n",
      "\n",
      " [[3110 3112   88]\n",
      "  [3120 3122 3124]]]\n",
      "\n"
     ]
    }
   ],
   "source": [
    "b[1,0,2] = 88 # affects the array a since the previous assignment created a view\n",
    "\n",
    "print('a =')\n",
    "print(a)\n",
    "print('')\n",
    "\n",
    "print('b =')\n",
    "print(b)\n",
    "print('')"
   ]
  },
  {
   "cell_type": "code",
   "execution_count": 12,
   "id": "a114459b-c4e0-4c29-bcc9-d29e28314fc6",
   "metadata": {},
   "outputs": [
    {
     "name": "stdout",
     "output_type": "stream",
     "text": [
      "a =\n",
      "[[[3000 3001 3002 3003 3004]\n",
      "  [3010 3011 3012 3013 3014]\n",
      "  [3020 3021 3022 3023 3024]\n",
      "  [3030 3031 3032 3033 3034]]\n",
      "\n",
      " [[3100 3101 3102 3103 3104]\n",
      "  [3110 3111 3112 3113 3114]\n",
      "  [3120 3121 3122 3123 3124]\n",
      "  [3130 3131 3132 3133 3134]]]\n",
      "shape = (2, 4, 5)\n",
      "\n",
      "b =\n",
      "[[3011 3012 3013 3014]\n",
      " [3021 3022 3023 3024]\n",
      " [3031 3032 3033 3034]]\n",
      "shape = (3, 4)\n",
      "\n"
     ]
    }
   ],
   "source": [
    "a = np.fromfunction(lambda i0, i1, i2: 3000 + 100*i0 + 10*i1 + 1*i2, (2, 4, 5), dtype=np.int32)\n",
    "b = a[0,1:,1:] # the first axis will be lost; the second will become smaller by 1, as will the third\n",
    "\n",
    "print('a =')\n",
    "print(a)\n",
    "print('shape =', a.shape)\n",
    "print('')\n",
    "\n",
    "print('b =')\n",
    "print(b)\n",
    "print('shape =', b.shape)\n",
    "print('')"
   ]
  },
  {
   "cell_type": "code",
   "execution_count": 13,
   "id": "d735e541-bb12-4baa-a88a-64036e41b335",
   "metadata": {},
   "outputs": [
    {
     "name": "stdout",
     "output_type": "stream",
     "text": [
      "b =\n",
      "[[6]]\n",
      "shape = (1, 1)\n",
      "\n",
      "c =\n",
      "6\n",
      "shape = ()\n",
      "\n"
     ]
    }
   ],
   "source": [
    "a = np.array([[1, 2, 3], [4, 5, 6]], dtype = np.int32)\n",
    "b = a[1:2,2:3]  # b is an array with 2 axes\n",
    "c = a[1,2]      # c is an array with 0 axes, an array scalar\n",
    "\n",
    "print('b =')\n",
    "print(b)\n",
    "print('shape =', b.shape)\n",
    "print('')\n",
    "\n",
    "print('c =')\n",
    "print(c)\n",
    "print('shape =', c.shape)\n",
    "print('')"
   ]
  },
  {
   "cell_type": "code",
   "execution_count": 14,
   "id": "a12d1296-93cb-4419-9134-70791994b90d",
   "metadata": {},
   "outputs": [
    {
     "name": "stdout",
     "output_type": "stream",
     "text": [
      "b =\n",
      "[[3020 3021 3022 3023 3024]\n",
      " [3030 3031 3032 3033 3034]]\n",
      "\n",
      "c =\n",
      "[[3020 3021 3022 3023 3024]\n",
      " [3030 3031 3032 3033 3034]]\n",
      "\n"
     ]
    }
   ],
   "source": [
    "a = np.fromfunction(lambda i0, i1, i2: 3000 + 100*i0 + 10*i1 + 1*i2, (2, 4, 5), dtype=np.int32)\n",
    "b = a[0,2:4]    # b will end up viewing\n",
    "c = a[0,2:4,:]  # the same data as c\n",
    "\n",
    "print('b =')\n",
    "print(b)\n",
    "print('')\n",
    "\n",
    "print('c =')\n",
    "print(c)\n",
    "print('')"
   ]
  },
  {
   "cell_type": "code",
   "execution_count": 15,
   "id": "21f0059a-1391-443d-81be-55cba68913ac",
   "metadata": {},
   "outputs": [
    {
     "name": "stdout",
     "output_type": "stream",
     "text": [
      "a =\n",
      "[[[3000 3001 3002 3003 3004]\n",
      "  [3010 3011 3012 3013 3014]\n",
      "  [3020 3021 3022 3023 3024]\n",
      "  [3030 3031 3032 3033 3034]]\n",
      "\n",
      " [[3100 3101 3102 3103 3104]\n",
      "  [3110 3111 3112 3113 3114]\n",
      "  [3120 3121 3122 3123 3124]\n",
      "  [3130 3131 3132 3133 3134]]]\n",
      "shape = (2, 4, 5)\n",
      "\n",
      "b =\n",
      "[[3002 3012 3022 3032]\n",
      " [3102 3112 3122 3132]]\n",
      "shape = (2, 4)\n",
      "\n"
     ]
    }
   ],
   "source": [
    "a = np.fromfunction(lambda i0, i1, i2: 3000 + 100*i0 + 10*i1 + 1*i2, (2, 4, 5), dtype=np.int32)\n",
    "b = a[...,2]  # the same as b = a[:,:,2]\n",
    "\n",
    "print('a =')\n",
    "print(a)\n",
    "print('shape =', a.shape)\n",
    "print('')\n",
    "\n",
    "print('b =')\n",
    "print(b)\n",
    "print('shape =', b.shape)\n",
    "print('')"
   ]
  },
  {
   "cell_type": "markdown",
   "id": "8ddbd572-983c-4705-87c4-54d805351561",
   "metadata": {},
   "source": [
    "## Converting types"
   ]
  },
  {
   "cell_type": "markdown",
   "id": "f6636d7a-71c7-443a-8ddc-a057bdf22f8b",
   "metadata": {},
   "source": [
    "The `astype` function is useful for data type changing.\n"
   ]
  },
  {
   "cell_type": "code",
   "execution_count": 16,
   "id": "5c75cd7c-61eb-4309-aba4-1300ca1f9248",
   "metadata": {
    "tags": []
   },
   "outputs": [
    {
     "name": "stdout",
     "output_type": "stream",
     "text": [
      "a =\n",
      "[254.5 255.  255.5 256.  256.5 257.  257.5 258. ]\n",
      "dtype = float32\n",
      "\n",
      "b =\n",
      "[254 255 255 256 256 257 257 258]\n",
      "dtype = int32\n",
      "\n",
      "c =\n",
      "[254 255 255 256 256 257 257 258]\n",
      "dtype = uint32\n",
      "\n"
     ]
    }
   ],
   "source": [
    "a = np.arange(254.5, 258.5, 0.5, dtype = np.float32)\n",
    "b = a.astype(np.int32)\n",
    "c = b.astype(np.uint32)\n",
    "\n",
    "print('a =')\n",
    "print(a)\n",
    "print('dtype =', a.dtype)\n",
    "print('')\n",
    "\n",
    "print('b =')\n",
    "print(b)\n",
    "print('dtype =', b.dtype)\n",
    "print('')\n",
    "\n",
    "print('c =')\n",
    "print(c)\n",
    "print('dtype =', c.dtype)\n",
    "print('')"
   ]
  },
  {
   "cell_type": "markdown",
   "id": "04f123fc-4f5c-4f0f-83e5-9c53c118c860",
   "metadata": {},
   "source": [
    "The data types in NumPy are different from base Python, and are closer to what C++ has. In particular, integers **have fixed-width representations** and may overflow.\n",
    "\n",
    "While data types in Python (out of NumPy) like integers are **arbitrary-precision** and will not overflow."
   ]
  },
  {
   "cell_type": "code",
   "execution_count": 19,
   "id": "d1ce35ff-73bd-4805-8115-298178f3a92a",
   "metadata": {
    "tags": []
   },
   "outputs": [
    {
     "name": "stdout",
     "output_type": "stream",
     "text": [
      "d =\n",
      "[254 255 255   0   0   1   1   2]\n",
      "dtype = uint8\n",
      "\n"
     ]
    }
   ],
   "source": [
    "c = np.array([254, 255, 255, 256, 256, 257, 257, 258])\n",
    "d = c.astype(np.uint8)\n",
    "\n",
    "print('d =')\n",
    "print(d)\n",
    "print('dtype =', d.dtype)\n",
    "print('')"
   ]
  },
  {
   "cell_type": "markdown",
   "id": "91e40935",
   "metadata": {},
   "source": [
    "Observe the output of d. (find the differences between c and d)"
   ]
  }
 ],
 "metadata": {
  "kernelspec": {
   "display_name": "base",
   "language": "python",
   "name": "python3"
  },
  "language_info": {
   "codemirror_mode": {
    "name": "ipython",
    "version": 3
   },
   "file_extension": ".py",
   "mimetype": "text/x-python",
   "name": "python",
   "nbconvert_exporter": "python",
   "pygments_lexer": "ipython3",
   "version": "3.11.7"
  }
 },
 "nbformat": 4,
 "nbformat_minor": 5
}
