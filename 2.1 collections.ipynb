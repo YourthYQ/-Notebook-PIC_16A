{
 "cells": [
  {
   "cell_type": "markdown",
   "metadata": {},
   "source": [
    "Announcements:\n",
    "- Discussions 1-4 due this Friday for everyone. Since the study list is not locked yet, you may earn credits without actual attendance -- you will have to submit individually in that case.\n",
    "- Discussions are NOT graded on completion or accuracy (it's not a trick!)\n",
    "\n",
    "Last week: Basic types, indexing, slicing, objects, `list` and tricky things about lists and objects. Boolean expressions and how control flow works -- `if`, `elif`, `else`, `for`, `while`.\n",
    "\n",
    "Today: list comprehension, `set`, `dict`, functions.\n"
   ]
  },
  {
   "cell_type": "markdown",
   "metadata": {
    "tags": []
   },
   "source": [
    "### list comprehension\n",
    "\n",
    "It's a very Pythonic tool to create a list from a already-existing list! (required in HW 1 Problem 4)\n",
    "\n",
    "Pythonic -- using something unique to Python to produce code that is clear, concise and maintainable\n",
    "\n",
    "https://docs.python.org/3/tutorial/datastructures.html#list-comprehensions"
   ]
  },
  {
   "cell_type": "code",
   "execution_count": 11,
   "metadata": {},
   "outputs": [],
   "source": [
    "L = [1, 2, 3, 4, 5]"
   ]
  },
  {
   "cell_type": "code",
   "execution_count": 12,
   "metadata": {},
   "outputs": [
    {
     "name": "stdout",
     "output_type": "stream",
     "text": [
      "[1, 4, 9, 16, 25]\n"
     ]
    }
   ],
   "source": [
    "sq_L = []\n",
    "\n",
    "for l in L:\n",
    "    sq_L.append(l**2)\n",
    "\n",
    "print(sq_L)"
   ]
  },
  {
   "cell_type": "code",
   "execution_count": 13,
   "metadata": {},
   "outputs": [
    {
     "name": "stdout",
     "output_type": "stream",
     "text": [
      "[1, 4, 9, 16, 25]\n"
     ]
    }
   ],
   "source": [
    "sq_L = [l**2 for l in L]\n",
    "print(sq_L)"
   ]
  },
  {
   "cell_type": "code",
   "execution_count": 14,
   "metadata": {},
   "outputs": [
    {
     "name": "stdout",
     "output_type": "stream",
     "text": [
      "[1, 9, 25]\n"
     ]
    }
   ],
   "source": [
    "odd_sq_L = [l**2 for l in L if l%2 == 1] # [f(x) for x in list if x satisfies criteria]\n",
    "print(odd_sq_L)"
   ]
  },
  {
   "cell_type": "markdown",
   "metadata": {},
   "source": [
    "Nested list comprehension: https://docs.python.org/3/tutorial/datastructures.html#nested-list-comprehensions (useful for HW1 problem 4)"
   ]
  },
  {
   "cell_type": "markdown",
   "metadata": {},
   "source": [
    "### More on `tuple`: packing and unpacking\n"
   ]
  },
  {
   "cell_type": "code",
   "execution_count": 15,
   "metadata": {
    "tags": []
   },
   "outputs": [
    {
     "name": "stdout",
     "output_type": "stream",
     "text": [
      "(0, 1, [777])\n",
      "(0, 1, [777, 8])\n"
     ]
    }
   ],
   "source": [
    "t = (0, 1, [777])\n",
    "print(t)\n",
    "\n",
    "# tuple is immutable, but list is mutable\n",
    "t[2].append(8)\n",
    "print(t)"
   ]
  },
  {
   "cell_type": "markdown",
   "metadata": {},
   "source": [
    "Tuple packing: basically how we form tuple from multiple objects"
   ]
  },
  {
   "cell_type": "code",
   "execution_count": 16,
   "metadata": {
    "tags": []
   },
   "outputs": [
    {
     "name": "stdout",
     "output_type": "stream",
     "text": [
      "([777], 1, 0) <class 'tuple'>\n"
     ]
    }
   ],
   "source": [
    "t2 = [777], 1, 0 # works without parentheses!\n",
    "print(t2, type(t2))"
   ]
  },
  {
   "cell_type": "markdown",
   "metadata": {},
   "source": [
    "Tuple unpacking: assigning tuple values to multiple variables"
   ]
  },
  {
   "cell_type": "code",
   "execution_count": 17,
   "metadata": {
    "tags": []
   },
   "outputs": [
    {
     "name": "stdout",
     "output_type": "stream",
     "text": [
      "(0, 1, [777])\n",
      "0 1 [777]\n"
     ]
    }
   ],
   "source": [
    "t = (0, 1, [777])\n",
    "print(t)\n",
    "\n",
    "i1, i2, L = t\n",
    "print(i1, i2, L)"
   ]
  },
  {
   "cell_type": "code",
   "execution_count": 18,
   "metadata": {
    "tags": []
   },
   "outputs": [
    {
     "name": "stdout",
     "output_type": "stream",
     "text": [
      "0 1 2\n"
     ]
    }
   ],
   "source": [
    "a, b, c = 0, 1, 2 # packing happens first\n",
    "print(a, b, c)"
   ]
  },
  {
   "cell_type": "markdown",
   "metadata": {},
   "source": [
    "Packing happens first, so..."
   ]
  },
  {
   "cell_type": "code",
   "execution_count": 19,
   "metadata": {
    "tags": []
   },
   "outputs": [
    {
     "name": "stdout",
     "output_type": "stream",
     "text": [
      "1 0\n"
     ]
    }
   ],
   "source": [
    "a, b, c = 0, 1, 2\n",
    "\n",
    "a, b = b, a # swap two values - concurrent exchange\n",
    "print(a, b)"
   ]
  },
  {
   "cell_type": "markdown",
   "metadata": {},
   "source": [
    "### `set`\n",
    "\n",
    "`set` - unordered collection of unique elements (like the mathematical object)"
   ]
  },
  {
   "cell_type": "code",
   "execution_count": 27,
   "metadata": {},
   "outputs": [
    {
     "name": "stdout",
     "output_type": "stream",
     "text": [
      "{1, 2, 3, '4'} <class 'set'>\n",
      "set() <class 'set'>\n",
      "<class 'dict'>\n"
     ]
    }
   ],
   "source": [
    "S = {1,2,1,1,1,3, '4'}\n",
    "D = {} # an empty dictionary\n",
    "S1 = set() # an empty set\n",
    "\n",
    "print(S, type(S)) # a set does not have duplicate elements\n",
    "print(S1, type(S1)) # a set does not have duplicate elements\n",
    "print(type(D))"
   ]
  },
  {
   "cell_type": "markdown",
   "metadata": {},
   "source": [
    "### `dict` stand for \"Dictionary\"\n",
    "Data in key-value pairs!"
   ]
  },
  {
   "cell_type": "code",
   "execution_count": 21,
   "metadata": {},
   "outputs": [
    {
     "name": "stdout",
     "output_type": "stream",
     "text": [
      "{1: 'hello', 'my': 23, 5: 10} <class 'dict'>\n",
      "{} <class 'dict'>\n"
     ]
    }
   ],
   "source": [
    "D = {1: 'hello', 'my': 23, 5: 10} # can have mixed types\n",
    "#D = dict([('ucla', 1), ('ucsd', 2), ('usc', 3)])\n",
    "\n",
    "print(D, type(D))\n",
    "\n",
    "D = {}\n",
    "print(D, type(D))"
   ]
  },
  {
   "cell_type": "code",
   "execution_count": 22,
   "metadata": {},
   "outputs": [
    {
     "ename": "TypeError",
     "evalue": "unhashable type: 'list'",
     "output_type": "error",
     "traceback": [
      "\u001b[0;31m---------------------------------------------------------------------------\u001b[0m",
      "\u001b[0;31mTypeError\u001b[0m                                 Traceback (most recent call last)",
      "Cell \u001b[0;32mIn[22], line 2\u001b[0m\n\u001b[1;32m      1\u001b[0m l \u001b[38;5;241m=\u001b[39m [\u001b[38;5;241m1\u001b[39m,\u001b[38;5;241m2\u001b[39m]\n\u001b[0;32m----> 2\u001b[0m \u001b[43mD\u001b[49m\u001b[43m[\u001b[49m\u001b[43ml\u001b[49m\u001b[43m]\u001b[49m \u001b[38;5;241m=\u001b[39m \u001b[38;5;28;01mTrue\u001b[39;00m \u001b[38;5;66;03m# TypeError: unhashable type: 'list'\u001b[39;00m\n",
      "\u001b[0;31mTypeError\u001b[0m: unhashable type: 'list'"
     ]
    }
   ],
   "source": [
    "l = [1,2]\n",
    "D[l] = True # TypeError: unhashable type: 'list'"
   ]
  },
  {
   "cell_type": "code",
   "execution_count": 23,
   "metadata": {},
   "outputs": [
    {
     "name": "stdout",
     "output_type": "stream",
     "text": [
      "<class 'tuple'>\n",
      "{1: 'hello', 'my': 23, 5: 10, (1, 2): True}\n"
     ]
    }
   ],
   "source": [
    "D = {1: 'hello', 'my': 23, 5: 10} # can have mixed types\n",
    "\n",
    "l = (1,2)\n",
    "print(type(l))\n",
    "D[l] = True # append \"(1,2): True\" into set D\n",
    "print(D)"
   ]
  },
  {
   "cell_type": "code",
   "execution_count": 24,
   "metadata": {},
   "outputs": [
    {
     "name": "stdout",
     "output_type": "stream",
     "text": [
      "[1, 'c', 'b', [1]]\n"
     ]
    }
   ],
   "source": [
    "l = [1, \"c\", \"b\"]\n",
    "\n",
    "l.append([1])\n",
    "\n",
    "print(l)"
   ]
  },
  {
   "cell_type": "code",
   "execution_count": 25,
   "metadata": {},
   "outputs": [
    {
     "name": "stdout",
     "output_type": "stream",
     "text": [
      "a\n",
      "a\n",
      "None\n",
      "Not Found\n",
      "{1: 'a', 2: 'b', 3: 'c', 4: 'default'}\n",
      "{1: 'a', 2: 'c', 3: 'c', 4: 'default', 5: 'd'}\n",
      "None\n"
     ]
    }
   ],
   "source": [
    "d = {1: \"a\", 2: \"b\", 3: \"c\"}\n",
    "print(d[1])\n",
    "\n",
    "print(d.get(1)) # error-free (will not pop error if this key not exist)\n",
    "print(d.get(4))  # Outputs: # default output is 'None'\n",
    "print(d.get(4, 'Not Found'))  # Outputs: 'Not Found'\n",
    "\n",
    "d.setdefault(4, 'default')  # Adds key 4 with value 'default' if key 4 is not in the dictionary\n",
    "print(d)\n",
    "\n",
    "d_copy = d.copy()\n",
    "d.update() # changes nothing\n",
    "d.update({2: \"c\", 5: \"d\"})\n",
    "print(d)\n",
    "\n",
    "key, value = d.popitem() # Popping an item and print\n",
    "\n",
    "print(d.clear()) # None\n"
   ]
  },
  {
   "cell_type": "markdown",
   "metadata": {},
   "source": [
    "Check out `dict` methods: https://docs.python.org/3/library/stdtypes.html#mapping-types-dict"
   ]
  },
  {
   "cell_type": "code",
   "execution_count": 26,
   "metadata": {},
   "outputs": [
    {
     "name": "stdout",
     "output_type": "stream",
     "text": [
      "True\n",
      "{1: 'hello', 'my': 23, (1, 2): True} False\n",
      "dict_keys([1, 'my', (1, 2)])\n",
      "dict_values(['hello', 23, True])\n",
      "dict_items([(1, 'hello'), ('my', 23), ((1, 2), True)])\n"
     ]
    }
   ],
   "source": [
    "print(5 in D) # a boolean operation checking if `5` is a key in `D`.\n",
    "del D[5]\n",
    "print(D, 5 in D)\n",
    "print(D.keys())\n",
    "print(D.values())\n",
    "print(D.items())"
   ]
  },
  {
   "cell_type": "code",
   "execution_count": null,
   "metadata": {},
   "outputs": [
    {
     "name": "stdout",
     "output_type": "stream",
     "text": [
      "{} <class 'dict'>\n",
      "{1: 10}\n",
      "{1: 10, 5: [1, 2]}\n",
      "{1: 10, 5: [1, 2], 'key': 'value'}\n"
     ]
    }
   ],
   "source": [
    "D = {}\n",
    "print(D, type(D))\n",
    "\n",
    "D[1] = 10 # append \"1: 10\" into set D\n",
    "print(D)\n",
    "\n",
    "D[5] = [1,2] # append \"5: [1, 2]\" into set D\n",
    "print(D)\n",
    "\n",
    "D['key'] = 'value'\n",
    "print(D)"
   ]
  },
  {
   "cell_type": "code",
   "execution_count": 29,
   "metadata": {},
   "outputs": [
    {
     "name": "stdout",
     "output_type": "stream",
     "text": [
      "True\n"
     ]
    }
   ],
   "source": [
    "D = {}\n",
    "l = [1, 2]\n",
    "\n",
    "\n",
    "# D[l] = True\n",
    "\n",
    "# D[[1, 2]]?\n",
    "# l.append(3)\n",
    "\n",
    "# D[[1,2,3]]?"
   ]
  },
  {
   "cell_type": "code",
   "execution_count": null,
   "metadata": {},
   "outputs": [
    {
     "name": "stdout",
     "output_type": "stream",
     "text": [
      "{(1, 2): True}\n",
      "{(1, 2): False}\n"
     ]
    }
   ],
   "source": [
    "D = {}\n",
    "l = (1, 2)\n",
    "\n",
    "D[l] = True\n",
    "print(D)\n",
    "\n",
    "D[(1, 2)] = False\n",
    "print(D)"
   ]
  },
  {
   "cell_type": "markdown",
   "metadata": {},
   "source": [
    "Check out `dict` methods: https://docs.python.org/3/library/stdtypes.html#mapping-types-dict"
   ]
  },
  {
   "cell_type": "code",
   "execution_count": null,
   "metadata": {},
   "outputs": [
    {
     "name": "stdout",
     "output_type": "stream",
     "text": [
      "True False\n"
     ]
    }
   ],
   "source": [
    "D = {'key': 'value', 'k': 23, 1: 10}\n",
    "print(1 in D, 's' in D)"
   ]
  },
  {
   "cell_type": "code",
   "execution_count": null,
   "metadata": {},
   "outputs": [
    {
     "name": "stdout",
     "output_type": "stream",
     "text": [
      "True\n",
      "True\n",
      "True\n"
     ]
    }
   ],
   "source": [
    "print(1 in [1, 2, 3]) \n",
    "print('1' in '123')\n",
    "print(1 in (1,2,3))"
   ]
  },
  {
   "cell_type": "code",
   "execution_count": null,
   "metadata": {},
   "outputs": [
    {
     "name": "stdout",
     "output_type": "stream",
     "text": [
      "{'key': 'value', 'k': 23}\n"
     ]
    }
   ],
   "source": [
    "D = {'key': 'value', 'k': 23, 1: 10}\n",
    "\n",
    "del D[1]\n",
    "print(D)"
   ]
  },
  {
   "cell_type": "code",
   "execution_count": 32,
   "metadata": {
    "tags": []
   },
   "outputs": [
    {
     "name": "stdout",
     "output_type": "stream",
     "text": [
      "dict_keys(['Sprout', 'Flitwick', 'Snape', 'Quirrell', 'McGonagall'])\n",
      "dict_values(['Herbology', 'Charms', 'Potions', 'DADA', 'Transfiguration'])\n",
      "dict_items([('Sprout', 'Herbology'), ('Flitwick', 'Charms'), ('Snape', 'Potions'), ('Quirrell', 'DADA'), ('McGonagall', 'Transfiguration')])\n"
     ]
    }
   ],
   "source": [
    "D = {\"Sprout\": \"Herbology\", \n",
    "     \"Flitwick\": \"Charms\", \n",
    "     \"Snape\" : \"Potions\", \n",
    "     \"Quirrell\": \"DADA\", \n",
    "     \"McGonagall\" : \"Transfiguration\"\n",
    "}\n",
    "\n",
    "print(D.keys())\n",
    "print(D.values())\n",
    "print(D.items())"
   ]
  },
  {
   "cell_type": "code",
   "execution_count": 33,
   "metadata": {},
   "outputs": [
    {
     "name": "stdout",
     "output_type": "stream",
     "text": [
      "Sprout\n",
      "Flitwick\n",
      "Snape\n",
      "Quirrell\n",
      "McGonagall\n",
      "\n",
      "Herbology\n",
      "Charms\n",
      "Potions\n",
      "DADA\n",
      "Transfiguration\n"
     ]
    }
   ],
   "source": [
    "for k in D.keys():\n",
    "    print(k)\n",
    "\n",
    "print()\n",
    "\n",
    "for v in D.values():\n",
    "    print(v)"
   ]
  },
  {
   "cell_type": "code",
   "execution_count": 39,
   "metadata": {
    "tags": []
   },
   "outputs": [
    {
     "name": "stdout",
     "output_type": "stream",
     "text": [
      "Sprout teaches Herbology\n",
      "Flitwick teaches Charms\n",
      "Snape teaches Potions\n",
      "Quirrell teaches DADA\n",
      "McGonagall teaches Transfiguration\n",
      "Sprout teaches Herbology\n",
      "Flitwick teaches Charms\n",
      "Snape teaches Potions\n",
      "Quirrell teaches DADA\n",
      "McGonagall teaches Transfiguration\n"
     ]
    }
   ],
   "source": [
    "for k, v in D.items():\n",
    "    print(k, \"teaches\", v)\n",
    "\n",
    "for k, v in zip(D.keys(),D.values()):\n",
    "    print(k, \"teaches\", v)\n",
    "\n",
    "# TOP TWO do the same thing\n",
    "# You cannot (for k, v in D:)"
   ]
  },
  {
   "cell_type": "markdown",
   "metadata": {},
   "source": [
    "### `dict` comprehension"
   ]
  },
  {
   "cell_type": "code",
   "execution_count": null,
   "metadata": {
    "tags": []
   },
   "outputs": [
    {
     "name": "stdout",
     "output_type": "stream",
     "text": [
      "{1: '1', 2: '2', 3: '3'}\n"
     ]
    }
   ],
   "source": [
    "D = {k : v for k, v in zip([1, 2, 3], ['1', '2', '3'])}\n",
    "print(D)\n",
    "# D = {}\n",
    "# for a, b in zip([1,2,3], ['1', '2', '3']):\n",
    "#     D[a] = b\n",
    "# print(D)"
   ]
  },
  {
   "cell_type": "code",
   "execution_count": 30,
   "metadata": {
    "tags": []
   },
   "outputs": [
    {
     "name": "stdout",
     "output_type": "stream",
     "text": [
      "{0: 'a', 1: 'b', 2: 'c', 3: 'd', 4: 'e', 5: 'f'}\n",
      "{'a': 0, 'b': 1, 'c': 2, 'd': 3, 'e': 4, 'f': 5}\n"
     ]
    }
   ],
   "source": [
    "idx = {i: ch for i, ch in enumerate(\"abcdef\")}\n",
    "print(idx)\n",
    "\n",
    "idy = {ch: i for i, ch in enumerate(\"abcdef\")}\n",
    "print(idy)"
   ]
  },
  {
   "cell_type": "markdown",
   "metadata": {
    "tags": []
   },
   "source": [
    "### When to use `tuple` vs. `list`? \n",
    "\n",
    "- list is more flexible. \n",
    "\n",
    "- immutable objects, including `tuples` can be a key in a `dict` or `set`. (more precisely, built-in immutable objects support `hash()`, if you're familiar with the concept of hash tables, hash maps.) They are faster than lists.  https://docs.python.org/3/library/functions.html#hash\n",
    "- searching for an item is the fastest in `set` or `dict`. \n",
    "\n"
   ]
  },
  {
   "cell_type": "markdown",
   "metadata": {},
   "source": [
    "### Functions\n",
    "https://docs.python.org/3/tutorial/controlflow.html#defining-functions"
   ]
  },
  {
   "cell_type": "markdown",
   "metadata": {},
   "source": [
    "A simple function definition in C++:\n",
    "\n",
    "```cpp\n",
    "#include <iostream>\n",
    "int main() {\n",
    "    std::cout << \"To boldly go\";\n",
    "    return 0;\n",
    "}\n",
    "```\n",
    "\n",
    "Python functions have a similar syntax to this. one uses `def` keyword instead of return type, one does not use `{}` for code block, but use a colon (`:`) to start a body of code block, and an indented rows of code inside the function follows."
   ]
  },
  {
   "cell_type": "code",
   "execution_count": 1,
   "metadata": {},
   "outputs": [
    {
     "name": "stdout",
     "output_type": "stream",
     "text": [
      "1\n"
     ]
    }
   ],
   "source": [
    "def f():\n",
    "    return 1\n",
    "\n",
    "x = f()\n",
    "print(x)"
   ]
  },
  {
   "cell_type": "code",
   "execution_count": 31,
   "metadata": {},
   "outputs": [
    {
     "name": "stdout",
     "output_type": "stream",
     "text": [
      "2 3\n",
      "(2, 9) <class 'tuple'>\n"
     ]
    }
   ],
   "source": [
    "def f(x, z):\n",
    "    print(x, z)\n",
    "    return x, z ** 2\n",
    "\n",
    "y = f(2, 3)\n",
    "print(y, type(y))"
   ]
  },
  {
   "cell_type": "code",
   "execution_count": 136,
   "metadata": {},
   "outputs": [
    {
     "name": "stdout",
     "output_type": "stream",
     "text": [
      "2 9\n",
      "2\n",
      "9\n"
     ]
    }
   ],
   "source": [
    "def f(x, z):\n",
    "    return x, z ** 2\n",
    "\n",
    "k, l = f(2, 3)\n",
    "print(k, l)\n",
    "print(k)\n",
    "print(l)"
   ]
  },
  {
   "cell_type": "code",
   "execution_count": 37,
   "metadata": {},
   "outputs": [
    {
     "name": "stdout",
     "output_type": "stream",
     "text": [
      "25\n"
     ]
    }
   ],
   "source": [
    "def f(x, z = 5): # 'z = 5' means the default value of z is 5 \n",
    "    z = z ** 2\n",
    "    return z\n",
    "\n",
    "print(f(1)) # since the default value for the second argument is 'z = 5', when we call this function, we don't need to contain the second argument(but you can)\n",
    "# f(1, z)# NameError: name 'z' is not defined"
   ]
  },
  {
   "cell_type": "code",
   "execution_count": 137,
   "metadata": {},
   "outputs": [
    {
     "name": "stdout",
     "output_type": "stream",
     "text": [
      "(1, 36)\n"
     ]
    }
   ],
   "source": [
    "z = 6\n",
    "y = f(1, z)\n",
    "print(y)"
   ]
  },
  {
   "cell_type": "code",
   "execution_count": 40,
   "metadata": {
    "tags": []
   },
   "outputs": [
    {
     "ename": "SyntaxError",
     "evalue": "non-default argument follows default argument (3075886088.py, line 2)",
     "output_type": "error",
     "traceback": [
      "\u001b[0;36m  Cell \u001b[0;32mIn[40], line 2\u001b[0;36m\u001b[0m\n\u001b[0;31m    def f(z = 5, x): # SyntaxError: non-default argument follows default argument\u001b[0m\n\u001b[0m                  ^\u001b[0m\n\u001b[0;31mSyntaxError\u001b[0m\u001b[0;31m:\u001b[0m non-default argument follows default argument\n"
     ]
    }
   ],
   "source": [
    "# default arguments in a function must be defined after non-default arguments.\n",
    "def f(z = 5, x): # SyntaxError: non-default argument follows default argument\n",
    "    z = z ** 2\n",
    "    return z"
   ]
  },
  {
   "cell_type": "code",
   "execution_count": 10,
   "metadata": {},
   "outputs": [
    {
     "name": "stdout",
     "output_type": "stream",
     "text": [
      "print statement\n",
      "None\n"
     ]
    }
   ],
   "source": [
    "def f(x, z):\n",
    "    print('print statement')\n",
    "\n",
    "y = f(2, 3) # 'None', since the function not return anything \n",
    "print(y)"
   ]
  },
  {
   "cell_type": "markdown",
   "metadata": {},
   "source": [
    "`None` is a value representing null, or no value at all. Not the same as `0`, `0.0`, `\"\"`, `()`, `[]`, `{}`, etc. You will often see it if a function ends without `return` statement. "
   ]
  }
 ],
 "metadata": {
  "kernelspec": {
   "display_name": "Python 3 (ipykernel)",
   "language": "python",
   "name": "python3"
  },
  "language_info": {
   "codemirror_mode": {
    "name": "ipython",
    "version": 3
   },
   "file_extension": ".py",
   "mimetype": "text/x-python",
   "name": "python",
   "nbconvert_exporter": "python",
   "pygments_lexer": "ipython3",
   "version": "3.12.2"
  }
 },
 "nbformat": 4,
 "nbformat_minor": 4
}
