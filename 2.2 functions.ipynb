{
 "cells": [
  {
   "cell_type": "markdown",
   "id": "d5cf3c22-035b-46cb-be70-f98858eb02fe",
   "metadata": {},
   "source": [
    "# Functions\n",
    "\n",
    "Four quizzes are released so far! Even if I don't emphasize them, they are there, and will still take 5% of your grade. Discussions groups will be released this weekend, and worksheets will be due each discussion day from next week.\n",
    "\n",
    "Homework 2 has been released. Since two homeworks are due next week, there are some extra credits placed in for HW 2.\n",
    "\n",
    "So far: control flow (if, while, for, break, continue, pass), iteration, list comprehension, functions\n",
    "\n",
    "Today: Functions- variable-length arguments, global and local scopes,  lambda expressions\n",
    "\n",
    "Sec 4.7-4.8 https://docs.python.org/3/tutorial/controlflow.html#defining-functions"
   ]
  },
  {
   "cell_type": "markdown",
   "id": "75f542cb-3a13-4be6-b4b3-85fe91f02c69",
   "metadata": {},
   "source": [
    "### Docstrings\n",
    "The line right after the `def` line can be a string literal describing what the function does. That's called __docstring__. It is always a good practice to document and comment your code properly, and that is always a criteria in assignments in this class. \n",
    "\n",
    "https://docs.python.org/3/tutorial/controlflow.html#tut-docstrings\n",
    "\n",
    "https://peps.python.org/pep-0257/\n",
    "\n",
    "https://realpython.com/documenting-python-code/#documenting-your-python-code-base-using-docstrings"
   ]
  },
  {
   "cell_type": "code",
   "execution_count": 3,
   "id": "c4cbd5f4-eaaa-4b50-8e76-d43b8d451220",
   "metadata": {
    "tags": []
   },
   "outputs": [],
   "source": [
    "def boldly_print(k): # colon ends declaration and begins definition \n",
    "    \"\"\"\n",
    "    Prints the string \"to boldly go\" `k` times.\n",
    "    \"\"\"\n",
    "    for i in range(k): # everything inside the function (what you would put inside {...}) should be indented.\n",
    "        print('to boldly go') # return values are optional"
   ]
  },
  {
   "cell_type": "code",
   "execution_count": 4,
   "id": "a44840af-8aef-4b66-b418-a6008aa700a1",
   "metadata": {
    "tags": []
   },
   "outputs": [
    {
     "name": "stdout",
     "output_type": "stream",
     "text": [
      "to boldly go\n",
      "to boldly go\n",
      "to boldly go\n"
     ]
    }
   ],
   "source": [
    "boldly_print(3)"
   ]
  },
  {
   "cell_type": "markdown",
   "id": "4600d0d9",
   "metadata": {},
   "source": [
    "Manual of \"function\""
   ]
  },
  {
   "cell_type": "markdown",
   "id": "7e55bddd",
   "metadata": {},
   "source": [
    "?funtion_name"
   ]
  },
  {
   "cell_type": "code",
   "execution_count": 5,
   "id": "15629c0a-6e37-44fe-87d0-51214f539249",
   "metadata": {
    "tags": []
   },
   "outputs": [
    {
     "name": "stdout",
     "output_type": "stream",
     "text": [
      "\u001b[0;31mSignature:\u001b[0m \u001b[0mboldly_print\u001b[0m\u001b[0;34m(\u001b[0m\u001b[0mk\u001b[0m\u001b[0;34m)\u001b[0m\u001b[0;34m\u001b[0m\u001b[0;34m\u001b[0m\u001b[0m\n",
      "\u001b[0;31mDocstring:\u001b[0m Prints the string \"to boldly go\" `k` times.\n",
      "\u001b[0;31mFile:\u001b[0m      /var/folders/9x/9xcqzq2j1037cwlr0_f8r6mm0000gn/T/ipykernel_38810/364030511.py\n",
      "\u001b[0;31mType:\u001b[0m      function"
     ]
    }
   ],
   "source": [
    "?boldly_print"
   ]
  },
  {
   "cell_type": "code",
   "execution_count": 6,
   "id": "9dabebcd-670d-47ec-ab48-e79c3daef818",
   "metadata": {
    "tags": []
   },
   "outputs": [
    {
     "name": "stdout",
     "output_type": "stream",
     "text": [
      "\u001b[0;31mSignature:\u001b[0m \u001b[0msum\u001b[0m\u001b[0;34m(\u001b[0m\u001b[0miterable\u001b[0m\u001b[0;34m,\u001b[0m \u001b[0;34m/\u001b[0m\u001b[0;34m,\u001b[0m \u001b[0mstart\u001b[0m\u001b[0;34m=\u001b[0m\u001b[0;36m0\u001b[0m\u001b[0;34m)\u001b[0m\u001b[0;34m\u001b[0m\u001b[0;34m\u001b[0m\u001b[0m\n",
      "\u001b[0;31mDocstring:\u001b[0m\n",
      "Return the sum of a 'start' value (default: 0) plus an iterable of numbers\n",
      "\n",
      "When the iterable is empty, return the start value.\n",
      "This function is intended specifically for use with numeric values and may\n",
      "reject non-numeric types.\n",
      "\u001b[0;31mType:\u001b[0m      builtin_function_or_method"
     ]
    }
   ],
   "source": [
    "?sum\n",
    "# docstring of built-in `sum` function"
   ]
  },
  {
   "cell_type": "code",
   "execution_count": 1,
   "id": "d0fb2dc6",
   "metadata": {},
   "outputs": [
    {
     "ename": "SyntaxError",
     "evalue": "non-default argument follows default argument (3075886088.py, line 2)",
     "output_type": "error",
     "traceback": [
      "\u001b[0;36m  Cell \u001b[0;32mIn[1], line 2\u001b[0;36m\u001b[0m\n\u001b[0;31m    def f(z = 5, x): # SyntaxError: non-default argument follows default argument\u001b[0m\n\u001b[0m                 ^\u001b[0m\n\u001b[0;31mSyntaxError\u001b[0m\u001b[0;31m:\u001b[0m non-default argument follows default argument\n"
     ]
    }
   ],
   "source": [
    "# default arguments in a function must be defined after non-default arguments.\n",
    "def f(z = 5, x): # SyntaxError: non-default argument follows default argument\n",
    "    z = z ** 2\n",
    "    return z"
   ]
  },
  {
   "cell_type": "markdown",
   "id": "0b11528b-e1ba-4bb8-a0d4-116b1651cbb7",
   "metadata": {},
   "source": [
    "### `return`"
   ]
  },
  {
   "cell_type": "markdown",
   "id": "55087ced-9355-4ae0-903a-22f2457950fe",
   "metadata": {},
   "source": [
    "The `return` statement terminates the function's local scope _immediately_, so it could be used in this way (similar to `break`):"
   ]
  },
  {
   "cell_type": "code",
   "execution_count": 13,
   "id": "e843ac92-27d4-4391-869e-edc3d196cfb8",
   "metadata": {
    "tags": []
   },
   "outputs": [
    {
     "data": {
      "text/plain": [
       "6561"
      ]
     },
     "execution_count": 13,
     "metadata": {},
     "output_type": "execute_result"
    }
   ],
   "source": [
    "def largest_power_below(a, upper_bound):\n",
    "    \"\"\"\n",
    "    Returns the largest power of `a` less than `upper_bound`.\n",
    "    \"\"\"\n",
    "    i = 1\n",
    "    while True:\n",
    "        i *= a\n",
    "        if a * i >= upper_bound:\n",
    "            return i\n",
    "largest_power_below(3, 10000)"
   ]
  },
  {
   "cell_type": "markdown",
   "id": "f0523d23-8897-4df1-b898-4ae589f584c0",
   "metadata": {},
   "source": [
    "### Brief review: keyword arguments"
   ]
  },
  {
   "cell_type": "code",
   "execution_count": 3,
   "id": "75adf625-983e-498b-af4f-6419fecafe25",
   "metadata": {
    "tags": []
   },
   "outputs": [],
   "source": [
    "def boldly_print(k, verb = 'go'): \n",
    "# you can have default arguments\n",
    "# non-default arguments need to come before default args. \n",
    "    \"\"\"\n",
    "    Print \"to boldly \" followed by `verb` for `k` times.\n",
    "    \"\"\"\n",
    "    for i in range(k): # for i = 0, 1, 2, ... k-1\n",
    "        print('to boldly', verb)"
   ]
  },
  {
   "cell_type": "code",
   "execution_count": 4,
   "id": "1c128498-194c-46e8-9066-a84ee40c99f4",
   "metadata": {
    "tags": []
   },
   "outputs": [
    {
     "name": "stdout",
     "output_type": "stream",
     "text": [
      "to boldly go\n",
      "to boldly go\n",
      "to boldly go\n",
      "to boldly go\n",
      "to boldly go\n",
      "to boldly go\n"
     ]
    }
   ],
   "source": [
    "boldly_print(3)\n",
    "boldly_print(3, 'go')\n",
    " # for using of default argument, you don't need to call it, but you can"
   ]
  },
  {
   "cell_type": "code",
   "execution_count": 5,
   "id": "297a1ec2-1428-4f8e-8723-3cdd1c57a064",
   "metadata": {
    "tags": []
   },
   "outputs": [
    {
     "name": "stdout",
     "output_type": "stream",
     "text": [
      "to boldly sing\n",
      "to boldly sing\n",
      "to boldly sing\n"
     ]
    }
   ],
   "source": [
    "boldly_print(3, 'sing')"
   ]
  },
  {
   "cell_type": "markdown",
   "id": "f683312b-9283-48ec-8509-22ef5177585c",
   "metadata": {},
   "source": [
    "positional arguments - Python knows what's `k` and what's `verb` based on the positions (or order) in which they're given.\n",
    "\n",
    "keyword arguments - Python knows what's `k` and what's `verb` based on the keywords."
   ]
  },
  {
   "cell_type": "code",
   "execution_count": 6,
   "id": "78cfe327-4de8-4ee8-a130-00fb2eb112ca",
   "metadata": {
    "tags": []
   },
   "outputs": [
    {
     "name": "stdout",
     "output_type": "stream",
     "text": [
      "to boldly sing\n",
      "to boldly sing\n",
      "to boldly sing\n"
     ]
    }
   ],
   "source": [
    "boldly_print(3, 'sing') # two positional arguments"
   ]
  },
  {
   "cell_type": "code",
   "execution_count": 7,
   "id": "a7254ac3-61ae-4153-8a3c-32eccfd69a76",
   "metadata": {
    "tags": []
   },
   "outputs": [
    {
     "ename": "TypeError",
     "evalue": "'str' object cannot be interpreted as an integer",
     "output_type": "error",
     "traceback": [
      "\u001b[0;31m---------------------------------------------------------------------------\u001b[0m",
      "\u001b[0;31mTypeError\u001b[0m                                 Traceback (most recent call last)",
      "Cell \u001b[0;32mIn[7], line 1\u001b[0m\n\u001b[0;32m----> 1\u001b[0m \u001b[43mboldly_print\u001b[49m\u001b[43m(\u001b[49m\u001b[38;5;124;43m'\u001b[39;49m\u001b[38;5;124;43msing\u001b[39;49m\u001b[38;5;124;43m'\u001b[39;49m\u001b[43m,\u001b[49m\u001b[43m \u001b[49m\u001b[38;5;241;43m3\u001b[39;49m\u001b[43m)\u001b[49m \u001b[38;5;66;03m# TypeError\u001b[39;00m\n",
      "Cell \u001b[0;32mIn[3], line 7\u001b[0m, in \u001b[0;36mboldly_print\u001b[0;34m(k, verb)\u001b[0m\n\u001b[1;32m      1\u001b[0m \u001b[38;5;28;01mdef\u001b[39;00m \u001b[38;5;21mboldly_print\u001b[39m(k, verb \u001b[38;5;241m=\u001b[39m \u001b[38;5;124m'\u001b[39m\u001b[38;5;124mgo\u001b[39m\u001b[38;5;124m'\u001b[39m): \n\u001b[1;32m      2\u001b[0m \u001b[38;5;66;03m# you can have default arguments\u001b[39;00m\n\u001b[1;32m      3\u001b[0m \u001b[38;5;66;03m# non-default arguments need to come before default args. \u001b[39;00m\n\u001b[1;32m      4\u001b[0m \u001b[38;5;250m    \u001b[39m\u001b[38;5;124;03m\"\"\"\u001b[39;00m\n\u001b[1;32m      5\u001b[0m \u001b[38;5;124;03m    Print \"to boldly \" followed by `verb` for `k` times.\u001b[39;00m\n\u001b[1;32m      6\u001b[0m \u001b[38;5;124;03m    \"\"\"\u001b[39;00m\n\u001b[0;32m----> 7\u001b[0m     \u001b[38;5;28;01mfor\u001b[39;00m i \u001b[38;5;129;01min\u001b[39;00m \u001b[38;5;28;43mrange\u001b[39;49m\u001b[43m(\u001b[49m\u001b[43mk\u001b[49m\u001b[43m)\u001b[49m: \u001b[38;5;66;03m# for i = 0, 1, 2, ... k-1\u001b[39;00m\n\u001b[1;32m      8\u001b[0m         \u001b[38;5;28mprint\u001b[39m(\u001b[38;5;124m'\u001b[39m\u001b[38;5;124mto boldly\u001b[39m\u001b[38;5;124m'\u001b[39m, verb)\n",
      "\u001b[0;31mTypeError\u001b[0m: 'str' object cannot be interpreted as an integer"
     ]
    }
   ],
   "source": [
    "boldly_print('sing', 3) # TypeError"
   ]
  },
  {
   "cell_type": "code",
   "execution_count": 8,
   "id": "b95e4622-56ed-4f96-9f15-eb48381b60eb",
   "metadata": {
    "tags": []
   },
   "outputs": [
    {
     "name": "stdout",
     "output_type": "stream",
     "text": [
      "to boldly sing\n",
      "to boldly sing\n",
      "to boldly sing\n"
     ]
    }
   ],
   "source": [
    "boldly_print(k = 3, verb = 'sing') # two keyword arguments "
   ]
  },
  {
   "cell_type": "code",
   "execution_count": 9,
   "id": "7a11a64f-ee57-49c2-842b-9a1657919c15",
   "metadata": {
    "tags": []
   },
   "outputs": [
    {
     "name": "stdout",
     "output_type": "stream",
     "text": [
      "to boldly sing\n",
      "to boldly sing\n",
      "to boldly sing\n"
     ]
    }
   ],
   "source": [
    "boldly_print(verb = 'sing', k = 3) # order isn't important any more because we have keywords, \n",
    "\n",
    "# but the keywords need to match the name of args\n",
    "# boldly_print(verb2 = 'sing', k = 3) # TypeError: boldly_print() got an unexpected keyword argument 'verb2'"
   ]
  },
  {
   "cell_type": "code",
   "execution_count": 10,
   "id": "6c4511de-3450-4683-868c-ee99df44891a",
   "metadata": {
    "tags": []
   },
   "outputs": [
    {
     "name": "stdout",
     "output_type": "stream",
     "text": [
      "to boldly sing\n",
      "to boldly sing\n",
      "to boldly sing\n"
     ]
    }
   ],
   "source": [
    "boldly_print(3, verb = 'sing') # one pos. and one keyword argument.\n",
    "\n",
    "# keyword arguments need to come after positional arguments.\n",
    "# boldly_print(verb = 'sing', 3) # SyntaxError: positional argument follows keyword argument"
   ]
  },
  {
   "cell_type": "markdown",
   "id": "5b1ff7ac-1bd8-49d2-8377-4a59fcdcfa5a",
   "metadata": {},
   "source": [
    "### `*args` and `**kwargs`: being flexible with the number of arguments\n",
    "`*args` stands for 'position_arguments', and stores input as a form of tuple\n",
    "\n",
    "`**kwargs` stands for 'keyword_arguments', which will store input as a form of dictionary\n"
   ]
  },
  {
   "cell_type": "code",
   "execution_count": 19,
   "id": "3284718f-66b2-480f-996e-136e038a4dab",
   "metadata": {
    "tags": []
   },
   "outputs": [
    {
     "data": {
      "text/plain": [
       "4"
      ]
     },
     "execution_count": 19,
     "metadata": {},
     "output_type": "execute_result"
    }
   ],
   "source": [
    "def add(a, b):\n",
    "    return a + b\n",
    "\n",
    "add(2, 2)"
   ]
  },
  {
   "cell_type": "code",
   "execution_count": 20,
   "id": "05548033-7fd7-4c1e-9fe4-022fcfe3a2e1",
   "metadata": {
    "tags": []
   },
   "outputs": [
    {
     "ename": "TypeError",
     "evalue": "add() takes 2 positional arguments but 3 were given",
     "output_type": "error",
     "traceback": [
      "\u001b[0;31m---------------------------------------------------------------------------\u001b[0m",
      "\u001b[0;31mTypeError\u001b[0m                                 Traceback (most recent call last)",
      "Cell \u001b[0;32mIn[20], line 1\u001b[0m\n\u001b[0;32m----> 1\u001b[0m \u001b[43madd\u001b[49m\u001b[43m(\u001b[49m\u001b[38;5;241;43m2\u001b[39;49m\u001b[43m,\u001b[49m\u001b[43m \u001b[49m\u001b[38;5;241;43m2\u001b[39;49m\u001b[43m,\u001b[49m\u001b[43m \u001b[49m\u001b[38;5;241;43m2\u001b[39;49m\u001b[43m)\u001b[49m\n",
      "\u001b[0;31mTypeError\u001b[0m: add() takes 2 positional arguments but 3 were given"
     ]
    }
   ],
   "source": [
    "add(2, 2, 2)  # TypeError: add() takes 2 positional arguments but 3 were given"
   ]
  },
  {
   "cell_type": "code",
   "execution_count": 22,
   "id": "c476290c-db54-4acf-b612-7ec814ddbc8e",
   "metadata": {
    "tags": []
   },
   "outputs": [],
   "source": [
    "def better_add(*args):\n",
    "    total = 0\n",
    "    for arg in args: # args inside function doesn't have *\n",
    "        total = total + arg\n",
    "    print(args, type(args))\n",
    "    return total"
   ]
  },
  {
   "cell_type": "code",
   "execution_count": 23,
   "id": "ca759e2c-d2e8-4a37-b016-03ef8aceabbc",
   "metadata": {
    "tags": []
   },
   "outputs": [
    {
     "name": "stdout",
     "output_type": "stream",
     "text": [
      "(2, 2, 2, 2, 2, 2, 2, 34, 1) <class 'tuple'>\n"
     ]
    },
    {
     "data": {
      "text/plain": [
       "49"
      ]
     },
     "execution_count": 23,
     "metadata": {},
     "output_type": "execute_result"
    }
   ],
   "source": [
    "better_add(2, 2, 2, 2, 2, 2, 2, 34, 1) "
   ]
  },
  {
   "cell_type": "code",
   "execution_count": 24,
   "id": "7834d3c0-e625-42be-aa2f-b49a3f0abb04",
   "metadata": {
    "tags": []
   },
   "outputs": [
    {
     "name": "stdout",
     "output_type": "stream",
     "text": [
      "<class 'function'>\n"
     ]
    }
   ],
   "source": [
    "print(type(better_add))"
   ]
  },
  {
   "cell_type": "code",
   "execution_count": 25,
   "id": "4e819cc3-2bb2-4994-9ef5-97b70bdb4a5e",
   "metadata": {
    "tags": []
   },
   "outputs": [],
   "source": [
    "def f(*args, **kwargs):\n",
    "    print(args)\n",
    "    print(kwargs)"
   ]
  },
  {
   "cell_type": "code",
   "execution_count": 20,
   "id": "b4aee5a6-1645-444b-bc8e-67421ea9795e",
   "metadata": {
    "tags": []
   },
   "outputs": [],
   "source": [
    "# *args = get ALL the positional arguments in a tuple called args. \n",
    "# **kwargs = get ALL the keyword arguments in a dict called kwargs.\n",
    "\n",
    "def f_varargs(*args, **kwargs): \n",
    "    print(\"Positional:\", type(args), args)\n",
    "    print(\"Keywords:\", type(kwargs), kwargs)"
   ]
  },
  {
   "cell_type": "code",
   "execution_count": 21,
   "id": "b0ae0a01-587c-448a-8c37-643d9a934ea8",
   "metadata": {
    "tags": []
   },
   "outputs": [
    {
     "name": "stdout",
     "output_type": "stream",
     "text": [
      "Positional: <class 'tuple'> ('one', 'two', 'three')\n",
      "Keywords: <class 'dict'> {}\n",
      "\n",
      "Positional: <class 'tuple'> ()\n",
      "Keywords: <class 'dict'> {'a': 'one', 'b': 'two', 'c': 'three'}\n",
      "\n",
      "Positional: <class 'tuple'> ('one', 'two')\n",
      "Keywords: <class 'dict'> {'c': 'three', 'd': 'four'}\n"
     ]
    }
   ],
   "source": [
    "f_varargs('one', 'two', 'three') # when declare the funciton, there is only two arguments; but while calling it, infinite arguments can do\n",
    "print()\n",
    "\n",
    "f_varargs(a = 'one', b = 'two', c = 'three')\n",
    "print()\n",
    "\n",
    "f_varargs('one', 'two', c = 'three', d = 'four')"
   ]
  },
  {
   "cell_type": "markdown",
   "id": "83efdc81-d468-4bd1-ac96-8eedd0f9964d",
   "metadata": {
    "tags": []
   },
   "source": [
    "You will see this kind of syntax for `matplotlib` later:\n",
    "```python\n",
    "plt.plot(x, y, marker='.') # size of dots, line width, markers, etc. will all be keyword arguments.\n",
    "```"
   ]
  },
  {
   "cell_type": "markdown",
   "id": "54486196-baa6-4c96-969d-728b637a82c7",
   "metadata": {},
   "source": [
    "### Unpacking arguments (`*` for tuple, list) (`**` for dictionary)"
   ]
  },
  {
   "cell_type": "markdown",
   "id": "b196e3ed-8df5-40b9-9122-fcad2b3c5a48",
   "metadata": {},
   "source": [
    "Last Wednesday, there was a question asking what happens if `list` is used as a function argument. By default, it is treated as a single argument. However, you can unpack the list and use those as separate positional arguments. "
   ]
  },
  {
   "cell_type": "code",
   "execution_count": 11,
   "id": "c703ab53-e45a-4d4d-b44b-d2c927df3a94",
   "metadata": {
    "tags": []
   },
   "outputs": [
    {
     "name": "stdout",
     "output_type": "stream",
     "text": [
      "11\n",
      "(1, 3, 4, 7, 9, 3) <class 'tuple'>\n",
      "27\n"
     ]
    }
   ],
   "source": [
    "def f(x, y):\n",
    "    return x + y\n",
    "\n",
    "print(f(*[5, 6])) # `*` is the unpacking argument(keyword)\n",
    "# in this case, `*` extracts two integers 5 and 6 from the list [5,6], and input them as the arguments of function f(x,y)\n",
    "\n",
    "def better_add(*args):\n",
    "    total = 0\n",
    "    for arg in args: # args inside function doesn't have *\n",
    "        total = total + arg\n",
    "    print(args, type(args))\n",
    "    return total\n",
    "\n",
    "print(better_add(*(1, 3, 4), 7, *[9, 3]))"
   ]
  },
  {
   "cell_type": "markdown",
   "id": "48ab628a-c851-469e-98a3-f9fc5ec58e13",
   "metadata": {},
   "source": [
    "Similarly, you can also unpack a dictionary as keyword arguments, when the keys are in `str` type."
   ]
  },
  {
   "cell_type": "code",
   "execution_count": 34,
   "id": "eeb3594a-dbd3-41e9-ab96-41ba2bff2419",
   "metadata": {
    "tags": []
   },
   "outputs": [
    {
     "name": "stdout",
     "output_type": "stream",
     "text": [
      "Positional: <class 'tuple'> ()\n",
      "Keywords: <class 'dict'> {'i0': 0, 'i1': 1, 'i2': 2, 'i3': 3, 'i4': 4, 'i5': 5, 'i6': 6, 'i7': 7, 'i8': 8, 'i9': 9}\n"
     ]
    }
   ],
   "source": [
    "def f_varargs(*args, **kwargs): \n",
    "    print(\"Positional:\", type(args), args)\n",
    "    print(\"Keywords:\", type(kwargs), kwargs)\n",
    "\n",
    "f_varargs(**{\"i\" + str(i) : i for i in range(10)}) # `**` is the unpacking argument for dictionary"
   ]
  },
  {
   "cell_type": "markdown",
   "id": "e80700ad-9eb2-4a63-a40f-06ba9b061514",
   "metadata": {},
   "source": [
    "### Global and local scope of variables\n",
    "\n",
    "- Variables in the global scope are available within the function.\n",
    "- Variables created within the function are **not** available within the global scope.\n",
    "\n",
    "When a function is called and there's a reference to a name:\n",
    "\n",
    "- First look for it in the local scope, i.e. variables declared/assigned inside the function definition.\n",
    "- If you don't see it, then look for variables in the global scope."
   ]
  },
  {
   "cell_type": "code",
   "execution_count": 17,
   "id": "0d0e443b-9bf6-4762-85ad-e543ce5760db",
   "metadata": {},
   "outputs": [
    {
     "name": "stdout",
     "output_type": "stream",
     "text": [
      "3\n"
     ]
    },
    {
     "ename": "NameError",
     "evalue": "name 'x' is not defined",
     "output_type": "error",
     "traceback": [
      "\u001b[0;31m---------------------------------------------------------------------------\u001b[0m",
      "\u001b[0;31mNameError\u001b[0m                                 Traceback (most recent call last)",
      "Cell \u001b[0;32mIn[17], line 5\u001b[0m\n\u001b[1;32m      2\u001b[0m \u001b[38;5;28mprint\u001b[39m(x)\n\u001b[1;32m      4\u001b[0m \u001b[38;5;28;01mdel\u001b[39;00m x \n\u001b[0;32m----> 5\u001b[0m \u001b[43mx\u001b[49m \u001b[38;5;66;03m# NameError: name 'x' is not defined, Since 'x' have been deleted\u001b[39;00m\n",
      "\u001b[0;31mNameError\u001b[0m: name 'x' is not defined"
     ]
    }
   ],
   "source": [
    "x = 3 # available in global scope\n",
    "print(x)\n",
    "\n",
    "del x \n",
    "x # NameError: name 'x' is not defined, Since 'x' have been deleted"
   ]
  },
  {
   "cell_type": "code",
   "execution_count": 43,
   "id": "a7bf20a9-679a-4e2b-b42f-7137d6d3f413",
   "metadata": {},
   "outputs": [
    {
     "name": "stdout",
     "output_type": "stream",
     "text": [
      "3\n"
     ]
    },
    {
     "data": {
      "text/plain": [
       "3"
      ]
     },
     "execution_count": 43,
     "metadata": {},
     "output_type": "execute_result"
    }
   ],
   "source": [
    "x = 3\n",
    "def print_x():\n",
    "    print(x)\n",
    "\n",
    "print_x()\n",
    "x # 'x' is a global variable"
   ]
  },
  {
   "cell_type": "code",
   "execution_count": 12,
   "id": "d2a6beba-38da-4e02-bcfb-5451b2192a91",
   "metadata": {},
   "outputs": [
    {
     "name": "stdout",
     "output_type": "stream",
     "text": [
      "2\n"
     ]
    },
    {
     "ename": "NameError",
     "evalue": "name 'y' is not defined",
     "output_type": "error",
     "traceback": [
      "\u001b[0;31m---------------------------------------------------------------------------\u001b[0m",
      "\u001b[0;31mNameError\u001b[0m                                 Traceback (most recent call last)",
      "Cell \u001b[0;32mIn[12], line 6\u001b[0m\n\u001b[1;32m      3\u001b[0m     \u001b[38;5;28mprint\u001b[39m(y)\n\u001b[1;32m      5\u001b[0m print_y() \n\u001b[0;32m----> 6\u001b[0m \u001b[43my\u001b[49m \u001b[38;5;66;03m# NameError: name 'y' is not defined, Since 'y' is a local variable\u001b[39;00m\n",
      "\u001b[0;31mNameError\u001b[0m: name 'y' is not defined"
     ]
    }
   ],
   "source": [
    "def print_y():\n",
    "    y = 2\n",
    "    print(y)\n",
    "\n",
    "print_y() \n",
    "y # NameError: name 'y' is not defined, Since 'y' is a local variable"
   ]
  },
  {
   "cell_type": "code",
   "execution_count": 46,
   "id": "6db8572e-746e-4816-9b37-bf5e938c1952",
   "metadata": {},
   "outputs": [
    {
     "name": "stdout",
     "output_type": "stream",
     "text": [
      "7\n",
      "3\n"
     ]
    }
   ],
   "source": [
    "x = 3\n",
    "def new_x():\n",
    "    x = 7\n",
    "    print(x)\n",
    "\n",
    "new_x() # 7, this 'x' inside the function is local variable\n",
    "\n",
    "print(x) # 3, this 'x' outside the function is globle variable"
   ]
  },
  {
   "cell_type": "markdown",
   "id": "abfd0517-0d80-430a-bae3-7888718a30f1",
   "metadata": {},
   "source": [
    "The default values are evaluated at the point of function definition"
   ]
  },
  {
   "cell_type": "markdown",
   "id": "486151b3",
   "metadata": {},
   "source": [
    "When you define a function with a **default argument** that is a **mutable object**, such as a list or a dictionary, \n",
    "\n",
    "Python creates that object once when the function is defined, not each time the function is called. \n",
    "\n",
    "Therefore, every time you call f() without specifying a different list for L, \n",
    "\n",
    "you're actually interacting with the same list object that was created the first time f() was defined."
   ]
  },
  {
   "cell_type": "markdown",
   "id": "a6fe4057",
   "metadata": {},
   "source": [
    "SEEMS LIKE\n",
    "IN PYTHON, "
   ]
  },
  {
   "cell_type": "code",
   "execution_count": 51,
   "id": "04c1797f-d03f-4770-9a8f-ad7a38ad4cec",
   "metadata": {},
   "outputs": [],
   "source": [
    "def f(a, L = []):\n",
    "    L.append(a)\n",
    "    return L"
   ]
  },
  {
   "cell_type": "code",
   "execution_count": 52,
   "id": "f6ce3577-453d-4e98-8378-9deaf4e61e89",
   "metadata": {},
   "outputs": [
    {
     "name": "stdout",
     "output_type": "stream",
     "text": [
      "[1]\n",
      "[1, 2]\n",
      "[1, 2, 3]\n"
     ]
    }
   ],
   "source": [
    "print(f(1)) \n",
    "print(f(2))\n",
    "print(f(3))"
   ]
  },
  {
   "cell_type": "code",
   "execution_count": 61,
   "id": "9c0b95fd-d694-486c-b599-10fac540b9fd",
   "metadata": {},
   "outputs": [
    {
     "name": "stdout",
     "output_type": "stream",
     "text": [
      "[]\n",
      "[1]\n",
      "[1]\n",
      "[1, 5]\n"
     ]
    }
   ],
   "source": [
    "x = []\n",
    "print(x) # []\n",
    "\n",
    "def f(a, L = x): # '=' is deep copy, 'L' is pointing to 'x'\n",
    "    L.append(a)\n",
    "    return L\n",
    "\n",
    "print(f(1)) # [1]\n",
    "print(x) # [1]\n",
    "\n",
    "x.append(5)\n",
    "print(x) # [1, 5]"
   ]
  },
  {
   "cell_type": "code",
   "execution_count": 62,
   "id": "6e4ef95a-f192-43d7-ab27-960359b2e647",
   "metadata": {},
   "outputs": [
    {
     "data": {
      "text/plain": [
       "[3, 2]"
      ]
     },
     "execution_count": 62,
     "metadata": {},
     "output_type": "execute_result"
    }
   ],
   "source": [
    "f(2, [3]) # [3, 2]"
   ]
  },
  {
   "cell_type": "code",
   "execution_count": 63,
   "id": "b4372930-d67d-4144-b7b7-800531a77c03",
   "metadata": {},
   "outputs": [
    {
     "data": {
      "text/plain": [
       "[1, 5, 1]"
      ]
     },
     "execution_count": 63,
     "metadata": {},
     "output_type": "execute_result"
    }
   ],
   "source": [
    "f(1) # first [1, 5, 1], then [1, 5, 1, 1], then [1, 5, 1, 1, 1], and so on"
   ]
  },
  {
   "cell_type": "code",
   "execution_count": 1,
   "id": "729a8863-ded7-497e-868e-43f2781f2c28",
   "metadata": {
    "tags": []
   },
   "outputs": [],
   "source": [
    "def g(k, v, d = {}):\n",
    "    d[k] = v\n",
    "    return d"
   ]
  },
  {
   "cell_type": "code",
   "execution_count": 2,
   "id": "dabea8e4-34da-42ae-b0b7-7a3c7f12e4d5",
   "metadata": {
    "tags": []
   },
   "outputs": [
    {
     "name": "stdout",
     "output_type": "stream",
     "text": [
      "{1: 2}\n",
      "{1: 2, 2: 3}\n",
      "{1: 2, 2: 3, 3: 4}\n"
     ]
    }
   ],
   "source": [
    "print(g(1, 2))\n",
    "print(g(2, 3))\n",
    "print(g(3, 4))"
   ]
  },
  {
   "cell_type": "markdown",
   "id": "b564d5f3",
   "metadata": {},
   "source": [
    "        Python: Default argument values are created once at the time of function definition. \n",
    "\n",
    "                Mutable defaults can lead to the \"shared-object\" effect across multiple calls to the function.\n",
    "\n",
    "        Java/C++: Default parameters (or their behavior achieved through other means like overloading) \n",
    "\n",
    "                create new instances for each function/method call, avoiding the shared-object issue seen in Python."
   ]
  },
  {
   "cell_type": "markdown",
   "id": "83f6467f-9e4b-4bba-aab9-328471a572ba",
   "metadata": {},
   "source": [
    "### No Global Variables\n",
    "Functions generally can't modify global variables, as everything is called by value of references, and those references to objects cannot be changed inside a function.\n",
    "\n",
    "__Question__: What if you want your function to modify a global variable?\n",
    "\n",
    "__Answer__: Find another way.\n",
    "\n",
    "With very rare exceptions, functions should not modify global variables, as this can lead to code that is difficult to read and troubleshoot. Here's a helpful [StackOverflow answer](https://stackoverflow.com/questions/19158339/why-are-global-variables-evil) on the dangers of abusing global variables.\n",
    "\n",
    "Generally speaking, any data that your function requires should be supplied as an argument, rather than taken from the global scope."
   ]
  },
  {
   "cell_type": "code",
   "execution_count": 3,
   "id": "32fdbdbc-7099-4239-9be2-085c29f0a1bc",
   "metadata": {
    "tags": []
   },
   "outputs": [
    {
     "data": {
      "text/plain": [
       "6"
      ]
     },
     "execution_count": 3,
     "metadata": {},
     "output_type": "execute_result"
    }
   ],
   "source": [
    "# don't do this to modify the global variables\n",
    "x = 3\n",
    "def double():\n",
    "    return(2*x)\n",
    "\n",
    "# do this instead to modify the global variables\n",
    "def double(x):\n",
    "    return(2*x)\n",
    "    \n",
    "double(3)"
   ]
  },
  {
   "cell_type": "markdown",
   "id": "044d37e9-20f6-48c5-9037-b2a6016f6ded",
   "metadata": {},
   "source": [
    "### Anonymous functions & Lambda\n",
    "You can define a function without a name if the function definition is a one-liner. \n",
    "This character will be executed by lambda."
   ]
  },
  {
   "cell_type": "code",
   "execution_count": 5,
   "id": "698edb47-e0fd-4ef7-a844-46ef702bc9cb",
   "metadata": {
    "tags": []
   },
   "outputs": [
    {
     "name": "stdout",
     "output_type": "stream",
     "text": [
      "6\n"
     ]
    }
   ],
   "source": [
    "# function_name = lambda return_value : function_definition\n",
    "double = lambda x : 2 * x \n",
    "\n",
    "# def double(x):\n",
    "#     return 2*x\n",
    "\n",
    "print(double(3))"
   ]
  },
  {
   "cell_type": "code",
   "execution_count": 1,
   "id": "0fde524c-a4b7-4263-9f62-4533063a3090",
   "metadata": {},
   "outputs": [
    {
     "name": "stdout",
     "output_type": "stream",
     "text": [
      "6\n"
     ]
    }
   ],
   "source": [
    "multiply = lambda x, y: x * y\n",
    "print(multiply(2, 3))"
   ]
  },
  {
   "cell_type": "markdown",
   "id": "7838e91a-4566-44df-b1c2-8f42af265e01",
   "metadata": {},
   "source": [
    "Anonymous function is useful when passed as a function argument."
   ]
  },
  {
   "cell_type": "code",
   "execution_count": 23,
   "id": "3a071bc0-734b-4808-8bdc-061509626ec5",
   "metadata": {
    "tags": []
   },
   "outputs": [
    {
     "name": "stdout",
     "output_type": "stream",
     "text": [
      "[4, 6, 100, 3, 1, 23]\n"
     ]
    }
   ],
   "source": [
    "L = [3, 1, 23, 4, 6, 100]\n",
    "L.sort(key = lambda x : x % 2) # [1, 1, 1, 0, 0, 0]\n",
    "# L is the input for this lambda function\n",
    "print(L)"
   ]
  },
  {
   "cell_type": "code",
   "execution_count": 22,
   "id": "3df9e895-2a0a-4f0a-86d1-0e77fb6c12b1",
   "metadata": {
    "tags": []
   },
   "outputs": [
    {
     "name": "stdout",
     "output_type": "stream",
     "text": [
      "None\n"
     ]
    }
   ],
   "source": [
    "l = [ 3]\n",
    "r = l.append(4)\n",
    "print(r)"
   ]
  },
  {
   "cell_type": "code",
   "execution_count": null,
   "id": "9c37a44c",
   "metadata": {},
   "outputs": [],
   "source": []
  }
 ],
 "metadata": {
  "kernelspec": {
   "display_name": "Python 3 (ipykernel)",
   "language": "python",
   "name": "python3"
  },
  "language_info": {
   "codemirror_mode": {
    "name": "ipython",
    "version": 3
   },
   "file_extension": ".py",
   "mimetype": "text/x-python",
   "name": "python",
   "nbconvert_exporter": "python",
   "pygments_lexer": "ipython3",
   "version": "3.11.7"
  }
 },
 "nbformat": 4,
 "nbformat_minor": 5
}
