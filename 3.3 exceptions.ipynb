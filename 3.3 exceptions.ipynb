{
 "cells": [
  {
   "cell_type": "markdown",
   "id": "751c61e8-3498-47b2-9742-7e2399396717",
   "metadata": {},
   "source": [
    "Announcements:\n",
    "- Will post Discussion 1-6 solutions today\n",
    "- https://twitter.com/jortsthecat/status/1484557774918803456?s=21\n",
    "\n",
    "Wednesday: Inheritance\n",
    "\n",
    "Today: Exceptions, Iterators\n",
    "\n",
    "https://docs.python.org/3/tutorial/errors.html#errors-and-exceptions\n",
    "\n",
    "https://docs.python.org/3/tutorial/classes.html#iterators"
   ]
  },
  {
   "cell_type": "markdown",
   "id": "cae1c9c7-6d37-4b0a-842b-d2c6ecb2ec29",
   "metadata": {},
   "source": [
    "### Exceptions: Syntax Error vs. Runtime Error\n",
    "\n",
    "`Syntax Error` is error in using Python language <-> grammatical errors in English like \"please potato cry eat\"\n",
    "\n",
    "`Runtime Errors` (exceptions) are everything else <-> they make sense grammatically but the computer can't follow the instruction - like \"please cry potatoes\""
   ]
  },
  {
   "cell_type": "code",
   "execution_count": 1,
   "id": "0c386eef-d6d8-4c98-be42-f1bc8662c4a6",
   "metadata": {
    "tags": []
   },
   "outputs": [
    {
     "ename": "SyntaxError",
     "evalue": "invalid syntax (2680807851.py, line 1)",
     "output_type": "error",
     "traceback": [
      "\u001b[0;36m  Cell \u001b[0;32mIn[1], line 1\u001b[0;36m\u001b[0m\n\u001b[0;31m    6p = 'hello'\u001b[0m\n\u001b[0m     ^\u001b[0m\n\u001b[0;31mSyntaxError\u001b[0m\u001b[0;31m:\u001b[0m invalid syntax\n"
     ]
    }
   ],
   "source": [
    "6p = 'hello'"
   ]
  },
  {
   "cell_type": "code",
   "execution_count": 2,
   "id": "ba353bc2-ec2b-4ee8-9fef-ddc550398cc9",
   "metadata": {
    "tags": []
   },
   "outputs": [
    {
     "ename": "SyntaxError",
     "evalue": "invalid syntax (4067208312.py, line 1)",
     "output_type": "error",
     "traceback": [
      "\u001b[0;36m  Cell \u001b[0;32mIn[2], line 1\u001b[0;36m\u001b[0m\n\u001b[0;31m    if a<3\u001b[0m\n\u001b[0m          ^\u001b[0m\n\u001b[0;31mSyntaxError\u001b[0m\u001b[0;31m:\u001b[0m invalid syntax\n"
     ]
    }
   ],
   "source": [
    "if a<3"
   ]
  },
  {
   "cell_type": "code",
   "execution_count": 3,
   "id": "d0219ac7-0d6d-4e6a-b8fa-22f731b94d8d",
   "metadata": {
    "tags": []
   },
   "outputs": [
    {
     "ename": "SyntaxError",
     "evalue": "Missing parentheses in call to 'print'. Did you mean print('hello'  # syntax error)? (3104112348.py, line 1)",
     "output_type": "error",
     "traceback": [
      "\u001b[0;36m  Cell \u001b[0;32mIn[3], line 1\u001b[0;36m\u001b[0m\n\u001b[0;31m    print 'hello'  # syntax error\u001b[0m\n\u001b[0m          ^\u001b[0m\n\u001b[0;31mSyntaxError\u001b[0m\u001b[0;31m:\u001b[0m Missing parentheses in call to 'print'. Did you mean print('hello'  # syntax error)?\n"
     ]
    }
   ],
   "source": [
    "print 'hello'  # syntax error"
   ]
  },
  {
   "cell_type": "code",
   "execution_count": 4,
   "id": "bb8ffa75-16aa-46ef-b083-42e0c27f6ac4",
   "metadata": {
    "tags": []
   },
   "outputs": [
    {
     "ename": "NameError",
     "evalue": "name 'hello' is not defined",
     "output_type": "error",
     "traceback": [
      "\u001b[0;31m---------------------------------------------------------------------------\u001b[0m",
      "\u001b[0;31mNameError\u001b[0m                                 Traceback (most recent call last)",
      "Cell \u001b[0;32mIn[4], line 1\u001b[0m\n\u001b[0;32m----> 1\u001b[0m \u001b[38;5;28mprint\u001b[39m(\u001b[43mhello\u001b[49m) \u001b[38;5;66;03m# runtime error\u001b[39;00m\n",
      "\u001b[0;31mNameError\u001b[0m: name 'hello' is not defined"
     ]
    }
   ],
   "source": [
    "print(hello) # runtime error"
   ]
  },
  {
   "cell_type": "code",
   "execution_count": 5,
   "id": "2703667a-4d15-4bca-bac5-11b43cd2c666",
   "metadata": {},
   "outputs": [
    {
     "ename": "NameError",
     "evalue": "name 'y' is not defined",
     "output_type": "error",
     "traceback": [
      "\u001b[0;31m---------------------------------------------------------------------------\u001b[0m",
      "\u001b[0;31mNameError\u001b[0m                                 Traceback (most recent call last)",
      "Cell \u001b[0;32mIn[5], line 1\u001b[0m\n\u001b[0;32m----> 1\u001b[0m \u001b[43my\u001b[49m\n",
      "\u001b[0;31mNameError\u001b[0m: name 'y' is not defined"
     ]
    }
   ],
   "source": [
    "y"
   ]
  },
  {
   "cell_type": "code",
   "execution_count": 6,
   "id": "bb60dbdd-6188-46b1-affb-d5e74ce930e9",
   "metadata": {},
   "outputs": [
    {
     "data": {
      "text/plain": [
       "6"
      ]
     },
     "execution_count": 6,
     "metadata": {},
     "output_type": "execute_result"
    }
   ],
   "source": [
    "int(6.0)"
   ]
  },
  {
   "cell_type": "code",
   "execution_count": 7,
   "id": "78ccee69-a8cf-4cce-9dad-3790e87eb526",
   "metadata": {},
   "outputs": [
    {
     "ename": "ValueError",
     "evalue": "invalid literal for int() with base 10: 'six'",
     "output_type": "error",
     "traceback": [
      "\u001b[0;31m---------------------------------------------------------------------------\u001b[0m",
      "\u001b[0;31mValueError\u001b[0m                                Traceback (most recent call last)",
      "Cell \u001b[0;32mIn[7], line 1\u001b[0m\n\u001b[0;32m----> 1\u001b[0m \u001b[38;5;28;43mint\u001b[39;49m\u001b[43m(\u001b[49m\u001b[38;5;124;43m\"\u001b[39;49m\u001b[38;5;124;43msix\u001b[39;49m\u001b[38;5;124;43m\"\u001b[39;49m\u001b[43m)\u001b[49m\n",
      "\u001b[0;31mValueError\u001b[0m: invalid literal for int() with base 10: 'six'"
     ]
    }
   ],
   "source": [
    "int(\"six\")"
   ]
  },
  {
   "cell_type": "code",
   "execution_count": 8,
   "id": "393fc28f-4fe6-4aea-bcc3-1fdddb00d5ae",
   "metadata": {
    "tags": []
   },
   "outputs": [
    {
     "ename": "ZeroDivisionError",
     "evalue": "division by zero",
     "output_type": "error",
     "traceback": [
      "\u001b[0;31m---------------------------------------------------------------------------\u001b[0m",
      "\u001b[0;31mZeroDivisionError\u001b[0m                         Traceback (most recent call last)",
      "Cell \u001b[0;32mIn[8], line 1\u001b[0m\n\u001b[0;32m----> 1\u001b[0m \u001b[38;5;241;43m1\u001b[39;49m\u001b[38;5;241;43m/\u001b[39;49m\u001b[38;5;241;43m0\u001b[39;49m\n",
      "\u001b[0;31mZeroDivisionError\u001b[0m: division by zero"
     ]
    }
   ],
   "source": [
    "1/0"
   ]
  },
  {
   "cell_type": "code",
   "execution_count": 9,
   "id": "24e27f3d-ab35-49ad-92ea-69b8eb55eaae",
   "metadata": {
    "tags": []
   },
   "outputs": [
    {
     "ename": "TypeError",
     "evalue": "unsupported operand type(s) for +: 'int' and 'str'",
     "output_type": "error",
     "traceback": [
      "\u001b[0;31m---------------------------------------------------------------------------\u001b[0m",
      "\u001b[0;31mTypeError\u001b[0m                                 Traceback (most recent call last)",
      "Cell \u001b[0;32mIn[9], line 1\u001b[0m\n\u001b[0;32m----> 1\u001b[0m \u001b[38;5;241;43m0\u001b[39;49m\u001b[43m \u001b[49m\u001b[38;5;241;43m+\u001b[39;49m\u001b[43m \u001b[49m\u001b[38;5;124;43m'\u001b[39;49m\u001b[38;5;124;43m0\u001b[39;49m\u001b[38;5;124;43m'\u001b[39;49m\n",
      "\u001b[0;31mTypeError\u001b[0m: unsupported operand type(s) for +: 'int' and 'str'"
     ]
    }
   ],
   "source": [
    "0 + '0'"
   ]
  },
  {
   "cell_type": "code",
   "execution_count": 10,
   "id": "a7c03657-99c9-426c-8279-03a738023b26",
   "metadata": {
    "tags": []
   },
   "outputs": [
    {
     "ename": "IndexError",
     "evalue": "list index out of range",
     "output_type": "error",
     "traceback": [
      "\u001b[0;31m---------------------------------------------------------------------------\u001b[0m",
      "\u001b[0;31mIndexError\u001b[0m                                Traceback (most recent call last)",
      "Cell \u001b[0;32mIn[10], line 2\u001b[0m\n\u001b[1;32m      1\u001b[0m L \u001b[38;5;241m=\u001b[39m []\n\u001b[0;32m----> 2\u001b[0m \u001b[43mL\u001b[49m\u001b[43m[\u001b[49m\u001b[38;5;241;43m0\u001b[39;49m\u001b[43m]\u001b[49m\n",
      "\u001b[0;31mIndexError\u001b[0m: list index out of range"
     ]
    }
   ],
   "source": [
    "L = []\n",
    "L[0]"
   ]
  },
  {
   "cell_type": "code",
   "execution_count": 11,
   "id": "c85c77c4-5a3f-4def-be67-17651ffccf95",
   "metadata": {
    "tags": []
   },
   "outputs": [
    {
     "ename": "KeyError",
     "evalue": "'not_a_key'",
     "output_type": "error",
     "traceback": [
      "\u001b[0;31m---------------------------------------------------------------------------\u001b[0m",
      "\u001b[0;31mKeyError\u001b[0m                                  Traceback (most recent call last)",
      "Cell \u001b[0;32mIn[11], line 2\u001b[0m\n\u001b[1;32m      1\u001b[0m d \u001b[38;5;241m=\u001b[39m {}\n\u001b[0;32m----> 2\u001b[0m \u001b[43md\u001b[49m\u001b[43m[\u001b[49m\u001b[38;5;124;43m'\u001b[39;49m\u001b[38;5;124;43mnot_a_key\u001b[39;49m\u001b[38;5;124;43m'\u001b[39;49m\u001b[43m]\u001b[49m\n",
      "\u001b[0;31mKeyError\u001b[0m: 'not_a_key'"
     ]
    }
   ],
   "source": [
    "d = {}\n",
    "d['not_a_key']"
   ]
  },
  {
   "cell_type": "code",
   "execution_count": 12,
   "id": "122f9f5e-50d2-4a92-9363-4b954175b31c",
   "metadata": {
    "tags": []
   },
   "outputs": [
    {
     "ename": "AttributeError",
     "evalue": "'list' object has no attribute 'attribute'",
     "output_type": "error",
     "traceback": [
      "\u001b[0;31m---------------------------------------------------------------------------\u001b[0m",
      "\u001b[0;31mAttributeError\u001b[0m                            Traceback (most recent call last)",
      "Cell \u001b[0;32mIn[12], line 2\u001b[0m\n\u001b[1;32m      1\u001b[0m L \u001b[38;5;241m=\u001b[39m []\n\u001b[0;32m----> 2\u001b[0m \u001b[43mL\u001b[49m\u001b[38;5;241;43m.\u001b[39;49m\u001b[43mattribute\u001b[49m\n",
      "\u001b[0;31mAttributeError\u001b[0m: 'list' object has no attribute 'attribute'"
     ]
    }
   ],
   "source": [
    "L = []\n",
    "L.attribute"
   ]
  },
  {
   "cell_type": "code",
   "execution_count": 13,
   "id": "4e9c6c9b-7c49-48cf-92fb-76b26351241c",
   "metadata": {
    "tags": []
   },
   "outputs": [
    {
     "ename": "AssertionError",
     "evalue": "",
     "output_type": "error",
     "traceback": [
      "\u001b[0;31m---------------------------------------------------------------------------\u001b[0m",
      "\u001b[0;31mAssertionError\u001b[0m                            Traceback (most recent call last)",
      "Cell \u001b[0;32mIn[13], line 1\u001b[0m\n\u001b[0;32m----> 1\u001b[0m \u001b[38;5;28;01massert\u001b[39;00m \u001b[38;5;241m0\u001b[39m \u001b[38;5;241m==\u001b[39m \u001b[38;5;241m1\u001b[39m\n",
      "\u001b[0;31mAssertionError\u001b[0m: "
     ]
    }
   ],
   "source": [
    "assert 0 == 1"
   ]
  },
  {
   "cell_type": "markdown",
   "id": "3400bd01-e8bc-4395-bd9e-99200c4b4dc6",
   "metadata": {},
   "source": [
    "Runtime errors raise exceptions. Exceptions prevent code from failing silently.\n",
    "\n",
    "Built-in exceptions: https://docs.python.org/3/library/exceptions.html#bltin-exceptions\n",
    "\n",
    "Some of the most common ones: https://www.programiz.com/python-programming/exceptions"
   ]
  },
  {
   "cell_type": "markdown",
   "id": "a103066e-2798-4bb3-bf4f-b4b4e0ac44ff",
   "metadata": {},
   "source": [
    "`raise`: when you `raise` an exception, it immediately halts the execution of the code."
   ]
  },
  {
   "cell_type": "code",
   "execution_count": 14,
   "id": "31219741-35b8-4994-bde6-10abc8049673",
   "metadata": {
    "tags": []
   },
   "outputs": [],
   "source": [
    "def halve(x):\n",
    "    return x/2"
   ]
  },
  {
   "cell_type": "code",
   "execution_count": 15,
   "id": "a9a188fb-cefb-441e-b2bf-3796a6a48513",
   "metadata": {
    "tags": []
   },
   "outputs": [
    {
     "data": {
      "text/plain": [
       "2.5"
      ]
     },
     "execution_count": 15,
     "metadata": {},
     "output_type": "execute_result"
    }
   ],
   "source": [
    "halve(5)"
   ]
  },
  {
   "cell_type": "code",
   "execution_count": 16,
   "id": "7ee6c8b0-46eb-403c-bce5-9d072a72d12d",
   "metadata": {
    "tags": []
   },
   "outputs": [
    {
     "ename": "TypeError",
     "evalue": "unsupported operand type(s) for /: 'str' and 'int'",
     "output_type": "error",
     "traceback": [
      "\u001b[0;31m---------------------------------------------------------------------------\u001b[0m",
      "\u001b[0;31mTypeError\u001b[0m                                 Traceback (most recent call last)",
      "Cell \u001b[0;32mIn[16], line 1\u001b[0m\n\u001b[0;32m----> 1\u001b[0m \u001b[43mhalve\u001b[49m\u001b[43m(\u001b[49m\u001b[38;5;124;43m'\u001b[39;49m\u001b[38;5;124;43mfive\u001b[39;49m\u001b[38;5;124;43m'\u001b[39;49m\u001b[43m)\u001b[49m \u001b[38;5;66;03m# but this function isn't designed to work with strings in the first place\u001b[39;00m\n",
      "Cell \u001b[0;32mIn[14], line 2\u001b[0m, in \u001b[0;36mhalve\u001b[0;34m(x)\u001b[0m\n\u001b[1;32m      1\u001b[0m \u001b[38;5;28;01mdef\u001b[39;00m \u001b[38;5;21mhalve\u001b[39m(x):\n\u001b[0;32m----> 2\u001b[0m     \u001b[38;5;28;01mreturn\u001b[39;00m \u001b[43mx\u001b[49m\u001b[38;5;241;43m/\u001b[39;49m\u001b[38;5;241;43m2\u001b[39;49m\n",
      "\u001b[0;31mTypeError\u001b[0m: unsupported operand type(s) for /: 'str' and 'int'"
     ]
    }
   ],
   "source": [
    "halve('five') # but this function isn't designed to work with strings in the first place"
   ]
  },
  {
   "cell_type": "code",
   "execution_count": 17,
   "id": "980304a5-c2da-4208-91b9-d1042a344268",
   "metadata": {
    "tags": []
   },
   "outputs": [],
   "source": [
    "def halve1(x):\n",
    "    # this type checking/input checking reflects our intention/design choice\n",
    "    if type(x) not in [float, int]:\n",
    "        raise TypeError(\"This function is designed to work only with floats and ints.\")\n",
    "    \n",
    "    return x/2"
   ]
  },
  {
   "cell_type": "code",
   "execution_count": 24,
   "id": "ec7144d7",
   "metadata": {},
   "outputs": [
    {
     "data": {
      "text/plain": [
       "2.5"
      ]
     },
     "execution_count": 24,
     "metadata": {},
     "output_type": "execute_result"
    }
   ],
   "source": [
    "halve1(5)"
   ]
  },
  {
   "cell_type": "code",
   "execution_count": 19,
   "id": "9ed3e627-7b3e-4c84-92df-0104aeb21734",
   "metadata": {
    "tags": []
   },
   "outputs": [
    {
     "ename": "TypeError",
     "evalue": "This function is designed to work only with floats and ints.",
     "output_type": "error",
     "traceback": [
      "\u001b[0;31m---------------------------------------------------------------------------\u001b[0m",
      "\u001b[0;31mTypeError\u001b[0m                                 Traceback (most recent call last)",
      "Cell \u001b[0;32mIn[19], line 1\u001b[0m\n\u001b[0;32m----> 1\u001b[0m \u001b[43mhalve1\u001b[49m\u001b[43m(\u001b[49m\u001b[38;5;124;43m\"\u001b[39;49m\u001b[38;5;124;43mfive\u001b[39;49m\u001b[38;5;124;43m\"\u001b[39;49m\u001b[43m)\u001b[49m \u001b[38;5;66;03m# note the change in error message\u001b[39;00m\n",
      "Cell \u001b[0;32mIn[17], line 4\u001b[0m, in \u001b[0;36mhalve1\u001b[0;34m(x)\u001b[0m\n\u001b[1;32m      1\u001b[0m \u001b[38;5;28;01mdef\u001b[39;00m \u001b[38;5;21mhalve1\u001b[39m(x):\n\u001b[1;32m      2\u001b[0m     \u001b[38;5;66;03m# this type checking/input checking reflects our intention/design choice\u001b[39;00m\n\u001b[1;32m      3\u001b[0m     \u001b[38;5;28;01mif\u001b[39;00m \u001b[38;5;28mtype\u001b[39m(x) \u001b[38;5;129;01mnot\u001b[39;00m \u001b[38;5;129;01min\u001b[39;00m [\u001b[38;5;28mfloat\u001b[39m, \u001b[38;5;28mint\u001b[39m]:\n\u001b[0;32m----> 4\u001b[0m         \u001b[38;5;28;01mraise\u001b[39;00m \u001b[38;5;167;01mTypeError\u001b[39;00m(\u001b[38;5;124m\"\u001b[39m\u001b[38;5;124mThis function is designed to work only with floats and ints.\u001b[39m\u001b[38;5;124m\"\u001b[39m)\n\u001b[1;32m      6\u001b[0m     \u001b[38;5;28;01mreturn\u001b[39;00m x\u001b[38;5;241m/\u001b[39m\u001b[38;5;241m2\u001b[39m\n",
      "\u001b[0;31mTypeError\u001b[0m: This function is designed to work only with floats and ints."
     ]
    }
   ],
   "source": [
    "halve1(\"five\") # note the change in error message"
   ]
  },
  {
   "cell_type": "markdown",
   "id": "76d27089-b1c4-4d07-afaf-432f22b33912",
   "metadata": {},
   "source": [
    "### Exception handling (`try`-`except`) \n",
    "\n",
    "`try` to do whatever you were trying to do, and if Python raises an exception, `except` it and run something else instead of stopping your code all together"
   ]
  },
  {
   "cell_type": "code",
   "execution_count": 1,
   "id": "676f9c76-8a14-4774-b447-7e43ab372b9e",
   "metadata": {
    "tags": []
   },
   "outputs": [],
   "source": [
    "def halve2(x):\n",
    "    try:\n",
    "        return x/2\n",
    "    except TypeError:\n",
    "        print(\"This function is designed to work with floats and ints, returning original input instead\")\n",
    "    finally:\n",
    "        print('I always run')"
   ]
  },
  {
   "cell_type": "code",
   "execution_count": 2,
   "id": "adb3d73d-0a76-47b8-b0f6-9fdee426cd07",
   "metadata": {},
   "outputs": [],
   "source": [
    "# try:\n",
    "#    # what to do with expected input\n",
    "# except TypeError:\n",
    "#    # if your input type is wrong\n",
    "# finally:\n",
    "#   # regardless of what happens in the `try` and `except` blocks, the finally block always runs.\n",
    "#   # codes in `finally` blcok will return quite before `return` is executed"
   ]
  },
  {
   "cell_type": "code",
   "execution_count": 3,
   "id": "968a4161-1c1b-4ac3-b1dc-6ea457814f36",
   "metadata": {
    "tags": []
   },
   "outputs": [
    {
     "name": "stdout",
     "output_type": "stream",
     "text": [
      "I always run\n"
     ]
    },
    {
     "data": {
      "text/plain": [
       "2.5"
      ]
     },
     "execution_count": 3,
     "metadata": {},
     "output_type": "execute_result"
    }
   ],
   "source": [
    "halve2(5)"
   ]
  },
  {
   "cell_type": "code",
   "execution_count": 4,
   "id": "7b0e6a50-6cef-411b-924e-901ec64e06fc",
   "metadata": {
    "tags": []
   },
   "outputs": [
    {
     "name": "stdout",
     "output_type": "stream",
     "text": [
      "This function is designed to work with floats and ints, returning original input instead\n",
      "I always run\n"
     ]
    }
   ],
   "source": [
    "halve2(\"five\")"
   ]
  },
  {
   "cell_type": "markdown",
   "id": "7df7ceca",
   "metadata": {},
   "source": [
    "Compare the following divide() and divide1() methods"
   ]
  },
  {
   "cell_type": "markdown",
   "id": "1775146a",
   "metadata": {},
   "source": [
    "In divide1, when a TypeError or ZeroDivisionError occurs, the function captures the error object (t for TypeError and z for ZeroDivisionError) and returns it after printing the error message. This means the caller of divide1 can receive and possibly use the error object for further handling or logging.\n",
    "\n",
    "In contrast, divide simply prints an error message and does not return the error object. The caller of divide will not know the specific error details beyond the printed message."
   ]
  },
  {
   "cell_type": "code",
   "execution_count": 5,
   "id": "b86e456a-18ca-4ec9-b974-810a7d406852",
   "metadata": {
    "tags": []
   },
   "outputs": [],
   "source": [
    "def divide(x, y):\n",
    "    try:\n",
    "        return x/y\n",
    "    except TypeError:\n",
    "        print(\"please check that x and y are both ints or floats\")\n",
    "    except ZeroDivisionError:\n",
    "        print(\"you can't divide by zero\")\n",
    "    finally:\n",
    "        print('i always run')"
   ]
  },
  {
   "cell_type": "code",
   "execution_count": 6,
   "id": "5d5a263e-82c8-4354-a2e6-f75c05c4590a",
   "metadata": {
    "tags": []
   },
   "outputs": [
    {
     "name": "stdout",
     "output_type": "stream",
     "text": [
      "i always run\n"
     ]
    },
    {
     "data": {
      "text/plain": [
       "0.5"
      ]
     },
     "execution_count": 6,
     "metadata": {},
     "output_type": "execute_result"
    }
   ],
   "source": [
    "divide(1, 2)"
   ]
  },
  {
   "cell_type": "code",
   "execution_count": 7,
   "id": "093edba0-b30f-4e0b-a118-1ec428650e66",
   "metadata": {
    "tags": []
   },
   "outputs": [
    {
     "name": "stdout",
     "output_type": "stream",
     "text": [
      "you can't divide by zero\n",
      "i always run\n"
     ]
    }
   ],
   "source": [
    "divide(1, 0)"
   ]
  },
  {
   "cell_type": "code",
   "execution_count": 8,
   "id": "3f449d95-ee35-4c52-8cad-83e55778f3e7",
   "metadata": {
    "tags": []
   },
   "outputs": [],
   "source": [
    "def divide1(x, y):\n",
    "    try:\n",
    "        return x/y\n",
    "    except TypeError as t:\n",
    "        print(\"please check that x and y are both ints or floats\")\n",
    "        return t\n",
    "    except ZeroDivisionError as z:\n",
    "        print(\"you can't divide by zero\")\n",
    "        return z\n",
    "    finally:\n",
    "        print('i always run')"
   ]
  },
  {
   "cell_type": "code",
   "execution_count": 9,
   "id": "64a3dff6-6172-4075-8fc3-39d1dd3aa2bc",
   "metadata": {
    "tags": []
   },
   "outputs": [
    {
     "name": "stdout",
     "output_type": "stream",
     "text": [
      "i always run\n",
      "0.5\n"
     ]
    }
   ],
   "source": [
    "x = divide1(1, 2)\n",
    "print(x) # 0.5"
   ]
  },
  {
   "cell_type": "code",
   "execution_count": 10,
   "id": "00ad29f5-4b47-4580-a303-0780acf33f48",
   "metadata": {
    "tags": []
   },
   "outputs": [
    {
     "name": "stdout",
     "output_type": "stream",
     "text": [
      "you can't divide by zero\n",
      "i always run\n",
      "division by zero\n"
     ]
    }
   ],
   "source": [
    "y = divide1(1, 0)\n",
    "print(y) # division by zero"
   ]
  },
  {
   "cell_type": "code",
   "execution_count": 14,
   "id": "e69d6af3-6b6c-4e38-956a-7c64eb0cc2e6",
   "metadata": {
    "tags": []
   },
   "outputs": [
    {
     "name": "stdout",
     "output_type": "stream",
     "text": [
      "please check that x and y are both ints or floats\n",
      "i always run\n",
      "unsupported operand type(s) for /: 'int' and 'str'\n"
     ]
    }
   ],
   "source": [
    "z = divide1(1, \"one\")\n",
    "print(z) # unsupported operand type(s) for /: 'int' and 'str'"
   ]
  },
  {
   "cell_type": "code",
   "execution_count": 15,
   "id": "3d26464c-d6a1-48c9-acf4-b67d4119705a",
   "metadata": {
    "tags": []
   },
   "outputs": [
    {
     "name": "stdout",
     "output_type": "stream",
     "text": [
      "<class 'float'>\n"
     ]
    }
   ],
   "source": [
    "print(type(x)) # <class 'float'>"
   ]
  },
  {
   "cell_type": "code",
   "execution_count": 16,
   "id": "7c28a45a",
   "metadata": {},
   "outputs": [
    {
     "name": "stdout",
     "output_type": "stream",
     "text": [
      "<class 'ZeroDivisionError'>\n"
     ]
    }
   ],
   "source": [
    "print(type(y)) # <class 'ZeroDivisionError'>"
   ]
  },
  {
   "cell_type": "code",
   "execution_count": 17,
   "id": "e202352c-b5c1-40a3-8787-33c4ebc395ef",
   "metadata": {
    "tags": []
   },
   "outputs": [
    {
     "name": "stdout",
     "output_type": "stream",
     "text": [
      "<class 'TypeError'>\n"
     ]
    }
   ],
   "source": [
    "print(type(z)) # <class 'TypeError'>"
   ]
  },
  {
   "cell_type": "code",
   "execution_count": null,
   "id": "b3044a70",
   "metadata": {},
   "outputs": [],
   "source": []
  }
 ],
 "metadata": {
  "kernelspec": {
   "display_name": "Python 3 (ipykernel)",
   "language": "python",
   "name": "python3"
  },
  "language_info": {
   "codemirror_mode": {
    "name": "ipython",
    "version": 3
   },
   "file_extension": ".py",
   "mimetype": "text/x-python",
   "name": "python",
   "nbconvert_exporter": "python",
   "pygments_lexer": "ipython3",
   "version": "3.12.2"
  }
 },
 "nbformat": 4,
 "nbformat_minor": 5
}
