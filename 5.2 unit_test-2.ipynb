{
 "cells": [
  {
   "cell_type": "markdown",
   "id": "45428489-c1e1-40bc-a411-fdbf946a7073",
   "metadata": {},
   "source": [
    "Announcements:\n",
    "\n",
    "- HW4 due Thursday\n",
    "- Midterm info to be released today or tomorrow\n",
    "\n",
    "Friday: Numpy functions\n",
    "\n",
    "Today: Broadcasting in Numpy and unittest\n"
   ]
  },
  {
   "cell_type": "markdown",
   "id": "2b11ccd9-11ca-4bbd-9e3f-e0dc46ee22eb",
   "metadata": {},
   "source": [
    "## numpy broadcasting\n",
    "\n",
    "https://numpy.org/doc/stable/user/basics.broadcasting.html\n",
    "\n",
    "https://jakevdp.github.io/PythonDataScienceHandbook/02.05-computation-on-arrays-broadcasting.html"
   ]
  },
  {
   "cell_type": "markdown",
   "id": "f00d72d2-d9fb-40bb-89ed-157bdf3389de",
   "metadata": {},
   "source": [
    "\n",
    "Rule 1: If the two arrays differ in their number of dimensions, the shape of the one with fewer dimensions is \"padded\" with ones (1) on its leading (=left) side.\n",
    "\n",
    "\n",
    "Rule 2: If the shape of the two arrays dont match in any dimension, the array with shape equal to 1 in that dimension is stretched to match the other shape.\n",
    "\n",
    "\n",
    "Rule 3: If in any dimension the sizes disagree and neither is equal to 1, an error is raised.\n"
   ]
  },
  {
   "cell_type": "code",
   "execution_count": 1,
   "id": "8e8936ab-89aa-4778-b2e0-31dcb4c55651",
   "metadata": {
    "tags": []
   },
   "outputs": [],
   "source": [
    "import numpy as np"
   ]
  },
  {
   "cell_type": "code",
   "execution_count": 2,
   "id": "352fbad6-8356-4cbf-a777-a96ca5055711",
   "metadata": {
    "tags": []
   },
   "outputs": [],
   "source": [
    "a = np.array([0, 1, 2])\n",
    "b = np.array([5, 5, 5])"
   ]
  },
  {
   "cell_type": "code",
   "execution_count": 3,
   "id": "f2b4619c-7577-4341-9b7b-06dbfa2b08e1",
   "metadata": {
    "tags": []
   },
   "outputs": [
    {
     "data": {
      "text/plain": [
       "((3,), (3,))"
      ]
     },
     "execution_count": 3,
     "metadata": {},
     "output_type": "execute_result"
    }
   ],
   "source": [
    "a.shape, b.shape"
   ]
  },
  {
   "cell_type": "code",
   "execution_count": 4,
   "id": "ecba222a-aa8b-4b6a-bccb-12ec534f4ced",
   "metadata": {
    "tags": []
   },
   "outputs": [
    {
     "data": {
      "text/plain": [
       "array([5, 6, 7])"
      ]
     },
     "execution_count": 4,
     "metadata": {},
     "output_type": "execute_result"
    }
   ],
   "source": [
    "a + b"
   ]
  },
  {
   "cell_type": "code",
   "execution_count": null,
   "id": "1c2b6cd5-7860-40c7-a860-35dde74fa5da",
   "metadata": {},
   "outputs": [],
   "source": [
    "a + 5 \n",
    "# behind the scenes: numpy stretches out the 5 -> [5, 5, 5]\n",
    "# broadcasting: \"stretching\" arrays so that binary operations can be done on arrays of different sizes"
   ]
  },
  {
   "cell_type": "code",
   "execution_count": null,
   "id": "4d88abdc-df3b-4b15-adff-53933ba3fc46",
   "metadata": {},
   "outputs": [],
   "source": [
    "M = np.ones((3, 3)) \n",
    "M"
   ]
  },
  {
   "cell_type": "code",
   "execution_count": null,
   "id": "e96edbe8-4768-49d3-94a3-38ee13ceba0d",
   "metadata": {},
   "outputs": [],
   "source": [
    "M.shape"
   ]
  },
  {
   "cell_type": "code",
   "execution_count": null,
   "id": "c86e39eb-44ff-4279-b450-526e21f7d567",
   "metadata": {},
   "outputs": [],
   "source": [
    "a.shape"
   ]
  },
  {
   "cell_type": "code",
   "execution_count": null,
   "id": "2451aecb-33d1-4150-bdcf-3feaeb14d028",
   "metadata": {},
   "outputs": [],
   "source": [
    "M + a # broadcasting: a is \"broadcasted\" to the shape of M"
   ]
  },
  {
   "cell_type": "markdown",
   "id": "de82e403-ae5b-40fb-8eee-0848dc55996f",
   "metadata": {},
   "source": [
    "### Example 1"
   ]
  },
  {
   "cell_type": "code",
   "execution_count": null,
   "id": "6180c2c8-5c7d-4353-b0dd-78e7e40b530b",
   "metadata": {},
   "outputs": [],
   "source": [
    "M = np.ones((2, 3))\n",
    "a = np.arange(3) "
   ]
  },
  {
   "cell_type": "code",
   "execution_count": null,
   "id": "03e8bde4-a7a4-4342-84f5-f99388f2a6ff",
   "metadata": {},
   "outputs": [],
   "source": [
    "M"
   ]
  },
  {
   "cell_type": "code",
   "execution_count": null,
   "id": "02e69a94-2eaa-4727-9c42-719827b853d1",
   "metadata": {},
   "outputs": [],
   "source": [
    "a"
   ]
  },
  {
   "cell_type": "code",
   "execution_count": null,
   "id": "7368f53f-845f-4143-b7f3-2f0c0d5112ae",
   "metadata": {},
   "outputs": [],
   "source": [
    "M.shape # a matrix == 2 dimensional array"
   ]
  },
  {
   "cell_type": "code",
   "execution_count": null,
   "id": "a73f24ff-8547-4e65-a2a0-56a59956dd5c",
   "metadata": {},
   "outputs": [],
   "source": [
    "a.shape # 1 dimensional array\n",
    "# rule 1: this has fewer dimensions, so turn a.shape -> (1, 3)"
   ]
  },
  {
   "cell_type": "code",
   "execution_count": null,
   "id": "5f20cdb3-1ef9-44ac-b5dd-44c50ff4ffd8",
   "metadata": {},
   "outputs": [],
   "source": [
    "# (3,), (1,3), (3,1) are all different"
   ]
  },
  {
   "cell_type": "code",
   "execution_count": null,
   "id": "ad75ae21-afad-494b-8443-7d0cbf1aa1cd",
   "metadata": {},
   "outputs": [],
   "source": [
    "# after rule 1, \n",
    "# M.shape -> (2, 3)\n",
    "# a.shape -> (1, 3)"
   ]
  },
  {
   "cell_type": "code",
   "execution_count": null,
   "id": "9655d110-244c-4bb9-a619-41a8cfb26060",
   "metadata": {},
   "outputs": [],
   "source": [
    "# since the 0-th dimension size doesnt match (2 =/= 1), we apply rule 2 to a\n",
    "# after rule 2:\n",
    "# M.shape -> (2, 3)\n",
    "# a.shape -> (2, 3) \"stretched\" means \"copied and stacked together\""
   ]
  },
  {
   "cell_type": "code",
   "execution_count": null,
   "id": "5536edb0-b402-455d-b62c-27fcd9cf50f9",
   "metadata": {},
   "outputs": [],
   "source": [
    "M + a # should get shape (2, 3)"
   ]
  },
  {
   "cell_type": "code",
   "execution_count": null,
   "id": "4fcfbb60-c8a2-435e-8982-7fb39406022c",
   "metadata": {},
   "outputs": [],
   "source": [
    "# another example\n",
    "# M1.shape -> (6, 3)\n",
    "# a1.shape -> (3, 3) rule 2 would not apply"
   ]
  },
  {
   "cell_type": "markdown",
   "id": "b10730fd-fed8-4a87-8a81-eafcc965fc5c",
   "metadata": {},
   "source": [
    "### Example 2"
   ]
  },
  {
   "cell_type": "code",
   "execution_count": null,
   "id": "b82fc2ef-6939-4c5c-b171-5ed60d07c829",
   "metadata": {},
   "outputs": [],
   "source": [
    "a = np.arange(3).reshape(3, 1)\n",
    "b = np.arange(3)"
   ]
  },
  {
   "cell_type": "code",
   "execution_count": null,
   "id": "b0670343-6c48-4558-a969-be07de116c5b",
   "metadata": {},
   "outputs": [],
   "source": [
    "a.shape # 2D array"
   ]
  },
  {
   "cell_type": "code",
   "execution_count": null,
   "id": "8da64a98-c5e5-42a5-b301-e588f448d0df",
   "metadata": {},
   "outputs": [],
   "source": [
    "a.shape[0] # size of the 0th dimension of a"
   ]
  },
  {
   "cell_type": "code",
   "execution_count": null,
   "id": "20ce4d05-f62f-4ad1-913a-1e676c0c8ed5",
   "metadata": {},
   "outputs": [],
   "source": [
    "b.shape # 1D array"
   ]
  },
  {
   "cell_type": "code",
   "execution_count": null,
   "id": "6f92d001-82df-47eb-9089-1b4ecd6437a0",
   "metadata": {},
   "outputs": [],
   "source": [
    "# rule 1 says\n",
    "# a.shape -> (3, 1)\n",
    "# b.shape -> (1, 3)"
   ]
  },
  {
   "cell_type": "code",
   "execution_count": null,
   "id": "0d8d4cad-2abf-4b67-b9bd-b05b58248ac8",
   "metadata": {},
   "outputs": [],
   "source": [
    "# rule 2 applied the first time:\n",
    "# a.shape -> (3, 1)\n",
    "# b.shape -> (3, 3)\n",
    "\n",
    "\n",
    "# rule 2 applied the second time:\n",
    "# a.shape -> (3, 3)\n",
    "# b.shape -> (3, 3)\n"
   ]
  },
  {
   "cell_type": "code",
   "execution_count": null,
   "id": "83e4be34-e571-4b43-9f4c-462bd490355c",
   "metadata": {},
   "outputs": [],
   "source": [
    "a + b "
   ]
  },
  {
   "cell_type": "markdown",
   "id": "44fcab7b-2744-431d-96d8-a68bf19c2215",
   "metadata": {},
   "source": [
    "### Example 3"
   ]
  },
  {
   "cell_type": "code",
   "execution_count": null,
   "id": "a2e64c71-620c-40e1-bb5e-1047c96fdd78",
   "metadata": {},
   "outputs": [],
   "source": [
    "M = np.ones((3, 2)) \n",
    "a = np.arange(3) # [0, 1, 2]"
   ]
  },
  {
   "cell_type": "code",
   "execution_count": null,
   "id": "438cebda-aaa7-4a2b-8f1d-a5dceabb8880",
   "metadata": {},
   "outputs": [],
   "source": [
    "M.shape"
   ]
  },
  {
   "cell_type": "code",
   "execution_count": null,
   "id": "60c5a2a7-1b03-48eb-8a23-252b2460c8b5",
   "metadata": {},
   "outputs": [],
   "source": [
    "M"
   ]
  },
  {
   "cell_type": "code",
   "execution_count": null,
   "id": "c70efc49-f0a7-450a-9afc-6734511653f4",
   "metadata": {},
   "outputs": [],
   "source": [
    "a.shape"
   ]
  },
  {
   "cell_type": "code",
   "execution_count": null,
   "id": "482c404a-3f05-481f-985c-af99e7a38204",
   "metadata": {},
   "outputs": [],
   "source": [
    "# rule 1 to a\n",
    "# M.shape -> (3, 2)\n",
    "# a.shape -> (1, 3)"
   ]
  },
  {
   "cell_type": "code",
   "execution_count": null,
   "id": "76ae521c-6f93-4307-9b5d-dc4cf25435a4",
   "metadata": {},
   "outputs": [],
   "source": [
    "# rule 2 \n",
    "# M.shape -> (3, 2)\n",
    "# a.shape -> (3, 3)"
   ]
  },
  {
   "cell_type": "code",
   "execution_count": null,
   "id": "498d0a60-f85c-4b5c-9974-5c940174c540",
   "metadata": {},
   "outputs": [],
   "source": [
    "M + a"
   ]
  },
  {
   "cell_type": "markdown",
   "id": "2cfaa2a9-c438-480a-8ad5-ef363144c20d",
   "metadata": {},
   "source": [
    "## Unit testing"
   ]
  },
  {
   "cell_type": "code",
   "execution_count": null,
   "id": "1d337c65",
   "metadata": {},
   "outputs": [],
   "source": [
    "def reverse_lookup(D, val):\n",
    "    \"\"\"\n",
    "    Finds all keys in dictionary D with value val\n",
    "    \"\"\"\n",
    "    if not isinstance(D, dict):\n",
    "        raise TypeError(\"First argument must be a dict!\")\n",
    "    \n",
    "    return [key for key in D.keys() if D[key] == val] # [x for x in L if x is something]"
   ]
  },
  {
   "cell_type": "code",
   "execution_count": null,
   "id": "9b7f099f",
   "metadata": {},
   "outputs": [],
   "source": [
    "D = {\"Potter\": \"student\",\n",
    "     \"Dumbledore\": \"professor\",\n",
    "     \"Malfoy\": \"student\", \n",
    "     \"Snape\": \"professor\"}"
   ]
  },
  {
   "cell_type": "code",
   "execution_count": null,
   "id": "8b0f7c97",
   "metadata": {},
   "outputs": [],
   "source": [
    "reverse_lookup(D, \"student\") # expect to see [\"Potter\", \"Malfoy\"]"
   ]
  },
  {
   "cell_type": "code",
   "execution_count": null,
   "id": "0c40b723",
   "metadata": {},
   "outputs": [],
   "source": [
    "reverse_lookup(D, \"owl\") # expect to see []"
   ]
  },
  {
   "cell_type": "code",
   "execution_count": null,
   "id": "05843827",
   "metadata": {},
   "outputs": [],
   "source": [
    "D = [\"Potter\", \"Dumbledore\", \"Malfoy\", \"Snape\"]\n",
    "\n",
    "reverse_lookup(D, \"student\") # expect to see TypeError raised"
   ]
  },
  {
   "cell_type": "markdown",
   "id": "a952eab1",
   "metadata": {},
   "source": [
    "unittest https://docs.python.org/3/library/unittest.html\n",
    "\n",
    "https://docs.python.org/3/library/unittest.html#assert-methods"
   ]
  },
  {
   "cell_type": "code",
   "execution_count": null,
   "id": "3f5a2032",
   "metadata": {},
   "outputs": [],
   "source": [
    "import unittest"
   ]
  },
  {
   "cell_type": "code",
   "execution_count": null,
   "id": "b4846f6e",
   "metadata": {},
   "outputs": [],
   "source": [
    "class TestReverseLookUp(unittest.TestCase): # class called TestCase defined in module unittest\n",
    "    \n",
    "    def test_standard_lookup(self):\n",
    "        D = {\"Potter\": \"student\",\n",
    "                \"Dumbledore\": \"professor\",\n",
    "                \"Malfoy\": \"student\", \n",
    "                \"Snape\": \"professor\"}\n",
    "        res = reverse_lookup(D, \"student\") # expect to see [\"Potter\", \"Malfoy\"]\n",
    "        self.assertEqual(len(res), 2) # assert that len(res) == 2\n",
    "        \n",
    "    def test_no_match(self):\n",
    "        D = {\"Potter\": \"student\",\n",
    "                \"Dumbledore\": \"professor\",\n",
    "                \"Malfoy\": \"student\", \n",
    "                \"Snape\": \"professor\"}\n",
    "        \n",
    "        res = reverse_lookup(D, \"owl\") \n",
    "        self.assertEqual(len(res), 0)\n",
    "        \n",
    "    def test_type_error(self):\n",
    "        D = [\"Potter\", \"Dumbledore\", \"Malfoy\", \"Snape\"]\n",
    "        \n",
    "        with self.assertRaises(TypeError):\n",
    "            reverse_lookup(D, \"student\") # assert that this line raises a TypeError\n",
    "    \n",
    "    # purposefully wrong test case to show you what happens when a test fails\n",
    "    def test_prof_incorrect(self):\n",
    "        D = {\"Potter\": \"student\",\n",
    "                \"Dumbledore\": \"professor\",\n",
    "                \"Malfoy\": \"student\", \n",
    "                \"Snape\": \"professor\"}\n",
    "        res = reverse_lookup(D, \"professor\")\n",
    "        self.assertEqual(len(res), 3)"
   ]
  },
  {
   "cell_type": "code",
   "execution_count": null,
   "id": "d56c89c6",
   "metadata": {},
   "outputs": [],
   "source": [
    "tester = TestReverseLookUp()"
   ]
  },
  {
   "cell_type": "code",
   "execution_count": null,
   "id": "ef06de9f",
   "metadata": {},
   "outputs": [],
   "source": [
    "tester.test_standard_lookup()\n",
    "tester.test_no_match()\n",
    "tester.test_type_error()\n",
    "\n",
    "# if nothing happens, that means your code passed all the test cases"
   ]
  },
  {
   "cell_type": "code",
   "execution_count": null,
   "id": "dea5782f",
   "metadata": {},
   "outputs": [],
   "source": [
    "tester.test_prof_incorrect()"
   ]
  },
  {
   "cell_type": "markdown",
   "id": "28056939",
   "metadata": {},
   "source": [
    "### Tests in Modules\n",
    "While this test setup works well, it's cumbersome -- you need to call and run the tests by hand each time. The standard and much more convenient approach is to embed your tests into the module in which you define your classes and functions. An example of this approach is shown in the accompanying file `unit_test_example.py`. The key trick is in the following two lines:\n",
    "\n",
    "```python\n",
    "if __name__ == \"__main__\":\n",
    "    unittest.main()\n",
    "```\n",
    "\n",
    "The `unittest.main()` method will find all classes that inherit from `unittest.TestCase`, construct an instance of each class, and then run each method of each class exactly once, with custom exception handling to ensure that all tests run even if some of them produce `AssertionError`s. It will then give a summary of the number of failures and the time it took to run the tests. The first line ensures that the unit tests are performed only when running the module as a script, and not when importing the module.\n",
    "\n",
    "```python\n",
    "import unit_test_example # tests not run\n",
    "```"
   ]
  },
  {
   "cell_type": "code",
   "execution_count": null,
   "id": "04c428bf-e08a-4a66-9d0f-0a3597a161a6",
   "metadata": {
    "tags": []
   },
   "outputs": [],
   "source": [
    "import unit_test_example"
   ]
  },
  {
   "cell_type": "code",
   "execution_count": null,
   "id": "29a1fa7d-7454-42c8-aab0-18f2cbb6f676",
   "metadata": {},
   "outputs": [],
   "source": [
    "unit_test_example.reverse_lookup"
   ]
  }
 ],
 "metadata": {
  "kernelspec": {
   "display_name": "Python 3 (ipykernel)",
   "language": "python",
   "name": "python3"
  },
  "language_info": {
   "codemirror_mode": {
    "name": "ipython",
    "version": 3
   },
   "file_extension": ".py",
   "mimetype": "text/x-python",
   "name": "python",
   "nbconvert_exporter": "python",
   "pygments_lexer": "ipython3",
   "version": "3.11.6"
  }
 },
 "nbformat": 4,
 "nbformat_minor": 5
}
