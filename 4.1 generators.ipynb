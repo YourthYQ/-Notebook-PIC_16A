{
 "cells": [
  {
   "cell_type": "markdown",
   "metadata": {},
   "source": [
    "# Generator\n",
    "\n",
    "A generator is a special type of iterator, which generates values on the fly and can be iterated over like a list or other iterable object, but it does not store all its values in memory at once. Instead, it generates values one at a time as they are needed, which can be more memory-efficient when dealing with large datasets.\n",
    "\n",
    "The `yield` statement is used in a function to turn it into a generator."
   ]
  },
  {
   "cell_type": "markdown",
   "metadata": {},
   "source": [
    "Let's construct a more complex iterator. \n",
    "\n",
    "Goal: implement `SortedDict` class, when we iterate over key-value pairs, always returns these pairs in sorted order according to the keys. \n",
    "\n",
    "We'll define this class as a subclass of `dict`, so we will automatically inherit all the standard `dict` behavior. We just need to define the `__iter__()` and `__next__()` methods. It would be interesting to extend this class to allow custom sorting behavior. For now, we'll just rely on the built-in list-sorting. \n",
    "\n",
    "Dictionaries, by default implementation, have keys ordered by their creation, which isn't often meaningful."
   ]
  },
  {
   "cell_type": "code",
   "execution_count": 1,
   "metadata": {
    "tags": []
   },
   "outputs": [],
   "source": [
    "D = {\"Sprout\": \"Herbology\", \n",
    "     \"Flitwick\": \"Charms\", \n",
    "     \"Snape\" : \"Potions\", \n",
    "     \"Quirrell\": \"DADA\", \n",
    "     \"McGonagall\" : \"Transfiguration\"\n",
    "}"
   ]
  },
  {
   "cell_type": "code",
   "execution_count": 2,
   "metadata": {
    "tags": []
   },
   "outputs": [],
   "source": [
    "class SortedDict(dict):\n",
    "    \"\"\"\n",
    "    A subclass of `dict` that supports sorted iteration via the sortedDictIterator class\n",
    "    \"\"\"\n",
    "    \n",
    "    def __iter__(self):\n",
    "        \"\"\"\n",
    "        overrides dict.__iter__()\n",
    "        \"\"\"\n",
    "        return SortedDictIterator(self)"
   ]
  },
  {
   "cell_type": "markdown",
   "metadata": {},
   "source": [
    "Ok, now let's move on to the `SortedDictIterator`. We need to store the current index `i` and the sorted order of keys."
   ]
  },
  {
   "cell_type": "code",
   "execution_count": 3,
   "metadata": {
    "tags": []
   },
   "outputs": [],
   "source": [
    "class SortedDictIterator():\n",
    "    \"\"\"\n",
    "    an iterator class that enables sorted iteration in sortedDict class\n",
    "    \"\"\"\n",
    "    \n",
    "    def __init__(self, sD):\n",
    "        self.i = 0\n",
    "        self.sD=sD\n",
    "        self.keys = list(sD.keys())\n",
    "        self.keys.sort()\n",
    "    \n",
    "    def __next__(self):\n",
    "        if self.i == len(self.keys):\n",
    "            raise StopIteration\n",
    "        \n",
    "        key = self.keys[self.i]\n",
    "        self.i += 1\n",
    "        \n",
    "        return(key, self.sD[key])"
   ]
  },
  {
   "cell_type": "code",
   "execution_count": 4,
   "metadata": {
    "tags": []
   },
   "outputs": [
    {
     "name": "stdout",
     "output_type": "stream",
     "text": [
      "{'Sprout': 'Herbology', 'Flitwick': 'Charms', 'Snape': 'Potions', 'Quirrell': 'DADA', 'McGonagall': 'Transfiguration'}\n"
     ]
    }
   ],
   "source": [
    "D = SortedDict(D)\n",
    "print(D)"
   ]
  },
  {
   "cell_type": "code",
   "execution_count": 13,
   "metadata": {
    "tags": []
   },
   "outputs": [
    {
     "name": "stdout",
     "output_type": "stream",
     "text": [
      "Flitwick teaches Charms\n",
      "McGonagall teaches Transfiguration\n",
      "Quirrell teaches DADA\n",
      "Snape teaches Potions\n",
      "Sprout teaches Herbology\n"
     ]
    }
   ],
   "source": [
    "for (key, val) in D:\n",
    "    print(key, \"teaches\", val)"
   ]
  },
  {
   "cell_type": "markdown",
   "metadata": {},
   "source": [
    "# Generators\n",
    "https://docs.python.org/3/tutorial/classes.html#generators"
   ]
  },
  {
   "cell_type": "markdown",
   "metadata": {},
   "source": [
    "generators are just syntactic shortcut for writing iterators. \n",
    "\n",
    "the main differences are: syntax looks like a function and not a class, and uses the keyword `yield` where you would normally use `return`"
   ]
  },
  {
   "cell_type": "code",
   "execution_count": 5,
   "metadata": {},
   "outputs": [],
   "source": [
    "class EveryOtherIterator:\n",
    "    def __init__(self, data):\n",
    "        self.data = data\n",
    "        self.i = 0\n",
    "    \n",
    "    def __iter__(self): # so that iter(obj) should return an iterator\n",
    "        self.i = 0 # every time I call a for loop, I want to start from the first index\n",
    "        return self # instance of class every_other_iterator is an iterable (\"for-loop-able\") but also an iterator\n",
    "    \n",
    "    def __next__(self):\n",
    "        if self.i < len(self.data):\n",
    "            element = self.data[self.i] # get the i-th element of data\n",
    "            self.i += 2 # this makes it \"every other\" rather than \"every\"\n",
    "            return element\n",
    "        else:\n",
    "            raise StopIteration"
   ]
  },
  {
   "cell_type": "code",
   "execution_count": 6,
   "metadata": {},
   "outputs": [],
   "source": [
    "data = \"Hello my name is Seyoon\"\n",
    "\n",
    "eOI = EveryOtherIterator(data)"
   ]
  },
  {
   "cell_type": "code",
   "execution_count": 7,
   "metadata": {},
   "outputs": [
    {
     "name": "stdout",
     "output_type": "stream",
     "text": [
      "H\n",
      "l\n",
      "o\n",
      "m\n",
      " \n",
      "a\n",
      "e\n",
      "i\n",
      " \n",
      "e\n",
      "o\n",
      "n\n"
     ]
    }
   ],
   "source": [
    "for ch in eOI:\n",
    "    print(ch)"
   ]
  },
  {
   "cell_type": "code",
   "execution_count": 17,
   "metadata": {},
   "outputs": [],
   "source": [
    "def every_other_generator(data):\n",
    "    for i in range(0, len(data), 2): # from 0 (inclusive) to len(data) (exclusive), every 2 elements\n",
    "        yield data[i]\n",
    "\n",
    "# for j in range(0, len(data)//2):\n",
    "#     yield data[2*j]"
   ]
  },
  {
   "cell_type": "markdown",
   "metadata": {},
   "source": [
    "Although `every_other` is written like a function, there is an important difference: `every_other` __remembers the value of `i`__ between calls of `next()`. This is an example of a __stateful__ operation -- the result of the call `next(it)` depends on the __state__ of it.\n",
    "\n",
    "Remember when we were emphasizing __not__ to use functions that modify global variables? Iterators and generators provide an easy way to define operations that remember their state, while custom classes are a more general, but often more labor-intensive, solution."
   ]
  },
  {
   "cell_type": "code",
   "execution_count": 18,
   "metadata": {},
   "outputs": [],
   "source": [
    "data = \"Hello my name is Seyoon\"\n",
    "\n",
    "Gen = every_other_generator(data)\n"
   ]
  },
  {
   "cell_type": "code",
   "execution_count": 19,
   "metadata": {},
   "outputs": [
    {
     "name": "stdout",
     "output_type": "stream",
     "text": [
      "H\n",
      "l\n",
      "o\n",
      "m\n",
      " \n",
      "a\n",
      "e\n",
      "i\n",
      " \n",
      "e\n",
      "o\n",
      "n\n"
     ]
    }
   ],
   "source": [
    "for letter in Gen:\n",
    "    print(letter)"
   ]
  },
  {
   "cell_type": "code",
   "execution_count": 20,
   "metadata": {
    "tags": []
   },
   "outputs": [],
   "source": [
    "def sort_gen(D):\n",
    "    L = sorted(list(D.keys()))\n",
    "    for i in range(len(L)):\n",
    "        yield L[i], D[L[i]]"
   ]
  },
  {
   "cell_type": "code",
   "execution_count": 21,
   "metadata": {
    "tags": []
   },
   "outputs": [],
   "source": [
    "G = sort_gen(D)"
   ]
  },
  {
   "cell_type": "code",
   "execution_count": 22,
   "metadata": {
    "tags": []
   },
   "outputs": [
    {
     "name": "stdout",
     "output_type": "stream",
     "text": [
      "Flitwick teaches Charms\n",
      "McGonagall teaches Transfiguration\n",
      "Quirrell teaches DADA\n",
      "Snape teaches Potions\n",
      "Sprout teaches Herbology\n"
     ]
    }
   ],
   "source": [
    "for (key, val) in sort_gen(D):\n",
    "    print(key, \"teaches\", val)"
   ]
  },
  {
   "cell_type": "code",
   "execution_count": 23,
   "metadata": {},
   "outputs": [
    {
     "name": "stdout",
     "output_type": "stream",
     "text": [
      "<generator object while_loop_generator at 0x102df35f0> <class 'generator'>\n",
      "l\n",
      "y\n",
      "m\n",
      "y\n",
      "a\n",
      "a\n",
      "y\n",
      "s\n",
      " \n",
      "y\n",
      "i\n",
      "l\n",
      "e\n",
      " \n",
      "a\n",
      "n\n",
      "y\n",
      "s\n",
      "e\n",
      " \n"
     ]
    }
   ],
   "source": [
    "import random\n",
    "\n",
    "def while_loop_generator(data):\n",
    "    iter_num = 0\n",
    "    while iter_num < 20:\n",
    "        i = random.choices(range(len(data)))\n",
    "        i = i[0]\n",
    "        iter_num += 1\n",
    "        yield data[i]\n",
    "\n",
    "data = \"hello my name is Seyoon\"\n",
    "\n",
    "Gen2 = while_loop_generator(data)\n",
    "print(Gen2, type(Gen2))\n",
    "\n",
    "for letter in Gen2:\n",
    "    print(letter)"
   ]
  }
 ],
 "metadata": {
  "kernelspec": {
   "display_name": "Python 3",
   "language": "python",
   "name": "python3"
  },
  "language_info": {
   "codemirror_mode": {
    "name": "ipython",
    "version": 3
   },
   "file_extension": ".py",
   "mimetype": "text/x-python",
   "name": "python",
   "nbconvert_exporter": "python",
   "pygments_lexer": "ipython3",
   "version": "3.12.2"
  }
 },
 "nbformat": 4,
 "nbformat_minor": 4
}
