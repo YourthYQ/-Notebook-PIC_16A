{
 "cells": [
  {
   "cell_type": "markdown",
   "metadata": {},
   "source": [
    "Announcements:\n",
    "- Midterm survey begins today, closes Friday night. \n",
    "- HW4 due Thursday. \n",
    "- No HW due next week.\n",
    "\n",
    "\n",
    "Monday: numpy broadcasting, unittest\n",
    "\n",
    "Today: I/O\n",
    "\n",
    "https://docs.python.org/3/tutorial/inputoutput.html#reading-and-writing-files\n",
    "\n",
    "\n",
    "\n",
    "### `open()`\n",
    "https://docs.python.org/3/library/functions.html#open"
   ]
  },
  {
   "cell_type": "markdown",
   "metadata": {},
   "source": [
    "`open(\"file_name\", \"mode_name\")`\n",
    "\n",
    "`r` - Read mode (default mode) (if the file does not exist, an error will be raised)\n",
    "\n",
    "`w` - Write mode (creating the file if it doesn't exist or truncating it (deleting all its content) if it does)\n",
    "\n",
    "`a` - Append mode (open the file for writing, appending new data at the end of the file without truncating it) (creates the file if it doesn't exist)"
   ]
  },
  {
   "cell_type": "code",
   "execution_count": 1,
   "metadata": {},
   "outputs": [],
   "source": [
    "f = open(\"my_file.txt\", \"w\") # i want to write a file called \"my_file.txt\"\n",
    "# if this file does not exist, then create a new one"
   ]
  },
  {
   "cell_type": "code",
   "execution_count": 2,
   "metadata": {},
   "outputs": [
    {
     "data": {
      "text/plain": [
       "<_io.TextIOWrapper name='my_file.txt' mode='w' encoding='utf-8'>"
      ]
     },
     "execution_count": 2,
     "metadata": {},
     "output_type": "execute_result"
    }
   ],
   "source": [
    "f # think of it as connection to the file"
   ]
  },
  {
   "cell_type": "code",
   "execution_count": 3,
   "metadata": {},
   "outputs": [
    {
     "data": {
      "text/plain": [
       "10"
      ]
     },
     "execution_count": 3,
     "metadata": {},
     "output_type": "execute_result"
    }
   ],
   "source": [
    "f.write(\"Alohomora\\n\")"
   ]
  },
  {
   "cell_type": "code",
   "execution_count": 4,
   "metadata": {
    "tags": []
   },
   "outputs": [],
   "source": [
    "f.close()"
   ]
  },
  {
   "cell_type": "code",
   "execution_count": 5,
   "metadata": {},
   "outputs": [
    {
     "ename": "ValueError",
     "evalue": "I/O operation on closed file.",
     "output_type": "error",
     "traceback": [
      "\u001b[0;31m---------------------------------------------------------------------------\u001b[0m",
      "\u001b[0;31mValueError\u001b[0m                                Traceback (most recent call last)",
      "Cell \u001b[0;32mIn[5], line 1\u001b[0m\n\u001b[0;32m----> 1\u001b[0m \u001b[43mf\u001b[49m\u001b[38;5;241;43m.\u001b[39;49m\u001b[43mwrite\u001b[49m\u001b[43m(\u001b[49m\u001b[38;5;124;43m\"\u001b[39;49m\u001b[38;5;124;43munlocks doors\u001b[39;49m\u001b[38;5;124;43m\"\u001b[39;49m\u001b[43m)\u001b[49m \u001b[38;5;66;03m# can't write after connection is closed\u001b[39;00m\n",
      "\u001b[0;31mValueError\u001b[0m: I/O operation on closed file."
     ]
    }
   ],
   "source": [
    "f.write(\"unlocks doors\") # can't write after connection is closed"
   ]
  },
  {
   "cell_type": "markdown",
   "metadata": {},
   "source": [
    "always close files after you've opened  them!!!"
   ]
  },
  {
   "cell_type": "markdown",
   "metadata": {},
   "source": [
    "### `with`"
   ]
  },
  {
   "cell_type": "code",
   "execution_count": 6,
   "metadata": {},
   "outputs": [],
   "source": [
    "with open(\"my_file2.txt\", \"w\") as f:\n",
    "    f.write(\"Alohomora unlocks doors\\n\")\n",
    "\n",
    "# same as -- \n",
    "# try:\n",
    "#     f = open(\"my_file2.txt\", \"w\")\n",
    "#     f.write(\"Alohomora unlocks doors\\n\") \n",
    "# finally:\n",
    "#     f.close()\n",
    "\n",
    "# even if an error happens with I/O in try block, the finally block makes sure that f if closed,.\n",
    "\n",
    "# try except finally\n",
    "\n",
    "# with self.assertRaises(..):\n",
    "#      ...."
   ]
  },
  {
   "cell_type": "code",
   "execution_count": 7,
   "metadata": {},
   "outputs": [],
   "source": [
    "with open(\"my_file2.txt\", \"w\") as f:\n",
    "    f.write(\"Alohomora unlocks doors\\n\")\n",
    "# you can open and close files multiple times"
   ]
  },
  {
   "cell_type": "code",
   "execution_count": 8,
   "metadata": {},
   "outputs": [],
   "source": [
    "D = {\"Potter\": \"student\", \"Dumbledore\" : \"professor\", \"Malfoy\" : \"student\"}"
   ]
  },
  {
   "cell_type": "code",
   "execution_count": 9,
   "metadata": {},
   "outputs": [],
   "source": [
    "with open(\"hpcharacters.txt\", \"w\") as f:\n",
    "    for key, val in D.items():\n",
    "        f.write(key.capitalize() + \" is a \" + val + \".\\n\")\n",
    "\n",
    "# loop over data and write line by line to a file"
   ]
  },
  {
   "cell_type": "code",
   "execution_count": 10,
   "metadata": {},
   "outputs": [],
   "source": [
    "with open(\"hpcharacters.txt\", \"a\") as f: # \"a\" stands for append\n",
    "    f.write(\"Amazing wizarding world.\")\n"
   ]
  },
  {
   "cell_type": "markdown",
   "metadata": {},
   "source": [
    "### Reading Data\n",
    "\n",
    "`f.readline()` behaves very similarly to `__next__()` of iterators."
   ]
  },
  {
   "cell_type": "code",
   "execution_count": 11,
   "metadata": {},
   "outputs": [
    {
     "name": "stdout",
     "output_type": "stream",
     "text": [
      "Potter is a student.\n",
      "\n",
      "Dumbledore is a professor.\n",
      "\n",
      "Malfoy is a student.\n",
      "\n",
      "Amazing wizarding world.\n"
     ]
    }
   ],
   "source": [
    "with open(\"hpcharacters.txt\", \"r\") as f: # \"r\" stands for read\n",
    "    print(f.readline()) # readline literally reads one line\n",
    "    print(f.readline())\n",
    "    print(f.readline())\n",
    "    print(f.readline())"
   ]
  },
  {
   "cell_type": "code",
   "execution_count": 12,
   "metadata": {},
   "outputs": [
    {
     "name": "stdout",
     "output_type": "stream",
     "text": [
      "0 Potter is a student.\n",
      "\n",
      "1 Dumbledore is a professor.\n",
      "\n",
      "2 Malfoy is a student.\n",
      "\n",
      "3 Amazing wizarding world.\n"
     ]
    }
   ],
   "source": [
    "with open(\"hpcharacters.txt\", \"r\") as f:\n",
    "    for i, line in enumerate(f): # behind the scenes calls f.readline()\n",
    "        print(i, line)"
   ]
  },
  {
   "cell_type": "markdown",
   "metadata": {},
   "source": [
    "### CSV Files\n",
    "\n",
    "The [Palmer penguins] data set, which were collected by [Dr. Kristen Gorman](https://www.uaf.edu/cfos/people/faculty/detail/kristen-gorman.php) and the [Palmer Station, Antarctica LTER](https://pal.lternet.edu/), a member of the [Long Term Ecological Research Network](https://lternet.edu/). \n",
    "\n",
    "<figure class=\"image\" style=\"width:50%\">\n",
    "  <img src=\"https://raw.githubusercontent.com/allisonhorst/palmerpenguins/main/man/figures/lter_penguins.png\" alt=\"Three stylized penguins, one each of the species Adelie, Gentoo, and Chinstrap, with labels above their heads and patches of color behind them.\">\n",
    "  <figcaption><i>Illustrations of the penguins in the Palmer Penguins data set, by Allison Horst.</i></figcaption>\n",
    "</figure>"
   ]
  },
  {
   "cell_type": "code",
   "execution_count": 13,
   "metadata": {},
   "outputs": [],
   "source": [
    "import csv"
   ]
  },
  {
   "cell_type": "code",
   "execution_count": 14,
   "metadata": {},
   "outputs": [
    {
     "name": "stdout",
     "output_type": "stream",
     "text": [
      "['studyName', 'Sample Number', 'Species', 'Region']\n",
      "['PAL0708', '1', 'Adelie Penguin (Pygoscelis adeliae)', 'Anvers']\n",
      "['PAL0708', '2', 'Adelie Penguin (Pygoscelis adeliae)', 'Anvers']\n",
      "['PAL0708', '3', 'Adelie Penguin (Pygoscelis adeliae)', 'Anvers']\n",
      "['PAL0708', '4', 'Adelie Penguin (Pygoscelis adeliae)', 'Anvers']\n",
      "['PAL0708', '5', 'Adelie Penguin (Pygoscelis adeliae)', 'Anvers']\n",
      "['PAL0708', '6', 'Adelie Penguin (Pygoscelis adeliae)', 'Anvers']\n",
      "['PAL0708', '7', 'Adelie Penguin (Pygoscelis adeliae)', 'Anvers']\n",
      "['PAL0708', '8', 'Adelie Penguin (Pygoscelis adeliae)', 'Anvers']\n",
      "['PAL0708', '9', 'Adelie Penguin (Pygoscelis adeliae)', 'Anvers']\n"
     ]
    }
   ],
   "source": [
    "with open(\"palmer_penguins.csv\", \"r\") as f:\n",
    "    reader = csv.reader(f)\n",
    "    for row in list(reader)[:10]:\n",
    "        print(row[:4])"
   ]
  },
  {
   "cell_type": "code",
   "execution_count": 15,
   "metadata": {},
   "outputs": [],
   "source": [
    "with open(\"palmer_penguins.csv\", \"r\") as f_original:\n",
    "    with open(\"palmer_penguins_subset.csv\", \"w\") as f_subset:\n",
    "        reader = csv.reader(f_original) # reads f_original\n",
    "        writer = csv.writer(f_subset) # writes to f_subset\n",
    "        \n",
    "        for row in reader: # go through each line in \"palmer_penguins.csv\"\n",
    "            if row[2] == 'Adelie Penguin (Pygoscelis adeliae)': \n",
    "                writer.writerow(row)\n"
   ]
  },
  {
   "cell_type": "markdown",
   "metadata": {},
   "source": [
    "While it is possible to use the `csv` module for reading and manipulating tabular data, we will see much more flexible and powerful methods when we introduce the *data frames* paradigm via the `pandas` module. "
   ]
  },
  {
   "cell_type": "markdown",
   "metadata": {},
   "source": [
    "### Downloading online data"
   ]
  },
  {
   "cell_type": "code",
   "execution_count": 16,
   "metadata": {},
   "outputs": [],
   "source": [
    "import urllib"
   ]
  },
  {
   "cell_type": "code",
   "execution_count": 17,
   "metadata": {},
   "outputs": [],
   "source": [
    "url = \"https://philchodrow.github.io/PIC16A/content/IO_and_modules/IO/palmer_penguins.csv\"\n",
    "\n",
    "filedata = urllib.request.urlopen(url)\n",
    "to_write = filedata.read() # by default binary data\n",
    "\n",
    "with open(\"downloaded_penguins.csv\", \"wb\") as f:\n",
    "    f.write(to_write)\n",
    "\n",
    "# another popular module for downloading files from the internet is wget."
   ]
  },
  {
   "cell_type": "code",
   "execution_count": 18,
   "metadata": {},
   "outputs": [
    {
     "data": {
      "text/plain": [
       "<http.client.HTTPResponse at 0x107392140>"
      ]
     },
     "execution_count": 18,
     "metadata": {},
     "output_type": "execute_result"
    }
   ],
   "source": [
    "filedata"
   ]
  },
  {
   "cell_type": "code",
   "execution_count": 19,
   "metadata": {},
   "outputs": [
    {
     "data": {
      "text/plain": [
       "b'studyName,Sample Number,Species,Region,Island,Stage,Individual ID,Clutch Completion,Date Egg,Culmen Length (mm),Culmen Depth (mm),Flipper Length (mm),Body Mass (g),Sex,Delta 15 N (o/oo),Delta 13 C (o/oo),Comments\\r\\nPAL0708,1,Adelie Penguin (Pygoscelis adeliae),Anvers,Torgersen,\"Adult, 1 Egg Stage\",N1A1,Yes,11/11/07,39.1,18.7,181,3750,MALE,,,Not enough blood for isotopes.\\r\\nPAL0708,2,Adelie Penguin (Pygoscelis adeliae),Anvers,Torgersen,\"Adult, 1 Egg Stage\",N1A2,Yes,11/11/07,39.5,17.4,186,3800,FEMALE,8.94956,-24.69454,\\r\\nPAL0708,3,Adelie Penguin (Pygoscelis adeliae),Anvers,Torgersen,\"Adult, 1 Egg Stage\",N2A1,Yes,11/16/07,40.3,18,195,3250,FEMALE,8.36821,-25.33302,\\r\\nPAL0708,4,Adelie Penguin (Pygoscelis adeliae),Anvers,Torgersen,\"Adult, 1 Egg Stage\",N2A2,Yes,11/16/07,,,,,,,,Adult not sampled.\\r\\nPAL0708,5,Adelie Penguin (Pygoscelis adeliae),Anvers,Torgersen,\"Adult, 1 Egg Stage\",N3A1,Yes,11/16/07,36.7,19.3,193,3450,FEMALE,8.76651,-25.32426,\\r\\nPAL0708,6,Adelie Penguin (Pygoscelis adeliae),Anvers,Torgersen,\"Adult, 1 Egg Stage\",N3A2,Yes,11/16/07,39.3,20.6,190,3650,MALE,8.66496,-25.29805,\\r\\nPAL0708,7,Adelie Penguin (Pygoscelis adeliae),Anvers,Torgersen,\"Adult, 1 Egg Stage\",N4A1,No,11/15/07,38.9,17.8,181,3625,FEMALE,9.18718,-25.21799,Nest never observed with full clutch.\\r\\nPAL0708,8,Adelie Penguin (Pygoscelis adeliae),Anvers,Torgersen,\"Adult, 1 Egg Stage\",N4A2,No,11/15/07,39.2,19.6,195,4675,MALE,9.4606,-24.89958,Nest never observed with full clutch.\\r\\nPAL0708,9,Adelie Penguin (Pygoscelis adeliae),Anvers,Torgersen,\"Adult, 1 Egg Stage\",N5A1,Yes,11/9/07,34.1,18.1,193,3475,,,,No blood sample obtained.\\r\\nPAL0708,10,Adelie Penguin (Pygoscelis adeliae),Anvers,Torgersen,\"Adult, 1 Egg Stage\",N5A2,Yes,11/9/07,42,20.2,190,4250,,9.13362,-25.09368,No blood sample obtained for sexing.\\r\\nPAL0708,11,Adelie Penguin (Pygoscelis adeliae),Anvers,Torgersen,\"Adult, 1 Egg Stage\",N6A1,Yes,11/9/07,37.8,17.1,186,3300,,8.63243,-25.21315,No blood sample obtained for sexing.\\r\\nPAL0708,12,Adelie Penguin (Pygoscelis adeliae),Anvers,Torgersen,\"Adult, 1 Egg Stage\",N6A2,Yes,11/9/07,37.8,17.3,180,3700,,,,No blood sample obtained.\\r\\nPAL0708,13,Adelie Penguin (Pygoscelis adeliae),Anvers,Torgersen,\"Adult, 1 Egg Stage\",N7A1,Yes,11/15/07,41.1,17.6,182,3200,FEMALE,,,Not enough blood for isotopes.\\r\\nPAL0708,14,Adelie Penguin (Pygoscelis adeliae),Anvers,Torgersen,\"Adult, 1 Egg Stage\",N7A2,Yes,11/15/07,38.6,21.2,191,3800,MALE,,,Not enough blood for isotopes.\\r\\nPAL0708,15,Adelie Penguin (Pygoscelis adeliae),Anvers,Torgersen,\"Adult, 1 Egg Stage\",N8A1,Yes,11/16/07,34.6,21.1,198,4400,MALE,8.55583,-25.22588,\\r\\nPAL0708,16,Adelie Penguin (Pygoscelis adeliae),Anvers,Torgersen,\"Adult, 1 Egg Stage\",N8A2,Yes,11/16/07,36.6,17.8,185,3700,FEMALE,,,Not enough blood for isotopes.\\r\\nPAL0708,17,Adelie Penguin (Pygoscelis adeliae),Anvers,Torgersen,\"Adult, 1 Egg Stage\",N9A1,Yes,11/12/07,38.7,19,195,3450,FEMALE,9.18528,-25.06691,\\r\\nPAL0708,18,Adelie Penguin (Pygoscelis adeliae),Anvers,Torgersen,\"Adult, 1 Egg Stage\",N9A2,Yes,11/12/07,42.5,20.7,197,4500,MALE,8.67538,-25.13993,\\r\\nPAL0708,19,Adelie Penguin (Pygoscelis adeliae),Anvers,Torgersen,\"Adult, 1 Egg Stage\",N10A1,Yes,11/16/07,34.4,18.4,184,3325,FEMALE,8.47827,-25.23319,\\r\\nPAL0708,20,Adelie Penguin (Pygoscelis adeliae),Anvers,Torgersen,\"Adult, 1 Egg Stage\",N10A2,Yes,11/16/07,46,21.5,194,4200,MALE,9.11616,-24.77227,\\r\\nPAL0708,21,Adelie Penguin (Pygoscelis adeliae),Anvers,Biscoe,\"Adult, 1 Egg Stage\",N11A1,Yes,11/12/07,37.8,18.3,174,3400,FEMALE,8.73762,-25.09383,\\r\\nPAL0708,22,Adelie Penguin (Pygoscelis adeliae),Anvers,Biscoe,\"Adult, 1 Egg Stage\",N11A2,Yes,11/12/07,37.7,18.7,180,3600,MALE,8.66271,-25.0639,\\r\\nPAL0708,23,Adelie Penguin (Pygoscelis adeliae),Anvers,Biscoe,\"Adult, 1 Egg Stage\",N12A1,Yes,11/12/07,35.9,19.2,189,3800,FEMALE,9.22286,-25.03474,\\r\\nPAL0708,24,Adelie Penguin (Pygoscelis adeliae),Anvers,Biscoe,\"Adult, 1 Egg Stage\",N12A2,Yes,11/12/07,38.2,18.1,185,3950,MALE,8.43423,-25.22664,\\r\\nPAL0708,25,Adelie Penguin (Pygoscelis adeliae),Anvers,Biscoe,\"Adult, 1 Egg Stage\",N13A1,Yes,11/10/07,38.8,17.2,180,3800,MALE,9.63954,-25.29856,\\r\\nPAL0708,26,Adelie Penguin (Pygoscelis adeliae),Anvers,Biscoe,\"Adult, 1 Egg Stage\",N13A2,Yes,11/10/07,35.3,18.9,187,3800,FEMALE,9.21292,-24.3613,\\r\\nPAL0708,27,Adelie Penguin (Pygoscelis adeliae),Anvers,Biscoe,\"Adult, 1 Egg Stage\",N17A1,Yes,11/12/07,40.6,18.6,183,3550,MALE,8.93997,-25.36288,\\r\\nPAL0708,28,Adelie Penguin (Pygoscelis adeliae),Anvers,Biscoe,\"Adult, 1 Egg Stage\",N17A2,Yes,11/12/07,40.5,17.9,187,3200,FEMALE,8.08138,-25.49448,\\r\\nPAL0708,29,Adelie Penguin (Pygoscelis adeliae),Anvers,Biscoe,\"Adult, 1 Egg Stage\",N18A1,No,11/10/07,37.9,18.6,172,3150,FEMALE,8.38404,-25.19837,Nest never observed with full clutch.\\r\\nPAL0708,30,Adelie Penguin (Pygoscelis adeliae),Anvers,Biscoe,\"Adult, 1 Egg Stage\",N18A2,No,11/10/07,40.5,18.9,180,3950,MALE,8.90027,-25.11609,Nest never observed with full clutch.\\r\\nPAL0708,31,Adelie Penguin (Pygoscelis adeliae),Anvers,Dream,\"Adult, 1 Egg Stage\",N21A1,Yes,11/9/07,39.5,16.7,178,3250,FEMALE,9.69756,-25.11223,\\r\\nPAL0708,32,Adelie Penguin (Pygoscelis adeliae),Anvers,Dream,\"Adult, 1 Egg Stage\",N21A2,Yes,11/9/07,37.2,18.1,178,3900,MALE,9.72764,-25.0102,\\r\\nPAL0708,33,Adelie Penguin (Pygoscelis adeliae),Anvers,Dream,\"Adult, 1 Egg Stage\",N22A1,Yes,11/9/07,39.5,17.8,188,3300,FEMALE,9.66523,-25.0602,\\r\\nPAL0708,34,Adelie Penguin (Pygoscelis adeliae),Anvers,Dream,\"Adult, 1 Egg Stage\",N22A2,Yes,11/9/07,40.9,18.9,184,3900,MALE,8.79665,-25.14591,\\r\\nPAL0708,35,Adelie Penguin (Pygoscelis adeliae),Anvers,Dream,\"Adult, 1 Egg Stage\",N23A1,Yes,11/16/07,36.4,17,195,3325,FEMALE,9.17847,-25.23061,\\r\\nPAL0708,36,Adelie Penguin (Pygoscelis adeliae),Anvers,Dream,\"Adult, 1 Egg Stage\",N23A2,Yes,11/16/07,39.2,21.1,196,4150,MALE,9.15308,-25.03469,\\r\\nPAL0708,37,Adelie Penguin (Pygoscelis adeliae),Anvers,Dream,\"Adult, 1 Egg Stage\",N24A1,Yes,11/16/07,38.8,20,190,3950,MALE,9.18985,-25.12255,\\r\\nPAL0708,38,Adelie Penguin (Pygoscelis adeliae),Anvers,Dream,\"Adult, 1 Egg Stage\",N24A2,Yes,11/16/07,42.2,18.5,180,3550,FEMALE,8.04787,-25.49523,\\r\\nPAL0708,39,Adelie Penguin (Pygoscelis adeliae),Anvers,Dream,\"Adult, 1 Egg Stage\",N25A1,No,11/13/07,37.6,19.3,181,3300,FEMALE,9.41131,-25.04169,Nest never observed with full clutch.\\r\\nPAL0708,40,Adelie Penguin (Pygoscelis adeliae),Anvers,Dream,\"Adult, 1 Egg Stage\",N25A2,No,11/13/07,39.8,19.1,184,4650,MALE,,,Nest never observed with full clutch. Not enough blood for isotopes.\\r\\nPAL0708,41,Adelie Penguin (Pygoscelis adeliae),Anvers,Dream,\"Adult, 1 Egg Stage\",N26A1,Yes,11/16/07,36.5,18,182,3150,FEMALE,9.68933,-24.4228,\\r\\nPAL0708,42,Adelie Penguin (Pygoscelis adeliae),Anvers,Dream,\"Adult, 1 Egg Stage\",N26A2,Yes,11/16/07,40.8,18.4,195,3900,MALE,,,Not enough blood for isotopes.\\r\\nPAL0708,43,Adelie Penguin (Pygoscelis adeliae),Anvers,Dream,\"Adult, 1 Egg Stage\",N27A1,Yes,11/19/07,36,18.5,186,3100,FEMALE,9.50772,-25.03492,\\r\\nPAL0708,44,Adelie Penguin (Pygoscelis adeliae),Anvers,Dream,\"Adult, 1 Egg Stage\",N27A2,Yes,11/19/07,44.1,19.7,196,4400,MALE,9.2372,-24.52698,\\r\\nPAL0708,45,Adelie Penguin (Pygoscelis adeliae),Anvers,Dream,\"Adult, 1 Egg Stage\",N28A1,Yes,11/16/07,37,16.9,185,3000,FEMALE,9.36392,-25.01745,\\r\\nPAL0708,46,Adelie Penguin (Pygoscelis adeliae),Anvers,Dream,\"Adult, 1 Egg Stage\",N28A2,Yes,11/16/07,39.6,18.8,190,4600,MALE,9.49106,-24.10255,\\r\\nPAL0708,47,Adelie Penguin (Pygoscelis adeliae),Anvers,Dream,\"Adult, 1 Egg Stage\",N29A1,Yes,11/13/07,41.1,19,182,3425,MALE,,,Not enough blood for isotopes.\\r\\nPAL0708,48,Adelie Penguin (Pygoscelis adeliae),Anvers,Dream,\"Adult, 1 Egg Stage\",N29A2,Yes,11/13/07,37.5,18.9,179,2975,,,,Sexing primers did not amplify. Not enough blood for isotopes.\\r\\nPAL0708,49,Adelie Penguin (Pygoscelis adeliae),Anvers,Dream,\"Adult, 1 Egg Stage\",N30A1,Yes,11/13/07,36,17.9,190,3450,FEMALE,9.51784,-25.07683,\\r\\nPAL0708,50,Adelie Penguin (Pygoscelis adeliae),Anvers,Dream,\"Adult, 1 Egg Stage\",N30A2,Yes,11/13/07,42.3,21.2,191,4150,MALE,8.87988,-25.18543,\\r\\nPAL0809,51,Adelie Penguin (Pygoscelis adeliae),Anvers,Biscoe,\"Adult, 1 Egg Stage\",N21A1,Yes,11/6/08,39.6,17.7,186,3500,FEMALE,8.46616,-26.12989,\\r\\nPAL0809,52,Adelie Penguin (Pygoscelis adeliae),Anvers,Biscoe,\"Adult, 1 Egg Stage\",N21A2,Yes,11/6/08,40.1,18.9,188,4300,MALE,8.51362,-26.55602,\\r\\nPAL0809,53,Adelie Penguin (Pygoscelis adeliae),Anvers,Biscoe,\"Adult, 1 Egg Stage\",N22A1,Yes,11/9/08,35,17.9,190,3450,FEMALE,8.19539,-26.17213,\\r\\nPAL0809,54,Adelie Penguin (Pygoscelis adeliae),Anvers,Biscoe,\"Adult, 1 Egg Stage\",N22A2,Yes,11/9/08,42,19.5,200,4050,MALE,8.48095,-26.3146,\\r\\nPAL0809,55,Adelie Penguin (Pygoscelis adeliae),Anvers,Biscoe,\"Adult, 1 Egg Stage\",N23A1,Yes,11/9/08,34.5,18.1,187,2900,FEMALE,8.41837,-26.54718,\\r\\nPAL0809,56,Adelie Penguin (Pygoscelis adeliae),Anvers,Biscoe,\"Adult, 1 Egg Stage\",N23A2,Yes,11/9/08,41.4,18.6,191,3700,MALE,8.35396,-26.27853,\\r\\nPAL0809,57,Adelie Penguin (Pygoscelis adeliae),Anvers,Biscoe,\"Adult, 1 Egg Stage\",N24A1,Yes,11/15/08,39,17.5,186,3550,FEMALE,8.57199,-26.07188,\\r\\nPAL0809,58,Adelie Penguin (Pygoscelis adeliae),Anvers,Biscoe,\"Adult, 1 Egg Stage\",N24A2,Yes,11/15/08,40.6,18.8,193,3800,MALE,8.56674,-25.98843,\\r\\nPAL0809,59,Adelie Penguin (Pygoscelis adeliae),Anvers,Biscoe,\"Adult, 1 Egg Stage\",N25A1,Yes,11/15/08,36.5,16.6,181,2850,FEMALE,9.07878,-25.88156,\\r\\nPAL0809,60,Adelie Penguin (Pygoscelis adeliae),Anvers,Biscoe,\"Adult, 1 Egg Stage\",N25A2,Yes,11/15/08,37.6,19.1,194,3750,MALE,9.108,-25.89677,\\r\\nPAL0809,61,Adelie Penguin (Pygoscelis adeliae),Anvers,Biscoe,\"Adult, 1 Egg Stage\",N27A1,Yes,11/13/08,35.7,16.9,185,3150,FEMALE,8.96472,-26.40943,\\r\\nPAL0809,62,Adelie Penguin (Pygoscelis adeliae),Anvers,Biscoe,\"Adult, 1 Egg Stage\",N27A2,Yes,11/13/08,41.3,21.1,195,4400,MALE,8.74802,-26.37809,\\r\\nPAL0809,63,Adelie Penguin (Pygoscelis adeliae),Anvers,Biscoe,\"Adult, 1 Egg Stage\",N28A1,Yes,11/13/08,37.6,17,185,3600,FEMALE,8.58063,-26.21569,\\r\\nPAL0809,64,Adelie Penguin (Pygoscelis adeliae),Anvers,Biscoe,\"Adult, 1 Egg Stage\",N28A2,Yes,11/13/08,41.1,18.2,192,4050,MALE,8.62264,-26.60023,\\r\\nPAL0809,65,Adelie Penguin (Pygoscelis adeliae),Anvers,Biscoe,\"Adult, 1 Egg Stage\",N29A1,Yes,11/13/08,36.4,17.1,184,2850,FEMALE,8.62623,-26.1165,\\r\\nPAL0809,66,Adelie Penguin (Pygoscelis adeliae),Anvers,Biscoe,\"Adult, 1 Egg Stage\",N29A2,Yes,11/13/08,41.6,18,192,3950,MALE,8.85562,-26.09294,\\r\\nPAL0809,67,Adelie Penguin (Pygoscelis adeliae),Anvers,Biscoe,\"Adult, 1 Egg Stage\",N30A1,Yes,11/6/08,35.5,16.2,195,3350,FEMALE,8.56192,-25.95541,\\r\\nPAL0809,68,Adelie Penguin (Pygoscelis adeliae),Anvers,Biscoe,\"Adult, 1 Egg Stage\",N30A2,Yes,11/6/08,41.1,19.1,188,4100,MALE,8.71078,-25.81012,\\r\\nPAL0809,69,Adelie Penguin (Pygoscelis adeliae),Anvers,Torgersen,\"Adult, 1 Egg Stage\",N32A1,No,11/11/08,35.9,16.6,190,3050,FEMALE,8.47781,-26.07821,Nest never observed with full clutch.\\r\\nPAL0809,70,Adelie Penguin (Pygoscelis adeliae),Anvers,Torgersen,\"Adult, 1 Egg Stage\",N32A2,No,11/11/08,41.8,19.4,198,4450,MALE,8.86853,-26.06209,Nest never observed with full clutch.\\r\\nPAL0809,71,Adelie Penguin (Pygoscelis adeliae),Anvers,Torgersen,\"Adult, 1 Egg Stage\",N34A1,Yes,11/14/08,33.5,19,190,3600,FEMALE,7.88863,-26.63085,\\r\\nPAL0809,72,Adelie Penguin (Pygoscelis adeliae),Anvers,Torgersen,\"Adult, 1 Egg Stage\",N34A2,Yes,11/14/08,39.7,18.4,190,3900,MALE,9.29808,-25.23453,\\r\\nPAL0809,73,Adelie Penguin (Pygoscelis adeliae),Anvers,Torgersen,\"Adult, 1 Egg Stage\",N35A1,Yes,11/11/08,39.6,17.2,196,3550,FEMALE,8.33524,-26.55351,\\r\\nPAL0809,74,Adelie Penguin (Pygoscelis adeliae),Anvers,Torgersen,\"Adult, 1 Egg Stage\",N35A2,Yes,11/11/08,45.8,18.9,197,4150,MALE,8.18658,-26.45978,\\r\\nPAL0809,75,Adelie Penguin (Pygoscelis adeliae),Anvers,Torgersen,\"Adult, 1 Egg Stage\",N36A1,Yes,11/8/08,35.5,17.5,190,3700,FEMALE,8.70642,-26.15003,\\r\\nPAL0809,76,Adelie Penguin (Pygoscelis adeliae),Anvers,Torgersen,\"Adult, 1 Egg Stage\",N36A2,Yes,11/8/08,42.8,18.5,195,4250,MALE,8.2993,-26.38986,\\r\\nPAL0809,77,Adelie Penguin (Pygoscelis adeliae),Anvers,Torgersen,\"Adult, 1 Egg Stage\",N37A1,Yes,11/6/08,40.9,16.8,191,3700,FEMALE,8.47257,-26.02002,\\r\\nPAL0809,78,Adelie Penguin (Pygoscelis adeliae),Anvers,Torgersen,\"Adult, 1 Egg Stage\",N37A2,Yes,11/6/08,37.2,19.4,184,3900,MALE,8.3554,-26.44787,\\r\\nPAL0809,79,Adelie Penguin (Pygoscelis adeliae),Anvers,Torgersen,\"Adult, 1 Egg Stage\",N38A1,Yes,11/9/08,36.2,16.1,187,3550,FEMALE,7.82381,-26.51382,\\r\\nPAL0809,80,Adelie Penguin (Pygoscelis adeliae),Anvers,Torgersen,\"Adult, 1 Egg Stage\",N38A2,Yes,11/9/08,42.1,19.1,195,4000,MALE,9.05736,-25.81513,\\r\\nPAL0809,81,Adelie Penguin (Pygoscelis adeliae),Anvers,Torgersen,\"Adult, 1 Egg Stage\",N39A1,Yes,11/2/08,34.6,17.2,189,3200,FEMALE,7.69778,-26.5387,\\r\\nPAL0809,82,Adelie Penguin (Pygoscelis adeliae),Anvers,Torgersen,\"Adult, 1 Egg Stage\",N39A2,Yes,11/2/08,42.9,17.6,196,4700,MALE,8.63259,-26.23027,\\r\\nPAL0809,83,Adelie Penguin (Pygoscelis adeliae),Anvers,Torgersen,\"Adult, 1 Egg Stage\",N40A1,Yes,11/7/08,36.7,18.8,187,3800,FEMALE,7.88494,-26.24837,\\r\\nPAL0809,84,Adelie Penguin (Pygoscelis adeliae),Anvers,Torgersen,\"Adult, 1 Egg Stage\",N40A2,Yes,11/7/08,35.1,19.4,193,4200,MALE,8.90002,-26.46254,\\r\\nPAL0809,85,Adelie Penguin (Pygoscelis adeliae),Anvers,Dream,\"Adult, 1 Egg Stage\",N41A1,Yes,11/17/08,37.3,17.8,191,3350,FEMALE,8.32718,-26.38396,\\r\\nPAL0809,86,Adelie Penguin (Pygoscelis adeliae),Anvers,Dream,\"Adult, 1 Egg Stage\",N41A2,Yes,11/17/08,41.3,20.3,194,3550,MALE,9.14863,-26.09635,\\r\\nPAL0809,87,Adelie Penguin (Pygoscelis adeliae),Anvers,Dream,\"Adult, 1 Egg Stage\",N42A1,Yes,11/8/08,36.3,19.5,190,3800,MALE,8.57087,-26.22227,\\r\\nPAL0809,88,Adelie Penguin (Pygoscelis adeliae),Anvers,Dream,\"Adult, 1 Egg Stage\",N42A2,Yes,11/8/08,36.9,18.6,189,3500,FEMALE,8.59147,-26.08165,\\r\\nPAL0809,89,Adelie Penguin (Pygoscelis adeliae),Anvers,Dream,\"Adult, 1 Egg Stage\",N44A1,Yes,11/8/08,38.3,19.2,189,3950,MALE,9.07826,-26.12417,\\r\\nPAL0809,90,Adelie Penguin (Pygoscelis adeliae),Anvers,Dream,\"Adult, 1 Egg Stage\",N44A2,Yes,11/8/08,38.9,18.8,190,3600,FEMALE,8.36936,-26.11199,\\r\\nPAL0809,91,Adelie Penguin (Pygoscelis adeliae),Anvers,Dream,\"Adult, 1 Egg Stage\",N45A1,Yes,11/14/08,35.7,18,202,3550,FEMALE,8.46531,-26.05621,\\r\\nPAL0809,92,Adelie Penguin (Pygoscelis adeliae),Anvers,Dream,\"Adult, 1 Egg Stage\",N45A2,Yes,11/14/08,41.1,18.1,205,4300,MALE,8.77018,-25.83352,\\r\\nPAL0809,93,Adelie Penguin (Pygoscelis adeliae),Anvers,Dream,\"Adult, 1 Egg Stage\",N46A1,Yes,11/5/08,34,17.1,185,3400,FEMALE,8.01485,-26.69543,\\r\\nPAL0809,94,Adelie Penguin (Pygoscelis adeliae),Anvers,Dream,\"Adult, 1 Egg Stage\",N46A2,Yes,11/5/08,39.6,18.1,186,4450,MALE,8.49915,-26.42406,\\r\\nPAL0809,95,Adelie Penguin (Pygoscelis adeliae),Anvers,Dream,\"Adult, 1 Egg Stage\",N48A1,Yes,11/17/08,36.2,17.3,187,3300,FEMALE,8.90723,-26.30037,\\r\\nPAL0809,96,Adelie Penguin (Pygoscelis adeliae),Anvers,Dream,\"Adult, 1 Egg Stage\",N48A2,Yes,11/17/08,40.8,18.9,208,4300,MALE,8.48204,-26.57941,\\r\\nPAL0809,97,Adelie Penguin (Pygoscelis adeliae),Anvers,Dream,\"Adult, 1 Egg Stage\",N49A1,Yes,11/8/08,38.1,18.6,190,3700,FEMALE,8.10277,-26.50086,\\r\\nPAL0809,98,Adelie Penguin (Pygoscelis adeliae),Anvers,Dream,\"Adult, 1 Egg Stage\",N49A2,Yes,11/8/08,40.3,18.5,196,4350,MALE,8.39459,-26.01152,\\r\\nPAL0809,99,Adelie Penguin (Pygoscelis adeliae),Anvers,Dream,\"Adult, 1 Egg Stage\",N50A1,Yes,11/10/08,33.1,16.1,178,2900,FEMALE,9.04218,-26.15775,\\r\\nPAL0809,100,Adelie Penguin (Pygoscelis adeliae),Anvers,Dream,\"Adult, 1 Egg Stage\",N50A2,Yes,11/10/08,43.2,18.5,192,4100,MALE,8.97025,-26.03679,\\r\\nPAL0910,101,Adelie Penguin (Pygoscelis adeliae),Anvers,Biscoe,\"Adult, 1 Egg Stage\",N47A1,Yes,11/9/09,35,17.9,192,3725,FEMALE,8.84451,-26.28055,\\r\\nPAL0910,102,Adelie Penguin (Pygoscelis adeliae),Anvers,Biscoe,\"Adult, 1 Egg Stage\",N47A2,Yes,11/9/09,41,20,203,4725,MALE,9.01079,-26.38085,\\r\\nPAL0910,103,Adelie Penguin (Pygoscelis adeliae),Anvers,Biscoe,\"Adult, 1 Egg Stage\",N49A1,Yes,11/15/09,37.7,16,183,3075,FEMALE,9.2151,-26.2253,\\r\\nPAL0910,104,Adelie Penguin (Pygoscelis adeliae),Anvers,Biscoe,\"Adult, 1 Egg Stage\",N49A2,Yes,11/15/09,37.8,20,190,4250,MALE,9.51929,-25.69199,\\r\\nPAL0910,105,Adelie Penguin (Pygoscelis adeliae),Anvers,Biscoe,\"Adult, 1 Egg Stage\",N51A1,Yes,11/15/09,37.9,18.6,193,2925,FEMALE,9.02642,-25.86482,\\r\\nPAL0910,106,Adelie Penguin (Pygoscelis adeliae),Anvers,Biscoe,\"Adult, 1 Egg Stage\",N51A2,Yes,11/15/09,39.7,18.9,184,3550,MALE,8.85699,-25.80208,\\r\\nPAL0910,107,Adelie Penguin (Pygoscelis adeliae),Anvers,Biscoe,\"Adult, 1 Egg Stage\",N53A1,Yes,11/15/09,38.6,17.2,199,3750,FEMALE,8.77322,-26.48973,\\r\\nPAL0910,108,Adelie Penguin (Pygoscelis adeliae),Anvers,Biscoe,\"Adult, 1 Egg Stage\",N53A2,Yes,11/15/09,38.2,20,190,3900,MALE,9.59245,-25.70711,\\r\\nPAL0910,109,Adelie Penguin (Pygoscelis adeliae),Anvers,Biscoe,\"Adult, 1 Egg Stage\",N55A1,Yes,11/20/09,38.1,17,181,3175,FEMALE,9.79532,-25.27385,\\r\\nPAL0910,110,Adelie Penguin (Pygoscelis adeliae),Anvers,Biscoe,\"Adult, 1 Egg Stage\",N55A2,Yes,11/20/09,43.2,19,197,4775,MALE,9.31735,-25.45171,\\r\\nPAL0910,111,Adelie Penguin (Pygoscelis adeliae),Anvers,Biscoe,\"Adult, 1 Egg Stage\",N58A1,Yes,11/12/09,38.1,16.5,198,3825,FEMALE,8.43951,-26.57563,\\r\\nPAL0910,112,Adelie Penguin (Pygoscelis adeliae),Anvers,Biscoe,\"Adult, 1 Egg Stage\",N58A2,Yes,11/12/09,45.6,20.3,191,4600,MALE,8.65466,-26.32909,\\r\\nPAL0910,113,Adelie Penguin (Pygoscelis adeliae),Anvers,Biscoe,\"Adult, 1 Egg Stage\",N60A1,Yes,11/15/09,39.7,17.7,193,3200,FEMALE,9.02657,-26.06203,\\r\\nPAL0910,114,Adelie Penguin (Pygoscelis adeliae),Anvers,Biscoe,\"Adult, 1 Egg Stage\",N60A2,Yes,11/15/09,42.2,19.5,197,4275,MALE,8.80186,-26.41218,\\r\\nPAL0910,115,Adelie Penguin (Pygoscelis adeliae),Anvers,Biscoe,\"Adult, 1 Egg Stage\",N61A1,Yes,11/17/09,39.6,20.7,191,3900,FEMALE,8.80967,-26.78958,\\r\\nPAL0910,116,Adelie Penguin (Pygoscelis adeliae),Anvers,Biscoe,\"Adult, 1 Egg Stage\",N61A2,Yes,11/17/09,42.7,18.3,196,4075,MALE,8.91434,-26.42018,\\r\\nPAL0910,117,Adelie Penguin (Pygoscelis adeliae),Anvers,Torgersen,\"Adult, 1 Egg Stage\",N63A1,Yes,11/18/09,38.6,17,188,2900,FEMALE,9.18021,-25.77264,\\r\\nPAL0910,118,Adelie Penguin (Pygoscelis adeliae),Anvers,Torgersen,\"Adult, 1 Egg Stage\",N63A2,Yes,11/18/09,37.3,20.5,199,3775,MALE,9.49645,-26.36678,\\r\\nPAL0910,119,Adelie Penguin (Pygoscelis adeliae),Anvers,Torgersen,\"Adult, 1 Egg Stage\",N64A1,Yes,11/22/09,35.7,17,189,3350,FEMALE,8.96436,-23.90309,\\r\\nPAL0910,120,Adelie Penguin (Pygoscelis adeliae),Anvers,Torgersen,\"Adult, 1 Egg Stage\",N64A2,Yes,11/22/09,41.1,18.6,189,3325,MALE,9.32277,-26.09989,\\r\\nPAL0910,121,Adelie Penguin (Pygoscelis adeliae),Anvers,Torgersen,\"Adult, 1 Egg Stage\",N66A1,No,11/17/09,36.2,17.2,187,3150,FEMALE,9.04296,-26.19444,Nest never observed with full clutch.\\r\\nPAL0910,122,Adelie Penguin (Pygoscelis adeliae),Anvers,Torgersen,\"Adult, 1 Egg Stage\",N66A2,No,11/17/09,37.7,19.8,198,3500,MALE,9.11066,-26.42563,Nest never observed with full clutch.\\r\\nPAL0910,123,Adelie Penguin (Pygoscelis adeliae),Anvers,Torgersen,\"Adult, 1 Egg Stage\",N67A1,Yes,11/16/09,40.2,17,176,3450,FEMALE,9.30722,-25.61039,\\r\\nPAL0910,124,Adelie Penguin (Pygoscelis adeliae),Anvers,Torgersen,\"Adult, 1 Egg Stage\",N67A2,Yes,11/16/09,41.4,18.5,202,3875,MALE,9.59462,-25.42621,\\r\\nPAL0910,125,Adelie Penguin (Pygoscelis adeliae),Anvers,Torgersen,\"Adult, 1 Egg Stage\",N69A1,Yes,11/18/09,35.2,15.9,186,3050,FEMALE,8.81668,-25.95399,\\r\\nPAL0910,126,Adelie Penguin (Pygoscelis adeliae),Anvers,Torgersen,\"Adult, 1 Egg Stage\",N69A2,Yes,11/18/09,40.6,19,199,4000,MALE,9.22537,-25.60826,\\r\\nPAL0910,127,Adelie Penguin (Pygoscelis adeliae),Anvers,Torgersen,\"Adult, 1 Egg Stage\",N71A1,Yes,11/21/09,38.8,17.6,191,3275,FEMALE,8.88098,-25.89741,\\r\\nPAL0910,128,Adelie Penguin (Pygoscelis adeliae),Anvers,Torgersen,\"Adult, 1 Egg Stage\",N71A2,Yes,11/21/09,41.5,18.3,195,4300,MALE,8.52566,-26.0245,\\r\\nPAL0910,129,Adelie Penguin (Pygoscelis adeliae),Anvers,Torgersen,\"Adult, 1 Egg Stage\",N72A1,Yes,11/18/09,39,17.1,191,3050,FEMALE,9.19031,-25.73722,\\r\\nPAL0910,130,Adelie Penguin (Pygoscelis adeliae),Anvers,Torgersen,\"Adult, 1 Egg Stage\",N72A2,Yes,11/18/09,44.1,18,210,4000,MALE,9.10702,-26.01363,\\r\\nPAL0910,131,Adelie Penguin (Pygoscelis adeliae),Anvers,Torgersen,\"Adult, 1 Egg Stage\",N73A1,No,11/23/09,38.5,17.9,190,3325,FEMALE,8.9846,-25.57956,Nest never observed with full clutch.\\r\\nPAL0910,132,Adelie Penguin (Pygoscelis adeliae),Anvers,Torgersen,\"Adult, 1 Egg Stage\",N73A2,No,11/23/09,43.1,19.2,197,3500,MALE,8.86495,-26.1396,Nest never observed with full clutch.\\r\\nPAL0910,133,Adelie Penguin (Pygoscelis adeliae),Anvers,Dream,\"Adult, 1 Egg Stage\",N76A1,Yes,11/10/09,36.8,18.5,193,3500,FEMALE,8.98705,-25.57647,\\r\\nPAL0910,134,Adelie Penguin (Pygoscelis adeliae),Anvers,Dream,\"Adult, 1 Egg Stage\",N76A2,Yes,11/10/09,37.5,18.5,199,4475,MALE,8.56708,-26.49288,\\r\\nPAL0910,135,Adelie Penguin (Pygoscelis adeliae),Anvers,Dream,\"Adult, 1 Egg Stage\",N77A1,Yes,11/13/09,38.1,17.6,187,3425,FEMALE,8.717,-25.77951,\\r\\nPAL0910,136,Adelie Penguin (Pygoscelis adeliae),Anvers,Dream,\"Adult, 1 Egg Stage\",N77A2,Yes,11/13/09,41.1,17.5,190,3900,MALE,8.94365,-26.06943,\\r\\nPAL0910,137,Adelie Penguin (Pygoscelis adeliae),Anvers,Dream,\"Adult, 1 Egg Stage\",N78A1,Yes,11/16/09,35.6,17.5,191,3175,FEMALE,8.75984,-25.97696,\\r\\nPAL0910,138,Adelie Penguin (Pygoscelis adeliae),Anvers,Dream,\"Adult, 1 Egg Stage\",N78A2,Yes,11/16/09,40.2,20.1,200,3975,MALE,8.95998,-26.32601,\\r\\nPAL0910,139,Adelie Penguin (Pygoscelis adeliae),Anvers,Dream,\"Adult, 1 Egg Stage\",N79A1,No,11/16/09,37,16.5,185,3400,FEMALE,8.61651,-26.07021,Nest never observed with full clutch.\\r\\nPAL0910,140,Adelie Penguin (Pygoscelis adeliae),Anvers,Dream,\"Adult, 1 Egg Stage\",N79A2,No,11/16/09,39.7,17.9,193,4250,MALE,9.25769,-25.88798,Nest never observed with full clutch.\\r\\nPAL0910,141,Adelie Penguin (Pygoscelis adeliae),Anvers,Dream,\"Adult, 1 Egg Stage\",N80A1,Yes,11/14/09,40.2,17.1,193,3400,FEMALE,9.2881,-25.54976,\\r\\nPAL0910,142,Adelie Penguin (Pygoscelis adeliae),Anvers,Dream,\"Adult, 1 Egg Stage\",N80A2,Yes,11/14/09,40.6,17.2,187,3475,MALE,9.23408,-26.01549,\\r\\nPAL0910,143,Adelie Penguin (Pygoscelis adeliae),Anvers,Dream,\"Adult, 1 Egg Stage\",N81A1,Yes,11/16/09,32.1,15.5,188,3050,FEMALE,8.79787,-26.61075,\\r\\nPAL0910,144,Adelie Penguin (Pygoscelis adeliae),Anvers,Dream,\"Adult, 1 Egg Stage\",N81A2,Yes,11/16/09,40.7,17,190,3725,MALE,9.05674,-25.79529,\\r\\nPAL0910,145,Adelie Penguin (Pygoscelis adeliae),Anvers,Dream,\"Adult, 1 Egg Stage\",N82A1,Yes,11/16/09,37.3,16.8,192,3000,FEMALE,9.06829,-25.85203,\\r\\nPAL0910,146,Adelie Penguin (Pygoscelis adeliae),Anvers,Dream,\"Adult, 1 Egg Stage\",N82A2,Yes,11/16/09,39,18.7,185,3650,MALE,9.22033,-26.03442,\\r\\nPAL0910,147,Adelie Penguin (Pygoscelis adeliae),Anvers,Dream,\"Adult, 1 Egg Stage\",N83A1,Yes,11/13/09,39.2,18.6,190,4250,MALE,9.11006,-25.79549,\\r\\nPAL0910,148,Adelie Penguin (Pygoscelis adeliae),Anvers,Dream,\"Adult, 1 Egg Stage\",N83A2,Yes,11/13/09,36.6,18.4,184,3475,FEMALE,8.68744,-25.8306,\\r\\nPAL0910,149,Adelie Penguin (Pygoscelis adeliae),Anvers,Dream,\"Adult, 1 Egg Stage\",N84A1,Yes,11/17/09,36,17.8,195,3450,FEMALE,8.94332,-25.79189,\\r\\nPAL0910,150,Adelie Penguin (Pygoscelis adeliae),Anvers,Dream,\"Adult, 1 Egg Stage\",N84A2,Yes,11/17/09,37.8,18.1,193,3750,MALE,8.97533,-26.03495,\\r\\nPAL0910,151,Adelie Penguin (Pygoscelis adeliae),Anvers,Dream,\"Adult, 1 Egg Stage\",N85A1,Yes,11/17/09,36,17.1,187,3700,FEMALE,8.93465,-26.07081,\\r\\nPAL0910,152,Adelie Penguin (Pygoscelis adeliae),Anvers,Dream,\"Adult, 1 Egg Stage\",N85A2,Yes,11/17/09,41.5,18.5,201,4000,MALE,8.8964,-26.06967,\\r\\nPAL0708,1,Chinstrap penguin (Pygoscelis antarctica),Anvers,Dream,\"Adult, 1 Egg Stage\",N61A1,No,11/19/07,46.5,17.9,192,3500,FEMALE,9.03935,-24.30229,\\r\\nPAL0708,2,Chinstrap penguin (Pygoscelis antarctica),Anvers,Dream,\"Adult, 1 Egg Stage\",N61A2,No,11/19/07,50,19.5,196,3900,MALE,8.92069,-24.23592,\\r\\nPAL0708,3,Chinstrap penguin (Pygoscelis antarctica),Anvers,Dream,\"Adult, 1 Egg Stage\",N62A1,Yes,11/26/07,51.3,19.2,193,3650,MALE,9.29078,-24.7557,\\r\\nPAL0708,4,Chinstrap penguin (Pygoscelis antarctica),Anvers,Dream,\"Adult, 1 Egg Stage\",N62A2,Yes,11/26/07,45.4,18.7,188,3525,FEMALE,8.64701,-24.62717,\\r\\nPAL0708,5,Chinstrap penguin (Pygoscelis antarctica),Anvers,Dream,\"Adult, 1 Egg Stage\",N64A1,Yes,11/21/07,52.7,19.8,197,3725,MALE,9.00642,-24.61867,\\r\\nPAL0708,6,Chinstrap penguin (Pygoscelis antarctica),Anvers,Dream,\"Adult, 1 Egg Stage\",N64A2,Yes,11/21/07,45.2,17.8,198,3950,FEMALE,8.88942,-24.49433,\\r\\nPAL0708,7,Chinstrap penguin (Pygoscelis antarctica),Anvers,Dream,\"Adult, 1 Egg Stage\",N66A1,Yes,11/28/07,46.1,18.2,178,3250,FEMALE,8.85664,-24.55644,\\r\\nPAL0708,8,Chinstrap penguin (Pygoscelis antarctica),Anvers,Dream,\"Adult, 1 Egg Stage\",N66A2,Yes,11/28/07,51.3,18.2,197,3750,MALE,8.63701,-24.84059,\\r\\nPAL0708,9,Chinstrap penguin (Pygoscelis antarctica),Anvers,Dream,\"Adult, 1 Egg Stage\",N67A1,Yes,11/21/07,46,18.9,195,4150,FEMALE,8.47173,-24.29229,\\r\\nPAL0708,10,Chinstrap penguin (Pygoscelis antarctica),Anvers,Dream,\"Adult, 1 Egg Stage\",N67A2,Yes,11/21/07,51.3,19.9,198,3700,MALE,8.79581,-24.36088,\\r\\nPAL0708,11,Chinstrap penguin (Pygoscelis antarctica),Anvers,Dream,\"Adult, 1 Egg Stage\",N68A1,Yes,11/28/07,46.6,17.8,193,3800,FEMALE,8.95063,-24.59897,\\r\\nPAL0708,12,Chinstrap penguin (Pygoscelis antarctica),Anvers,Dream,\"Adult, 1 Egg Stage\",N68A2,Yes,11/28/07,51.7,20.3,194,3775,MALE,8.68747,-24.38751,\\r\\nPAL0708,13,Chinstrap penguin (Pygoscelis antarctica),Anvers,Dream,\"Adult, 1 Egg Stage\",N69A1,Yes,11/26/07,47,17.3,185,3700,FEMALE,8.72037,-24.80526,\\r\\nPAL0708,14,Chinstrap penguin (Pygoscelis antarctica),Anvers,Dream,\"Adult, 1 Egg Stage\",N69A2,Yes,11/26/07,52,18.1,201,4050,MALE,9.0233,-24.38933,\\r\\nPAL0708,15,Chinstrap penguin (Pygoscelis antarctica),Anvers,Dream,\"Adult, 1 Egg Stage\",N70A1,Yes,11/22/07,45.9,17.1,190,3575,FEMALE,9.12277,-24.90024,\\r\\nPAL0708,16,Chinstrap penguin (Pygoscelis antarctica),Anvers,Dream,\"Adult, 1 Egg Stage\",N70A2,Yes,11/22/07,50.5,19.6,201,4050,MALE,9.8059,-24.7294,\\r\\nPAL0708,17,Chinstrap penguin (Pygoscelis antarctica),Anvers,Dream,\"Adult, 1 Egg Stage\",N71A1,No,11/30/07,50.3,20,197,3300,MALE,10.02019,-24.54704,\\r\\nPAL0708,18,Chinstrap penguin (Pygoscelis antarctica),Anvers,Dream,\"Adult, 1 Egg Stage\",N71A2,No,11/30/07,58,17.8,181,3700,FEMALE,9.14382,-24.57994,\\r\\nPAL0708,19,Chinstrap penguin (Pygoscelis antarctica),Anvers,Dream,\"Adult, 1 Egg Stage\",N72A1,Yes,11/30/07,46.4,18.6,190,3450,FEMALE,9.32105,-24.64162,\\r\\nPAL0708,20,Chinstrap penguin (Pygoscelis antarctica),Anvers,Dream,\"Adult, 1 Egg Stage\",N72A2,Yes,11/30/07,49.2,18.2,195,4400,MALE,9.27158,-24.64335,\\r\\nPAL0708,21,Chinstrap penguin (Pygoscelis antarctica),Anvers,Dream,\"Adult, 1 Egg Stage\",N73A1,Yes,12/3/07,42.4,17.3,181,3600,FEMALE,9.35138,-24.6879,\\r\\nPAL0708,22,Chinstrap penguin (Pygoscelis antarctica),Anvers,Dream,\"Adult, 1 Egg Stage\",N73A2,Yes,12/3/07,48.5,17.5,191,3400,MALE,9.42666,-24.26375,\\r\\nPAL0708,23,Chinstrap penguin (Pygoscelis antarctica),Anvers,Dream,\"Adult, 1 Egg Stage\",N85A1,No,11/28/07,43.2,16.6,187,2900,FEMALE,9.35416,-25.01185,\\r\\nPAL0708,24,Chinstrap penguin (Pygoscelis antarctica),Anvers,Dream,\"Adult, 1 Egg Stage\",N85A2,No,11/28/07,50.6,19.4,193,3800,MALE,9.28153,-24.97134,\\r\\nPAL0708,25,Chinstrap penguin (Pygoscelis antarctica),Anvers,Dream,\"Adult, 1 Egg Stage\",N89A1,No,11/28/07,46.7,17.9,195,3300,FEMALE,9.74144,-24.59467,\\r\\nPAL0708,26,Chinstrap penguin (Pygoscelis antarctica),Anvers,Dream,\"Adult, 1 Egg Stage\",N89A2,No,11/28/07,52,19,197,4150,MALE,9.36799,-24.47142,\\r\\nPAL0809,27,Chinstrap penguin (Pygoscelis antarctica),Anvers,Dream,\"Adult, 1 Egg Stage\",N61A1,No,11/25/08,50.5,18.4,200,3400,FEMALE,8.9399,-23.89017,\\r\\nPAL0809,28,Chinstrap penguin (Pygoscelis antarctica),Anvers,Dream,\"Adult, 1 Egg Stage\",N61A2,No,11/25/08,49.5,19,200,3800,MALE,9.63074,-24.34684,\\r\\nPAL0809,29,Chinstrap penguin (Pygoscelis antarctica),Anvers,Dream,\"Adult, 1 Egg Stage\",N62A1,Yes,11/14/08,46.4,17.8,191,3700,FEMALE,9.37369,-24.52896,\\r\\nPAL0809,30,Chinstrap penguin (Pygoscelis antarctica),Anvers,Dream,\"Adult, 1 Egg Stage\",N62A2,Yes,11/14/08,52.8,20,205,4550,MALE,9.25177,-24.69638,\\r\\nPAL0809,31,Chinstrap penguin (Pygoscelis antarctica),Anvers,Dream,\"Adult, 1 Egg Stage\",N63A1,Yes,11/24/08,40.9,16.6,187,3200,FEMALE,9.08458,-24.54903,\\r\\nPAL0809,32,Chinstrap penguin (Pygoscelis antarctica),Anvers,Dream,\"Adult, 1 Egg Stage\",N63A2,Yes,11/24/08,54.2,20.8,201,4300,MALE,9.49283,-24.59996,\\r\\nPAL0809,33,Chinstrap penguin (Pygoscelis antarctica),Anvers,Dream,\"Adult, 1 Egg Stage\",N65A1,Yes,11/24/08,42.5,16.7,187,3350,FEMALE,9.36668,-24.45195,\\r\\nPAL0809,34,Chinstrap penguin (Pygoscelis antarctica),Anvers,Dream,\"Adult, 1 Egg Stage\",N65A2,Yes,11/24/08,51,18.8,203,4100,MALE,9.23196,-24.17282,\\r\\nPAL0809,35,Chinstrap penguin (Pygoscelis antarctica),Anvers,Dream,\"Adult, 1 Egg Stage\",N67A1,Yes,11/25/08,49.7,18.6,195,3600,MALE,9.75486,-24.31198,\\r\\nPAL0809,36,Chinstrap penguin (Pygoscelis antarctica),Anvers,Dream,\"Adult, 1 Egg Stage\",N67A2,Yes,11/25/08,47.5,16.8,199,3900,FEMALE,9.07825,-25.1455,\\r\\nPAL0809,37,Chinstrap penguin (Pygoscelis antarctica),Anvers,Dream,\"Adult, 1 Egg Stage\",N69A1,Yes,11/14/08,47.6,18.3,195,3850,FEMALE,8.83502,-24.65859,\\r\\nPAL0809,38,Chinstrap penguin (Pygoscelis antarctica),Anvers,Dream,\"Adult, 1 Egg Stage\",N69A2,Yes,11/14/08,52,20.7,210,4800,MALE,9.43146,-24.6844,\\r\\nPAL0809,39,Chinstrap penguin (Pygoscelis antarctica),Anvers,Dream,\"Adult, 1 Egg Stage\",N72A1,No,11/24/08,46.9,16.6,192,2700,FEMALE,9.80589,-24.73735,\\r\\nPAL0809,40,Chinstrap penguin (Pygoscelis antarctica),Anvers,Dream,\"Adult, 1 Egg Stage\",N72A2,No,11/24/08,53.5,19.9,205,4500,MALE,10.02544,-24.90816,\\r\\nPAL0809,41,Chinstrap penguin (Pygoscelis antarctica),Anvers,Dream,\"Adult, 1 Egg Stage\",N74A1,Yes,11/24/08,49,19.5,210,3950,MALE,9.53262,-24.66867,\\r\\nPAL0809,42,Chinstrap penguin (Pygoscelis antarctica),Anvers,Dream,\"Adult, 1 Egg Stage\",N74A2,Yes,11/24/08,46.2,17.5,187,3650,FEMALE,9.61734,-24.66188,\\r\\nPAL0809,43,Chinstrap penguin (Pygoscelis antarctica),Anvers,Dream,\"Adult, 1 Egg Stage\",N75A1,Yes,11/14/08,50.9,19.1,196,3550,MALE,10.02372,-24.86594,\\r\\nPAL0809,44,Chinstrap penguin (Pygoscelis antarctica),Anvers,Dream,\"Adult, 1 Egg Stage\",N75A2,Yes,11/14/08,45.5,17,196,3500,FEMALE,9.36493,-24.66259,\\r\\nPAL0910,45,Chinstrap penguin (Pygoscelis antarctica),Anvers,Dream,\"Adult, 1 Egg Stage\",N86A1,Yes,11/17/09,50.9,17.9,196,3675,FEMALE,9.43684,-24.16566,\\r\\nPAL0910,46,Chinstrap penguin (Pygoscelis antarctica),Anvers,Dream,\"Adult, 1 Egg Stage\",N86A2,Yes,11/17/09,50.8,18.5,201,4450,MALE,9.45827,-24.35575,\\r\\nPAL0910,47,Chinstrap penguin (Pygoscelis antarctica),Anvers,Dream,\"Adult, 1 Egg Stage\",N87A1,Yes,11/27/09,50.1,17.9,190,3400,FEMALE,9.46819,-24.45721,\\r\\nPAL0910,48,Chinstrap penguin (Pygoscelis antarctica),Anvers,Dream,\"Adult, 1 Egg Stage\",N87A2,Yes,11/27/09,49,19.6,212,4300,MALE,9.34089,-24.45189,\\r\\nPAL0910,49,Chinstrap penguin (Pygoscelis antarctica),Anvers,Dream,\"Adult, 1 Egg Stage\",N88A1,Yes,11/23/09,51.5,18.7,187,3250,MALE,9.6895,-24.43062,\\r\\nPAL0910,50,Chinstrap penguin (Pygoscelis antarctica),Anvers,Dream,\"Adult, 1 Egg Stage\",N88A2,Yes,11/23/09,49.8,17.3,198,3675,FEMALE,9.32169,-24.41562,\\r\\nPAL0910,51,Chinstrap penguin (Pygoscelis antarctica),Anvers,Dream,\"Adult, 1 Egg Stage\",N90A1,Yes,11/21/09,48.1,16.4,199,3325,FEMALE,9.46929,-24.48403,\\r\\nPAL0910,52,Chinstrap penguin (Pygoscelis antarctica),Anvers,Dream,\"Adult, 1 Egg Stage\",N90A2,Yes,11/21/09,51.4,19,201,3950,MALE,9.43782,-24.36202,\\r\\nPAL0910,53,Chinstrap penguin (Pygoscelis antarctica),Anvers,Dream,\"Adult, 1 Egg Stage\",N92A1,Yes,11/23/09,45.7,17.3,193,3600,FEMALE,9.415,-24.805,\\r\\nPAL0910,54,Chinstrap penguin (Pygoscelis antarctica),Anvers,Dream,\"Adult, 1 Egg Stage\",N92A2,Yes,11/23/09,50.7,19.7,203,4050,MALE,9.93727,-24.59066,\\r\\nPAL0910,55,Chinstrap penguin (Pygoscelis antarctica),Anvers,Dream,\"Adult, 1 Egg Stage\",N93A1,Yes,11/27/09,42.5,17.3,187,3350,FEMALE,9.56534,-24.60882,\\r\\nPAL0910,56,Chinstrap penguin (Pygoscelis antarctica),Anvers,Dream,\"Adult, 1 Egg Stage\",N93A2,Yes,11/27/09,52.2,18.8,197,3450,MALE,9.77528,-24.56481,\\r\\nPAL0910,57,Chinstrap penguin (Pygoscelis antarctica),Anvers,Dream,\"Adult, 1 Egg Stage\",N94A1,Yes,11/21/09,45.2,16.6,191,3250,FEMALE,9.62357,-24.78984,\\r\\nPAL0910,58,Chinstrap penguin (Pygoscelis antarctica),Anvers,Dream,\"Adult, 1 Egg Stage\",N94A2,Yes,11/21/09,49.3,19.9,203,4050,MALE,9.88809,-24.59513,\\r\\nPAL0910,59,Chinstrap penguin (Pygoscelis antarctica),Anvers,Dream,\"Adult, 1 Egg Stage\",N95A1,Yes,11/21/09,50.2,18.8,202,3800,MALE,9.74492,-24.404,\\r\\nPAL0910,60,Chinstrap penguin (Pygoscelis antarctica),Anvers,Dream,\"Adult, 1 Egg Stage\",N95A2,Yes,11/21/09,45.6,19.4,194,3525,FEMALE,9.46985,-24.65786,\\r\\nPAL0910,61,Chinstrap penguin (Pygoscelis antarctica),Anvers,Dream,\"Adult, 1 Egg Stage\",N96A1,Yes,11/27/09,51.9,19.5,206,3950,MALE,,-23.78767,\\r\\nPAL0910,62,Chinstrap penguin (Pygoscelis antarctica),Anvers,Dream,\"Adult, 1 Egg Stage\",N96A2,Yes,11/27/09,46.8,16.5,189,3650,FEMALE,9.65061,-24.48153,\\r\\nPAL0910,63,Chinstrap penguin (Pygoscelis antarctica),Anvers,Dream,\"Adult, 1 Egg Stage\",N98A1,Yes,11/19/09,45.7,17,195,3650,FEMALE,9.26715,-24.31912,\\r\\nPAL0910,64,Chinstrap penguin (Pygoscelis antarctica),Anvers,Dream,\"Adult, 1 Egg Stage\",N98A2,Yes,11/19/09,55.8,19.8,207,4000,MALE,9.70465,-24.53494,\\r\\nPAL0910,65,Chinstrap penguin (Pygoscelis antarctica),Anvers,Dream,\"Adult, 1 Egg Stage\",N99A1,No,11/21/09,43.5,18.1,202,3400,FEMALE,9.37608,-24.40753,\\r\\nPAL0910,66,Chinstrap penguin (Pygoscelis antarctica),Anvers,Dream,\"Adult, 1 Egg Stage\",N99A2,No,11/21/09,49.6,18.2,193,3775,MALE,9.4618,-24.70615,\\r\\nPAL0910,67,Chinstrap penguin (Pygoscelis antarctica),Anvers,Dream,\"Adult, 1 Egg Stage\",N100A1,Yes,11/21/09,50.8,19,210,4100,MALE,9.98044,-24.68741,\\r\\nPAL0910,68,Chinstrap penguin (Pygoscelis antarctica),Anvers,Dream,\"Adult, 1 Egg Stage\",N100A2,Yes,11/21/09,50.2,18.7,198,3775,FEMALE,9.39305,-24.25255,\\r\\nPAL0708,1,Gentoo penguin (Pygoscelis papua),Anvers,Biscoe,\"Adult, 1 Egg Stage\",N31A1,Yes,11/27/07,46.1,13.2,211,4500,FEMALE,7.993,-25.5139,\\r\\nPAL0708,2,Gentoo penguin (Pygoscelis papua),Anvers,Biscoe,\"Adult, 1 Egg Stage\",N31A2,Yes,11/27/07,50,16.3,230,5700,MALE,8.14756,-25.39369,\\r\\nPAL0708,3,Gentoo penguin (Pygoscelis papua),Anvers,Biscoe,\"Adult, 1 Egg Stage\",N32A1,Yes,11/27/07,48.7,14.1,210,4450,FEMALE,8.14705,-25.46172,\\r\\nPAL0708,4,Gentoo penguin (Pygoscelis papua),Anvers,Biscoe,\"Adult, 1 Egg Stage\",N32A2,Yes,11/27/07,50,15.2,218,5700,MALE,8.2554,-25.40075,\\r\\nPAL0708,5,Gentoo penguin (Pygoscelis papua),Anvers,Biscoe,\"Adult, 1 Egg Stage\",N33A1,Yes,11/18/07,47.6,14.5,215,5400,MALE,8.2345,-25.54456,\\r\\nPAL0708,6,Gentoo penguin (Pygoscelis papua),Anvers,Biscoe,\"Adult, 1 Egg Stage\",N33A2,Yes,11/18/07,46.5,13.5,210,4550,FEMALE,7.9953,-25.32829,\\r\\nPAL0708,7,Gentoo penguin (Pygoscelis papua),Anvers,Biscoe,\"Adult, 1 Egg Stage\",N34A1,Yes,11/27/07,45.4,14.6,211,4800,FEMALE,8.24515,-25.46782,\\r\\nPAL0708,8,Gentoo penguin (Pygoscelis papua),Anvers,Biscoe,\"Adult, 1 Egg Stage\",N34A2,Yes,11/27/07,46.7,15.3,219,5200,MALE,8.22673,-25.4276,\\r\\nPAL0708,9,Gentoo penguin (Pygoscelis papua),Anvers,Biscoe,\"Adult, 1 Egg Stage\",N35A1,Yes,11/27/07,43.3,13.4,209,4400,FEMALE,8.13643,-25.32176,\\r\\nPAL0708,10,Gentoo penguin (Pygoscelis papua),Anvers,Biscoe,\"Adult, 1 Egg Stage\",N35A2,Yes,11/27/07,46.8,15.4,215,5150,MALE,8.1631,-25.38017,\\r\\nPAL0708,11,Gentoo penguin (Pygoscelis papua),Anvers,Biscoe,\"Adult, 1 Egg Stage\",N36A1,No,11/27/07,40.9,13.7,214,4650,FEMALE,8.19579,-25.3933,\\r\\nPAL0708,12,Gentoo penguin (Pygoscelis papua),Anvers,Biscoe,\"Adult, 1 Egg Stage\",N36A2,No,11/27/07,49,16.1,216,5550,MALE,8.10417,-25.50562,\\r\\nPAL0708,13,Gentoo penguin (Pygoscelis papua),Anvers,Biscoe,\"Adult, 1 Egg Stage\",N37A1,Yes,11/29/07,45.5,13.7,214,4650,FEMALE,7.77672,-25.4168,\\r\\nPAL0708,14,Gentoo penguin (Pygoscelis papua),Anvers,Biscoe,\"Adult, 1 Egg Stage\",N37A2,Yes,11/29/07,48.4,14.6,213,5850,MALE,7.8208,-25.48025,\\r\\nPAL0708,15,Gentoo penguin (Pygoscelis papua),Anvers,Biscoe,\"Adult, 1 Egg Stage\",N38A1,Yes,12/3/07,45.8,14.6,210,4200,FEMALE,7.79958,-25.62618,\\r\\nPAL0708,16,Gentoo penguin (Pygoscelis papua),Anvers,Biscoe,\"Adult, 1 Egg Stage\",N38A2,Yes,12/3/07,49.3,15.7,217,5850,MALE,8.07137,-25.52473,\\r\\nPAL0708,17,Gentoo penguin (Pygoscelis papua),Anvers,Biscoe,\"Adult, 1 Egg Stage\",N39A1,Yes,11/27/07,42,13.5,210,4150,FEMALE,7.63884,-25.52627,\\r\\nPAL0708,18,Gentoo penguin (Pygoscelis papua),Anvers,Biscoe,\"Adult, 1 Egg Stage\",N39A2,Yes,11/27/07,49.2,15.2,221,6300,MALE,8.27376,-25.00169,\\r\\nPAL0708,19,Gentoo penguin (Pygoscelis papua),Anvers,Biscoe,\"Adult, 1 Egg Stage\",N40A1,Yes,11/27/07,46.2,14.5,209,4800,FEMALE,7.84057,-25.37899,\\r\\nPAL0708,20,Gentoo penguin (Pygoscelis papua),Anvers,Biscoe,\"Adult, 1 Egg Stage\",N40A2,Yes,11/27/07,48.7,15.1,222,5350,MALE,7.96491,-25.39587,\\r\\nPAL0708,21,Gentoo penguin (Pygoscelis papua),Anvers,Biscoe,\"Adult, 1 Egg Stage\",N41A1,Yes,11/27/07,50.2,14.3,218,5700,MALE,7.8962,-25.37746,\\r\\nPAL0708,22,Gentoo penguin (Pygoscelis papua),Anvers,Biscoe,\"Adult, 1 Egg Stage\",N41A2,Yes,11/27/07,45.1,14.5,215,5000,FEMALE,7.6322,-25.46569,\\r\\nPAL0708,23,Gentoo penguin (Pygoscelis papua),Anvers,Biscoe,\"Adult, 1 Egg Stage\",N42A1,Yes,11/27/07,46.5,14.5,213,4400,FEMALE,7.90436,-25.3947,\\r\\nPAL0708,24,Gentoo penguin (Pygoscelis papua),Anvers,Biscoe,\"Adult, 1 Egg Stage\",N42A2,Yes,11/27/07,46.3,15.8,215,5050,MALE,7.90971,-25.38157,\\r\\nPAL0708,25,Gentoo penguin (Pygoscelis papua),Anvers,Biscoe,\"Adult, 1 Egg Stage\",N44A1,Yes,11/29/07,42.9,13.1,215,5000,FEMALE,7.68528,-25.39181,\\r\\nPAL0708,26,Gentoo penguin (Pygoscelis papua),Anvers,Biscoe,\"Adult, 1 Egg Stage\",N44A2,Yes,11/29/07,46.1,15.1,215,5100,MALE,7.83733,-25.42826,\\r\\nPAL0708,27,Gentoo penguin (Pygoscelis papua),Anvers,Biscoe,\"Adult, 1 Egg Stage\",N46A1,Yes,11/29/07,44.5,14.3,216,4100,,7.96621,-25.69327,\\r\\nPAL0708,28,Gentoo penguin (Pygoscelis papua),Anvers,Biscoe,\"Adult, 1 Egg Stage\",N46A2,Yes,11/29/07,47.8,15,215,5650,MALE,7.92358,-25.48383,\\r\\nPAL0708,29,Gentoo penguin (Pygoscelis papua),Anvers,Biscoe,\"Adult, 1 Egg Stage\",N47A1,Yes,11/29/07,48.2,14.3,210,4600,FEMALE,7.6887,-25.50811,\\r\\nPAL0708,30,Gentoo penguin (Pygoscelis papua),Anvers,Biscoe,\"Adult, 1 Egg Stage\",N47A2,Yes,11/29/07,50,15.3,220,5550,MALE,8.30515,-25.19017,\\r\\nPAL0708,31,Gentoo penguin (Pygoscelis papua),Anvers,Biscoe,\"Adult, 1 Egg Stage\",N50A1,Yes,11/29/07,47.3,15.3,222,5250,MALE,,,\\r\\nPAL0708,32,Gentoo penguin (Pygoscelis papua),Anvers,Biscoe,\"Adult, 1 Egg Stage\",N50A2,Yes,11/29/07,42.8,14.2,209,4700,FEMALE,7.63452,-25.46327,\\r\\nPAL0708,33,Gentoo penguin (Pygoscelis papua),Anvers,Biscoe,\"Adult, 1 Egg Stage\",N56A1,Yes,12/3/07,45.1,14.5,207,5050,FEMALE,7.97408,-25.53768,\\r\\nPAL0708,34,Gentoo penguin (Pygoscelis papua),Anvers,Biscoe,\"Adult, 1 Egg Stage\",N56A2,Yes,12/3/07,59.6,17,230,6050,MALE,7.76843,-25.6821,\\r\\nPAL0809,35,Gentoo penguin (Pygoscelis papua),Anvers,Biscoe,\"Adult, 1 Egg Stage\",N2A1,Yes,11/13/08,49.1,14.8,220,5150,FEMALE,7.89744,-26.63405,\\r\\nPAL0809,36,Gentoo penguin (Pygoscelis papua),Anvers,Biscoe,\"Adult, 1 Egg Stage\",N2A2,Yes,11/13/08,48.4,16.3,220,5400,MALE,8.03659,-26.86127,\\r\\nPAL0809,37,Gentoo penguin (Pygoscelis papua),Anvers,Biscoe,\"Adult, 1 Egg Stage\",N4A1,Yes,11/2/08,42.6,13.7,213,4950,FEMALE,7.96935,-26.70968,\\r\\nPAL0809,38,Gentoo penguin (Pygoscelis papua),Anvers,Biscoe,\"Adult, 1 Egg Stage\",N4A2,Yes,11/2/08,44.4,17.3,219,5250,MALE,8.13746,-26.79093,\\r\\nPAL0809,39,Gentoo penguin (Pygoscelis papua),Anvers,Biscoe,\"Adult, 1 Egg Stage\",N5A1,Yes,11/9/08,44,13.6,208,4350,FEMALE,8.01979,-26.68311,\\r\\nPAL0809,40,Gentoo penguin (Pygoscelis papua),Anvers,Biscoe,\"Adult, 1 Egg Stage\",N5A2,Yes,11/9/08,48.7,15.7,208,5350,MALE,8.14776,-26.84506,\\r\\nPAL0809,41,Gentoo penguin (Pygoscelis papua),Anvers,Biscoe,\"Adult, 1 Egg Stage\",N6A1,No,11/4/08,42.7,13.7,208,3950,FEMALE,8.14567,-26.59467,\\r\\nPAL0809,42,Gentoo penguin (Pygoscelis papua),Anvers,Biscoe,\"Adult, 1 Egg Stage\",N6A2,No,11/4/08,49.6,16,225,5700,MALE,8.38324,-26.84272,\\r\\nPAL0809,43,Gentoo penguin (Pygoscelis papua),Anvers,Biscoe,\"Adult, 1 Egg Stage\",N7A1,Yes,11/4/08,45.3,13.7,210,4300,FEMALE,8.37615,-26.72791,\\r\\nPAL0809,44,Gentoo penguin (Pygoscelis papua),Anvers,Biscoe,\"Adult, 1 Egg Stage\",N7A2,Yes,11/4/08,49.6,15,216,4750,MALE,8.26548,-26.7699,\\r\\nPAL0809,45,Gentoo penguin (Pygoscelis papua),Anvers,Biscoe,\"Adult, 1 Egg Stage\",N8A1,Yes,11/3/08,50.5,15.9,222,5550,MALE,8.46894,-26.60436,\\r\\nPAL0809,46,Gentoo penguin (Pygoscelis papua),Anvers,Biscoe,\"Adult, 1 Egg Stage\",N8A2,Yes,11/3/08,43.6,13.9,217,4900,FEMALE,8.27141,-26.7765,\\r\\nPAL0809,47,Gentoo penguin (Pygoscelis papua),Anvers,Biscoe,\"Adult, 1 Egg Stage\",N11A1,No,11/9/08,45.5,13.9,210,4200,FEMALE,8.47829,-26.61788,\\r\\nPAL0809,48,Gentoo penguin (Pygoscelis papua),Anvers,Biscoe,\"Adult, 1 Egg Stage\",N11A2,No,11/9/08,50.5,15.9,225,5400,MALE,8.65803,-26.57585,\\r\\nPAL0809,49,Gentoo penguin (Pygoscelis papua),Anvers,Biscoe,\"Adult, 1 Egg Stage\",N12A1,Yes,11/2/08,44.9,13.3,213,5100,FEMALE,8.45167,-26.89644,\\r\\nPAL0809,50,Gentoo penguin (Pygoscelis papua),Anvers,Biscoe,\"Adult, 1 Egg Stage\",N12A2,Yes,11/2/08,45.2,15.8,215,5300,MALE,8.55868,-26.67799,\\r\\nPAL0809,51,Gentoo penguin (Pygoscelis papua),Anvers,Biscoe,\"Adult, 1 Egg Stage\",N13A1,Yes,11/4/08,46.6,14.2,210,4850,FEMALE,8.38289,-26.86352,\\r\\nPAL0809,52,Gentoo penguin (Pygoscelis papua),Anvers,Biscoe,\"Adult, 1 Egg Stage\",N13A2,Yes,11/4/08,48.5,14.1,220,5300,MALE,8.39867,-26.79358,\\r\\nPAL0809,53,Gentoo penguin (Pygoscelis papua),Anvers,Biscoe,\"Adult, 1 Egg Stage\",N14A1,Yes,11/4/08,45.1,14.4,210,4400,FEMALE,8.51951,-27.01854,\\r\\nPAL0809,54,Gentoo penguin (Pygoscelis papua),Anvers,Biscoe,\"Adult, 1 Egg Stage\",N14A2,Yes,11/4/08,50.1,15,225,5000,MALE,8.50153,-26.61414,\\r\\nPAL0809,55,Gentoo penguin (Pygoscelis papua),Anvers,Biscoe,\"Adult, 1 Egg Stage\",N15A1,Yes,11/4/08,46.5,14.4,217,4900,FEMALE,8.48789,-26.83006,\\r\\nPAL0809,56,Gentoo penguin (Pygoscelis papua),Anvers,Biscoe,\"Adult, 1 Egg Stage\",N15A2,Yes,11/4/08,45,15.4,220,5050,MALE,8.63488,-26.75621,\\r\\nPAL0809,57,Gentoo penguin (Pygoscelis papua),Anvers,Biscoe,\"Adult, 1 Egg Stage\",N16A1,Yes,11/3/08,43.8,13.9,208,4300,FEMALE,8.58319,-26.84415,\\r\\nPAL0809,58,Gentoo penguin (Pygoscelis papua),Anvers,Biscoe,\"Adult, 1 Egg Stage\",N16A2,Yes,11/3/08,45.5,15,220,5000,MALE,8.63604,-26.7489,\\r\\nPAL0809,59,Gentoo penguin (Pygoscelis papua),Anvers,Biscoe,\"Adult, 1 Egg Stage\",N17A1,Yes,11/6/08,43.2,14.5,208,4450,FEMALE,8.48367,-26.86485,\\r\\nPAL0809,60,Gentoo penguin (Pygoscelis papua),Anvers,Biscoe,\"Adult, 1 Egg Stage\",N17A2,Yes,11/6/08,50.4,15.3,224,5550,MALE,8.74647,-26.79846,\\r\\nPAL0809,61,Gentoo penguin (Pygoscelis papua),Anvers,Biscoe,\"Adult, 1 Egg Stage\",N18A1,Yes,11/3/08,45.3,13.8,208,4200,FEMALE,8.65015,-26.79053,\\r\\nPAL0809,62,Gentoo penguin (Pygoscelis papua),Anvers,Biscoe,\"Adult, 1 Egg Stage\",N18A2,Yes,11/3/08,46.2,14.9,221,5300,MALE,8.60092,-26.84374,\\r\\nPAL0809,63,Gentoo penguin (Pygoscelis papua),Anvers,Biscoe,\"Adult, 1 Egg Stage\",N19A1,Yes,11/13/08,45.7,13.9,214,4400,FEMALE,8.6287,-26.60484,\\r\\nPAL0809,64,Gentoo penguin (Pygoscelis papua),Anvers,Biscoe,\"Adult, 1 Egg Stage\",N19A2,Yes,11/13/08,54.3,15.7,231,5650,MALE,8.49662,-26.84166,\\r\\nPAL0809,65,Gentoo penguin (Pygoscelis papua),Anvers,Biscoe,\"Adult, 1 Egg Stage\",N20A1,Yes,11/4/08,45.8,14.2,219,4700,FEMALE,8.60447,-26.61601,\\r\\nPAL0809,66,Gentoo penguin (Pygoscelis papua),Anvers,Biscoe,\"Adult, 1 Egg Stage\",N20A2,Yes,11/4/08,49.8,16.8,230,5700,MALE,8.47067,-26.69166,\\r\\nPAL0809,67,Gentoo penguin (Pygoscelis papua),Anvers,Biscoe,\"Adult, 1 Egg Stage\",N51A1,Yes,11/9/08,46.2,14.4,214,4650,,8.24253,-26.8154,\\r\\nPAL0809,68,Gentoo penguin (Pygoscelis papua),Anvers,Biscoe,\"Adult, 1 Egg Stage\",N51A2,Yes,11/9/08,49.5,16.2,229,5800,MALE,8.49854,-26.74809,\\r\\nPAL0809,69,Gentoo penguin (Pygoscelis papua),Anvers,Biscoe,\"Adult, 1 Egg Stage\",N53A1,Yes,11/13/08,43.5,14.2,220,4700,FEMALE,8.64931,-26.68867,\\r\\nPAL0809,70,Gentoo penguin (Pygoscelis papua),Anvers,Biscoe,\"Adult, 1 Egg Stage\",N53A2,Yes,11/13/08,50.7,15,223,5550,MALE,8.63551,-26.74249,\\r\\nPAL0809,71,Gentoo penguin (Pygoscelis papua),Anvers,Biscoe,\"Adult, 1 Egg Stage\",N54A1,Yes,11/3/08,47.7,15,216,4750,FEMALE,8.53018,-26.72751,\\r\\nPAL0809,72,Gentoo penguin (Pygoscelis papua),Anvers,Biscoe,\"Adult, 1 Egg Stage\",N54A2,Yes,11/3/08,46.4,15.6,221,5000,MALE,8.35078,-26.70783,\\r\\nPAL0809,73,Gentoo penguin (Pygoscelis papua),Anvers,Biscoe,\"Adult, 1 Egg Stage\",N55A1,Yes,11/9/08,48.2,15.6,221,5100,MALE,8.24651,-26.66958,\\r\\nPAL0809,74,Gentoo penguin (Pygoscelis papua),Anvers,Biscoe,\"Adult, 1 Egg Stage\",N55A2,Yes,11/9/08,46.5,14.8,217,5200,FEMALE,8.58487,-26.5929,\\r\\nPAL0809,75,Gentoo penguin (Pygoscelis papua),Anvers,Biscoe,\"Adult, 1 Egg Stage\",N56A1,Yes,11/6/08,46.4,15,216,4700,FEMALE,8.47938,-26.9547,\\r\\nPAL0809,76,Gentoo penguin (Pygoscelis papua),Anvers,Biscoe,\"Adult, 1 Egg Stage\",N56A2,Yes,11/6/08,48.6,16,230,5800,MALE,8.5964,-26.71199,\\r\\nPAL0809,77,Gentoo penguin (Pygoscelis papua),Anvers,Biscoe,\"Adult, 1 Egg Stage\",N58A1,Yes,11/6/08,47.5,14.2,209,4600,FEMALE,8.39299,-26.78733,\\r\\nPAL0809,78,Gentoo penguin (Pygoscelis papua),Anvers,Biscoe,\"Adult, 1 Egg Stage\",N58A2,Yes,11/6/08,51.1,16.3,220,6000,MALE,8.40327,-26.76821,\\r\\nPAL0809,79,Gentoo penguin (Pygoscelis papua),Anvers,Biscoe,\"Adult, 1 Egg Stage\",N60A1,Yes,11/9/08,45.2,13.8,215,4750,FEMALE,8.24694,-26.65359,\\r\\nPAL0809,80,Gentoo penguin (Pygoscelis papua),Anvers,Biscoe,\"Adult, 1 Egg Stage\",N60A2,Yes,11/9/08,45.2,16.4,223,5950,MALE,8.19749,-26.65931,\\r\\nPAL0910,81,Gentoo penguin (Pygoscelis papua),Anvers,Biscoe,\"Adult, 1 Egg Stage\",N1A1,Yes,11/18/09,49.1,14.5,212,4625,FEMALE,8.35802,-26.2766,\\r\\nPAL0910,82,Gentoo penguin (Pygoscelis papua),Anvers,Biscoe,\"Adult, 1 Egg Stage\",N1A2,Yes,11/18/09,52.5,15.6,221,5450,MALE,8.28601,-26.27573,\\r\\nPAL0910,83,Gentoo penguin (Pygoscelis papua),Anvers,Biscoe,\"Adult, 1 Egg Stage\",N6A1,Yes,11/15/09,47.4,14.6,212,4725,FEMALE,8.19101,-26.24369,\\r\\nPAL0910,84,Gentoo penguin (Pygoscelis papua),Anvers,Biscoe,\"Adult, 1 Egg Stage\",N6A2,Yes,11/15/09,50,15.9,224,5350,MALE,8.20042,-26.39677,\\r\\nPAL0910,85,Gentoo penguin (Pygoscelis papua),Anvers,Biscoe,\"Adult, 1 Egg Stage\",N8A1,Yes,11/22/09,44.9,13.8,212,4750,FEMALE,8.11238,-26.20372,\\r\\nPAL0910,86,Gentoo penguin (Pygoscelis papua),Anvers,Biscoe,\"Adult, 1 Egg Stage\",N8A2,Yes,11/22/09,50.8,17.3,228,5600,MALE,8.27428,-26.30019,\\r\\nPAL0910,87,Gentoo penguin (Pygoscelis papua),Anvers,Biscoe,\"Adult, 1 Egg Stage\",N13A1,Yes,11/20/09,43.4,14.4,218,4600,FEMALE,8.23468,-26.18599,\\r\\nPAL0910,88,Gentoo penguin (Pygoscelis papua),Anvers,Biscoe,\"Adult, 1 Egg Stage\",N13A2,Yes,11/20/09,51.3,14.2,218,5300,MALE,8.15426,-26.3433,\\r\\nPAL0910,89,Gentoo penguin (Pygoscelis papua),Anvers,Biscoe,\"Adult, 1 Egg Stage\",N14A1,Yes,11/25/09,47.5,14,212,4875,FEMALE,8.12691,-26.23613,\\r\\nPAL0910,90,Gentoo penguin (Pygoscelis papua),Anvers,Biscoe,\"Adult, 1 Egg Stage\",N14A2,Yes,11/25/09,52.1,17,230,5550,MALE,8.27595,-26.11657,\\r\\nPAL0910,91,Gentoo penguin (Pygoscelis papua),Anvers,Biscoe,\"Adult, 1 Egg Stage\",N15A1,Yes,11/25/09,47.5,15,218,4950,FEMALE,8.29671,-26.08547,\\r\\nPAL0910,92,Gentoo penguin (Pygoscelis papua),Anvers,Biscoe,\"Adult, 1 Egg Stage\",N15A2,Yes,11/25/09,52.2,17.1,228,5400,MALE,8.36701,-25.89834,\\r\\nPAL0910,93,Gentoo penguin (Pygoscelis papua),Anvers,Biscoe,\"Adult, 1 Egg Stage\",N18A1,Yes,12/1/09,45.5,14.5,212,4750,FEMALE,8.15566,-26.22848,\\r\\nPAL0910,94,Gentoo penguin (Pygoscelis papua),Anvers,Biscoe,\"Adult, 1 Egg Stage\",N18A2,Yes,12/1/09,49.5,16.1,224,5650,MALE,8.83352,-25.69195,\\r\\nPAL0910,95,Gentoo penguin (Pygoscelis papua),Anvers,Biscoe,\"Adult, 1 Egg Stage\",N19A1,Yes,11/27/09,44.5,14.7,214,4850,FEMALE,8.20106,-26.16524,\\r\\nPAL0910,96,Gentoo penguin (Pygoscelis papua),Anvers,Biscoe,\"Adult, 1 Egg Stage\",N19A2,Yes,11/27/09,50.8,15.7,226,5200,MALE,8.27102,-26.11244,\\r\\nPAL0910,97,Gentoo penguin (Pygoscelis papua),Anvers,Biscoe,\"Adult, 1 Egg Stage\",N20A1,Yes,11/18/09,49.4,15.8,216,4925,MALE,8.03624,-26.06594,\\r\\nPAL0910,98,Gentoo penguin (Pygoscelis papua),Anvers,Biscoe,\"Adult, 1 Egg Stage\",N20A2,Yes,11/18/09,46.9,14.6,222,4875,FEMALE,7.8881,-26.04726,\\r\\nPAL0910,99,Gentoo penguin (Pygoscelis papua),Anvers,Biscoe,\"Adult, 1 Egg Stage\",N21A1,Yes,11/18/09,48.4,14.4,203,4625,FEMALE,8.16582,-26.13971,\\r\\nPAL0910,100,Gentoo penguin (Pygoscelis papua),Anvers,Biscoe,\"Adult, 1 Egg Stage\",N21A2,Yes,11/18/09,51.1,16.5,225,5250,MALE,8.2066,-26.36863,\\r\\nPAL0910,101,Gentoo penguin (Pygoscelis papua),Anvers,Biscoe,\"Adult, 1 Egg Stage\",N22A1,Yes,11/22/09,48.5,15,219,4850,FEMALE,8.10231,-26.18763,\\r\\nPAL0910,102,Gentoo penguin (Pygoscelis papua),Anvers,Biscoe,\"Adult, 1 Egg Stage\",N22A2,Yes,11/22/09,55.9,17,228,5600,MALE,8.3118,-26.35425,\\r\\nPAL0910,103,Gentoo penguin (Pygoscelis papua),Anvers,Biscoe,\"Adult, 1 Egg Stage\",N23A1,Yes,11/18/09,47.2,15.5,215,4975,FEMALE,8.30817,-26.21651,\\r\\nPAL0910,104,Gentoo penguin (Pygoscelis papua),Anvers,Biscoe,\"Adult, 1 Egg Stage\",N23A2,Yes,11/18/09,49.1,15,228,5500,MALE,8.65914,-25.79203,\\r\\nPAL0910,105,Gentoo penguin (Pygoscelis papua),Anvers,Biscoe,\"Adult, 1 Egg Stage\",N24A1,Yes,12/1/09,47.3,13.8,216,4725,,8.25818,-26.23886,\\r\\nPAL0910,106,Gentoo penguin (Pygoscelis papua),Anvers,Biscoe,\"Adult, 1 Egg Stage\",N24A2,Yes,12/1/09,46.8,16.1,215,5500,MALE,8.32359,-26.05756,\\r\\nPAL0910,107,Gentoo penguin (Pygoscelis papua),Anvers,Biscoe,\"Adult, 1 Egg Stage\",N28A1,Yes,11/10/09,41.7,14.7,210,4700,FEMALE,8.12311,-26.44815,\\r\\nPAL0910,108,Gentoo penguin (Pygoscelis papua),Anvers,Biscoe,\"Adult, 1 Egg Stage\",N28A2,Yes,11/10/09,53.4,15.8,219,5500,MALE,8.41017,-26.33867,\\r\\nPAL0910,109,Gentoo penguin (Pygoscelis papua),Anvers,Biscoe,\"Adult, 1 Egg Stage\",N29A1,Yes,11/9/09,43.3,14,208,4575,FEMALE,8.4207,-26.38092,\\r\\nPAL0910,110,Gentoo penguin (Pygoscelis papua),Anvers,Biscoe,\"Adult, 1 Egg Stage\",N29A2,Yes,11/9/09,48.1,15.1,209,5500,MALE,8.45738,-26.22664,\\r\\nPAL0910,111,Gentoo penguin (Pygoscelis papua),Anvers,Biscoe,\"Adult, 1 Egg Stage\",N32A1,Yes,11/20/09,50.5,15.2,216,5000,FEMALE,8.24691,-26.18466,\\r\\nPAL0910,112,Gentoo penguin (Pygoscelis papua),Anvers,Biscoe,\"Adult, 1 Egg Stage\",N32A2,Yes,11/20/09,49.8,15.9,229,5950,MALE,8.29226,-26.21019,\\r\\nPAL0910,113,Gentoo penguin (Pygoscelis papua),Anvers,Biscoe,\"Adult, 1 Egg Stage\",N34A1,Yes,11/27/09,43.5,15.2,213,4650,FEMALE,8.21634,-26.11046,\\r\\nPAL0910,114,Gentoo penguin (Pygoscelis papua),Anvers,Biscoe,\"Adult, 1 Egg Stage\",N34A2,Yes,11/27/09,51.5,16.3,230,5500,MALE,8.78557,-25.76147,\\r\\nPAL0910,115,Gentoo penguin (Pygoscelis papua),Anvers,Biscoe,\"Adult, 1 Egg Stage\",N35A1,Yes,11/25/09,46.2,14.1,217,4375,FEMALE,8.30231,-25.96013,\\r\\nPAL0910,116,Gentoo penguin (Pygoscelis papua),Anvers,Biscoe,\"Adult, 1 Egg Stage\",N35A2,Yes,11/25/09,55.1,16,230,5850,MALE,8.08354,-26.18161,\\r\\nPAL0910,117,Gentoo penguin (Pygoscelis papua),Anvers,Biscoe,\"Adult, 1 Egg Stage\",N36A1,Yes,12/1/09,44.5,15.7,217,4875,.,8.04111,-26.18444,\\r\\nPAL0910,118,Gentoo penguin (Pygoscelis papua),Anvers,Biscoe,\"Adult, 1 Egg Stage\",N36A2,Yes,12/1/09,48.8,16.2,222,6000,MALE,8.33825,-25.88547,\\r\\nPAL0910,119,Gentoo penguin (Pygoscelis papua),Anvers,Biscoe,\"Adult, 1 Egg Stage\",N38A1,No,12/1/09,47.2,13.7,214,4925,FEMALE,7.99184,-26.20538,\\r\\nPAL0910,120,Gentoo penguin (Pygoscelis papua),Anvers,Biscoe,\"Adult, 1 Egg Stage\",N38A2,No,12/1/09,,,,,,,,\\r\\nPAL0910,121,Gentoo penguin (Pygoscelis papua),Anvers,Biscoe,\"Adult, 1 Egg Stage\",N39A1,Yes,11/22/09,46.8,14.3,215,4850,FEMALE,8.41151,-26.13832,\\r\\nPAL0910,122,Gentoo penguin (Pygoscelis papua),Anvers,Biscoe,\"Adult, 1 Egg Stage\",N39A2,Yes,11/22/09,50.4,15.7,222,5750,MALE,8.30166,-26.04117,\\r\\nPAL0910,123,Gentoo penguin (Pygoscelis papua),Anvers,Biscoe,\"Adult, 1 Egg Stage\",N43A1,Yes,11/22/09,45.2,14.8,212,5200,FEMALE,8.24246,-26.11969,\\r\\nPAL0910,124,Gentoo penguin (Pygoscelis papua),Anvers,Biscoe,\"Adult, 1 Egg Stage\",N43A2,Yes,11/22/09,49.9,16.1,213,5400,MALE,8.3639,-26.15531,'"
      ]
     },
     "execution_count": 19,
     "metadata": {},
     "output_type": "execute_result"
    }
   ],
   "source": [
    "to_write"
   ]
  },
  {
   "cell_type": "code",
   "execution_count": 20,
   "metadata": {},
   "outputs": [
    {
     "name": "stdout",
     "output_type": "stream",
     "text": [
      "<!doctype html>\n",
      "<html class=\"no-js\" lang=\"en\">\n",
      "\n",
      "<head>\n",
      "  <meta charset=\"utf-8\">\n",
      "  <meta http-equiv=\"x-ua-compatible\" content=\"ie=edge\">\n",
      "  <!-- Google Tag Manager -->\n",
      "  <script>(function(w,d,s,l,i){w[l]=w[l]||[];w[l].push({'gtm.start':\n",
      "  new Date().getTime(),event:'gtm.js'});var f=d.getElementsByTagName(s)[0],\n",
      "  j=d.createElement(s),dl=l!='dataLayer'?'&l='+l:'';j.async=true;j.src=\n",
      "  'https://www.googletagmanager.com/gtm.js?id='+i+dl;f.parentNode.insertBefore(j,f);\n",
      "  })(window,document,'script','d\n"
     ]
    }
   ],
   "source": [
    "from urllib.request import urlopen\n",
    "\n",
    "url = \"https://www.ucla.edu/\"\n",
    "\n",
    "page = urlopen(url)\n",
    "html_bits = page.read()\n",
    "\n",
    "html = html_bits.decode(\"utf-8\")\n",
    "\n",
    "print(html[:500])"
   ]
  },
  {
   "cell_type": "code",
   "execution_count": 21,
   "metadata": {},
   "outputs": [
    {
     "data": {
      "text/plain": [
       "['https://cdn.webcomponents.ucla.edu/1.0.0-beta.15/css/ucla-lib.min.css',\n",
       " 'https://cdnjs.cloudflare.com/ajax/libs/fancybox/3.5.6/jquery.fancybox.min.css',\n",
       " 'https://browsehappy.com/',\n",
       " 'https://community.ucla.edu',\n",
       " 'https://newsroom.ucla.edu',\n",
       " 'https://newsroom.ucla.edu/magazine',\n",
       " 'https://alumni.ucla.edu/',\n",
       " 'https://goarts.ucla.edu/',\n",
       " 'https://giveto.ucla.edu',\n",
       " 'https://www.senate.ucla.edu',\n",
       " 'https://alumni.ucla.edu/uclas-story',\n",
       " 'https://strategic-plan.ucla.edu/',\n",
       " 'https://equity.ucla.edu/',\n",
       " 'https://100.ucla.edu/timeline?mode=time&nodeID=XL5AnBAAAB4A9_2N',\n",
       " 'https://www.global.ucla.edu/home',\n",
       " 'https://optimism.ucla.edu/profiles/',\n",
       " 'https://admission.ucla.edu/',\n",
       " 'https://admission.ucla.edu/tuition-aid/tuition-fees',\n",
       " 'https://admission.ucla.edu/tuition-aid/financial-aid-and-scholarships',\n",
       " 'https://admission.ucla.edu/tours.htm',\n",
       " 'https://grad.ucla.edu/funding/tuition',\n",
       " 'https://grad.ucla.edu',\n",
       " 'https://grad.ucla.edu/admissions/visiting-ucla',\n",
       " 'https://www.uclaextension.edu/student-services/enrollment-services-support',\n",
       " 'https://summer.ucla.edu',\n",
       " 'https://www.uclaextension.edu/',\n",
       " 'https://summer.ucla.edu/',\n",
       " 'https://ieo.ucla.edu/',\n",
       " 'https://career.ucla.edu',\n",
       " 'https://www.registrar.ucla.edu/Academics/Academic-Counseling',\n",
       " 'https://firsttogo.ucla.edu/',\n",
       " 'https://newstudents.ucla.edu/',\n",
       " 'http://www.honors.ucla.edu',\n",
       " 'https://registrar.ucla.edu/calendars/academic-calendar',\n",
       " 'https://sa.ucla.edu/ro/public/soc',\n",
       " ' https://catalog.registrar.ucla.edu/',\n",
       " 'https://research.ucla.edu/about/campus',\n",
       " 'https://tdg.ucla.edu/',\n",
       " 'https://research.ucla.edu/entrepreneurship',\n",
       " 'https://grad.ucla.edu/academics/research/',\n",
       " 'https://admission.ucla.edu/explore/research',\n",
       " 'https://portal.housing.ucla.edu',\n",
       " 'https://reslife.ucla.edu/',\n",
       " 'https://housing.ucla.edu/dining-services/overview',\n",
       " 'https://www.studenthealth.ucla.edu/',\n",
       " 'https://www.sustain.ucla.edu/',\n",
       " 'https://www.recreation.ucla.edu/',\n",
       " 'https://volunteer.ucla.edu/',\n",
       " 'https://bewellbruin.ucla.edu/',\n",
       " 'https://directory.ucla.edu/',\n",
       " 'https://www.registrar.ucla.edu/Calendars/Annual-Academic-Calendar',\n",
       " 'https://map.ucla.edu/',\n",
       " 'https://www.transportation.ucla.edu/campus-parking',\n",
       " 'https://transportation.ucla.edu/getting-around-campus/bruinbus',\n",
       " 'https://transportation.ucla.edu/getting-to-ucla/public-transit',\n",
       " 'https://newsroom.ucla.edu/',\n",
       " 'https://newsroom.ucla.edu/magazine',\n",
       " 'https://alumni.ucla.edu/',\n",
       " 'https://goarts.ucla.edu/',\n",
       " 'https://giveto.ucla.edu/?utm_campaign=UCLA-Gateway&utm_source=Gateway-Header&utm_medium=website&utm_content=Give+Now+Button&_ga=2.113305351.1621921878.1573682885-1712134942.1573682885',\n",
       " 'https://newsroom.ucla.edu/magazine/kareem-abdul-jabbar-coach-wooden-me-book-excerpt',\n",
       " 'https://newsroom.ucla.edu/stories/bruinettes-danceline-hbcu-experience',\n",
       " 'https://philanthropy.ucla.edu/stories/providing-immediate-support-for-students/?utm_source=ucla_gateway&amp;utm_medium=banner&amp;utm_content=PF_GiA_0220',\n",
       " 'https://www.universityofcalifornia.edu/get-involved/uc-votes',\n",
       " 'https://newsroom.ucla.edu/releases/ancient-lake-mars-perseverance-rover-life-samples',\n",
       " 'https://newsroom.ucla.edu/releases/ancient-lake-mars-perseverance-rover-life-samples',\n",
       " 'https://newsroom.ucla.edu',\n",
       " 'https://newsroom.ucla.edu/releases/ucla-receives-10-million-to-launch-levine-family-center-for-movement-disorders',\n",
       " 'https://newsroom.ucla.edu',\n",
       " 'https://newsroom.ucla.edu/stories/great-ape-children-poke-run-from-adults-like-humans',\n",
       " 'https://newsroom.ucla.edu/',\n",
       " 'https://newsroom.ucla.edu/stories/employment-boot-camp-student-veterans-post-military-career',\n",
       " 'https://newsroom.ucla.edu/',\n",
       " 'https://newsroom.ucla.edu/',\n",
       " 'https://blocktribute.ucla.edu/chancellor-blocks-message/',\n",
       " 'https://uclabruins.com/news/2024/2/26/softball-brady-tinsley-earn-weekly-pac-12-honors',\n",
       " 'https://uclabruins.com/news/2024/2/26/softball-brady-tinsley-earn-weekly-pac-12-honors',\n",
       " 'https://uclabruins.com/news/2024/2/26/mens-golf-ucla-alumni-win-three-professional-golf-events-on-same-weekend',\n",
       " 'https://uclabruins.com/news/2024/2/26/champlin-named-national-outside-attacker-of-week',\n",
       " 'https://uclabruins.com/news/2024/2/25/softball-ucla-leaves-the-yard-thrice-in-win-over-tennessee',\n",
       " 'https://admin.uclabruins.com/calendar.aspx?game_id=33286&sport_id=1',\n",
       " 'https://uclabruins.com/',\n",
       " 'https://community.ucla.edu/',\n",
       " 'https://community.ucla.edu/',\n",
       " 'https://community.ucla.edu/event/f68335e4-c854-4ec5-af19-32534e88f279',\n",
       " 'https://community.ucla.edu/event/a585ea97-beea-46db-9963-1f3e57bcb822',\n",
       " 'https://community.ucla.edu/event/69e98784-d028-483d-a495-4a268021aae4',\n",
       " 'https://community.ucla.edu/event/6ca97bc7-3086-4454-b49d-5bfb2b5aa332',\n",
       " 'https://community.ucla.edu/event/5d6d67dc-55e8-4f84-aa10-1e4e93f39cfd',\n",
       " 'https://community.ucla.edu/event/fd27d8d7-c2ab-425b-93fd-8c14b3500887',\n",
       " 'https://community.ucla.edu/event/a80d84cc-c9ed-4117-b7ed-5153650ee093',\n",
       " 'https://community.ucla.edu/event/c3b798ce-12c0-49c7-815f-512c30494519',\n",
       " 'https://community.ucla.edu/event/515f7d12-ecaa-4b52-afc6-4ead6a427879',\n",
       " 'https://community.ucla.edu/event/67cb9bce-5701-42b4-aba5-3f6d93506e81',\n",
       " 'https://community.ucla.edu',\n",
       " 'https://www.tiktok.com/@ucla/video/7339255817243249963?utm_campaign=tt4d_open_api&amp;utm_source=awdbe0aa3brf1r9q',\n",
       " 'https://www.tiktok.com/@ucla/video/7338489727915478315?utm_campaign=tt4d_open_api&amp;utm_source=awdbe0aa3brf1r9q',\n",
       " 'https://www.tiktok.com/@ucla/video/7338145672127909163?utm_campaign=tt4d_open_api&amp;utm_source=awdbe0aa3brf1r9q',\n",
       " 'https://www.tiktok.com/@ucla/video/7336238012327529774?utm_campaign=tt4d_open_api&amp;utm_source=awdbe0aa3brf1r9q',\n",
       " 'https://www.tiktok.com/@ucla/video/7335953059878636842?utm_campaign=tt4d_open_api&amp;utm_source=awdbe0aa3brf1r9q',\n",
       " 'https://www.tiktok.com/@ucla/video/7335926769545006379?utm_campaign=tt4d_open_api&amp;utm_source=awdbe0aa3brf1r9q',\n",
       " 'https://www.tiktok.com/@ucla/video/7335549606530665774?utm_campaign=tt4d_open_api&amp;utm_source=awdbe0aa3brf1r9q',\n",
       " 'https://www.tiktok.com/@ucla/video/7333679601505291562?utm_campaign=tt4d_open_api&amp;utm_source=awdbe0aa3brf1r9q',\n",
       " 'https://www.tiktok.com/@ucla/video/7332953269188218154?utm_campaign=tt4d_open_api&amp;utm_source=awdbe0aa3brf1r9q',\n",
       " 'https://www.tiktok.com/@ucla/video/7331071887985937706?utm_campaign=tt4d_open_api&amp;utm_source=awdbe0aa3brf1r9q',\n",
       " 'https://www.tiktok.com/@ucla/video/7330333010853743915?utm_campaign=tt4d_open_api&amp;utm_source=awdbe0aa3brf1r9q',\n",
       " 'https://www.tiktok.com/@ucla/video/7328514258784750891?utm_campaign=tt4d_open_api&amp;utm_source=awdbe0aa3brf1r9q',\n",
       " 'https://www.tiktok.com/@ucla/video/7322561854830546219?utm_campaign=tt4d_open_api&amp;utm_source=awdbe0aa3brf1r9q',\n",
       " 'https://www.tiktok.com/@ucla/video/7320751454279585070?utm_campaign=tt4d_open_api&amp;utm_source=awdbe0aa3brf1r9q',\n",
       " 'https://www.tiktok.com/@ucla/video/7319998996024577326?utm_campaign=tt4d_open_api&amp;utm_source=awdbe0aa3brf1r9q',\n",
       " 'https://www.tiktok.com/@ucla/video/7315185311846403374?utm_campaign=tt4d_open_api&amp;utm_source=awdbe0aa3brf1r9q',\n",
       " 'https://www.tiktok.com/@ucla/video/7314407748526034218?utm_campaign=tt4d_open_api&amp;utm_source=awdbe0aa3brf1r9q',\n",
       " 'https://www.tiktok.com/@ucla/video/7312912631080275243?utm_campaign=tt4d_open_api&amp;utm_source=awdbe0aa3brf1r9q',\n",
       " 'https://www.instagram.com/reel/C02IyYUvqLB/',\n",
       " 'https://www.instagram.com/p/C00KCWdxMjW/',\n",
       " 'https://www.instagram.com/reel/C0xce72PJkh/',\n",
       " 'https://www.tiktok.com/@ucla/video/7311449708071849258?utm_campaign=tt4d_open_api&amp;utm_source=awdbe0aa3brf1r9q',\n",
       " 'https://www.tiktok.com/@ucla/video/7310372705117867310?utm_campaign=tt4d_open_api&amp;utm_source=awdbe0aa3brf1r9q',\n",
       " 'https://www.instagram.com/p/C0nBC-YvT7R/',\n",
       " 'https://www.tiktok.com/@ucla/video/7309666674779655466?utm_campaign=tt4d_open_api&amp;utm_source=awdbe0aa3brf1r9q',\n",
       " 'https://directory.ucla.edu/',\n",
       " 'https://registrar.ucla.edu/calendars/academic-calendar',\n",
       " 'https://newsroom.ucla.edu/media-contacts-at-ucla',\n",
       " 'https://map.ucla.edu',\n",
       " 'https://transportation.ucla.edu/campus-parking',\n",
       " 'https://transportation.ucla.edu/getting-around-campus/bruinbus',\n",
       " 'https://transportation.ucla.edu/getting-to-ucla/public-transit',\n",
       " 'https://covid-19.ucla.edu/',\n",
       " 'https://alumni.ucla.edu/',\n",
       " 'https://alumni.ucla.edu/parents/',\n",
       " 'https://apo.ucla.edu/',\n",
       " 'https://campusservices.ucla.edu/',\n",
       " 'https://errc.ucla.edu',\n",
       " 'https://luskinconferencecenter.ucla.edu/',\n",
       " 'https://events.ucla.edu/filming-at-ucla/commercial-external-filming',\n",
       " 'https://events.ucla.edu/',\n",
       " 'https://uclabruins.com/',\n",
       " 'https://www.uclaextension.edu/',\n",
       " 'https://www.uclahealth.org/?utm_source=ucla.edu',\n",
       " 'https://www.uclastore.com',\n",
       " 'https://giveto.ucla.edu/',\n",
       " 'https://100.ucla.edu/',\n",
       " 'https://goarts.ucla.edu/',\n",
       " 'https://hammer.ucla.edu/',\n",
       " 'https://fowler.ucla.edu/',\n",
       " 'https://cap.ucla.edu/',\n",
       " 'https://www.cinema.ucla.edu/',\n",
       " 'https://www.facebook.com/UCLA/',\n",
       " 'https://www.instagram.com/ucla/',\n",
       " 'https://www.linkedin.com/school/ucla',\n",
       " 'https://twitter.com/ucla',\n",
       " 'https://www.youtube.com/user/UCLA',\n",
       " 'https://www.tiktok.com/@ucla?lang=en',\n",
       " 'https://www.threads.net/@ucla',\n",
       " 'http://www.universityofcalifornia.edu/',\n",
       " 'https://www.bso.ucla.edu/',\n",
       " 'https://ucla-gme-advocate.symplicity.com/public_report/index.php/pid031251']"
      ]
     },
     "execution_count": 21,
     "metadata": {},
     "output_type": "execute_result"
    }
   ],
   "source": [
    "# no need to understand, just know that this takes in all the urls that ucla.edu has links to\n",
    "\n",
    "import re # regex\n",
    "\n",
    "urls = re.findall(r'href=[\\'\"]?([^\\'\">]+)', html)\n",
    "\n",
    "urls\n",
    "\n",
    "[url for url in urls if \"http\" in url]\n",
    "# ---"
   ]
  },
  {
   "cell_type": "code",
   "execution_count": null,
   "metadata": {},
   "outputs": [],
   "source": []
  }
 ],
 "metadata": {
  "kernelspec": {
   "display_name": "Python 3 (ipykernel)",
   "language": "python",
   "name": "python3"
  },
  "language_info": {
   "codemirror_mode": {
    "name": "ipython",
    "version": 3
   },
   "file_extension": ".py",
   "mimetype": "text/x-python",
   "name": "python",
   "nbconvert_exporter": "python",
   "pygments_lexer": "ipython3",
   "version": "3.11.7"
  }
 },
 "nbformat": 4,
 "nbformat_minor": 4
}
