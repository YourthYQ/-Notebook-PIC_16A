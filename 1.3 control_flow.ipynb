{
 "cells": [
  {
   "cell_type": "markdown",
   "id": "36b4bb17-b5b1-490d-a5e7-22d66f2e2bf5",
   "metadata": {},
   "source": [
    "Announcements:\n",
    "\n",
    "Extra credits!\n",
    "\n",
    "- Completition of survey: 0.25 percentage point each -- start-of-quarter, mid-quarter, and department's final survey. I will keep the start-of-quarter survey open until 11:59 pm tonight!\n",
    "- First time coming to open-door office hour and asking a question: 0.25 percentage point\n",
    "- Outstanding quality and quantity of participation on Campuswire or discussions: up to 0.5 percentage point \n",
    "\n",
    "...directly added to the final total percentage.\n",
    "\n",
    "\n",
    "Previously: Basic types, list, object\n",
    "- Operation on numbers\n",
    "  - `+`, `-`, `*`, `/`, `//`, `%`\n",
    "- Operation on collections\n",
    "  - `len()`, `+` (concatenation)\n",
    "  - Indexing and slicing (`[start:end]` or `[start:end:step]`)\n",
    "- Data abstraction in Python: object. Everything in Python is object!\n",
    "  - Each object contains id, type and value\n",
    "  - _Every_ variable in Python just stores a reference to an object\n",
    "- List\n",
    "  - List only contains references to objects; internally, you can just think it as an array of (void) pointers in C/C++!\n",
    "  - Some operations on list directly _mutates_ the list (`.append`, `.extend()`, etc.), some of them don't (e.g., `+`). So far, `list` is the only mutable type introduced -- all others (`int`, `float`, `string`) are immutable, cannot change its value. \n",
    "\n",
    "(remember the figures I draw in the classroom!)\n",
    "\n",
    "Today: control flow, iteration, tuples\n",
    "\n"
   ]
  },
  {
   "cell_type": "markdown",
   "id": "317eb57f-177b-4fd8-9249-cbde5b35a703",
   "metadata": {},
   "source": [
    "### More objects and lists\n",
    "\n",
    "`is` vs. `==`: https://docs.python.org/3/library/stdtypes.html#truth-value-testing"
   ]
  },
  {
   "cell_type": "code",
   "execution_count": 5,
   "id": "2d49d84b-3572-4690-b7dc-2dea0010a029",
   "metadata": {
    "tags": []
   },
   "outputs": [
    {
     "name": "stdout",
     "output_type": "stream",
     "text": [
      "False\n",
      "True\n",
      "True\n"
     ]
    }
   ],
   "source": [
    "x = [0]\n",
    "y = [0]\n",
    "print(x is y) # compare id. (equivalent to id(x) == id(y)\n",
    "print(x == y) # compare value\n",
    "print(type(x) == type(y)) # compare type"
   ]
  },
  {
   "cell_type": "code",
   "execution_count": 44,
   "id": "2be2e779-fe36-420f-8804-0d103ea22b71",
   "metadata": {
    "tags": []
   },
   "outputs": [
    {
     "name": "stdout",
     "output_type": "stream",
     "text": [
      "4421359744\n",
      "4349419072\n"
     ]
    }
   ],
   "source": [
    "print(id(x))\n",
    "print(id(x[:])) # slicing with no `begin` or `end` values?\n",
    "# ’x[:]‘ creates a shallow copy of x"
   ]
  },
  {
   "cell_type": "code",
   "execution_count": 7,
   "id": "23189665-73f5-41bd-b264-a90846d3f145",
   "metadata": {},
   "outputs": [
    {
     "name": "stdout",
     "output_type": "stream",
     "text": [
      "[0, [1, 2]] 4344094784\n",
      "[0, [1, 2]] 4344094784\n",
      "[0, [1, 2], 3] 4345222848\n",
      "[0, [1, 2], 3, 3] 4345222848\n",
      "[0, [1, 2], 3, 3, 4, 5] 4345222848\n",
      "[0, [1, 2]] 4344094784\n"
     ]
    }
   ],
   "source": [
    "L = [0, [1, 2]]\n",
    "print(L, id(L))\n",
    "\n",
    "inner = L # '=' is deep copy\n",
    "print(inner, id(inner))\n",
    "\n",
    "inner = inner + [3] \n",
    "print(inner, id(inner))\n",
    "\n",
    "inner.append(3) # \n",
    "print(inner, id(inner))\n",
    "\n",
    "inner.extend([4,5]) # \n",
    "print(inner, id(inner))\n",
    "\n",
    "print(L, id(L))\n",
    "\n",
    "\n",
    "# 1) [0, [1, 2]]\n",
    "# 2) [0, [1, 2, 3]]\n",
    "# cf. when we do inner.append(3)"
   ]
  },
  {
   "cell_type": "code",
   "execution_count": 46,
   "id": "40351981-5b18-457d-804d-806457604ba8",
   "metadata": {
    "tags": []
   },
   "outputs": [
    {
     "name": "stdout",
     "output_type": "stream",
     "text": [
      "[[3, 1], [3, 1], [3, 1]]\n"
     ]
    }
   ],
   "source": [
    "### '=' is deep copy ###\n",
    "\n",
    "res = []\n",
    "y = [0, 1]\n",
    "\n",
    "y[0] = y[0] + 1\n",
    "res.append(y)\n",
    "\n",
    "y[0] = y[0] + 1\n",
    "res.append(y)\n",
    "\n",
    "y[0] = y[0] + 1\n",
    "res.append(y)\n",
    "\n",
    "print(res)"
   ]
  },
  {
   "cell_type": "code",
   "execution_count": 47,
   "id": "846e96f5-8f57-4f7f-8646-eb3007c53573",
   "metadata": {
    "tags": []
   },
   "outputs": [
    {
     "name": "stdout",
     "output_type": "stream",
     "text": [
      "[[1, 1], [2, 1], [3, 1]]\n"
     ]
    }
   ],
   "source": [
    "### 'L[:]' is shallow copy ###\n",
    "\n",
    "res = []\n",
    "y = [0, 1]\n",
    "\n",
    "y[0] = y[0] + 1\n",
    "res.append(y[:]) \n",
    "\n",
    "y[0] = y[0] + 1\n",
    "res.append(y[:])\n",
    "\n",
    "y[0] = y[0] + 1\n",
    "res.append(y[:])\n",
    "\n",
    "print(res)"
   ]
  },
  {
   "cell_type": "code",
   "execution_count": 48,
   "id": "39a30eba-a860-42fd-84d1-ce78672b9f45",
   "metadata": {
    "tags": []
   },
   "outputs": [
    {
     "name": "stdout",
     "output_type": "stream",
     "text": [
      "[[1, 1], [2, 1], [3, 1]]\n"
     ]
    }
   ],
   "source": [
    "### 'L.copy()' is shallow copy ###\n",
    "\n",
    "res = []\n",
    "y = [0, 1]\n",
    "\n",
    "y[0] = y[0] + 1\n",
    "res.append(y.copy())\n",
    "\n",
    "y[0] = y[0] + 1\n",
    "res.append(y.copy())\n",
    "\n",
    "y[0] = y[0] + 1\n",
    "res.append(y.copy())\n",
    "\n",
    "print(res)"
   ]
  },
  {
   "cell_type": "markdown",
   "id": "bf886cc2-7736-4a6f-8652-5e0e968f4ad7",
   "metadata": {},
   "source": [
    "\"Assignment statements in Python do not copy objects, they create bindings between a target and an object. For collections that are mutable or contain mutable items, a copy is sometimes needed so one can change one copy without changing the other.\"\n",
    "\n",
    "\n",
    "shallow copy vs. deep copy: https://docs.python.org/3/library/copy.html\n",
    "no need to know the intricacies of deep copy, just know what shallow copy is \n",
    "and that L[:], L.copy() both return shallow copies.\n",
    "\n",
    "Strings are an example of immutable sequences and \n",
    "lists are an example of mutable sequences. \n",
    "They're both \"sequences\", which is why they both support a lot of the same\n",
    "operations (e.g. indexing, slicing, len, etc).\n",
    "But you can't change the value of a string. You need to make a new object if you \n",
    "want to make changes.\n"
   ]
  },
  {
   "cell_type": "markdown",
   "id": "9db5ba76-1a48-4639-ba13-209e9bd5bf59",
   "metadata": {
    "tags": []
   },
   "source": [
    "### `tuple`\n",
    "`tuple` is another immutable sequence. Regarded/used as an \"immutable list\"."
   ]
  },
  {
   "cell_type": "code",
   "execution_count": 49,
   "id": "d696f1c2-0e17-45e5-a60b-10fdbe81f36e",
   "metadata": {},
   "outputs": [
    {
     "name": "stdout",
     "output_type": "stream",
     "text": [
      "[0, 1, 2, [777]]\n",
      "[99, 1, 2, [777]]\n"
     ]
    }
   ],
   "source": [
    "l = [0, 1, 2, [777]]\n",
    "print(l)\n",
    "l[0] = 99 \n",
    "print(l)"
   ]
  },
  {
   "cell_type": "code",
   "execution_count": 50,
   "id": "d4926dc5-bf58-4bde-a239-92eeb9f57f78",
   "metadata": {},
   "outputs": [
    {
     "name": "stdout",
     "output_type": "stream",
     "text": [
      "012[777]\n"
     ]
    },
    {
     "ename": "TypeError",
     "evalue": "'str' object does not support item assignment",
     "output_type": "error",
     "traceback": [
      "\u001b[0;31m---------------------------------------------------------------------------\u001b[0m",
      "\u001b[0;31mTypeError\u001b[0m                                 Traceback (most recent call last)",
      "Cell \u001b[0;32mIn[50], line 3\u001b[0m\n\u001b[1;32m      1\u001b[0m s \u001b[39m=\u001b[39m \u001b[39m'\u001b[39m\u001b[39m012[777]\u001b[39m\u001b[39m'\u001b[39m\n\u001b[1;32m      2\u001b[0m \u001b[39mprint\u001b[39m(s)\n\u001b[0;32m----> 3\u001b[0m s[\u001b[39m0\u001b[39;49m] \u001b[39m=\u001b[39m \u001b[39m99\u001b[39m \u001b[39m## TypeError: 'str' object does not support item assignment\u001b[39;00m\n\u001b[1;32m      4\u001b[0m \u001b[39mprint\u001b[39m(s)\n",
      "\u001b[0;31mTypeError\u001b[0m: 'str' object does not support item assignment"
     ]
    }
   ],
   "source": [
    "s = '012[777]'\n",
    "print(s)\n",
    "s[0] = 99 ## TypeError: 'str' object does not support item assignment\n",
    "print(s)"
   ]
  },
  {
   "cell_type": "code",
   "execution_count": null,
   "id": "d67c1930-14f8-4d43-b0ee-f49eb1c64d4f",
   "metadata": {},
   "outputs": [],
   "source": [
    "t = (0, 1, 2, [777])\n",
    "print(t)\n",
    "t[0] = 99\n",
    "print(t)"
   ]
  },
  {
   "cell_type": "markdown",
   "id": "cb458444-22e2-4ad3-b4d5-8345f6eaa2fc",
   "metadata": {},
   "source": [
    "But we can still mutate mutable entries of tuples:"
   ]
  },
  {
   "cell_type": "code",
   "execution_count": null,
   "id": "abe1d8db-7f7d-4beb-9c5d-ef724611a08e",
   "metadata": {
    "tags": []
   },
   "outputs": [],
   "source": [
    "t[3].append(8)\n",
    "print(t)"
   ]
  },
  {
   "cell_type": "code",
   "execution_count": null,
   "id": "0a44a1ba-f58f-44cb-8471-dbe3970a7191",
   "metadata": {},
   "outputs": [
    {
     "name": "stdout",
     "output_type": "stream",
     "text": [
      "[1, 2, 3, 4]\n",
      "1234\n",
      "(1, 2, 3, 4)\n"
     ]
    }
   ],
   "source": [
    "# lists, strings, and tuples all support this operation\n",
    "\n",
    "L = [1, 2, 3]\n",
    "print(L + [4])\n",
    "\n",
    "s = '123'\n",
    "print(s + '4')\n",
    "\n",
    "t = (1, 2, 3)\n",
    "# print(t + (4)) ## TypeError: can only concatenate tuple (not \"int\") to tuple\n",
    "print(t + (4,))\n",
    "\n",
    "# but the immutable data types dont have something equivalent to list append!\n"
   ]
  },
  {
   "cell_type": "markdown",
   "id": "2002c9e8-5cd3-477c-b01b-575e4d558f0c",
   "metadata": {},
   "source": [
    "More explanation on lists and tuples: https://docs.python.org/3/library/stdtypes.html#sequence-types-list-tuple-range"
   ]
  },
  {
   "cell_type": "markdown",
   "id": "bbd22499-3160-49d2-a664-4fcd61b50d7b",
   "metadata": {},
   "source": [
    "### `and`, `or`, and `not`\n",
    "\n",
    "control flow: https://docs.python.org/3/tutorial/controlflow.html\n",
    "\n",
    "boolean operations: https://docs.python.org/3/library/stdtypes.html#truth-value-testing"
   ]
  },
  {
   "cell_type": "code",
   "execution_count": null,
   "id": "0a3b3a40",
   "metadata": {},
   "outputs": [
    {
     "name": "stdout",
     "output_type": "stream",
     "text": [
      "True\n",
      "False\n",
      "True\n",
      "True True\n"
     ]
    }
   ],
   "source": [
    "x = 0\n",
    "y = 1\n",
    "z = 2\n",
    "\n",
    "print(x < y <= z)\n",
    "\n",
    "print(len(\"\") > 0 and y < z) # A and B: if A is False, doesn't evaluate B.\n",
    "\n",
    "print(len(\"\") > 0 or y < z) # A or B: if A is True, doesn't evaluate B.\n",
    "\n",
    "print(not (x == y), x != y)"
   ]
  },
  {
   "cell_type": "markdown",
   "id": "0b5a1337-e6ba-41c6-bc84-a04c735a18a5",
   "metadata": {},
   "source": [
    "Possible exam question: `True`, `False`, or an error?"
   ]
  },
  {
   "cell_type": "code",
   "execution_count": null,
   "id": "1971b425-012b-4201-b131-52c92465bdf9",
   "metadata": {
    "tags": []
   },
   "outputs": [
    {
     "data": {
      "text/plain": [
       "True"
      ]
     },
     "execution_count": 29,
     "metadata": {},
     "output_type": "execute_result"
    }
   ],
   "source": [
    "l = [1, 2, 3]\n",
    "l[0] == 1 or l[3] > 0 # since l[0] == 1 is True, then it doesn't evaluate l[3] > 0\n",
    "l[3] > 0 or l[0] == 1 # evaluate l[3] > 0 first, out-of-boundary"
   ]
  },
  {
   "cell_type": "markdown",
   "id": "8f8b09d9",
   "metadata": {},
   "source": [
    "Quiz 2.1\n",
    "Which of the following boolean (logical) expressions evaluate to False?"
   ]
  },
  {
   "cell_type": "code",
   "execution_count": 79,
   "id": "93a36d50",
   "metadata": {},
   "outputs": [
    {
     "data": {
      "text/plain": [
       "True"
      ]
     },
     "execution_count": 79,
     "metadata": {},
     "output_type": "execute_result"
    }
   ],
   "source": [
    "# A. (1 > \"0\") | (1 < \"0\")\n",
    "# TypeError\n",
    "(1 > \"0\") # '>' not supported between instances of 'int' and 'str'\n",
    "(1 < \"0\") # '<' not supported between instances of 'int' and 'str'\n",
    "\n",
    "# C. (\"o\" in \"boldly\") & (1 in [\"1\", \"2\"])\n",
    "(\"o\" in \"boldly\") # True\n",
    "(1 in [\"1\", \"2\"]) # False - 1 is not equal to \"1\" (integer vs. string)"
   ]
  },
  {
   "cell_type": "markdown",
   "id": "1ba9e623",
   "metadata": {},
   "source": [
    "not to be confused with bitwise operations (`&`, `|`, `~`, `^`, etc.) https://docs.python.org/3/library/stdtypes.html#bitwise-operations-on-integer-types (not covered in this class)"
   ]
  },
  {
   "cell_type": "markdown",
   "id": "33340ddf",
   "metadata": {},
   "source": [
    "### `if`, `elif`, `else`"
   ]
  },
  {
   "cell_type": "code",
   "execution_count": null,
   "id": "b1949be9-f3e0-43d5-bcb7-237378a3b838",
   "metadata": {},
   "outputs": [],
   "source": [
    "cat_age = 12 \n",
    "\n",
    "if cat_age > 30: # no need to have paranethesis\n",
    "    print('old cat') # indentation(缩进) is very important\n",
    "elif cat_age > 15:\n",
    "    print('still old cat')\n",
    "elif cat_age > 7:\n",
    "    print('kinda old cat') # have as many elif as you want.\n",
    "else:\n",
    "    print('kitty')"
   ]
  },
  {
   "cell_type": "markdown",
   "id": "dbb5cc4f-8032-4517-a947-37da2d8bc853",
   "metadata": {},
   "source": [
    "### `while` and `break`"
   ]
  },
  {
   "cell_type": "code",
   "execution_count": null,
   "id": "8034f564-4570-448c-ae54-30b11da730fc",
   "metadata": {},
   "outputs": [
    {
     "name": "stdout",
     "output_type": "stream",
     "text": [
      "Found an odd number 1\n",
      "Found an even number 2\n",
      "Found an odd number 3\n",
      "Found an even number 4\n",
      "Found an odd number 5\n",
      "Found an even number 6\n",
      "Found an odd number 7\n",
      "Found an even number 8\n",
      "Found an odd number 9\n",
      "Found an even number 10\n"
     ]
    }
   ],
   "source": [
    "num = 0\n",
    "while num < 10:\n",
    "    num = num + 1 # num += 1\n",
    "    if num % 2 == 0:\n",
    "        print('Found an even number', num)\n",
    "    else:\n",
    "        print('Found an odd number', num)"
   ]
  },
  {
   "cell_type": "code",
   "execution_count": null,
   "id": "bb21da7e-6ed2-474a-aa7b-45090f484394",
   "metadata": {},
   "outputs": [
    {
     "name": "stdout",
     "output_type": "stream",
     "text": [
      "Found an odd number 1\n",
      "Found an even number 2\n",
      "Found an odd number 3\n",
      "Found an even number 4\n",
      "Found an odd number 5\n",
      "Found an even number 6\n",
      "Found an odd number 7\n",
      "Found an even number 8\n",
      "Found an odd number 9\n",
      "Found an even number 10\n"
     ]
    }
   ],
   "source": [
    "num = 0 \n",
    "while True:\n",
    "    num += 1\n",
    "    if num % 2 == 0:\n",
    "        print(\"Found an even number\", num)\n",
    "    else:\n",
    "        print(\"Found an odd number\", num)\n",
    "    if num == 10:\n",
    "        break # break out of the innermost loop that it's in."
   ]
  },
  {
   "cell_type": "markdown",
   "id": "1391a423-63c5-4a46-9a4f-eacedb54e047",
   "metadata": {},
   "source": [
    "Why would you choose to implement `while` loop one way over the other? - what if termination condition is complicated?"
   ]
  },
  {
   "cell_type": "code",
   "execution_count": null,
   "id": "c1711548-593a-4b3e-aaca-ebc63d98ec98",
   "metadata": {},
   "outputs": [
    {
     "name": "stdout",
     "output_type": "stream",
     "text": [
      "Found an odd number 1\n",
      "Found an even number 2\n",
      "Found an odd number 3\n",
      "Found an even number 4\n",
      "Found an odd number 5\n",
      "Found an even number 6\n",
      "Found an odd number 7\n",
      "Found an even number 8\n",
      "Found an odd number 9\n",
      "Found an even number 10\n"
     ]
    }
   ],
   "source": [
    "num = 0\n",
    "\n",
    "while True:\n",
    "    num = num + 1 # num += 1\n",
    "    if num > 10:\n",
    "        break\n",
    "    elif num % 2 == 0:\n",
    "        print('Found an even number', num)\n",
    "    else:\n",
    "        print('Found an odd number', num)\n"
   ]
  },
  {
   "cell_type": "markdown",
   "id": "99636cf4-b6e8-421a-b704-abf591ae96ab",
   "metadata": {},
   "source": [
    "### `continue` "
   ]
  },
  {
   "cell_type": "code",
   "execution_count": null,
   "id": "0a615f74-baac-4b42-a1bf-74b8a4029ea8",
   "metadata": {},
   "outputs": [
    {
     "name": "stdout",
     "output_type": "stream",
     "text": [
      "Found an odd number 1\n",
      "Found an even number 2\n",
      "Found an odd number 3\n",
      "Found an even number 4\n",
      "Found an odd number 5\n",
      "Found an even number 6\n",
      "Found an odd number 7\n",
      "Found an even number 8\n",
      "Found an odd number 9\n",
      "Found an even number 10\n"
     ]
    }
   ],
   "source": [
    "num = 0\n",
    "while num < 10:\n",
    "    num = num + 1 # num += 1\n",
    "    if num % 2 == 0:\n",
    "        print('Found an even number', num)\n",
    "    else:\n",
    "        print('Found an odd number', num)"
   ]
  },
  {
   "cell_type": "code",
   "execution_count": null,
   "id": "8ca35921-5bfb-46f8-89e2-04eac290bf0c",
   "metadata": {},
   "outputs": [
    {
     "name": "stdout",
     "output_type": "stream",
     "text": [
      "Found an odd number 1\n",
      "Found an even number 2\n",
      "Found an odd number 3\n",
      "Found an even number 4\n",
      "Found an odd number 5\n",
      "Found an even number 6\n",
      "Found an odd number 7\n",
      "Found an even number 8\n",
      "Found an odd number 9\n",
      "Found an even number 10\n"
     ]
    }
   ],
   "source": [
    "num = 0\n",
    "\n",
    "while num < 10:\n",
    "    num = num + 1 # num += 1\n",
    "\n",
    "    if num % 2 == 0:\n",
    "        print('Found an even number', num)\n",
    "        continue # go back to top of the innermost loop it's in\n",
    "    \n",
    "    print('Found an odd number', num)\n"
   ]
  },
  {
   "cell_type": "markdown",
   "id": "cb1bec3b-ab0d-4b42-b5cd-4e6bffbdbddb",
   "metadata": {},
   "source": [
    "### `pass`"
   ]
  },
  {
   "cell_type": "code",
   "execution_count": 37,
   "id": "6de45d74-149e-4e66-a5e2-3439d6066fd5",
   "metadata": {},
   "outputs": [
    {
     "name": "stdout",
     "output_type": "stream",
     "text": [
      "Found an odd number 1\n",
      "outside if-else 1\n",
      "outside if-else 2\n",
      "Found an odd number 3\n",
      "outside if-else 3\n",
      "outside if-else 4\n",
      "Found an odd number 5\n",
      "outside if-else 5\n",
      "outside if-else 6\n",
      "Found an odd number 7\n",
      "outside if-else 7\n",
      "outside if-else 8\n",
      "Found an odd number 9\n",
      "outside if-else 9\n",
      "outside if-else 10\n"
     ]
    }
   ],
   "source": [
    "num = 0\n",
    "\n",
    "while num < 10:\n",
    "    num = num + 1 # num += 1\n",
    "\n",
    "    if num % 2 == 0:\n",
    "        pass # placeholder line ## if we remove this line, we will get an IndentationError\n",
    "        #print('im inside the if block', num)\n",
    "        \n",
    "    else:\n",
    "        print('Found an odd number', num)\n",
    "        \n",
    "    print('outside if-else', num)\n"
   ]
  },
  {
   "cell_type": "markdown",
   "id": "5371b28b-3ba0-471b-aaaf-34d8d944bf1a",
   "metadata": {},
   "source": [
    "### Boolean casting"
   ]
  },
  {
   "cell_type": "markdown",
   "id": "9e971827-bcf4-4830-b6c9-ad29898a85aa",
   "metadata": {},
   "source": [
    "You can just put non-boolean expression in place of conditions, as in C++. For built-in types, zero values in each numeric type, empty collections, and `None` value (to appear later in the course) will be casted to `False`, and almost everything else will be casted to `True`. https://docs.python.org/3/library/stdtypes.html#truth-value-testing"
   ]
  },
  {
   "cell_type": "markdown",
   "id": "06f782db-d79f-43a8-821a-dc60533a6a8a",
   "metadata": {},
   "source": [
    "### `for` loops - the Python way"
   ]
  },
  {
   "cell_type": "code",
   "execution_count": 38,
   "id": "893a3198-c674-4f94-b2ba-3abe20fb590d",
   "metadata": {},
   "outputs": [
    {
     "name": "stdout",
     "output_type": "stream",
     "text": [
      "0\n",
      "Alphabet A\n",
      "1\n",
      "Alphabet B\n",
      "2\n",
      "Alphabet C\n",
      "3\n",
      "Alphabet D\n",
      "4\n",
      "Alphabet E\n",
      "5\n",
      "Alphabet F\n"
     ]
    }
   ],
   "source": [
    "L = ['A', 'B', 'C', 'D', 'E', 'F']\n",
    "\n",
    "for i in [0, 1, 2, 3, 4, 5]:\n",
    "    print(i)\n",
    "    print('Alphabet', L[i])"
   ]
  },
  {
   "cell_type": "markdown",
   "id": "a0db7e27-4ee8-470f-abea-f827103a88bd",
   "metadata": {},
   "source": [
    "### `range`"
   ]
  },
  {
   "cell_type": "code",
   "execution_count": 39,
   "id": "42c70bba-dcab-4c8e-afa6-05ae58b7478b",
   "metadata": {},
   "outputs": [
    {
     "name": "stdout",
     "output_type": "stream",
     "text": [
      "0\n",
      "Alphabet A\n",
      "1\n",
      "Alphabet B\n",
      "2\n",
      "Alphabet C\n",
      "3\n",
      "Alphabet D\n",
      "4\n",
      "Alphabet E\n",
      "5\n",
      "Alphabet F\n"
     ]
    }
   ],
   "source": [
    "for i in range(len(L)): # i = 0, 1, ... len(L)-1 , shortcut for range(0, 6, 1). \n",
    "    print(i)\n",
    "    print('Alphabet', L[i])"
   ]
  },
  {
   "cell_type": "code",
   "execution_count": 40,
   "id": "f2c37e37-db43-40c0-bf69-6cea72ac59a3",
   "metadata": {},
   "outputs": [
    {
     "name": "stdout",
     "output_type": "stream",
     "text": [
      "A\n",
      "Alphabet A\n",
      "B\n",
      "Alphabet B\n",
      "C\n",
      "Alphabet C\n",
      "D\n",
      "Alphabet D\n",
      "E\n",
      "Alphabet E\n",
      "F\n",
      "Alphabet F\n"
     ]
    }
   ],
   "source": [
    "for ch in L: \n",
    "    print(ch)\n",
    "    print('Alphabet', ch)"
   ]
  },
  {
   "cell_type": "code",
   "execution_count": 41,
   "id": "ccb42b0d-90c8-4a24-ae0c-32dca0967ddd",
   "metadata": {},
   "outputs": [
    {
     "name": "stdout",
     "output_type": "stream",
     "text": [
      "<class 'range'>\n",
      "0\n",
      "1\n",
      "2\n",
      "3\n",
      "4\n",
      "5\n"
     ]
    }
   ],
   "source": [
    "print(type(range(6))) # range is an immutable collection with start, end, step values (like in slicing). \n",
    "# defaults to start=0, step=1\n",
    "for i in range(6): # [a,b) = [0,6)\n",
    "    print(i)"
   ]
  },
  {
   "cell_type": "code",
   "execution_count": 42,
   "id": "b528f887-0809-4f27-9789-8f0a5bf42cae",
   "metadata": {
    "tags": []
   },
   "outputs": [
    {
     "name": "stdout",
     "output_type": "stream",
     "text": [
      "1\n",
      "2\n",
      "3\n",
      "4\n",
      "5\n",
      "6\n"
     ]
    }
   ],
   "source": [
    "for i in range(1, 7): # defaults to step=1\n",
    "    print(i)"
   ]
  },
  {
   "cell_type": "code",
   "execution_count": 43,
   "id": "6715faab-ed36-4d1b-a45e-3dcb2ca60c72",
   "metadata": {
    "tags": []
   },
   "outputs": [
    {
     "name": "stdout",
     "output_type": "stream",
     "text": [
      "10\n",
      "8\n",
      "6\n",
      "4\n",
      "2\n"
     ]
    }
   ],
   "source": [
    "for i in range(10, 1, -2): # start: 10, end: 1, step: -2 ## 1 is open interval\n",
    "    print(i)"
   ]
  },
  {
   "cell_type": "markdown",
   "id": "1c3ea480",
   "metadata": {},
   "source": [
    "Quiz 2.2\n",
    "Describe the result of the following code:"
   ]
  },
  {
   "cell_type": "code",
   "execution_count": 44,
   "id": "a9353c71",
   "metadata": {},
   "outputs": [
    {
     "name": "stdout",
     "output_type": "stream",
     "text": [
      "0\n",
      "1\n",
      "2\n",
      "3\n",
      "4\n",
      "4\n",
      "0\n",
      "1\n",
      "2\n",
      "3\n",
      "4\n"
     ]
    }
   ],
   "source": [
    "for i in range(5):\n",
    "    print(i)\n",
    "print(i) # in Python, i in for loop is still available even after the loop is done.\n",
    "\n",
    "for j in range(5): # j starts at 0, range(5) means j belongs to [0,5)\n",
    "    print(j) # 0 1 2 3 4"
   ]
  },
  {
   "cell_type": "markdown",
   "id": "edcd6dee-e2cd-4aba-a066-0c7023e8ecc5",
   "metadata": {},
   "source": [
    "### Some looping techinques: `zip` and `enumerate`"
   ]
  },
  {
   "cell_type": "markdown",
   "id": "6926de08-2eda-448b-b262-3ac9316b19a6",
   "metadata": {},
   "source": [
    "Iterating over multiple collections at the same time"
   ]
  },
  {
   "cell_type": "code",
   "execution_count": 45,
   "id": "7a8344a9-9d7e-4269-9cd4-2d435ad76aeb",
   "metadata": {
    "tags": []
   },
   "outputs": [
    {
     "name": "stdout",
     "output_type": "stream",
     "text": [
      "10 A\n",
      "11 B\n",
      "12 C\n",
      "13 D\n",
      "14 E\n",
      "15 F\n"
     ]
    }
   ],
   "source": [
    "L1 = [10, 11, 12, 13, 14, 15]\n",
    "L = ['A', 'B', 'C', 'D', 'E', 'F']\n",
    "\n",
    "for i, j in zip(L1, L):\n",
    "    print(i, j)"
   ]
  },
  {
   "cell_type": "markdown",
   "id": "0516a11a-2035-456a-9bd4-99b72e441a3b",
   "metadata": {},
   "source": [
    "Add index of the elements"
   ]
  },
  {
   "cell_type": "code",
   "execution_count": 46,
   "id": "69a31bd3-5c77-4419-bc1c-c959796da397",
   "metadata": {
    "tags": []
   },
   "outputs": [
    {
     "name": "stdout",
     "output_type": "stream",
     "text": [
      "0 A\n",
      "1 B\n",
      "2 C\n",
      "3 D\n",
      "4 E\n",
      "5 F\n"
     ]
    }
   ],
   "source": [
    "# L = ['A', 'B', 'C', 'D', 'E', 'F']\n",
    "\n",
    "for i, c in enumerate(L):\n",
    "    print(i, c)"
   ]
  },
  {
   "cell_type": "markdown",
   "id": "efbde067-c761-4aa6-8335-92b4facb78d7",
   "metadata": {},
   "source": [
    "More tricks on iterating smartly:  https://docs.python.org/3/tutorial/datastructures.html#tut-loopidioms"
   ]
  },
  {
   "cell_type": "markdown",
   "id": "7542007d-f024-4345-880a-1413b9a28def",
   "metadata": {},
   "source": [
    "### list comprehension - very Pythonic tool to create a list from a list! (also useful for HW1)\n",
    "\n",
    "https://docs.python.org/3/tutorial/datastructures.html#list-comprehensions"
   ]
  },
  {
   "cell_type": "code",
   "execution_count": 47,
   "id": "5df7ef9e-7a28-4460-8980-e523f592bbab",
   "metadata": {},
   "outputs": [],
   "source": [
    "L = [1, 2, 3, 4, 5]"
   ]
  },
  {
   "cell_type": "code",
   "execution_count": 48,
   "id": "930a5062-2b36-4092-be21-58380d661b27",
   "metadata": {},
   "outputs": [
    {
     "name": "stdout",
     "output_type": "stream",
     "text": [
      "[1, 4, 9, 16, 25]\n"
     ]
    }
   ],
   "source": [
    "L = [1, 2, 3, 4, 5]\n",
    "sq_L = []\n",
    "\n",
    "for l in L:\n",
    "    sq_L.append(l**2)\n",
    "\n",
    "print(sq_L)"
   ]
  },
  {
   "cell_type": "code",
   "execution_count": 49,
   "id": "626ff7a0-e4db-44c6-b680-8f83c54b5225",
   "metadata": {},
   "outputs": [
    {
     "name": "stdout",
     "output_type": "stream",
     "text": [
      "[1, 4, 9, 16, 25]\n"
     ]
    }
   ],
   "source": [
    "# list comprehension\n",
    "\n",
    "'''\n",
    "# L = [f(i) for i in I]\n",
    "# f(i) = i*2, I = [1,2,3]\n",
    "L = [i*2 for i in I]\n",
    "L[0] = 1*2 = 2\n",
    "L[1] = 2*2 = 4\n",
    "L[2] = 2*3 = 6\n",
    "L = [2 4 6]\n",
    "'''\n",
    "\n",
    "L = [1, 2, 3, 4, 5]\n",
    "sq_L = [l**2 for l in L]\n",
    "\n",
    "print(sq_L)"
   ]
  },
  {
   "cell_type": "code",
   "execution_count": 50,
   "id": "770796e7",
   "metadata": {},
   "outputs": [
    {
     "name": "stdout",
     "output_type": "stream",
     "text": [
      "[1, 9, 25]\n"
     ]
    }
   ],
   "source": [
    "L = [1, 2, 3, 4, 5]\n",
    "odd_sq_L = [l**2 for l in L if l%2 == 1] # [f(x) for x in list if x satisfies criteria]\n",
    "\n",
    "print(odd_sq_L)"
   ]
  },
  {
   "cell_type": "code",
   "execution_count": 1,
   "id": "43e4ab88",
   "metadata": {},
   "outputs": [
    {
     "name": "stdout",
     "output_type": "stream",
     "text": [
      "-2\n",
      "-4\n",
      "-4\n",
      "-8\n",
      "-2\n",
      "-4\n",
      "-4\n",
      "-8\n"
     ]
    }
   ],
   "source": [
    "# nested list comprehension\n",
    "[print(-i*j) for i in [2, 4] for j in [1, 2]]\n",
    "\n",
    "# nested for-loop\n",
    "for i in [2, 4]:\n",
    "    for j in [1, 2]:\n",
    "        print(-i*j)\n",
    "# they are the same thing with different format"
   ]
  },
  {
   "cell_type": "markdown",
   "id": "4fa7ec30",
   "metadata": {},
   "source": [
    "Nested list comprehension: https://docs.python.org/3/tutorial/datastructures.html#nested-list-comprehensions (useful for HW1 problem 4)"
   ]
  },
  {
   "cell_type": "markdown",
   "id": "2cb2704c",
   "metadata": {},
   "source": []
  }
 ],
 "metadata": {
  "kernelspec": {
   "display_name": "Python 3 (ipykernel)",
   "language": "python",
   "name": "python3"
  },
  "language_info": {
   "codemirror_mode": {
    "name": "ipython",
    "version": 3
   },
   "file_extension": ".py",
   "mimetype": "text/x-python",
   "name": "python",
   "nbconvert_exporter": "python",
   "pygments_lexer": "ipython3",
   "version": "3.11.7"
  }
 },
 "nbformat": 4,
 "nbformat_minor": 5
}
