{
 "cells": [
  {
   "cell_type": "markdown",
   "id": "751c61e8-3498-47b2-9742-7e2399396717",
   "metadata": {},
   "source": [
    "\n",
    "# Iterators\n",
    "\n",
    "https://docs.python.org/3/tutorial/classes.html#iterators"
   ]
  },
  {
   "cell_type": "markdown",
   "id": "b9b32b57-b5fa-456b-8546-8ab9dd12b48e",
   "metadata": {},
   "source": [
    "We've already seen the keyword iteration, referring to constructs like for- and while-loops. Colloquially, an iterable is an object that can be \"for-looped\" over, and an iterator is the companion object which does so. In this lecture, we'll look into the operation of for-loops in a bit more detail, and reimplement looping over lists. In the next lecture, we'll define custom iterators with novel behavior.\n",
    "\n",
    "We've already seen several containers: objects that hold other objects. Examples of containers include lists, tuples, sets, and dictionaries. Most default containers already support iteration:"
   ]
  },
  {
   "cell_type": "code",
   "execution_count": 1,
   "id": "c655fb3a-dcc8-42c8-b682-a57a50699453",
   "metadata": {},
   "outputs": [
    {
     "name": "stdout",
     "output_type": "stream",
     "text": [
      "1\n",
      "2\n",
      "3\n"
     ]
    }
   ],
   "source": [
    "L = [1, 2, 3]\n",
    "for element in L:\n",
    "    print(element)\n",
    "\n",
    "# behind the scenes:\n",
    "# 1. call `iter(L)`` to get some iterator object, let's call it tmp_iterator_object\n",
    "# 2. call `next(tmp_iterator_object)` to access element one at a time\n",
    "# 3. stop once the Exception StopIteration is raised\n",
    "\n",
    "# iterators are something you can call `__next__()` on\n",
    "# L can be for-looped over if \n",
    "# 1. L has `__iter__()` implemented so that iter(L) returns an iterator\n",
    "# 2. iterator returned by iter(L) - let's call it LIt - has __next__ implemented"
   ]
  },
  {
   "cell_type": "code",
   "execution_count": 2,
   "id": "302828f8-a631-4f0a-bb2e-324388410d15",
   "metadata": {},
   "outputs": [
    {
     "name": "stdout",
     "output_type": "stream",
     "text": [
      "<list_iterator object at 0x10587a3b0>\n"
     ]
    }
   ],
   "source": [
    "tmp_iterator_object = iter(L)\n",
    "print(tmp_iterator_object)"
   ]
  },
  {
   "cell_type": "code",
   "execution_count": 3,
   "id": "64bf9ea1-4df3-4353-9a5c-63558e9ee5cd",
   "metadata": {},
   "outputs": [
    {
     "name": "stdout",
     "output_type": "stream",
     "text": [
      "1\n",
      "2\n",
      "3\n"
     ]
    },
    {
     "ename": "StopIteration",
     "evalue": "",
     "output_type": "error",
     "traceback": [
      "\u001b[0;31m---------------------------------------------------------------------------\u001b[0m",
      "\u001b[0;31mStopIteration\u001b[0m                             Traceback (most recent call last)",
      "Cell \u001b[0;32mIn[3], line 2\u001b[0m\n\u001b[1;32m      1\u001b[0m \u001b[38;5;28;01mwhile\u001b[39;00m \u001b[38;5;28;01mTrue\u001b[39;00m:\n\u001b[0;32m----> 2\u001b[0m     \u001b[38;5;28mprint\u001b[39m(\u001b[38;5;28;43mnext\u001b[39;49m\u001b[43m(\u001b[49m\u001b[43mtmp_iterator_object\u001b[49m\u001b[43m)\u001b[49m)\n",
      "\u001b[0;31mStopIteration\u001b[0m: "
     ]
    }
   ],
   "source": [
    "while True:\n",
    "    print(next(tmp_iterator_object))"
   ]
  },
  {
   "cell_type": "markdown",
   "id": "6c48e467-6f4e-4ac9-b219-39459ad99747",
   "metadata": {},
   "source": [
    "For `L` to be iterable ('for-loop-able'), \n",
    "\n",
    "`iter(L)` needs to return an interator object <=> type of `L` has `__iter__()` method that returns an iterator object\n",
    "\n",
    "let's call that `tmp_iterator_object`,\n",
    "\n",
    "`next(tmp_iterator_object)` needs to return one element of `L` at a time <==> type of `tmp_iterator_object` has `__next__()` method that returns one element of `L` at a time"
   ]
  },
  {
   "cell_type": "markdown",
   "id": "079980aa",
   "metadata": {},
   "source": [
    "`__iter__()`: This method returns the **iterator object** itself. It is called on the initialization of an iterator. This method is also what makes an object iterable.\n",
    "\n",
    "`__next__()`: This method returns **the next item** from the sequence. On reaching the end of the sequence, it **should raise a StopIteration exception**."
   ]
  },
  {
   "cell_type": "markdown",
   "id": "e447aaef-a930-45b0-99af-0959c282772b",
   "metadata": {},
   "source": [
    "\n",
    "\n",
    "However, not every container-like object automatically supports iteration. For example, here's a simple class that holds a list and...doesn't do much else.\n"
   ]
  },
  {
   "cell_type": "code",
   "execution_count": 6,
   "id": "2703667a-4d15-4bca-bac5-11b43cd2c666",
   "metadata": {},
   "outputs": [],
   "source": [
    "class BoringList:\n",
    "    \n",
    "    def __init__(self, L):\n",
    "        self.L = L\n",
    "        \n",
    "    def __str__(self):\n",
    "        return(str(self.L))"
   ]
  },
  {
   "cell_type": "code",
   "execution_count": 7,
   "id": "f6adf989-f3b2-4977-aa2a-eba9f923d741",
   "metadata": {},
   "outputs": [
    {
     "name": "stdout",
     "output_type": "stream",
     "text": [
      "[1, 2, 3]\n"
     ]
    }
   ],
   "source": [
    "boringL = BoringList([1, 2, 3])\n",
    "print(boringL)"
   ]
  },
  {
   "cell_type": "code",
   "execution_count": 8,
   "id": "bb60dbdd-6188-46b1-affb-d5e74ce930e9",
   "metadata": {},
   "outputs": [
    {
     "ename": "TypeError",
     "evalue": "'BoringList' object is not iterable",
     "output_type": "error",
     "traceback": [
      "\u001b[0;31m---------------------------------------------------------------------------\u001b[0m",
      "\u001b[0;31mTypeError\u001b[0m                                 Traceback (most recent call last)",
      "Cell \u001b[0;32mIn[8], line 1\u001b[0m\n\u001b[0;32m----> 1\u001b[0m \u001b[38;5;28;01mfor\u001b[39;00m i \u001b[38;5;129;01min\u001b[39;00m boringL:\n\u001b[1;32m      2\u001b[0m     \u001b[38;5;28mprint\u001b[39m(i)\n",
      "\u001b[0;31mTypeError\u001b[0m: 'BoringList' object is not iterable"
     ]
    }
   ],
   "source": [
    "for i in boringL: # TypeError: 'BoringList' object is not iterable\n",
    "    print(i)"
   ]
  },
  {
   "cell_type": "code",
   "execution_count": 19,
   "id": "20b450de-ab11-4a41-8e5c-e212cdf75108",
   "metadata": {},
   "outputs": [],
   "source": [
    "class BoringList:\n",
    "    \n",
    "    def __init__(self, L):\n",
    "        self.L = L\n",
    "        \n",
    "    def __str__(self):\n",
    "        return(str(self.L))\n",
    "    \n",
    "    def __iter__(self):\n",
    "        print(\"BoringList.__iter__() called\")\n",
    "        return iter(self.L)"
   ]
  },
  {
   "cell_type": "code",
   "execution_count": 20,
   "id": "573d6368-dc91-468a-8574-d18f8c7138bb",
   "metadata": {},
   "outputs": [
    {
     "name": "stdout",
     "output_type": "stream",
     "text": [
      "[1, 2, 3]\n",
      "BoringList.__iter__() called\n",
      "1\n",
      "2\n",
      "3\n"
     ]
    }
   ],
   "source": [
    "boringL = BoringList([1, 2, 3])\n",
    "print(boringL) # print by __str__() method\n",
    "for i in boringL: # loop by __iter__() method\n",
    "    print(i)"
   ]
  },
  {
   "cell_type": "markdown",
   "id": "3922a971-e259-4f72-9961-27cd51bd17ae",
   "metadata": {},
   "source": [
    "\n",
    "\n",
    "So, what is needed to iterate over a container? \n",
    "\n",
    "Briefly, we need to define **an iterator class** that implements a `__next__()` method. <br>\n",
    "To get the iterator from the container, we need to define an `__iter__()` method that tells Python how to construct an appropriate iterator, with the required `__next__()` method. <br>\n",
    "If our class itself has a `__next__()` method, then `__iter__()` can just return the object itself. <br>\n",
    "\n",
    "`myClass.__iter__()` returns an object of class myIterator. <br>\n",
    "`myIterator.__next__()` returns objects until a StopIteration exception is raised.\n",
    "\n",
    "Let's try making our `BoringList` iterable. We need an `__iter__()` method and a `__next__()` method. To make the workings of the code transparent, we'll add a few print statements.\n"
   ]
  },
  {
   "cell_type": "code",
   "execution_count": 5,
   "id": "9226404b-f304-4344-b49d-8fbadb3d3b2c",
   "metadata": {},
   "outputs": [],
   "source": [
    "class BoringList:\n",
    "    def __init__(self, L):\n",
    "        self.L = L\n",
    "    \n",
    "    def __str__(self):\n",
    "        return(str(self.L))\n",
    "    \n",
    "    def __iter__(self):\n",
    "        print(\"BoringList.__iter__() called\")\n",
    "        return(BoringListIterator(self)) \n",
    "    # pass self so that iterator can have access to all of self's stuff\n",
    "    \n",
    "# write a iter() method by yourself\n",
    "class BoringListIterator:\n",
    "    \n",
    "    def __init__(self, bL):\n",
    "        print(\"BoringListIterator object created\")\n",
    "        self.L = bL.L\n",
    "        self.i = 0 # need to keep track of current index\n",
    "        \n",
    "    def __next__(self):\n",
    "        print(\"BoringListItator.__next__() called\")\n",
    "        \n",
    "        if self.i < len(self.L):\n",
    "            element = self.L[self.i]\n",
    "            self.i += 1\n",
    "            return element\n",
    "        else:\n",
    "            print('StopIteration')\n",
    "            raise StopIteration\n",
    "\n",
    "#   def __next__(self):\n",
    "#         if self.i >= len(self.L):\n",
    "#             raise StopIteration\n",
    "        \n",
    "#         self.i += 1\n",
    "#         return(self.L[self.i-1])"
   ]
  },
  {
   "cell_type": "code",
   "execution_count": 6,
   "id": "31219741-35b8-4994-bde6-10abc8049673",
   "metadata": {},
   "outputs": [
    {
     "name": "stdout",
     "output_type": "stream",
     "text": [
      "[1, 2, 3]\n",
      "BoringList.__iter__() called\n",
      "BoringListIterator object created\n",
      "BoringListItator.__next__() called\n",
      "1\n",
      "BoringListItator.__next__() called\n",
      "2\n",
      "BoringListItator.__next__() called\n",
      "3\n",
      "BoringListItator.__next__() called\n",
      "StopIteration\n"
     ]
    }
   ],
   "source": [
    "boringL = BoringList([1, 2, 3])\n",
    "print(boringL)\n",
    "for i in boringL:\n",
    "    print(i)"
   ]
  },
  {
   "cell_type": "markdown",
   "id": "232a6e75-f833-4ebc-81ec-307d21bc51ba",
   "metadata": {},
   "source": [
    "Behind the scenes, the `for` keyword calls `__iter__()` on `B`, creating an object of type `BoringListIterator`. Because this object has a `__next__()` method, the `for`-loop can then operate as expected. Here's the \"slow-motion\" version:"
   ]
  },
  {
   "cell_type": "code",
   "execution_count": 7,
   "id": "1d5fe98e-8bf6-4ba0-ac2f-eb635399f4ef",
   "metadata": {},
   "outputs": [
    {
     "name": "stdout",
     "output_type": "stream",
     "text": [
      "BoringList.__iter__() called\n",
      "BoringListIterator object created\n"
     ]
    }
   ],
   "source": [
    "boringLI = iter(boringL) # BoringListIterator object created"
   ]
  },
  {
   "cell_type": "code",
   "execution_count": 8,
   "id": "9ed3e627-7b3e-4c84-92df-0104aeb21734",
   "metadata": {},
   "outputs": [
    {
     "name": "stdout",
     "output_type": "stream",
     "text": [
      "BoringListItator.__next__() called\n"
     ]
    },
    {
     "data": {
      "text/plain": [
       "1"
      ]
     },
     "execution_count": 8,
     "metadata": {},
     "output_type": "execute_result"
    }
   ],
   "source": [
    "# repeated until the StopIteration exception is raised. \n",
    "next(boringLI)"
   ]
  },
  {
   "cell_type": "code",
   "execution_count": 9,
   "id": "6b0e35a8",
   "metadata": {},
   "outputs": [
    {
     "name": "stdout",
     "output_type": "stream",
     "text": [
      "BoringListItator.__next__() called\n"
     ]
    },
    {
     "data": {
      "text/plain": [
       "2"
      ]
     },
     "execution_count": 9,
     "metadata": {},
     "output_type": "execute_result"
    }
   ],
   "source": [
    "next(boringLI)"
   ]
  },
  {
   "cell_type": "code",
   "execution_count": 10,
   "id": "855fc41a",
   "metadata": {},
   "outputs": [
    {
     "name": "stdout",
     "output_type": "stream",
     "text": [
      "BoringListItator.__next__() called\n"
     ]
    },
    {
     "data": {
      "text/plain": [
       "3"
      ]
     },
     "execution_count": 10,
     "metadata": {},
     "output_type": "execute_result"
    }
   ],
   "source": [
    "next(boringLI)"
   ]
  },
  {
   "cell_type": "markdown",
   "id": "76d27089-b1c4-4d07-afaf-432f22b33912",
   "metadata": {},
   "source": [
    "Another approach to the same problem is to define a `__next__()` method for `BoringList` itself.\n",
    "\n",
    "In this case, the `__iter__()` method can simply return `self`.\n",
    "\n",
    "The `__iter__()` method should reset i to 0 each time to ensure that we always loop starting from the beginning."
   ]
  },
  {
   "cell_type": "code",
   "execution_count": 11,
   "id": "676f9c76-8a14-4774-b447-7e43ab372b9e",
   "metadata": {},
   "outputs": [],
   "source": [
    "class boringList:\n",
    "    def __init__(self, L):\n",
    "        self.L = L\n",
    "        self.i = 0\n",
    "        \n",
    "    def __str__(self):\n",
    "        return(str(self.L))\n",
    "    \n",
    "    def __iter__(self):\n",
    "        self.i = 0\n",
    "        return(self)\n",
    "    \n",
    "    def __next__(self):\n",
    "        if self.i >= len(self.L):\n",
    "            raise StopIteration\n",
    "        \n",
    "        self.i += 1\n",
    "        return(self.L[self.i-1])\n"
   ]
  },
  {
   "cell_type": "markdown",
   "id": "e8c031a9",
   "metadata": {},
   "source": [
    "> **Why no `__next__()` is called in the `__iter__()`?**\n",
    ">\n",
    "> Your confusion might stem from not seeing an explicit call to `__next__()` within the `__iter__()` method or the for-loop in your code. However, the call to `__next__()` is made automatically by Python when iterating over an object in a for-loop, not something you need to explicitly write in your `__iter__()` method or when using the loop."
   ]
  },
  {
   "cell_type": "markdown",
   "id": "441eef68",
   "metadata": {},
   "source": [
    "> **Why there is a duplicate line `self.i = 0` in the `__iter__()?`**\n",
    "> \n",
    "> Including self.i = 0 within the `__iter__()` method, even though self.i is initially set to 0 in the `__init__()` method, serves a specific purpose in the context of making the object iterable and allowing it to be iterated over multiple times.\n",
    "> \n",
    "> When an object is first initialized, setting self.i = 0 in `__init__()` establishes the starting point for iteration. However, once you iterate over the object once, self.i will have been incremented with each call to `__next__()` to the point where it reaches the end of the list, causing a StopIteration exception to be raised and signaling the end of the iteration.\n",
    "\n"
   ]
  },
  {
   "cell_type": "code",
   "execution_count": 20,
   "id": "968a4161-1c1b-4ac3-b1dc-6ea457814f36",
   "metadata": {},
   "outputs": [
    {
     "name": "stdout",
     "output_type": "stream",
     "text": [
      "BoringList.__iter__() called\n",
      "BoringListIterator object created\n",
      "BoringListItator.__next__() called\n",
      "1\n",
      "BoringListItator.__next__() called\n",
      "2\n",
      "BoringListItator.__next__() called\n",
      "3\n",
      "BoringListItator.__next__() called\n",
      "StopIteration\n"
     ]
    }
   ],
   "source": [
    "# now this again works\n",
    "boringL = BoringList([1, 2, 3])\n",
    "for w in boringL:\n",
    "    print(w)"
   ]
  },
  {
   "cell_type": "code",
   "execution_count": null,
   "id": "8705eb55",
   "metadata": {},
   "outputs": [],
   "source": []
  }
 ],
 "metadata": {
  "kernelspec": {
   "display_name": "Python 3 (ipykernel)",
   "language": "python",
   "name": "python3"
  },
  "language_info": {
   "codemirror_mode": {
    "name": "ipython",
    "version": 3
   },
   "file_extension": ".py",
   "mimetype": "text/x-python",
   "name": "python",
   "nbconvert_exporter": "python",
   "pygments_lexer": "ipython3",
   "version": "3.12.2"
  }
 },
 "nbformat": 4,
 "nbformat_minor": 5
}
