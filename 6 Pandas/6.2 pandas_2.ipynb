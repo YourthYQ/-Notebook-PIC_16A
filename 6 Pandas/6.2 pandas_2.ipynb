{
 "cells": [
  {
   "cell_type": "markdown",
   "id": "1bed532b-117d-49b1-ab4b-e8df1550021c",
   "metadata": {},
   "source": [
    "# Pandas 2\n",
    "Wednesday: Pandas dataframe and indexing\n",
    "\n",
    "Friday: More Pandas "
   ]
  },
  {
   "cell_type": "code",
   "execution_count": 23,
   "id": "0fe867cb-7af5-4c40-97a8-9114bd3048a1",
   "metadata": {
    "tags": []
   },
   "outputs": [],
   "source": [
    "import urllib\n",
    "\n",
    "url = \"https://philchodrow.github.io/PIC16A/datasets/palmer_penguins.csv\"\n",
    "filedata = urllib.request.urlopen(url)\n",
    "to_write = filedata.read()\n",
    "\n",
    "with open(\"palmer_penguins.csv\", \"wb\") as f:\n",
    "    f.write(to_write)"
   ]
  },
  {
   "cell_type": "code",
   "execution_count": 24,
   "id": "f8595019-7b29-4fd7-a1a2-686cc647a92f",
   "metadata": {
    "tags": []
   },
   "outputs": [],
   "source": [
    "import pandas as pd\n",
    "import numpy as np"
   ]
  },
  {
   "cell_type": "code",
   "execution_count": 25,
   "id": "9b1affb5-eb69-4ef7-8d72-9abe14d83e9b",
   "metadata": {
    "tags": []
   },
   "outputs": [
    {
     "data": {
      "text/html": [
       "<div>\n",
       "<style scoped>\n",
       "    .dataframe tbody tr th:only-of-type {\n",
       "        vertical-align: middle;\n",
       "    }\n",
       "\n",
       "    .dataframe tbody tr th {\n",
       "        vertical-align: top;\n",
       "    }\n",
       "\n",
       "    .dataframe thead th {\n",
       "        text-align: right;\n",
       "    }\n",
       "</style>\n",
       "<table border=\"1\" class=\"dataframe\">\n",
       "  <thead>\n",
       "    <tr style=\"text-align: right;\">\n",
       "      <th></th>\n",
       "      <th>studyName</th>\n",
       "      <th>Sample Number</th>\n",
       "      <th>Species</th>\n",
       "      <th>Region</th>\n",
       "      <th>Island</th>\n",
       "      <th>Stage</th>\n",
       "      <th>Individual ID</th>\n",
       "      <th>Clutch Completion</th>\n",
       "      <th>Date Egg</th>\n",
       "      <th>Culmen Length (mm)</th>\n",
       "      <th>Culmen Depth (mm)</th>\n",
       "      <th>Flipper Length (mm)</th>\n",
       "      <th>Body Mass (g)</th>\n",
       "      <th>Sex</th>\n",
       "      <th>Delta 15 N (o/oo)</th>\n",
       "      <th>Delta 13 C (o/oo)</th>\n",
       "      <th>Comments</th>\n",
       "    </tr>\n",
       "  </thead>\n",
       "  <tbody>\n",
       "    <tr>\n",
       "      <th>0</th>\n",
       "      <td>PAL0708</td>\n",
       "      <td>1</td>\n",
       "      <td>Adelie Penguin (Pygoscelis adeliae)</td>\n",
       "      <td>Anvers</td>\n",
       "      <td>Torgersen</td>\n",
       "      <td>Adult, 1 Egg Stage</td>\n",
       "      <td>N1A1</td>\n",
       "      <td>Yes</td>\n",
       "      <td>11/11/07</td>\n",
       "      <td>39.1</td>\n",
       "      <td>18.7</td>\n",
       "      <td>181.0</td>\n",
       "      <td>3750.0</td>\n",
       "      <td>MALE</td>\n",
       "      <td>NaN</td>\n",
       "      <td>NaN</td>\n",
       "      <td>Not enough blood for isotopes.</td>\n",
       "    </tr>\n",
       "    <tr>\n",
       "      <th>1</th>\n",
       "      <td>PAL0708</td>\n",
       "      <td>2</td>\n",
       "      <td>Adelie Penguin (Pygoscelis adeliae)</td>\n",
       "      <td>Anvers</td>\n",
       "      <td>Torgersen</td>\n",
       "      <td>Adult, 1 Egg Stage</td>\n",
       "      <td>N1A2</td>\n",
       "      <td>Yes</td>\n",
       "      <td>11/11/07</td>\n",
       "      <td>39.5</td>\n",
       "      <td>17.4</td>\n",
       "      <td>186.0</td>\n",
       "      <td>3800.0</td>\n",
       "      <td>FEMALE</td>\n",
       "      <td>8.94956</td>\n",
       "      <td>-24.69454</td>\n",
       "      <td>NaN</td>\n",
       "    </tr>\n",
       "    <tr>\n",
       "      <th>2</th>\n",
       "      <td>PAL0708</td>\n",
       "      <td>3</td>\n",
       "      <td>Adelie Penguin (Pygoscelis adeliae)</td>\n",
       "      <td>Anvers</td>\n",
       "      <td>Torgersen</td>\n",
       "      <td>Adult, 1 Egg Stage</td>\n",
       "      <td>N2A1</td>\n",
       "      <td>Yes</td>\n",
       "      <td>11/16/07</td>\n",
       "      <td>40.3</td>\n",
       "      <td>18.0</td>\n",
       "      <td>195.0</td>\n",
       "      <td>3250.0</td>\n",
       "      <td>FEMALE</td>\n",
       "      <td>8.36821</td>\n",
       "      <td>-25.33302</td>\n",
       "      <td>NaN</td>\n",
       "    </tr>\n",
       "    <tr>\n",
       "      <th>3</th>\n",
       "      <td>PAL0708</td>\n",
       "      <td>4</td>\n",
       "      <td>Adelie Penguin (Pygoscelis adeliae)</td>\n",
       "      <td>Anvers</td>\n",
       "      <td>Torgersen</td>\n",
       "      <td>Adult, 1 Egg Stage</td>\n",
       "      <td>N2A2</td>\n",
       "      <td>Yes</td>\n",
       "      <td>11/16/07</td>\n",
       "      <td>NaN</td>\n",
       "      <td>NaN</td>\n",
       "      <td>NaN</td>\n",
       "      <td>NaN</td>\n",
       "      <td>NaN</td>\n",
       "      <td>NaN</td>\n",
       "      <td>NaN</td>\n",
       "      <td>Adult not sampled.</td>\n",
       "    </tr>\n",
       "    <tr>\n",
       "      <th>4</th>\n",
       "      <td>PAL0708</td>\n",
       "      <td>5</td>\n",
       "      <td>Adelie Penguin (Pygoscelis adeliae)</td>\n",
       "      <td>Anvers</td>\n",
       "      <td>Torgersen</td>\n",
       "      <td>Adult, 1 Egg Stage</td>\n",
       "      <td>N3A1</td>\n",
       "      <td>Yes</td>\n",
       "      <td>11/16/07</td>\n",
       "      <td>36.7</td>\n",
       "      <td>19.3</td>\n",
       "      <td>193.0</td>\n",
       "      <td>3450.0</td>\n",
       "      <td>FEMALE</td>\n",
       "      <td>8.76651</td>\n",
       "      <td>-25.32426</td>\n",
       "      <td>NaN</td>\n",
       "    </tr>\n",
       "  </tbody>\n",
       "</table>\n",
       "</div>"
      ],
      "text/plain": [
       "  studyName  Sample Number                              Species  Region  \\\n",
       "0   PAL0708              1  Adelie Penguin (Pygoscelis adeliae)  Anvers   \n",
       "1   PAL0708              2  Adelie Penguin (Pygoscelis adeliae)  Anvers   \n",
       "2   PAL0708              3  Adelie Penguin (Pygoscelis adeliae)  Anvers   \n",
       "3   PAL0708              4  Adelie Penguin (Pygoscelis adeliae)  Anvers   \n",
       "4   PAL0708              5  Adelie Penguin (Pygoscelis adeliae)  Anvers   \n",
       "\n",
       "      Island               Stage Individual ID Clutch Completion  Date Egg  \\\n",
       "0  Torgersen  Adult, 1 Egg Stage          N1A1               Yes  11/11/07   \n",
       "1  Torgersen  Adult, 1 Egg Stage          N1A2               Yes  11/11/07   \n",
       "2  Torgersen  Adult, 1 Egg Stage          N2A1               Yes  11/16/07   \n",
       "3  Torgersen  Adult, 1 Egg Stage          N2A2               Yes  11/16/07   \n",
       "4  Torgersen  Adult, 1 Egg Stage          N3A1               Yes  11/16/07   \n",
       "\n",
       "   Culmen Length (mm)  Culmen Depth (mm)  Flipper Length (mm)  Body Mass (g)  \\\n",
       "0                39.1               18.7                181.0         3750.0   \n",
       "1                39.5               17.4                186.0         3800.0   \n",
       "2                40.3               18.0                195.0         3250.0   \n",
       "3                 NaN                NaN                  NaN            NaN   \n",
       "4                36.7               19.3                193.0         3450.0   \n",
       "\n",
       "      Sex  Delta 15 N (o/oo)  Delta 13 C (o/oo)  \\\n",
       "0    MALE                NaN                NaN   \n",
       "1  FEMALE            8.94956          -24.69454   \n",
       "2  FEMALE            8.36821          -25.33302   \n",
       "3     NaN                NaN                NaN   \n",
       "4  FEMALE            8.76651          -25.32426   \n",
       "\n",
       "                         Comments  \n",
       "0  Not enough blood for isotopes.  \n",
       "1                             NaN  \n",
       "2                             NaN  \n",
       "3              Adult not sampled.  \n",
       "4                             NaN  "
      ]
     },
     "execution_count": 25,
     "metadata": {},
     "output_type": "execute_result"
    }
   ],
   "source": [
    "penguins = pd.read_csv('palmer_penguins.csv') # read csv file, save it as DataFrame\n",
    "penguins.head() # what does this do? shows the first five lines"
   ]
  },
  {
   "cell_type": "code",
   "execution_count": 26,
   "id": "6490186a-ea79-462f-9093-d3f5bf2d784d",
   "metadata": {
    "tags": []
   },
   "outputs": [
    {
     "data": {
      "text/html": [
       "<div>\n",
       "<style scoped>\n",
       "    .dataframe tbody tr th:only-of-type {\n",
       "        vertical-align: middle;\n",
       "    }\n",
       "\n",
       "    .dataframe tbody tr th {\n",
       "        vertical-align: top;\n",
       "    }\n",
       "\n",
       "    .dataframe thead th {\n",
       "        text-align: right;\n",
       "    }\n",
       "</style>\n",
       "<table border=\"1\" class=\"dataframe\">\n",
       "  <thead>\n",
       "    <tr style=\"text-align: right;\">\n",
       "      <th></th>\n",
       "      <th>Species</th>\n",
       "      <th>Region</th>\n",
       "      <th>Island</th>\n",
       "      <th>Culmen Length (mm)</th>\n",
       "      <th>Culmen Depth (mm)</th>\n",
       "      <th>Sex</th>\n",
       "    </tr>\n",
       "  </thead>\n",
       "  <tbody>\n",
       "    <tr>\n",
       "      <th>0</th>\n",
       "      <td>Adelie Penguin (Pygoscelis adeliae)</td>\n",
       "      <td>Anvers</td>\n",
       "      <td>Torgersen</td>\n",
       "      <td>39.1</td>\n",
       "      <td>18.7</td>\n",
       "      <td>MALE</td>\n",
       "    </tr>\n",
       "    <tr>\n",
       "      <th>1</th>\n",
       "      <td>Adelie Penguin (Pygoscelis adeliae)</td>\n",
       "      <td>Anvers</td>\n",
       "      <td>Torgersen</td>\n",
       "      <td>39.5</td>\n",
       "      <td>17.4</td>\n",
       "      <td>FEMALE</td>\n",
       "    </tr>\n",
       "    <tr>\n",
       "      <th>2</th>\n",
       "      <td>Adelie Penguin (Pygoscelis adeliae)</td>\n",
       "      <td>Anvers</td>\n",
       "      <td>Torgersen</td>\n",
       "      <td>40.3</td>\n",
       "      <td>18.0</td>\n",
       "      <td>FEMALE</td>\n",
       "    </tr>\n",
       "    <tr>\n",
       "      <th>3</th>\n",
       "      <td>Adelie Penguin (Pygoscelis adeliae)</td>\n",
       "      <td>Anvers</td>\n",
       "      <td>Torgersen</td>\n",
       "      <td>NaN</td>\n",
       "      <td>NaN</td>\n",
       "      <td>NaN</td>\n",
       "    </tr>\n",
       "    <tr>\n",
       "      <th>4</th>\n",
       "      <td>Adelie Penguin (Pygoscelis adeliae)</td>\n",
       "      <td>Anvers</td>\n",
       "      <td>Torgersen</td>\n",
       "      <td>36.7</td>\n",
       "      <td>19.3</td>\n",
       "      <td>FEMALE</td>\n",
       "    </tr>\n",
       "  </tbody>\n",
       "</table>\n",
       "</div>"
      ],
      "text/plain": [
       "                               Species  Region     Island  Culmen Length (mm)  \\\n",
       "0  Adelie Penguin (Pygoscelis adeliae)  Anvers  Torgersen                39.1   \n",
       "1  Adelie Penguin (Pygoscelis adeliae)  Anvers  Torgersen                39.5   \n",
       "2  Adelie Penguin (Pygoscelis adeliae)  Anvers  Torgersen                40.3   \n",
       "3  Adelie Penguin (Pygoscelis adeliae)  Anvers  Torgersen                 NaN   \n",
       "4  Adelie Penguin (Pygoscelis adeliae)  Anvers  Torgersen                36.7   \n",
       "\n",
       "   Culmen Depth (mm)     Sex  \n",
       "0               18.7    MALE  \n",
       "1               17.4  FEMALE  \n",
       "2               18.0  FEMALE  \n",
       "3                NaN     NaN  \n",
       "4               19.3  FEMALE  "
      ]
     },
     "execution_count": 26,
     "metadata": {},
     "output_type": "execute_result"
    }
   ],
   "source": [
    "cols = [\"Species\", \"Region\", \"Island\", \"Culmen Length (mm)\", \"Culmen Depth (mm)\", \"Sex\"]\n",
    "penguins = penguins[cols]\n",
    "penguins.head()\n",
    "# what did this do? only take the columns in col from penguins, and save it as penguins"
   ]
  },
  {
   "cell_type": "code",
   "execution_count": 27,
   "id": "9be1b082-26a7-4894-8923-bf9a2e9aaffb",
   "metadata": {
    "tags": []
   },
   "outputs": [
    {
     "data": {
      "text/html": [
       "<div>\n",
       "<style scoped>\n",
       "    .dataframe tbody tr th:only-of-type {\n",
       "        vertical-align: middle;\n",
       "    }\n",
       "\n",
       "    .dataframe tbody tr th {\n",
       "        vertical-align: top;\n",
       "    }\n",
       "\n",
       "    .dataframe thead th {\n",
       "        text-align: right;\n",
       "    }\n",
       "</style>\n",
       "<table border=\"1\" class=\"dataframe\">\n",
       "  <thead>\n",
       "    <tr style=\"text-align: right;\">\n",
       "      <th></th>\n",
       "      <th>Species</th>\n",
       "      <th>Region</th>\n",
       "      <th>Island</th>\n",
       "      <th>Culmen Length (mm)</th>\n",
       "      <th>Culmen Depth (mm)</th>\n",
       "      <th>Sex</th>\n",
       "      <th>Culmen Length (cm)</th>\n",
       "    </tr>\n",
       "  </thead>\n",
       "  <tbody>\n",
       "    <tr>\n",
       "      <th>0</th>\n",
       "      <td>Adelie Penguin (Pygoscelis adeliae)</td>\n",
       "      <td>Anvers</td>\n",
       "      <td>Torgersen</td>\n",
       "      <td>39.1</td>\n",
       "      <td>18.7</td>\n",
       "      <td>MALE</td>\n",
       "      <td>3.91</td>\n",
       "    </tr>\n",
       "    <tr>\n",
       "      <th>1</th>\n",
       "      <td>Adelie Penguin (Pygoscelis adeliae)</td>\n",
       "      <td>Anvers</td>\n",
       "      <td>Torgersen</td>\n",
       "      <td>39.5</td>\n",
       "      <td>17.4</td>\n",
       "      <td>FEMALE</td>\n",
       "      <td>3.95</td>\n",
       "    </tr>\n",
       "    <tr>\n",
       "      <th>2</th>\n",
       "      <td>Adelie Penguin (Pygoscelis adeliae)</td>\n",
       "      <td>Anvers</td>\n",
       "      <td>Torgersen</td>\n",
       "      <td>40.3</td>\n",
       "      <td>18.0</td>\n",
       "      <td>FEMALE</td>\n",
       "      <td>4.03</td>\n",
       "    </tr>\n",
       "    <tr>\n",
       "      <th>3</th>\n",
       "      <td>Adelie Penguin (Pygoscelis adeliae)</td>\n",
       "      <td>Anvers</td>\n",
       "      <td>Torgersen</td>\n",
       "      <td>NaN</td>\n",
       "      <td>NaN</td>\n",
       "      <td>NaN</td>\n",
       "      <td>NaN</td>\n",
       "    </tr>\n",
       "    <tr>\n",
       "      <th>4</th>\n",
       "      <td>Adelie Penguin (Pygoscelis adeliae)</td>\n",
       "      <td>Anvers</td>\n",
       "      <td>Torgersen</td>\n",
       "      <td>36.7</td>\n",
       "      <td>19.3</td>\n",
       "      <td>FEMALE</td>\n",
       "      <td>3.67</td>\n",
       "    </tr>\n",
       "  </tbody>\n",
       "</table>\n",
       "</div>"
      ],
      "text/plain": [
       "                               Species  Region     Island  Culmen Length (mm)  \\\n",
       "0  Adelie Penguin (Pygoscelis adeliae)  Anvers  Torgersen                39.1   \n",
       "1  Adelie Penguin (Pygoscelis adeliae)  Anvers  Torgersen                39.5   \n",
       "2  Adelie Penguin (Pygoscelis adeliae)  Anvers  Torgersen                40.3   \n",
       "3  Adelie Penguin (Pygoscelis adeliae)  Anvers  Torgersen                 NaN   \n",
       "4  Adelie Penguin (Pygoscelis adeliae)  Anvers  Torgersen                36.7   \n",
       "\n",
       "   Culmen Depth (mm)     Sex  Culmen Length (cm)  \n",
       "0               18.7    MALE                3.91  \n",
       "1               17.4  FEMALE                3.95  \n",
       "2               18.0  FEMALE                4.03  \n",
       "3                NaN     NaN                 NaN  \n",
       "4               19.3  FEMALE                3.67  "
      ]
     },
     "execution_count": 27,
     "metadata": {},
     "output_type": "execute_result"
    }
   ],
   "source": [
    "penguins[\"Culmen Length (cm)\"] = penguins[\"Culmen Length (mm)\"]/10 # makes a new column, similar to making new dictionary key-value pair\n",
    "penguins.head()"
   ]
  },
  {
   "cell_type": "code",
   "execution_count": 28,
   "id": "b6dff993-4c2c-414d-a3ba-2226c68b0412",
   "metadata": {
    "tags": []
   },
   "outputs": [
    {
     "data": {
      "text/html": [
       "<div>\n",
       "<style scoped>\n",
       "    .dataframe tbody tr th:only-of-type {\n",
       "        vertical-align: middle;\n",
       "    }\n",
       "\n",
       "    .dataframe tbody tr th {\n",
       "        vertical-align: top;\n",
       "    }\n",
       "\n",
       "    .dataframe thead th {\n",
       "        text-align: right;\n",
       "    }\n",
       "</style>\n",
       "<table border=\"1\" class=\"dataframe\">\n",
       "  <thead>\n",
       "    <tr style=\"text-align: right;\">\n",
       "      <th></th>\n",
       "      <th>Species</th>\n",
       "      <th>Region</th>\n",
       "      <th>Island</th>\n",
       "      <th>Culmen Length (mm)</th>\n",
       "      <th>Culmen Depth (mm)</th>\n",
       "      <th>Sex</th>\n",
       "      <th>Culmen Length (cm)</th>\n",
       "      <th>Anvers</th>\n",
       "    </tr>\n",
       "  </thead>\n",
       "  <tbody>\n",
       "    <tr>\n",
       "      <th>0</th>\n",
       "      <td>Adelie Penguin (Pygoscelis adeliae)</td>\n",
       "      <td>Anvers</td>\n",
       "      <td>Torgersen</td>\n",
       "      <td>39.1</td>\n",
       "      <td>18.7</td>\n",
       "      <td>MALE</td>\n",
       "      <td>3.91</td>\n",
       "      <td>True</td>\n",
       "    </tr>\n",
       "    <tr>\n",
       "      <th>1</th>\n",
       "      <td>Adelie Penguin (Pygoscelis adeliae)</td>\n",
       "      <td>Anvers</td>\n",
       "      <td>Torgersen</td>\n",
       "      <td>39.5</td>\n",
       "      <td>17.4</td>\n",
       "      <td>FEMALE</td>\n",
       "      <td>3.95</td>\n",
       "      <td>True</td>\n",
       "    </tr>\n",
       "    <tr>\n",
       "      <th>2</th>\n",
       "      <td>Adelie Penguin (Pygoscelis adeliae)</td>\n",
       "      <td>Anvers</td>\n",
       "      <td>Torgersen</td>\n",
       "      <td>40.3</td>\n",
       "      <td>18.0</td>\n",
       "      <td>FEMALE</td>\n",
       "      <td>4.03</td>\n",
       "      <td>True</td>\n",
       "    </tr>\n",
       "    <tr>\n",
       "      <th>3</th>\n",
       "      <td>Adelie Penguin (Pygoscelis adeliae)</td>\n",
       "      <td>Anvers</td>\n",
       "      <td>Torgersen</td>\n",
       "      <td>NaN</td>\n",
       "      <td>NaN</td>\n",
       "      <td>NaN</td>\n",
       "      <td>NaN</td>\n",
       "      <td>True</td>\n",
       "    </tr>\n",
       "    <tr>\n",
       "      <th>4</th>\n",
       "      <td>Adelie Penguin (Pygoscelis adeliae)</td>\n",
       "      <td>Anvers</td>\n",
       "      <td>Torgersen</td>\n",
       "      <td>36.7</td>\n",
       "      <td>19.3</td>\n",
       "      <td>FEMALE</td>\n",
       "      <td>3.67</td>\n",
       "      <td>True</td>\n",
       "    </tr>\n",
       "  </tbody>\n",
       "</table>\n",
       "</div>"
      ],
      "text/plain": [
       "                               Species  Region     Island  Culmen Length (mm)  \\\n",
       "0  Adelie Penguin (Pygoscelis adeliae)  Anvers  Torgersen                39.1   \n",
       "1  Adelie Penguin (Pygoscelis adeliae)  Anvers  Torgersen                39.5   \n",
       "2  Adelie Penguin (Pygoscelis adeliae)  Anvers  Torgersen                40.3   \n",
       "3  Adelie Penguin (Pygoscelis adeliae)  Anvers  Torgersen                 NaN   \n",
       "4  Adelie Penguin (Pygoscelis adeliae)  Anvers  Torgersen                36.7   \n",
       "\n",
       "   Culmen Depth (mm)     Sex  Culmen Length (cm)  Anvers  \n",
       "0               18.7    MALE                3.91    True  \n",
       "1               17.4  FEMALE                3.95    True  \n",
       "2               18.0  FEMALE                4.03    True  \n",
       "3                NaN     NaN                 NaN    True  \n",
       "4               19.3  FEMALE                3.67    True  "
      ]
     },
     "execution_count": 28,
     "metadata": {},
     "output_type": "execute_result"
    }
   ],
   "source": [
    "penguins[\"Anvers\"] = (penguins[\"Region\"] == \"Anvers\")\n",
    "penguins.head()"
   ]
  },
  {
   "cell_type": "code",
   "execution_count": 29,
   "id": "019dbfc3-4218-46ed-9fde-9ae4d90a0d95",
   "metadata": {
    "tags": []
   },
   "outputs": [
    {
     "data": {
      "text/html": [
       "<div>\n",
       "<style scoped>\n",
       "    .dataframe tbody tr th:only-of-type {\n",
       "        vertical-align: middle;\n",
       "    }\n",
       "\n",
       "    .dataframe tbody tr th {\n",
       "        vertical-align: top;\n",
       "    }\n",
       "\n",
       "    .dataframe thead th {\n",
       "        text-align: right;\n",
       "    }\n",
       "</style>\n",
       "<table border=\"1\" class=\"dataframe\">\n",
       "  <thead>\n",
       "    <tr style=\"text-align: right;\">\n",
       "      <th></th>\n",
       "      <th>Species</th>\n",
       "      <th>Region</th>\n",
       "      <th>Island</th>\n",
       "      <th>Culmen Length (mm)</th>\n",
       "      <th>Culmen Length (cm)</th>\n",
       "      <th>Culmen Depth (mm)</th>\n",
       "      <th>Sex</th>\n",
       "      <th>Anvers</th>\n",
       "    </tr>\n",
       "  </thead>\n",
       "  <tbody>\n",
       "    <tr>\n",
       "      <th>0</th>\n",
       "      <td>Adelie Penguin (Pygoscelis adeliae)</td>\n",
       "      <td>Anvers</td>\n",
       "      <td>Torgersen</td>\n",
       "      <td>39.1</td>\n",
       "      <td>3.91</td>\n",
       "      <td>18.7</td>\n",
       "      <td>MALE</td>\n",
       "      <td>True</td>\n",
       "    </tr>\n",
       "    <tr>\n",
       "      <th>1</th>\n",
       "      <td>Adelie Penguin (Pygoscelis adeliae)</td>\n",
       "      <td>Anvers</td>\n",
       "      <td>Torgersen</td>\n",
       "      <td>39.5</td>\n",
       "      <td>3.95</td>\n",
       "      <td>17.4</td>\n",
       "      <td>FEMALE</td>\n",
       "      <td>True</td>\n",
       "    </tr>\n",
       "    <tr>\n",
       "      <th>2</th>\n",
       "      <td>Adelie Penguin (Pygoscelis adeliae)</td>\n",
       "      <td>Anvers</td>\n",
       "      <td>Torgersen</td>\n",
       "      <td>40.3</td>\n",
       "      <td>4.03</td>\n",
       "      <td>18.0</td>\n",
       "      <td>FEMALE</td>\n",
       "      <td>True</td>\n",
       "    </tr>\n",
       "    <tr>\n",
       "      <th>3</th>\n",
       "      <td>Adelie Penguin (Pygoscelis adeliae)</td>\n",
       "      <td>Anvers</td>\n",
       "      <td>Torgersen</td>\n",
       "      <td>NaN</td>\n",
       "      <td>NaN</td>\n",
       "      <td>NaN</td>\n",
       "      <td>NaN</td>\n",
       "      <td>True</td>\n",
       "    </tr>\n",
       "    <tr>\n",
       "      <th>4</th>\n",
       "      <td>Adelie Penguin (Pygoscelis adeliae)</td>\n",
       "      <td>Anvers</td>\n",
       "      <td>Torgersen</td>\n",
       "      <td>36.7</td>\n",
       "      <td>3.67</td>\n",
       "      <td>19.3</td>\n",
       "      <td>FEMALE</td>\n",
       "      <td>True</td>\n",
       "    </tr>\n",
       "  </tbody>\n",
       "</table>\n",
       "</div>"
      ],
      "text/plain": [
       "                               Species  Region     Island  Culmen Length (mm)  \\\n",
       "0  Adelie Penguin (Pygoscelis adeliae)  Anvers  Torgersen                39.1   \n",
       "1  Adelie Penguin (Pygoscelis adeliae)  Anvers  Torgersen                39.5   \n",
       "2  Adelie Penguin (Pygoscelis adeliae)  Anvers  Torgersen                40.3   \n",
       "3  Adelie Penguin (Pygoscelis adeliae)  Anvers  Torgersen                 NaN   \n",
       "4  Adelie Penguin (Pygoscelis adeliae)  Anvers  Torgersen                36.7   \n",
       "\n",
       "   Culmen Length (cm)  Culmen Depth (mm)     Sex  Anvers  \n",
       "0                3.91               18.7    MALE    True  \n",
       "1                3.95               17.4  FEMALE    True  \n",
       "2                4.03               18.0  FEMALE    True  \n",
       "3                 NaN                NaN     NaN    True  \n",
       "4                3.67               19.3  FEMALE    True  "
      ]
     },
     "execution_count": 29,
     "metadata": {},
     "output_type": "execute_result"
    }
   ],
   "source": [
    "cols = [\"Species\", \"Region\", \"Island\", \"Culmen Length (mm)\", \"Culmen Length (cm)\", \"Culmen Depth (mm)\", \"Sex\", \"Anvers\"]\n",
    "penguins = penguins[cols] # rearrange column order\n",
    "penguins.head()"
   ]
  },
  {
   "cell_type": "markdown",
   "id": "a094ab6c-fe32-4e39-ac09-0aa16651cfe8",
   "metadata": {},
   "source": [
    "## Numerical columns in pandas, aggregation functions\n",
    "\n",
    "Descriptive data summarization is one of the fundamental processes of exploratory data analysis. The `pandas` package offers us a powerful suite of tools for creating summaries. \n",
    "\n",
    "Because the columns of a data frame behave a lot like `numpy` arrays, we can use standard methods to compute summary statistics. Here are a few examples. "
   ]
  },
  {
   "cell_type": "code",
   "execution_count": 30,
   "id": "f383c8d3-8d04-49a6-8516-3c9e76c18410",
   "metadata": {
    "tags": []
   },
   "outputs": [
    {
     "data": {
      "text/plain": [
       "(0      39.1\n",
       " 1      39.5\n",
       " 2      40.3\n",
       " 3       NaN\n",
       " 4      36.7\n",
       "        ... \n",
       " 339     NaN\n",
       " 340    46.8\n",
       " 341    50.4\n",
       " 342    45.2\n",
       " 343    49.9\n",
       " Name: Culmen Length (mm), Length: 344, dtype: float64,\n",
       " pandas.core.series.Series)"
      ]
     },
     "execution_count": 30,
     "metadata": {},
     "output_type": "execute_result"
    }
   ],
   "source": [
    "x = penguins[\"Culmen Length (mm)\"]\n",
    "x, type(x)"
   ]
  },
  {
   "cell_type": "code",
   "execution_count": 31,
   "id": "a514fef1-524e-4d82-9d66-b14b30c1a23c",
   "metadata": {
    "tags": []
   },
   "outputs": [
    {
     "data": {
      "text/plain": [
       "15021.3"
      ]
     },
     "execution_count": 31,
     "metadata": {},
     "output_type": "execute_result"
    }
   ],
   "source": [
    "x.sum() # get the sum, NaNs are ignored by default"
   ]
  },
  {
   "cell_type": "code",
   "execution_count": 32,
   "id": "4866abae-c3d8-410b-9647-98c2f4b5be52",
   "metadata": {
    "tags": []
   },
   "outputs": [
    {
     "data": {
      "text/plain": [
       "15021.3"
      ]
     },
     "execution_count": 32,
     "metadata": {},
     "output_type": "execute_result"
    }
   ],
   "source": [
    "np.sum(x)"
   ]
  },
  {
   "cell_type": "code",
   "execution_count": 33,
   "id": "1844a581-8eda-4ba2-8f36-1c9c6c68fb21",
   "metadata": {
    "tags": []
   },
   "outputs": [
    {
     "data": {
      "text/plain": [
       "(43.9219298245614, 5.4595837139265315)"
      ]
     },
     "execution_count": 33,
     "metadata": {},
     "output_type": "execute_result"
    }
   ],
   "source": [
    "x.mean(), x.std()"
   ]
  },
  {
   "cell_type": "code",
   "execution_count": 34,
   "id": "0f14fd4e-925e-444a-871d-8718ea753b9a",
   "metadata": {
    "tags": []
   },
   "outputs": [
    {
     "data": {
      "text/plain": [
       "242"
      ]
     },
     "execution_count": 34,
     "metadata": {},
     "output_type": "execute_result"
    }
   ],
   "source": [
    "len(x[x > 40]) # number of culmens longer than 40 mm"
   ]
  },
  {
   "cell_type": "code",
   "execution_count": 35,
   "id": "697b6071-38b0-4516-a286-2a461a548097",
   "metadata": {
    "tags": []
   },
   "outputs": [
    {
     "data": {
      "text/plain": [
       "242"
      ]
     },
     "execution_count": 35,
     "metadata": {},
     "output_type": "execute_result"
    }
   ],
   "source": [
    "(x > 40).sum() # because True -> 1, False -> 0"
   ]
  },
  {
   "cell_type": "markdown",
   "id": "cb5805f6-109c-4d8f-91a5-bcc7b0223739",
   "metadata": {},
   "source": [
    "It's also possible to aggregate the entire data frame at once, in which case `pandas` will attempt to apply the specified function to each column for which this is possible. When passing a numerical aggregation function, non-numeric columns may be ignored with a keyword argument. "
   ]
  },
  {
   "cell_type": "code",
   "execution_count": 36,
   "id": "571b8456-9f61-4fd2-a9e9-15b867c165ad",
   "metadata": {
    "tags": []
   },
   "outputs": [
    {
     "ename": "TypeError",
     "evalue": "can only concatenate str (not \"int\") to str",
     "output_type": "error",
     "traceback": [
      "\u001b[0;31m---------------------------------------------------------------------------\u001b[0m",
      "\u001b[0;31mTypeError\u001b[0m                                 Traceback (most recent call last)",
      "Cell \u001b[0;32mIn[36], line 1\u001b[0m\n\u001b[0;32m----> 1\u001b[0m \u001b[43mpenguins\u001b[49m\u001b[38;5;241;43m.\u001b[39;49m\u001b[43mmean\u001b[49m\u001b[43m(\u001b[49m\u001b[43m)\u001b[49m \u001b[38;5;66;03m# errors with text columns (default behavior changed with the release of pandas 2)\u001b[39;00m\n\u001b[1;32m      3\u001b[0m \u001b[38;5;66;03m# TypeError\u001b[39;00m\n\u001b[1;32m      4\u001b[0m \u001b[38;5;66;03m# This error usually happens because `mean()`` is attempting to calculate the average of all columns, \u001b[39;00m\n\u001b[1;32m      5\u001b[0m \u001b[38;5;66;03m# including those with non-numeric data types (like strings from text columns), which is not possible.\u001b[39;00m\n",
      "File \u001b[0;32m/opt/homebrew/lib/python3.11/site-packages/pandas/core/frame.py:11666\u001b[0m, in \u001b[0;36mDataFrame.mean\u001b[0;34m(self, axis, skipna, numeric_only, **kwargs)\u001b[0m\n\u001b[1;32m  11658\u001b[0m \u001b[38;5;129m@doc\u001b[39m(make_doc(\u001b[38;5;124m\"\u001b[39m\u001b[38;5;124mmean\u001b[39m\u001b[38;5;124m\"\u001b[39m, ndim\u001b[38;5;241m=\u001b[39m\u001b[38;5;241m2\u001b[39m))\n\u001b[1;32m  11659\u001b[0m \u001b[38;5;28;01mdef\u001b[39;00m \u001b[38;5;21mmean\u001b[39m(\n\u001b[1;32m  11660\u001b[0m     \u001b[38;5;28mself\u001b[39m,\n\u001b[0;32m   (...)\u001b[0m\n\u001b[1;32m  11664\u001b[0m     \u001b[38;5;241m*\u001b[39m\u001b[38;5;241m*\u001b[39mkwargs,\n\u001b[1;32m  11665\u001b[0m ):\n\u001b[0;32m> 11666\u001b[0m     result \u001b[38;5;241m=\u001b[39m \u001b[38;5;28;43msuper\u001b[39;49m\u001b[43m(\u001b[49m\u001b[43m)\u001b[49m\u001b[38;5;241;43m.\u001b[39;49m\u001b[43mmean\u001b[49m\u001b[43m(\u001b[49m\u001b[43maxis\u001b[49m\u001b[43m,\u001b[49m\u001b[43m \u001b[49m\u001b[43mskipna\u001b[49m\u001b[43m,\u001b[49m\u001b[43m \u001b[49m\u001b[43mnumeric_only\u001b[49m\u001b[43m,\u001b[49m\u001b[43m \u001b[49m\u001b[38;5;241;43m*\u001b[39;49m\u001b[38;5;241;43m*\u001b[39;49m\u001b[43mkwargs\u001b[49m\u001b[43m)\u001b[49m\n\u001b[1;32m  11667\u001b[0m     \u001b[38;5;28;01mif\u001b[39;00m \u001b[38;5;28misinstance\u001b[39m(result, Series):\n\u001b[1;32m  11668\u001b[0m         result \u001b[38;5;241m=\u001b[39m result\u001b[38;5;241m.\u001b[39m__finalize__(\u001b[38;5;28mself\u001b[39m, method\u001b[38;5;241m=\u001b[39m\u001b[38;5;124m\"\u001b[39m\u001b[38;5;124mmean\u001b[39m\u001b[38;5;124m\"\u001b[39m)\n",
      "File \u001b[0;32m/opt/homebrew/lib/python3.11/site-packages/pandas/core/generic.py:12413\u001b[0m, in \u001b[0;36mNDFrame.mean\u001b[0;34m(self, axis, skipna, numeric_only, **kwargs)\u001b[0m\n\u001b[1;32m  12406\u001b[0m \u001b[38;5;28;01mdef\u001b[39;00m \u001b[38;5;21mmean\u001b[39m(\n\u001b[1;32m  12407\u001b[0m     \u001b[38;5;28mself\u001b[39m,\n\u001b[1;32m  12408\u001b[0m     axis: Axis \u001b[38;5;241m|\u001b[39m \u001b[38;5;28;01mNone\u001b[39;00m \u001b[38;5;241m=\u001b[39m \u001b[38;5;241m0\u001b[39m,\n\u001b[0;32m   (...)\u001b[0m\n\u001b[1;32m  12411\u001b[0m     \u001b[38;5;241m*\u001b[39m\u001b[38;5;241m*\u001b[39mkwargs,\n\u001b[1;32m  12412\u001b[0m ) \u001b[38;5;241m-\u001b[39m\u001b[38;5;241m>\u001b[39m Series \u001b[38;5;241m|\u001b[39m \u001b[38;5;28mfloat\u001b[39m:\n\u001b[0;32m> 12413\u001b[0m     \u001b[38;5;28;01mreturn\u001b[39;00m \u001b[38;5;28;43mself\u001b[39;49m\u001b[38;5;241;43m.\u001b[39;49m\u001b[43m_stat_function\u001b[49m\u001b[43m(\u001b[49m\n\u001b[1;32m  12414\u001b[0m \u001b[43m        \u001b[49m\u001b[38;5;124;43m\"\u001b[39;49m\u001b[38;5;124;43mmean\u001b[39;49m\u001b[38;5;124;43m\"\u001b[39;49m\u001b[43m,\u001b[49m\u001b[43m \u001b[49m\u001b[43mnanops\u001b[49m\u001b[38;5;241;43m.\u001b[39;49m\u001b[43mnanmean\u001b[49m\u001b[43m,\u001b[49m\u001b[43m \u001b[49m\u001b[43maxis\u001b[49m\u001b[43m,\u001b[49m\u001b[43m \u001b[49m\u001b[43mskipna\u001b[49m\u001b[43m,\u001b[49m\u001b[43m \u001b[49m\u001b[43mnumeric_only\u001b[49m\u001b[43m,\u001b[49m\u001b[43m \u001b[49m\u001b[38;5;241;43m*\u001b[39;49m\u001b[38;5;241;43m*\u001b[39;49m\u001b[43mkwargs\u001b[49m\n\u001b[1;32m  12415\u001b[0m \u001b[43m    \u001b[49m\u001b[43m)\u001b[49m\n",
      "File \u001b[0;32m/opt/homebrew/lib/python3.11/site-packages/pandas/core/generic.py:12370\u001b[0m, in \u001b[0;36mNDFrame._stat_function\u001b[0;34m(self, name, func, axis, skipna, numeric_only, **kwargs)\u001b[0m\n\u001b[1;32m  12366\u001b[0m nv\u001b[38;5;241m.\u001b[39mvalidate_func(name, (), kwargs)\n\u001b[1;32m  12368\u001b[0m validate_bool_kwarg(skipna, \u001b[38;5;124m\"\u001b[39m\u001b[38;5;124mskipna\u001b[39m\u001b[38;5;124m\"\u001b[39m, none_allowed\u001b[38;5;241m=\u001b[39m\u001b[38;5;28;01mFalse\u001b[39;00m)\n\u001b[0;32m> 12370\u001b[0m \u001b[38;5;28;01mreturn\u001b[39;00m \u001b[38;5;28;43mself\u001b[39;49m\u001b[38;5;241;43m.\u001b[39;49m\u001b[43m_reduce\u001b[49m\u001b[43m(\u001b[49m\n\u001b[1;32m  12371\u001b[0m \u001b[43m    \u001b[49m\u001b[43mfunc\u001b[49m\u001b[43m,\u001b[49m\u001b[43m \u001b[49m\u001b[43mname\u001b[49m\u001b[38;5;241;43m=\u001b[39;49m\u001b[43mname\u001b[49m\u001b[43m,\u001b[49m\u001b[43m \u001b[49m\u001b[43maxis\u001b[49m\u001b[38;5;241;43m=\u001b[39;49m\u001b[43maxis\u001b[49m\u001b[43m,\u001b[49m\u001b[43m \u001b[49m\u001b[43mskipna\u001b[49m\u001b[38;5;241;43m=\u001b[39;49m\u001b[43mskipna\u001b[49m\u001b[43m,\u001b[49m\u001b[43m \u001b[49m\u001b[43mnumeric_only\u001b[49m\u001b[38;5;241;43m=\u001b[39;49m\u001b[43mnumeric_only\u001b[49m\n\u001b[1;32m  12372\u001b[0m \u001b[43m\u001b[49m\u001b[43m)\u001b[49m\n",
      "File \u001b[0;32m/opt/homebrew/lib/python3.11/site-packages/pandas/core/frame.py:11535\u001b[0m, in \u001b[0;36mDataFrame._reduce\u001b[0;34m(self, op, name, axis, skipna, numeric_only, filter_type, **kwds)\u001b[0m\n\u001b[1;32m  11531\u001b[0m     df \u001b[38;5;241m=\u001b[39m df\u001b[38;5;241m.\u001b[39mT\n\u001b[1;32m  11533\u001b[0m \u001b[38;5;66;03m# After possibly _get_data and transposing, we are now in the\u001b[39;00m\n\u001b[1;32m  11534\u001b[0m \u001b[38;5;66;03m#  simple case where we can use BlockManager.reduce\u001b[39;00m\n\u001b[0;32m> 11535\u001b[0m res \u001b[38;5;241m=\u001b[39m \u001b[43mdf\u001b[49m\u001b[38;5;241;43m.\u001b[39;49m\u001b[43m_mgr\u001b[49m\u001b[38;5;241;43m.\u001b[39;49m\u001b[43mreduce\u001b[49m\u001b[43m(\u001b[49m\u001b[43mblk_func\u001b[49m\u001b[43m)\u001b[49m\n\u001b[1;32m  11536\u001b[0m out \u001b[38;5;241m=\u001b[39m df\u001b[38;5;241m.\u001b[39m_constructor_from_mgr(res, axes\u001b[38;5;241m=\u001b[39mres\u001b[38;5;241m.\u001b[39maxes)\u001b[38;5;241m.\u001b[39miloc[\u001b[38;5;241m0\u001b[39m]\n\u001b[1;32m  11537\u001b[0m \u001b[38;5;28;01mif\u001b[39;00m out_dtype \u001b[38;5;129;01mis\u001b[39;00m \u001b[38;5;129;01mnot\u001b[39;00m \u001b[38;5;28;01mNone\u001b[39;00m \u001b[38;5;129;01mand\u001b[39;00m out\u001b[38;5;241m.\u001b[39mdtype \u001b[38;5;241m!=\u001b[39m \u001b[38;5;124m\"\u001b[39m\u001b[38;5;124mboolean\u001b[39m\u001b[38;5;124m\"\u001b[39m:\n",
      "File \u001b[0;32m/opt/homebrew/lib/python3.11/site-packages/pandas/core/internals/managers.py:1501\u001b[0m, in \u001b[0;36mBlockManager.reduce\u001b[0;34m(self, func)\u001b[0m\n\u001b[1;32m   1499\u001b[0m res_blocks: \u001b[38;5;28mlist\u001b[39m[Block] \u001b[38;5;241m=\u001b[39m []\n\u001b[1;32m   1500\u001b[0m \u001b[38;5;28;01mfor\u001b[39;00m blk \u001b[38;5;129;01min\u001b[39;00m \u001b[38;5;28mself\u001b[39m\u001b[38;5;241m.\u001b[39mblocks:\n\u001b[0;32m-> 1501\u001b[0m     nbs \u001b[38;5;241m=\u001b[39m \u001b[43mblk\u001b[49m\u001b[38;5;241;43m.\u001b[39;49m\u001b[43mreduce\u001b[49m\u001b[43m(\u001b[49m\u001b[43mfunc\u001b[49m\u001b[43m)\u001b[49m\n\u001b[1;32m   1502\u001b[0m     res_blocks\u001b[38;5;241m.\u001b[39mextend(nbs)\n\u001b[1;32m   1504\u001b[0m index \u001b[38;5;241m=\u001b[39m Index([\u001b[38;5;28;01mNone\u001b[39;00m])  \u001b[38;5;66;03m# placeholder\u001b[39;00m\n",
      "File \u001b[0;32m/opt/homebrew/lib/python3.11/site-packages/pandas/core/internals/blocks.py:404\u001b[0m, in \u001b[0;36mBlock.reduce\u001b[0;34m(self, func)\u001b[0m\n\u001b[1;32m    398\u001b[0m \u001b[38;5;129m@final\u001b[39m\n\u001b[1;32m    399\u001b[0m \u001b[38;5;28;01mdef\u001b[39;00m \u001b[38;5;21mreduce\u001b[39m(\u001b[38;5;28mself\u001b[39m, func) \u001b[38;5;241m-\u001b[39m\u001b[38;5;241m>\u001b[39m \u001b[38;5;28mlist\u001b[39m[Block]:\n\u001b[1;32m    400\u001b[0m     \u001b[38;5;66;03m# We will apply the function and reshape the result into a single-row\u001b[39;00m\n\u001b[1;32m    401\u001b[0m     \u001b[38;5;66;03m#  Block with the same mgr_locs; squeezing will be done at a higher level\u001b[39;00m\n\u001b[1;32m    402\u001b[0m     \u001b[38;5;28;01massert\u001b[39;00m \u001b[38;5;28mself\u001b[39m\u001b[38;5;241m.\u001b[39mndim \u001b[38;5;241m==\u001b[39m \u001b[38;5;241m2\u001b[39m\n\u001b[0;32m--> 404\u001b[0m     result \u001b[38;5;241m=\u001b[39m \u001b[43mfunc\u001b[49m\u001b[43m(\u001b[49m\u001b[38;5;28;43mself\u001b[39;49m\u001b[38;5;241;43m.\u001b[39;49m\u001b[43mvalues\u001b[49m\u001b[43m)\u001b[49m\n\u001b[1;32m    406\u001b[0m     \u001b[38;5;28;01mif\u001b[39;00m \u001b[38;5;28mself\u001b[39m\u001b[38;5;241m.\u001b[39mvalues\u001b[38;5;241m.\u001b[39mndim \u001b[38;5;241m==\u001b[39m \u001b[38;5;241m1\u001b[39m:\n\u001b[1;32m    407\u001b[0m         res_values \u001b[38;5;241m=\u001b[39m result\n",
      "File \u001b[0;32m/opt/homebrew/lib/python3.11/site-packages/pandas/core/frame.py:11454\u001b[0m, in \u001b[0;36mDataFrame._reduce.<locals>.blk_func\u001b[0;34m(values, axis)\u001b[0m\n\u001b[1;32m  11452\u001b[0m         \u001b[38;5;28;01mreturn\u001b[39;00m np\u001b[38;5;241m.\u001b[39marray([result])\n\u001b[1;32m  11453\u001b[0m \u001b[38;5;28;01melse\u001b[39;00m:\n\u001b[0;32m> 11454\u001b[0m     \u001b[38;5;28;01mreturn\u001b[39;00m \u001b[43mop\u001b[49m\u001b[43m(\u001b[49m\u001b[43mvalues\u001b[49m\u001b[43m,\u001b[49m\u001b[43m \u001b[49m\u001b[43maxis\u001b[49m\u001b[38;5;241;43m=\u001b[39;49m\u001b[43maxis\u001b[49m\u001b[43m,\u001b[49m\u001b[43m \u001b[49m\u001b[43mskipna\u001b[49m\u001b[38;5;241;43m=\u001b[39;49m\u001b[43mskipna\u001b[49m\u001b[43m,\u001b[49m\u001b[43m \u001b[49m\u001b[38;5;241;43m*\u001b[39;49m\u001b[38;5;241;43m*\u001b[39;49m\u001b[43mkwds\u001b[49m\u001b[43m)\u001b[49m\n",
      "File \u001b[0;32m/opt/homebrew/lib/python3.11/site-packages/pandas/core/nanops.py:147\u001b[0m, in \u001b[0;36mbottleneck_switch.__call__.<locals>.f\u001b[0;34m(values, axis, skipna, **kwds)\u001b[0m\n\u001b[1;32m    145\u001b[0m         result \u001b[38;5;241m=\u001b[39m alt(values, axis\u001b[38;5;241m=\u001b[39maxis, skipna\u001b[38;5;241m=\u001b[39mskipna, \u001b[38;5;241m*\u001b[39m\u001b[38;5;241m*\u001b[39mkwds)\n\u001b[1;32m    146\u001b[0m \u001b[38;5;28;01melse\u001b[39;00m:\n\u001b[0;32m--> 147\u001b[0m     result \u001b[38;5;241m=\u001b[39m \u001b[43malt\u001b[49m\u001b[43m(\u001b[49m\u001b[43mvalues\u001b[49m\u001b[43m,\u001b[49m\u001b[43m \u001b[49m\u001b[43maxis\u001b[49m\u001b[38;5;241;43m=\u001b[39;49m\u001b[43maxis\u001b[49m\u001b[43m,\u001b[49m\u001b[43m \u001b[49m\u001b[43mskipna\u001b[49m\u001b[38;5;241;43m=\u001b[39;49m\u001b[43mskipna\u001b[49m\u001b[43m,\u001b[49m\u001b[43m \u001b[49m\u001b[38;5;241;43m*\u001b[39;49m\u001b[38;5;241;43m*\u001b[39;49m\u001b[43mkwds\u001b[49m\u001b[43m)\u001b[49m\n\u001b[1;32m    149\u001b[0m \u001b[38;5;28;01mreturn\u001b[39;00m result\n",
      "File \u001b[0;32m/opt/homebrew/lib/python3.11/site-packages/pandas/core/nanops.py:404\u001b[0m, in \u001b[0;36m_datetimelike_compat.<locals>.new_func\u001b[0;34m(values, axis, skipna, mask, **kwargs)\u001b[0m\n\u001b[1;32m    401\u001b[0m \u001b[38;5;28;01mif\u001b[39;00m datetimelike \u001b[38;5;129;01mand\u001b[39;00m mask \u001b[38;5;129;01mis\u001b[39;00m \u001b[38;5;28;01mNone\u001b[39;00m:\n\u001b[1;32m    402\u001b[0m     mask \u001b[38;5;241m=\u001b[39m isna(values)\n\u001b[0;32m--> 404\u001b[0m result \u001b[38;5;241m=\u001b[39m \u001b[43mfunc\u001b[49m\u001b[43m(\u001b[49m\u001b[43mvalues\u001b[49m\u001b[43m,\u001b[49m\u001b[43m \u001b[49m\u001b[43maxis\u001b[49m\u001b[38;5;241;43m=\u001b[39;49m\u001b[43maxis\u001b[49m\u001b[43m,\u001b[49m\u001b[43m \u001b[49m\u001b[43mskipna\u001b[49m\u001b[38;5;241;43m=\u001b[39;49m\u001b[43mskipna\u001b[49m\u001b[43m,\u001b[49m\u001b[43m \u001b[49m\u001b[43mmask\u001b[49m\u001b[38;5;241;43m=\u001b[39;49m\u001b[43mmask\u001b[49m\u001b[43m,\u001b[49m\u001b[43m \u001b[49m\u001b[38;5;241;43m*\u001b[39;49m\u001b[38;5;241;43m*\u001b[39;49m\u001b[43mkwargs\u001b[49m\u001b[43m)\u001b[49m\n\u001b[1;32m    406\u001b[0m \u001b[38;5;28;01mif\u001b[39;00m datetimelike:\n\u001b[1;32m    407\u001b[0m     result \u001b[38;5;241m=\u001b[39m _wrap_results(result, orig_values\u001b[38;5;241m.\u001b[39mdtype, fill_value\u001b[38;5;241m=\u001b[39miNaT)\n",
      "File \u001b[0;32m/opt/homebrew/lib/python3.11/site-packages/pandas/core/nanops.py:719\u001b[0m, in \u001b[0;36mnanmean\u001b[0;34m(values, axis, skipna, mask)\u001b[0m\n\u001b[1;32m    716\u001b[0m     dtype_count \u001b[38;5;241m=\u001b[39m dtype\n\u001b[1;32m    718\u001b[0m count \u001b[38;5;241m=\u001b[39m _get_counts(values\u001b[38;5;241m.\u001b[39mshape, mask, axis, dtype\u001b[38;5;241m=\u001b[39mdtype_count)\n\u001b[0;32m--> 719\u001b[0m the_sum \u001b[38;5;241m=\u001b[39m \u001b[43mvalues\u001b[49m\u001b[38;5;241;43m.\u001b[39;49m\u001b[43msum\u001b[49m\u001b[43m(\u001b[49m\u001b[43maxis\u001b[49m\u001b[43m,\u001b[49m\u001b[43m \u001b[49m\u001b[43mdtype\u001b[49m\u001b[38;5;241;43m=\u001b[39;49m\u001b[43mdtype_sum\u001b[49m\u001b[43m)\u001b[49m\n\u001b[1;32m    720\u001b[0m the_sum \u001b[38;5;241m=\u001b[39m _ensure_numeric(the_sum)\n\u001b[1;32m    722\u001b[0m \u001b[38;5;28;01mif\u001b[39;00m axis \u001b[38;5;129;01mis\u001b[39;00m \u001b[38;5;129;01mnot\u001b[39;00m \u001b[38;5;28;01mNone\u001b[39;00m \u001b[38;5;129;01mand\u001b[39;00m \u001b[38;5;28mgetattr\u001b[39m(the_sum, \u001b[38;5;124m\"\u001b[39m\u001b[38;5;124mndim\u001b[39m\u001b[38;5;124m\"\u001b[39m, \u001b[38;5;28;01mFalse\u001b[39;00m):\n",
      "File \u001b[0;32m/opt/homebrew/lib/python3.11/site-packages/numpy/core/_methods.py:49\u001b[0m, in \u001b[0;36m_sum\u001b[0;34m(a, axis, dtype, out, keepdims, initial, where)\u001b[0m\n\u001b[1;32m     47\u001b[0m \u001b[38;5;28;01mdef\u001b[39;00m \u001b[38;5;21m_sum\u001b[39m(a, axis\u001b[38;5;241m=\u001b[39m\u001b[38;5;28;01mNone\u001b[39;00m, dtype\u001b[38;5;241m=\u001b[39m\u001b[38;5;28;01mNone\u001b[39;00m, out\u001b[38;5;241m=\u001b[39m\u001b[38;5;28;01mNone\u001b[39;00m, keepdims\u001b[38;5;241m=\u001b[39m\u001b[38;5;28;01mFalse\u001b[39;00m,\n\u001b[1;32m     48\u001b[0m          initial\u001b[38;5;241m=\u001b[39m_NoValue, where\u001b[38;5;241m=\u001b[39m\u001b[38;5;28;01mTrue\u001b[39;00m):\n\u001b[0;32m---> 49\u001b[0m     \u001b[38;5;28;01mreturn\u001b[39;00m umr_sum(a, axis, dtype, out, keepdims, initial, where)\n",
      "\u001b[0;31mTypeError\u001b[0m: can only concatenate str (not \"int\") to str"
     ]
    }
   ],
   "source": [
    "penguins.mean() # errors with text columns (default behavior changed with the release of pandas 2)\n",
    "\n",
    "# TypeError\n",
    "# This error usually happens because `mean()`` is attempting to calculate the average of all columns, \n",
    "# including those with non-numeric data types (like strings from text columns), which is not possible."
   ]
  },
  {
   "cell_type": "code",
   "execution_count": 37,
   "id": "61cd2943-3b76-4c8f-be28-dd76e248f171",
   "metadata": {
    "tags": []
   },
   "outputs": [
    {
     "data": {
      "text/plain": [
       "Culmen Length (mm)    43.921930\n",
       "Culmen Length (cm)     4.392193\n",
       "Culmen Depth (mm)     17.151170\n",
       "Anvers                 1.000000\n",
       "dtype: float64"
      ]
     },
     "execution_count": 37,
     "metadata": {},
     "output_type": "execute_result"
    }
   ],
   "source": [
    "penguins.mean(numeric_only=True) # only find the mean of coloums that with a True while checking their numeric_value"
   ]
  },
  {
   "cell_type": "markdown",
   "id": "fff67a3e",
   "metadata": {},
   "source": [
    "**`NA`** stands for \"Not Available\" or \"Missing Data\" in Data Analysis & Statistics. It is used to denote values that are missing or undefined in a dataset."
   ]
  },
  {
   "cell_type": "markdown",
   "id": "e293ee11",
   "metadata": {},
   "source": [
    "### `DataFrame.count()`\n",
    "This method is used to count **non-NA** across the given column.\n",
    "\n",
    "It will return the count of **non-NA / non-missing** values for each column in the DataFrame. \n",
    "\n",
    "This method is particularly useful for identifying columns with missing data, as the counts will be less than the total number of rows for columns that contain missing (NA) values."
   ]
  },
  {
   "cell_type": "markdown",
   "id": "ea051993",
   "metadata": {},
   "source": [
    "Here's how it works:\n",
    "\n",
    "**For each column**: The method tallies the number of entries that are not NA/null. This includes numbers, strings, and other non-null data.\n",
    "\n",
    "**Excludes NA/Null values**: Only the entries that have valid data are counted. Any entry that is NaN (Not a Number) or None in Python (pandas' representation of missing data) is not included in the count."
   ]
  },
  {
   "cell_type": "code",
   "execution_count": 38,
   "id": "47eed25e-eb4b-49aa-a0d7-0237a3804cfd",
   "metadata": {
    "tags": []
   },
   "outputs": [
    {
     "data": {
      "text/plain": [
       "Species               344\n",
       "Region                344\n",
       "Island                344\n",
       "Culmen Length (mm)    342\n",
       "Culmen Length (cm)    342\n",
       "Culmen Depth (mm)     342\n",
       "Sex                   334\n",
       "Anvers                344\n",
       "dtype: int64"
      ]
     },
     "execution_count": 38,
     "metadata": {},
     "output_type": "execute_result"
    }
   ],
   "source": [
    "penguins.count() # excludes NA values"
   ]
  },
  {
   "cell_type": "markdown",
   "id": "b455afef",
   "metadata": {},
   "source": [
    "p.s. You can compare the return values generated by `count()` method with the length of each columns to find out the number of NA element."
   ]
  },
  {
   "cell_type": "markdown",
   "id": "5ef54e6f",
   "metadata": {},
   "source": [
    "### `DataFrame.value_counts()` \n",
    "\n",
    "This method is used to count the number of unique entries in a column of a DataFrame. \n",
    "\n",
    "It provides a quick way to understand the distribution of data within a single column by showing how many times each value appears. \n",
    "\n",
    "This method is particularly useful for categorical data or discrete variables to identify patterns or imbalances in the data."
   ]
  },
  {
   "cell_type": "code",
   "execution_count": 39,
   "id": "76280d43-9673-401c-94d8-4533957fa735",
   "metadata": {
    "tags": []
   },
   "outputs": [
    {
     "data": {
      "text/plain": [
       "Species\n",
       "Adelie Penguin (Pygoscelis adeliae)          152\n",
       "Gentoo penguin (Pygoscelis papua)            124\n",
       "Chinstrap penguin (Pygoscelis antarctica)     68\n",
       "Name: count, dtype: int64"
      ]
     },
     "execution_count": 39,
     "metadata": {},
     "output_type": "execute_result"
    }
   ],
   "source": [
    "penguins['Species'].value_counts() # group penguins by species, and count how many each group has "
   ]
  },
  {
   "cell_type": "markdown",
   "id": "d0689689-245d-4833-b854-5321afd9e8f4",
   "metadata": {},
   "source": [
    "It is technically possible to aggregate across columns (rather than rows) in `pandas`; however, doing so usually violates the [*tidy data* principles](https://cran.r-project.org/web/packages/tidyr/vignettes/tidy-data.html) and is not recommended. \n",
    "\n",
    "We've already seen `describe()`, a convenience function for calculating numerical summary statistics. "
   ]
  },
  {
   "cell_type": "code",
   "execution_count": 40,
   "id": "38ab99dd-d496-420a-87dd-e37f36a58bf5",
   "metadata": {
    "tags": []
   },
   "outputs": [
    {
     "data": {
      "text/html": [
       "<div>\n",
       "<style scoped>\n",
       "    .dataframe tbody tr th:only-of-type {\n",
       "        vertical-align: middle;\n",
       "    }\n",
       "\n",
       "    .dataframe tbody tr th {\n",
       "        vertical-align: top;\n",
       "    }\n",
       "\n",
       "    .dataframe thead th {\n",
       "        text-align: right;\n",
       "    }\n",
       "</style>\n",
       "<table border=\"1\" class=\"dataframe\">\n",
       "  <thead>\n",
       "    <tr style=\"text-align: right;\">\n",
       "      <th></th>\n",
       "      <th>Culmen Length (mm)</th>\n",
       "      <th>Culmen Length (cm)</th>\n",
       "      <th>Culmen Depth (mm)</th>\n",
       "    </tr>\n",
       "  </thead>\n",
       "  <tbody>\n",
       "    <tr>\n",
       "      <th>count</th>\n",
       "      <td>342.000000</td>\n",
       "      <td>342.000000</td>\n",
       "      <td>342.000000</td>\n",
       "    </tr>\n",
       "    <tr>\n",
       "      <th>mean</th>\n",
       "      <td>43.921930</td>\n",
       "      <td>4.392193</td>\n",
       "      <td>17.151170</td>\n",
       "    </tr>\n",
       "    <tr>\n",
       "      <th>std</th>\n",
       "      <td>5.459584</td>\n",
       "      <td>0.545958</td>\n",
       "      <td>1.974793</td>\n",
       "    </tr>\n",
       "    <tr>\n",
       "      <th>min</th>\n",
       "      <td>32.100000</td>\n",
       "      <td>3.210000</td>\n",
       "      <td>13.100000</td>\n",
       "    </tr>\n",
       "    <tr>\n",
       "      <th>25%</th>\n",
       "      <td>39.225000</td>\n",
       "      <td>3.922500</td>\n",
       "      <td>15.600000</td>\n",
       "    </tr>\n",
       "    <tr>\n",
       "      <th>50%</th>\n",
       "      <td>44.450000</td>\n",
       "      <td>4.445000</td>\n",
       "      <td>17.300000</td>\n",
       "    </tr>\n",
       "    <tr>\n",
       "      <th>75%</th>\n",
       "      <td>48.500000</td>\n",
       "      <td>4.850000</td>\n",
       "      <td>18.700000</td>\n",
       "    </tr>\n",
       "    <tr>\n",
       "      <th>max</th>\n",
       "      <td>59.600000</td>\n",
       "      <td>5.960000</td>\n",
       "      <td>21.500000</td>\n",
       "    </tr>\n",
       "  </tbody>\n",
       "</table>\n",
       "</div>"
      ],
      "text/plain": [
       "       Culmen Length (mm)  Culmen Length (cm)  Culmen Depth (mm)\n",
       "count          342.000000          342.000000         342.000000\n",
       "mean            43.921930            4.392193          17.151170\n",
       "std              5.459584            0.545958           1.974793\n",
       "min             32.100000            3.210000          13.100000\n",
       "25%             39.225000            3.922500          15.600000\n",
       "50%             44.450000            4.445000          17.300000\n",
       "75%             48.500000            4.850000          18.700000\n",
       "max             59.600000            5.960000          21.500000"
      ]
     },
     "execution_count": 40,
     "metadata": {},
     "output_type": "execute_result"
    }
   ],
   "source": [
    "penguins.describe()"
   ]
  },
  {
   "cell_type": "markdown",
   "id": "17152a33-a4b5-4a25-b19e-6bc065f77df0",
   "metadata": {},
   "source": [
    "## Split-Apply-Combine\n",
    "\n",
    "One of the fundamental tasks in exploratory data analysis is to summarize your data **by group**. In our penguins data, for example, a very natural thing to do is to compute summary statistics **by species**, or perhaps by habitat (or both!). We can contextualize this task in three stages: \n",
    "\n",
    "1. **Split** the data frame into pieces, one for each species. \n",
    "2. **Apply** an aggregation function to each piece, yielding a single number. \n",
    "3. **Combine** the results into a new data frame.\n",
    "\n",
    "This pattern is so common that the phrase \"split-apply-combine\" now appears in many texts on data analysis. This phrase was originally coined by Hadley Wickham, who is famous for developing many of the modern tools for data analysis in the `R` programming language. \n",
    "\n",
    "<figure class=\"image\" style=\"width:50%\">\n",
    "  <img src=\"https://jakevdp.github.io/PythonDataScienceHandbook/figures/03.08-split-apply-combine.png\" alt=\"Left: A single dataframe is split into three pieces. Middle: The data within each piece is summed. Right: the resulting sums are combined, resulting in a new data frame with one sum for each piece.\">\n",
    "  <figcaption><i>split-apply-combine. Image credit: Jake VanderPlas, in the Python Data Science Handbook</i></figcaption>\n",
    "</figure>\n",
    "\n",
    "\n",
    "\n",
    "https://jakevdp.github.io/PythonDataScienceHandbook/03.08-aggregation-and-grouping.html"
   ]
  },
  {
   "cell_type": "code",
   "execution_count": 41,
   "id": "7aa6bcc9",
   "metadata": {},
   "outputs": [
    {
     "data": {
      "text/html": [
       "<div>\n",
       "<style scoped>\n",
       "    .dataframe tbody tr th:only-of-type {\n",
       "        vertical-align: middle;\n",
       "    }\n",
       "\n",
       "    .dataframe tbody tr th {\n",
       "        vertical-align: top;\n",
       "    }\n",
       "\n",
       "    .dataframe thead th {\n",
       "        text-align: right;\n",
       "    }\n",
       "</style>\n",
       "<table border=\"1\" class=\"dataframe\">\n",
       "  <thead>\n",
       "    <tr style=\"text-align: right;\">\n",
       "      <th></th>\n",
       "      <th>Species</th>\n",
       "      <th>Region</th>\n",
       "      <th>Island</th>\n",
       "      <th>Culmen Length (mm)</th>\n",
       "      <th>Culmen Length (cm)</th>\n",
       "      <th>Culmen Depth (mm)</th>\n",
       "      <th>Sex</th>\n",
       "      <th>Anvers</th>\n",
       "    </tr>\n",
       "  </thead>\n",
       "  <tbody>\n",
       "    <tr>\n",
       "      <th>0</th>\n",
       "      <td>Adelie Penguin (Pygoscelis adeliae)</td>\n",
       "      <td>Anvers</td>\n",
       "      <td>Torgersen</td>\n",
       "      <td>39.1</td>\n",
       "      <td>3.91</td>\n",
       "      <td>18.7</td>\n",
       "      <td>MALE</td>\n",
       "      <td>True</td>\n",
       "    </tr>\n",
       "    <tr>\n",
       "      <th>1</th>\n",
       "      <td>Adelie Penguin (Pygoscelis adeliae)</td>\n",
       "      <td>Anvers</td>\n",
       "      <td>Torgersen</td>\n",
       "      <td>39.5</td>\n",
       "      <td>3.95</td>\n",
       "      <td>17.4</td>\n",
       "      <td>FEMALE</td>\n",
       "      <td>True</td>\n",
       "    </tr>\n",
       "    <tr>\n",
       "      <th>2</th>\n",
       "      <td>Adelie Penguin (Pygoscelis adeliae)</td>\n",
       "      <td>Anvers</td>\n",
       "      <td>Torgersen</td>\n",
       "      <td>40.3</td>\n",
       "      <td>4.03</td>\n",
       "      <td>18.0</td>\n",
       "      <td>FEMALE</td>\n",
       "      <td>True</td>\n",
       "    </tr>\n",
       "    <tr>\n",
       "      <th>3</th>\n",
       "      <td>Adelie Penguin (Pygoscelis adeliae)</td>\n",
       "      <td>Anvers</td>\n",
       "      <td>Torgersen</td>\n",
       "      <td>NaN</td>\n",
       "      <td>NaN</td>\n",
       "      <td>NaN</td>\n",
       "      <td>NaN</td>\n",
       "      <td>True</td>\n",
       "    </tr>\n",
       "    <tr>\n",
       "      <th>4</th>\n",
       "      <td>Adelie Penguin (Pygoscelis adeliae)</td>\n",
       "      <td>Anvers</td>\n",
       "      <td>Torgersen</td>\n",
       "      <td>36.7</td>\n",
       "      <td>3.67</td>\n",
       "      <td>19.3</td>\n",
       "      <td>FEMALE</td>\n",
       "      <td>True</td>\n",
       "    </tr>\n",
       "    <tr>\n",
       "      <th>...</th>\n",
       "      <td>...</td>\n",
       "      <td>...</td>\n",
       "      <td>...</td>\n",
       "      <td>...</td>\n",
       "      <td>...</td>\n",
       "      <td>...</td>\n",
       "      <td>...</td>\n",
       "      <td>...</td>\n",
       "    </tr>\n",
       "    <tr>\n",
       "      <th>339</th>\n",
       "      <td>Gentoo penguin (Pygoscelis papua)</td>\n",
       "      <td>Anvers</td>\n",
       "      <td>Biscoe</td>\n",
       "      <td>NaN</td>\n",
       "      <td>NaN</td>\n",
       "      <td>NaN</td>\n",
       "      <td>NaN</td>\n",
       "      <td>True</td>\n",
       "    </tr>\n",
       "    <tr>\n",
       "      <th>340</th>\n",
       "      <td>Gentoo penguin (Pygoscelis papua)</td>\n",
       "      <td>Anvers</td>\n",
       "      <td>Biscoe</td>\n",
       "      <td>46.8</td>\n",
       "      <td>4.68</td>\n",
       "      <td>14.3</td>\n",
       "      <td>FEMALE</td>\n",
       "      <td>True</td>\n",
       "    </tr>\n",
       "    <tr>\n",
       "      <th>341</th>\n",
       "      <td>Gentoo penguin (Pygoscelis papua)</td>\n",
       "      <td>Anvers</td>\n",
       "      <td>Biscoe</td>\n",
       "      <td>50.4</td>\n",
       "      <td>5.04</td>\n",
       "      <td>15.7</td>\n",
       "      <td>MALE</td>\n",
       "      <td>True</td>\n",
       "    </tr>\n",
       "    <tr>\n",
       "      <th>342</th>\n",
       "      <td>Gentoo penguin (Pygoscelis papua)</td>\n",
       "      <td>Anvers</td>\n",
       "      <td>Biscoe</td>\n",
       "      <td>45.2</td>\n",
       "      <td>4.52</td>\n",
       "      <td>14.8</td>\n",
       "      <td>FEMALE</td>\n",
       "      <td>True</td>\n",
       "    </tr>\n",
       "    <tr>\n",
       "      <th>343</th>\n",
       "      <td>Gentoo penguin (Pygoscelis papua)</td>\n",
       "      <td>Anvers</td>\n",
       "      <td>Biscoe</td>\n",
       "      <td>49.9</td>\n",
       "      <td>4.99</td>\n",
       "      <td>16.1</td>\n",
       "      <td>MALE</td>\n",
       "      <td>True</td>\n",
       "    </tr>\n",
       "  </tbody>\n",
       "</table>\n",
       "<p>344 rows × 8 columns</p>\n",
       "</div>"
      ],
      "text/plain": [
       "                                 Species  Region     Island  \\\n",
       "0    Adelie Penguin (Pygoscelis adeliae)  Anvers  Torgersen   \n",
       "1    Adelie Penguin (Pygoscelis adeliae)  Anvers  Torgersen   \n",
       "2    Adelie Penguin (Pygoscelis adeliae)  Anvers  Torgersen   \n",
       "3    Adelie Penguin (Pygoscelis adeliae)  Anvers  Torgersen   \n",
       "4    Adelie Penguin (Pygoscelis adeliae)  Anvers  Torgersen   \n",
       "..                                   ...     ...        ...   \n",
       "339    Gentoo penguin (Pygoscelis papua)  Anvers     Biscoe   \n",
       "340    Gentoo penguin (Pygoscelis papua)  Anvers     Biscoe   \n",
       "341    Gentoo penguin (Pygoscelis papua)  Anvers     Biscoe   \n",
       "342    Gentoo penguin (Pygoscelis papua)  Anvers     Biscoe   \n",
       "343    Gentoo penguin (Pygoscelis papua)  Anvers     Biscoe   \n",
       "\n",
       "     Culmen Length (mm)  Culmen Length (cm)  Culmen Depth (mm)     Sex  Anvers  \n",
       "0                  39.1                3.91               18.7    MALE    True  \n",
       "1                  39.5                3.95               17.4  FEMALE    True  \n",
       "2                  40.3                4.03               18.0  FEMALE    True  \n",
       "3                   NaN                 NaN                NaN     NaN    True  \n",
       "4                  36.7                3.67               19.3  FEMALE    True  \n",
       "..                  ...                 ...                ...     ...     ...  \n",
       "339                 NaN                 NaN                NaN     NaN    True  \n",
       "340                46.8                4.68               14.3  FEMALE    True  \n",
       "341                50.4                5.04               15.7    MALE    True  \n",
       "342                45.2                4.52               14.8  FEMALE    True  \n",
       "343                49.9                4.99               16.1    MALE    True  \n",
       "\n",
       "[344 rows x 8 columns]"
      ]
     },
     "execution_count": 41,
     "metadata": {},
     "output_type": "execute_result"
    }
   ],
   "source": [
    "penguins"
   ]
  },
  {
   "cell_type": "markdown",
   "id": "efbc1a46",
   "metadata": {},
   "source": [
    "### `DataFrame.groupby(New_Row_Name1, New_Row_Name2, ...)[[New_Column_Name1, New_Column_Name2, ...]]`\n",
    "\n",
    "\n",
    "new form will be created by New_Row_Name and New_Column_Name"
   ]
  },
  {
   "cell_type": "code",
   "execution_count": 42,
   "id": "f7f9de66-8b38-42c1-b01d-2435c9f87d69",
   "metadata": {
    "tags": []
   },
   "outputs": [
    {
     "data": {
      "text/plain": [
       "<pandas.core.groupby.generic.DataFrameGroupBy object at 0x2889bf3d0>"
      ]
     },
     "execution_count": 42,
     "metadata": {},
     "output_type": "execute_result"
    }
   ],
   "source": [
    "penguins.groupby(\"Species\") # groups penguins (rows) by species \n",
    "# DataFrameGroupBy is a special \"way of looking at dataframe\""
   ]
  },
  {
   "cell_type": "markdown",
   "id": "d6181d93-c68b-4413-9c53-c52f8a6714b3",
   "metadata": {},
   "source": [
    "We can think of the result of `groupby()` as a special \"view\" of the data frame, such that any aggregation functions used will by applied to each of the individual \"groups\" (i.e. species). As before, numerical aggregation functions will drop text columns. "
   ]
  },
  {
   "cell_type": "code",
   "execution_count": 43,
   "id": "640eadcf-5786-46b2-8119-08b81fa5e681",
   "metadata": {
    "tags": []
   },
   "outputs": [
    {
     "data": {
      "text/html": [
       "<div>\n",
       "<style scoped>\n",
       "    .dataframe tbody tr th:only-of-type {\n",
       "        vertical-align: middle;\n",
       "    }\n",
       "\n",
       "    .dataframe tbody tr th {\n",
       "        vertical-align: top;\n",
       "    }\n",
       "\n",
       "    .dataframe thead th {\n",
       "        text-align: right;\n",
       "    }\n",
       "</style>\n",
       "<table border=\"1\" class=\"dataframe\">\n",
       "  <thead>\n",
       "    <tr style=\"text-align: right;\">\n",
       "      <th></th>\n",
       "      <th>Culmen Length (mm)</th>\n",
       "      <th>Culmen Length (cm)</th>\n",
       "      <th>Culmen Depth (mm)</th>\n",
       "      <th>Anvers</th>\n",
       "    </tr>\n",
       "    <tr>\n",
       "      <th>Species</th>\n",
       "      <th></th>\n",
       "      <th></th>\n",
       "      <th></th>\n",
       "      <th></th>\n",
       "    </tr>\n",
       "  </thead>\n",
       "  <tbody>\n",
       "    <tr>\n",
       "      <th>Adelie Penguin (Pygoscelis adeliae)</th>\n",
       "      <td>38.791391</td>\n",
       "      <td>3.879139</td>\n",
       "      <td>18.346358</td>\n",
       "      <td>1.0</td>\n",
       "    </tr>\n",
       "    <tr>\n",
       "      <th>Chinstrap penguin (Pygoscelis antarctica)</th>\n",
       "      <td>48.833824</td>\n",
       "      <td>4.883382</td>\n",
       "      <td>18.420588</td>\n",
       "      <td>1.0</td>\n",
       "    </tr>\n",
       "    <tr>\n",
       "      <th>Gentoo penguin (Pygoscelis papua)</th>\n",
       "      <td>47.504878</td>\n",
       "      <td>4.750488</td>\n",
       "      <td>14.982114</td>\n",
       "      <td>1.0</td>\n",
       "    </tr>\n",
       "  </tbody>\n",
       "</table>\n",
       "</div>"
      ],
      "text/plain": [
       "                                           Culmen Length (mm)  \\\n",
       "Species                                                         \n",
       "Adelie Penguin (Pygoscelis adeliae)                 38.791391   \n",
       "Chinstrap penguin (Pygoscelis antarctica)           48.833824   \n",
       "Gentoo penguin (Pygoscelis papua)                   47.504878   \n",
       "\n",
       "                                           Culmen Length (cm)  \\\n",
       "Species                                                         \n",
       "Adelie Penguin (Pygoscelis adeliae)                  3.879139   \n",
       "Chinstrap penguin (Pygoscelis antarctica)            4.883382   \n",
       "Gentoo penguin (Pygoscelis papua)                    4.750488   \n",
       "\n",
       "                                           Culmen Depth (mm)  Anvers  \n",
       "Species                                                               \n",
       "Adelie Penguin (Pygoscelis adeliae)                18.346358     1.0  \n",
       "Chinstrap penguin (Pygoscelis antarctica)          18.420588     1.0  \n",
       "Gentoo penguin (Pygoscelis papua)                  14.982114     1.0  "
      ]
     },
     "execution_count": 43,
     "metadata": {},
     "output_type": "execute_result"
    }
   ],
   "source": [
    "penguins.groupby(\"Species\").mean(numeric_only=True) # groups penguins (rows) by species, and then take means for each group, for every numerical column"
   ]
  },
  {
   "cell_type": "code",
   "execution_count": 45,
   "id": "cd67ee5f-e6a6-4dfd-b9b8-e84ad3bb0e5e",
   "metadata": {
    "tags": []
   },
   "outputs": [
    {
     "data": {
      "text/html": [
       "<div>\n",
       "<style scoped>\n",
       "    .dataframe tbody tr th:only-of-type {\n",
       "        vertical-align: middle;\n",
       "    }\n",
       "\n",
       "    .dataframe tbody tr th {\n",
       "        vertical-align: top;\n",
       "    }\n",
       "\n",
       "    .dataframe thead th {\n",
       "        text-align: right;\n",
       "    }\n",
       "</style>\n",
       "<table border=\"1\" class=\"dataframe\">\n",
       "  <thead>\n",
       "    <tr style=\"text-align: right;\">\n",
       "      <th></th>\n",
       "      <th>Culmen Length (mm)</th>\n",
       "    </tr>\n",
       "    <tr>\n",
       "      <th>Species</th>\n",
       "      <th></th>\n",
       "    </tr>\n",
       "  </thead>\n",
       "  <tbody>\n",
       "    <tr>\n",
       "      <th>Adelie Penguin (Pygoscelis adeliae)</th>\n",
       "      <td>38.791391</td>\n",
       "    </tr>\n",
       "    <tr>\n",
       "      <th>Chinstrap penguin (Pygoscelis antarctica)</th>\n",
       "      <td>48.833824</td>\n",
       "    </tr>\n",
       "    <tr>\n",
       "      <th>Gentoo penguin (Pygoscelis papua)</th>\n",
       "      <td>47.504878</td>\n",
       "    </tr>\n",
       "  </tbody>\n",
       "</table>\n",
       "</div>"
      ],
      "text/plain": [
       "                                           Culmen Length (mm)\n",
       "Species                                                      \n",
       "Adelie Penguin (Pygoscelis adeliae)                 38.791391\n",
       "Chinstrap penguin (Pygoscelis antarctica)           48.833824\n",
       "Gentoo penguin (Pygoscelis papua)                   47.504878"
      ]
     },
     "execution_count": 45,
     "metadata": {},
     "output_type": "execute_result"
    }
   ],
   "source": [
    "penguins.groupby(\"Species\")[[\"Culmen Length (mm)\"]].mean() # note the double square brackets"
   ]
  },
  {
   "cell_type": "code",
   "execution_count": 46,
   "id": "0cfee151-5b9b-4f48-a827-bd02687a8475",
   "metadata": {
    "tags": []
   },
   "outputs": [
    {
     "data": {
      "text/html": [
       "<div>\n",
       "<style scoped>\n",
       "    .dataframe tbody tr th:only-of-type {\n",
       "        vertical-align: middle;\n",
       "    }\n",
       "\n",
       "    .dataframe tbody tr th {\n",
       "        vertical-align: top;\n",
       "    }\n",
       "\n",
       "    .dataframe thead th {\n",
       "        text-align: right;\n",
       "    }\n",
       "</style>\n",
       "<table border=\"1\" class=\"dataframe\">\n",
       "  <thead>\n",
       "    <tr style=\"text-align: right;\">\n",
       "      <th></th>\n",
       "      <th>Species</th>\n",
       "      <th>Region</th>\n",
       "      <th>Island</th>\n",
       "      <th>Culmen Length (mm)</th>\n",
       "      <th>Culmen Length (cm)</th>\n",
       "      <th>Culmen Depth (mm)</th>\n",
       "      <th>Sex</th>\n",
       "      <th>Anvers</th>\n",
       "    </tr>\n",
       "  </thead>\n",
       "  <tbody>\n",
       "    <tr>\n",
       "      <th>0</th>\n",
       "      <td>Adelie Penguin (Pygoscelis adeliae)</td>\n",
       "      <td>Anvers</td>\n",
       "      <td>Torgersen</td>\n",
       "      <td>39.1</td>\n",
       "      <td>3.91</td>\n",
       "      <td>18.7</td>\n",
       "      <td>MALE</td>\n",
       "      <td>True</td>\n",
       "    </tr>\n",
       "    <tr>\n",
       "      <th>1</th>\n",
       "      <td>Adelie Penguin (Pygoscelis adeliae)</td>\n",
       "      <td>Anvers</td>\n",
       "      <td>Torgersen</td>\n",
       "      <td>39.5</td>\n",
       "      <td>3.95</td>\n",
       "      <td>17.4</td>\n",
       "      <td>FEMALE</td>\n",
       "      <td>True</td>\n",
       "    </tr>\n",
       "    <tr>\n",
       "      <th>2</th>\n",
       "      <td>Adelie Penguin (Pygoscelis adeliae)</td>\n",
       "      <td>Anvers</td>\n",
       "      <td>Torgersen</td>\n",
       "      <td>40.3</td>\n",
       "      <td>4.03</td>\n",
       "      <td>18.0</td>\n",
       "      <td>FEMALE</td>\n",
       "      <td>True</td>\n",
       "    </tr>\n",
       "    <tr>\n",
       "      <th>3</th>\n",
       "      <td>Adelie Penguin (Pygoscelis adeliae)</td>\n",
       "      <td>Anvers</td>\n",
       "      <td>Torgersen</td>\n",
       "      <td>NaN</td>\n",
       "      <td>NaN</td>\n",
       "      <td>NaN</td>\n",
       "      <td>NaN</td>\n",
       "      <td>True</td>\n",
       "    </tr>\n",
       "    <tr>\n",
       "      <th>4</th>\n",
       "      <td>Adelie Penguin (Pygoscelis adeliae)</td>\n",
       "      <td>Anvers</td>\n",
       "      <td>Torgersen</td>\n",
       "      <td>36.7</td>\n",
       "      <td>3.67</td>\n",
       "      <td>19.3</td>\n",
       "      <td>FEMALE</td>\n",
       "      <td>True</td>\n",
       "    </tr>\n",
       "    <tr>\n",
       "      <th>...</th>\n",
       "      <td>...</td>\n",
       "      <td>...</td>\n",
       "      <td>...</td>\n",
       "      <td>...</td>\n",
       "      <td>...</td>\n",
       "      <td>...</td>\n",
       "      <td>...</td>\n",
       "      <td>...</td>\n",
       "    </tr>\n",
       "    <tr>\n",
       "      <th>339</th>\n",
       "      <td>Gentoo penguin (Pygoscelis papua)</td>\n",
       "      <td>Anvers</td>\n",
       "      <td>Biscoe</td>\n",
       "      <td>NaN</td>\n",
       "      <td>NaN</td>\n",
       "      <td>NaN</td>\n",
       "      <td>NaN</td>\n",
       "      <td>True</td>\n",
       "    </tr>\n",
       "    <tr>\n",
       "      <th>340</th>\n",
       "      <td>Gentoo penguin (Pygoscelis papua)</td>\n",
       "      <td>Anvers</td>\n",
       "      <td>Biscoe</td>\n",
       "      <td>46.8</td>\n",
       "      <td>4.68</td>\n",
       "      <td>14.3</td>\n",
       "      <td>FEMALE</td>\n",
       "      <td>True</td>\n",
       "    </tr>\n",
       "    <tr>\n",
       "      <th>341</th>\n",
       "      <td>Gentoo penguin (Pygoscelis papua)</td>\n",
       "      <td>Anvers</td>\n",
       "      <td>Biscoe</td>\n",
       "      <td>50.4</td>\n",
       "      <td>5.04</td>\n",
       "      <td>15.7</td>\n",
       "      <td>MALE</td>\n",
       "      <td>True</td>\n",
       "    </tr>\n",
       "    <tr>\n",
       "      <th>342</th>\n",
       "      <td>Gentoo penguin (Pygoscelis papua)</td>\n",
       "      <td>Anvers</td>\n",
       "      <td>Biscoe</td>\n",
       "      <td>45.2</td>\n",
       "      <td>4.52</td>\n",
       "      <td>14.8</td>\n",
       "      <td>FEMALE</td>\n",
       "      <td>True</td>\n",
       "    </tr>\n",
       "    <tr>\n",
       "      <th>343</th>\n",
       "      <td>Gentoo penguin (Pygoscelis papua)</td>\n",
       "      <td>Anvers</td>\n",
       "      <td>Biscoe</td>\n",
       "      <td>49.9</td>\n",
       "      <td>4.99</td>\n",
       "      <td>16.1</td>\n",
       "      <td>MALE</td>\n",
       "      <td>True</td>\n",
       "    </tr>\n",
       "  </tbody>\n",
       "</table>\n",
       "<p>344 rows × 8 columns</p>\n",
       "</div>"
      ],
      "text/plain": [
       "                                 Species  Region     Island  \\\n",
       "0    Adelie Penguin (Pygoscelis adeliae)  Anvers  Torgersen   \n",
       "1    Adelie Penguin (Pygoscelis adeliae)  Anvers  Torgersen   \n",
       "2    Adelie Penguin (Pygoscelis adeliae)  Anvers  Torgersen   \n",
       "3    Adelie Penguin (Pygoscelis adeliae)  Anvers  Torgersen   \n",
       "4    Adelie Penguin (Pygoscelis adeliae)  Anvers  Torgersen   \n",
       "..                                   ...     ...        ...   \n",
       "339    Gentoo penguin (Pygoscelis papua)  Anvers     Biscoe   \n",
       "340    Gentoo penguin (Pygoscelis papua)  Anvers     Biscoe   \n",
       "341    Gentoo penguin (Pygoscelis papua)  Anvers     Biscoe   \n",
       "342    Gentoo penguin (Pygoscelis papua)  Anvers     Biscoe   \n",
       "343    Gentoo penguin (Pygoscelis papua)  Anvers     Biscoe   \n",
       "\n",
       "     Culmen Length (mm)  Culmen Length (cm)  Culmen Depth (mm)     Sex  Anvers  \n",
       "0                  39.1                3.91               18.7    MALE    True  \n",
       "1                  39.5                3.95               17.4  FEMALE    True  \n",
       "2                  40.3                4.03               18.0  FEMALE    True  \n",
       "3                   NaN                 NaN                NaN     NaN    True  \n",
       "4                  36.7                3.67               19.3  FEMALE    True  \n",
       "..                  ...                 ...                ...     ...     ...  \n",
       "339                 NaN                 NaN                NaN     NaN    True  \n",
       "340                46.8                4.68               14.3  FEMALE    True  \n",
       "341                50.4                5.04               15.7    MALE    True  \n",
       "342                45.2                4.52               14.8  FEMALE    True  \n",
       "343                49.9                4.99               16.1    MALE    True  \n",
       "\n",
       "[344 rows x 8 columns]"
      ]
     },
     "execution_count": 46,
     "metadata": {},
     "output_type": "execute_result"
    }
   ],
   "source": [
    "penguins"
   ]
  },
  {
   "cell_type": "markdown",
   "id": "0f385f38-5180-4dd1-88e2-045e488e3602",
   "metadata": {},
   "source": [
    "We now have a pleasant summary of the mean culmen (bill) measurements for each species. It is now clear, for example, that Adelie penguins have much shorter bills than Chinstrap and Gentoo penguins. \n",
    "\n",
    "If you only want to show summaries for certain columns, just pass those in list form as an index to the `groupby` object.\n",
    "\n",
    "While it's useful to compute a single set of summary statistics like this, it's often more useful to apply multiple aggregation functions simultaneously. The `aggregate()` method allows us to pass multiple functions, all of which will be applied and represented as new columns. For example, a common format for measurements is the mean $\\pm$ the standard deviation. We can easily compute both quantities simultaneously, per penguin species:"
   ]
  },
  {
   "cell_type": "markdown",
   "id": "efcbe7da",
   "metadata": {},
   "source": [
    "### `DataFrame.aggregate()`"
   ]
  },
  {
   "cell_type": "code",
   "execution_count": 47,
   "id": "d9141aa7-b1fd-48f1-b332-5a58b138c988",
   "metadata": {
    "tags": []
   },
   "outputs": [
    {
     "name": "stderr",
     "output_type": "stream",
     "text": [
      "/var/folders/jt/m55yxv8d0wxgwy79rkghhwsc0000gn/T/ipykernel_52974/3344365181.py:1: FutureWarning: The provided callable <function mean at 0x10c31fec0> is currently using SeriesGroupBy.mean. In a future version of pandas, the provided callable will be used directly. To keep current behavior pass the string \"mean\" instead.\n",
      "  penguins.groupby(\"Species\")[[\"Culmen Length (mm)\", \"Culmen Depth (mm)\"]].aggregate([np.mean, np.std]) # do multiple calculations at once and organize it nicely\n",
      "/var/folders/jt/m55yxv8d0wxgwy79rkghhwsc0000gn/T/ipykernel_52974/3344365181.py:1: FutureWarning: The provided callable <function std at 0x10c328040> is currently using SeriesGroupBy.std. In a future version of pandas, the provided callable will be used directly. To keep current behavior pass the string \"std\" instead.\n",
      "  penguins.groupby(\"Species\")[[\"Culmen Length (mm)\", \"Culmen Depth (mm)\"]].aggregate([np.mean, np.std]) # do multiple calculations at once and organize it nicely\n",
      "/var/folders/jt/m55yxv8d0wxgwy79rkghhwsc0000gn/T/ipykernel_52974/3344365181.py:1: FutureWarning: The provided callable <function mean at 0x10c31fec0> is currently using SeriesGroupBy.mean. In a future version of pandas, the provided callable will be used directly. To keep current behavior pass the string \"mean\" instead.\n",
      "  penguins.groupby(\"Species\")[[\"Culmen Length (mm)\", \"Culmen Depth (mm)\"]].aggregate([np.mean, np.std]) # do multiple calculations at once and organize it nicely\n"
     ]
    },
    {
     "data": {
      "text/html": [
       "<div>\n",
       "<style scoped>\n",
       "    .dataframe tbody tr th:only-of-type {\n",
       "        vertical-align: middle;\n",
       "    }\n",
       "\n",
       "    .dataframe tbody tr th {\n",
       "        vertical-align: top;\n",
       "    }\n",
       "\n",
       "    .dataframe thead tr th {\n",
       "        text-align: left;\n",
       "    }\n",
       "\n",
       "    .dataframe thead tr:last-of-type th {\n",
       "        text-align: right;\n",
       "    }\n",
       "</style>\n",
       "<table border=\"1\" class=\"dataframe\">\n",
       "  <thead>\n",
       "    <tr>\n",
       "      <th></th>\n",
       "      <th colspan=\"2\" halign=\"left\">Culmen Length (mm)</th>\n",
       "      <th colspan=\"2\" halign=\"left\">Culmen Depth (mm)</th>\n",
       "    </tr>\n",
       "    <tr>\n",
       "      <th></th>\n",
       "      <th>mean</th>\n",
       "      <th>std</th>\n",
       "      <th>mean</th>\n",
       "      <th>std</th>\n",
       "    </tr>\n",
       "    <tr>\n",
       "      <th>Species</th>\n",
       "      <th></th>\n",
       "      <th></th>\n",
       "      <th></th>\n",
       "      <th></th>\n",
       "    </tr>\n",
       "  </thead>\n",
       "  <tbody>\n",
       "    <tr>\n",
       "      <th>Adelie Penguin (Pygoscelis adeliae)</th>\n",
       "      <td>38.791391</td>\n",
       "      <td>2.663405</td>\n",
       "      <td>18.346358</td>\n",
       "      <td>1.216650</td>\n",
       "    </tr>\n",
       "    <tr>\n",
       "      <th>Chinstrap penguin (Pygoscelis antarctica)</th>\n",
       "      <td>48.833824</td>\n",
       "      <td>3.339256</td>\n",
       "      <td>18.420588</td>\n",
       "      <td>1.135395</td>\n",
       "    </tr>\n",
       "    <tr>\n",
       "      <th>Gentoo penguin (Pygoscelis papua)</th>\n",
       "      <td>47.504878</td>\n",
       "      <td>3.081857</td>\n",
       "      <td>14.982114</td>\n",
       "      <td>0.981220</td>\n",
       "    </tr>\n",
       "  </tbody>\n",
       "</table>\n",
       "</div>"
      ],
      "text/plain": [
       "                                          Culmen Length (mm)            \\\n",
       "                                                        mean       std   \n",
       "Species                                                                  \n",
       "Adelie Penguin (Pygoscelis adeliae)                38.791391  2.663405   \n",
       "Chinstrap penguin (Pygoscelis antarctica)          48.833824  3.339256   \n",
       "Gentoo penguin (Pygoscelis papua)                  47.504878  3.081857   \n",
       "\n",
       "                                          Culmen Depth (mm)            \n",
       "                                                       mean       std  \n",
       "Species                                                                \n",
       "Adelie Penguin (Pygoscelis adeliae)               18.346358  1.216650  \n",
       "Chinstrap penguin (Pygoscelis antarctica)         18.420588  1.135395  \n",
       "Gentoo penguin (Pygoscelis papua)                 14.982114  0.981220  "
      ]
     },
     "execution_count": 47,
     "metadata": {},
     "output_type": "execute_result"
    }
   ],
   "source": [
    "penguins.groupby(\"Species\")[[\"Culmen Length (mm)\", \"Culmen Depth (mm)\"]].aggregate([np.mean, np.std]) # do multiple calculations at once and organize it nicely"
   ]
  },
  {
   "cell_type": "markdown",
   "id": "8f5b4e3a-2325-444d-ad67-4d8ab68c4d27",
   "metadata": {},
   "source": [
    "It's also possible to group by multiple columns -- just pass a list of column names to `groupby`: "
   ]
  },
  {
   "cell_type": "code",
   "execution_count": 48,
   "id": "93238132-f6ef-45bf-ba79-eaf24ac49209",
   "metadata": {
    "tags": []
   },
   "outputs": [
    {
     "name": "stderr",
     "output_type": "stream",
     "text": [
      "/var/folders/jt/m55yxv8d0wxgwy79rkghhwsc0000gn/T/ipykernel_52974/3726249468.py:2: FutureWarning: The provided callable <function mean at 0x10c31fec0> is currently using SeriesGroupBy.mean. In a future version of pandas, the provided callable will be used directly. To keep current behavior pass the string \"mean\" instead.\n",
      "  penguins.groupby([\"Species\", \"Island\"])[[\"Culmen Length (mm)\", \"Culmen Depth (mm)\"]].aggregate([np.mean, np.std])\n",
      "/var/folders/jt/m55yxv8d0wxgwy79rkghhwsc0000gn/T/ipykernel_52974/3726249468.py:2: FutureWarning: The provided callable <function std at 0x10c328040> is currently using SeriesGroupBy.std. In a future version of pandas, the provided callable will be used directly. To keep current behavior pass the string \"std\" instead.\n",
      "  penguins.groupby([\"Species\", \"Island\"])[[\"Culmen Length (mm)\", \"Culmen Depth (mm)\"]].aggregate([np.mean, np.std])\n",
      "/var/folders/jt/m55yxv8d0wxgwy79rkghhwsc0000gn/T/ipykernel_52974/3726249468.py:2: FutureWarning: The provided callable <function mean at 0x10c31fec0> is currently using SeriesGroupBy.mean. In a future version of pandas, the provided callable will be used directly. To keep current behavior pass the string \"mean\" instead.\n",
      "  penguins.groupby([\"Species\", \"Island\"])[[\"Culmen Length (mm)\", \"Culmen Depth (mm)\"]].aggregate([np.mean, np.std])\n"
     ]
    }
   ],
   "source": [
    "summary = (\n",
    "    penguins.groupby([\"Species\", \"Island\"])[[\"Culmen Length (mm)\", \"Culmen Depth (mm)\"]].aggregate([np.mean, np.std])\n",
    ")"
   ]
  },
  {
   "cell_type": "code",
   "execution_count": 49,
   "id": "2e51979b-3800-44ea-bf61-7fc8fa4215b5",
   "metadata": {
    "tags": []
   },
   "outputs": [
    {
     "data": {
      "text/html": [
       "<div>\n",
       "<style scoped>\n",
       "    .dataframe tbody tr th:only-of-type {\n",
       "        vertical-align: middle;\n",
       "    }\n",
       "\n",
       "    .dataframe tbody tr th {\n",
       "        vertical-align: top;\n",
       "    }\n",
       "\n",
       "    .dataframe thead tr th {\n",
       "        text-align: left;\n",
       "    }\n",
       "\n",
       "    .dataframe thead tr:last-of-type th {\n",
       "        text-align: right;\n",
       "    }\n",
       "</style>\n",
       "<table border=\"1\" class=\"dataframe\">\n",
       "  <thead>\n",
       "    <tr>\n",
       "      <th></th>\n",
       "      <th></th>\n",
       "      <th colspan=\"2\" halign=\"left\">Culmen Length (mm)</th>\n",
       "      <th colspan=\"2\" halign=\"left\">Culmen Depth (mm)</th>\n",
       "    </tr>\n",
       "    <tr>\n",
       "      <th></th>\n",
       "      <th></th>\n",
       "      <th>mean</th>\n",
       "      <th>std</th>\n",
       "      <th>mean</th>\n",
       "      <th>std</th>\n",
       "    </tr>\n",
       "    <tr>\n",
       "      <th>Species</th>\n",
       "      <th>Island</th>\n",
       "      <th></th>\n",
       "      <th></th>\n",
       "      <th></th>\n",
       "      <th></th>\n",
       "    </tr>\n",
       "  </thead>\n",
       "  <tbody>\n",
       "    <tr>\n",
       "      <th rowspan=\"3\" valign=\"top\">Adelie Penguin (Pygoscelis adeliae)</th>\n",
       "      <th>Biscoe</th>\n",
       "      <td>38.975000</td>\n",
       "      <td>2.480916</td>\n",
       "      <td>18.370455</td>\n",
       "      <td>1.188820</td>\n",
       "    </tr>\n",
       "    <tr>\n",
       "      <th>Dream</th>\n",
       "      <td>38.501786</td>\n",
       "      <td>2.465359</td>\n",
       "      <td>18.251786</td>\n",
       "      <td>1.133617</td>\n",
       "    </tr>\n",
       "    <tr>\n",
       "      <th>Torgersen</th>\n",
       "      <td>38.950980</td>\n",
       "      <td>3.025318</td>\n",
       "      <td>18.429412</td>\n",
       "      <td>1.339447</td>\n",
       "    </tr>\n",
       "    <tr>\n",
       "      <th>Chinstrap penguin (Pygoscelis antarctica)</th>\n",
       "      <th>Dream</th>\n",
       "      <td>48.833824</td>\n",
       "      <td>3.339256</td>\n",
       "      <td>18.420588</td>\n",
       "      <td>1.135395</td>\n",
       "    </tr>\n",
       "    <tr>\n",
       "      <th>Gentoo penguin (Pygoscelis papua)</th>\n",
       "      <th>Biscoe</th>\n",
       "      <td>47.504878</td>\n",
       "      <td>3.081857</td>\n",
       "      <td>14.982114</td>\n",
       "      <td>0.981220</td>\n",
       "    </tr>\n",
       "  </tbody>\n",
       "</table>\n",
       "</div>"
      ],
      "text/plain": [
       "                                                    Culmen Length (mm)  \\\n",
       "                                                                  mean   \n",
       "Species                                   Island                         \n",
       "Adelie Penguin (Pygoscelis adeliae)       Biscoe             38.975000   \n",
       "                                          Dream              38.501786   \n",
       "                                          Torgersen          38.950980   \n",
       "Chinstrap penguin (Pygoscelis antarctica) Dream              48.833824   \n",
       "Gentoo penguin (Pygoscelis papua)         Biscoe             47.504878   \n",
       "\n",
       "                                                               \\\n",
       "                                                          std   \n",
       "Species                                   Island                \n",
       "Adelie Penguin (Pygoscelis adeliae)       Biscoe     2.480916   \n",
       "                                          Dream      2.465359   \n",
       "                                          Torgersen  3.025318   \n",
       "Chinstrap penguin (Pygoscelis antarctica) Dream      3.339256   \n",
       "Gentoo penguin (Pygoscelis papua)         Biscoe     3.081857   \n",
       "\n",
       "                                                    Culmen Depth (mm)  \\\n",
       "                                                                 mean   \n",
       "Species                                   Island                        \n",
       "Adelie Penguin (Pygoscelis adeliae)       Biscoe            18.370455   \n",
       "                                          Dream             18.251786   \n",
       "                                          Torgersen         18.429412   \n",
       "Chinstrap penguin (Pygoscelis antarctica) Dream             18.420588   \n",
       "Gentoo penguin (Pygoscelis papua)         Biscoe            14.982114   \n",
       "\n",
       "                                                               \n",
       "                                                          std  \n",
       "Species                                   Island               \n",
       "Adelie Penguin (Pygoscelis adeliae)       Biscoe     1.188820  \n",
       "                                          Dream      1.133617  \n",
       "                                          Torgersen  1.339447  \n",
       "Chinstrap penguin (Pygoscelis antarctica) Dream      1.135395  \n",
       "Gentoo penguin (Pygoscelis papua)         Biscoe     0.981220  "
      ]
     },
     "execution_count": 49,
     "metadata": {},
     "output_type": "execute_result"
    }
   ],
   "source": [
    "summary"
   ]
  },
  {
   "cell_type": "markdown",
   "id": "9645d73f-b46f-4aa6-9442-c91f7f423b32",
   "metadata": {},
   "source": [
    "## Hierarchical Indexing\n",
    "\n",
    "Complex data summary tables like the one above are useful and powerful, but they also pose an important problem -- how can we extract the data from these summaries? For example, how can I get the mean bill length for Chinstrap penguins on Dream island? To extract this kind of data, we need to use *hierarchical indexing*, in which we pass multiple keys to the `.loc` attribute. After passing all the row indices, we need to use `.loc` again to get at the column indices. "
   ]
  },
  {
   "cell_type": "code",
   "execution_count": 54,
   "id": "d78ff588-dbeb-4856-942a-015910dcb15b",
   "metadata": {
    "tags": []
   },
   "outputs": [
    {
     "data": {
      "text/plain": [
       "Culmen Length (mm)  mean    48.833824\n",
       "                    std      3.339256\n",
       "Culmen Depth (mm)   mean    18.420588\n",
       "                    std      1.135395\n",
       "Name: (Chinstrap penguin (Pygoscelis antarctica), Dream), dtype: float64"
      ]
     },
     "execution_count": 54,
     "metadata": {},
     "output_type": "execute_result"
    }
   ],
   "source": [
    "chinstrap_dream = summary.loc[\"Chinstrap penguin (Pygoscelis antarctica)\", \"Dream\"]\n",
    "chinstrap_dream"
   ]
  },
  {
   "cell_type": "code",
   "execution_count": 55,
   "id": "f3e82560-28fb-4037-8d35-9af368563f22",
   "metadata": {
    "tags": []
   },
   "outputs": [
    {
     "data": {
      "text/plain": [
       "48.83382352941176"
      ]
     },
     "execution_count": 55,
     "metadata": {},
     "output_type": "execute_result"
    }
   ],
   "source": [
    "# mean culmen length of chinstrap penguins on Dream Island \n",
    "chinstrap_dream.loc[\"Culmen Length (mm)\", \"mean\"] "
   ]
  },
  {
   "cell_type": "markdown",
   "id": "ed907199",
   "metadata": {},
   "source": [
    "## Recoding Columns\n",
    "\n",
    "In many cases, we might want to recode the data in columns. For example, suppose I'd like to recode the data for the sex of the penguins, replacing \"MALE\" and \"FEMALE\" with \"m\" and \"f\", respectively. We'd also like to replace the `NaN` values with \"unknown.\"  \n",
    "\n",
    "The most versatile way to do this is to manually specify the recoding map using a dictionary and the **`map()`** method. "
   ]
  },
  {
   "cell_type": "code",
   "execution_count": 56,
   "id": "c551393c-a2d4-4095-a538-577c557d66d0",
   "metadata": {
    "tags": []
   },
   "outputs": [
    {
     "data": {
      "text/html": [
       "<div>\n",
       "<style scoped>\n",
       "    .dataframe tbody tr th:only-of-type {\n",
       "        vertical-align: middle;\n",
       "    }\n",
       "\n",
       "    .dataframe tbody tr th {\n",
       "        vertical-align: top;\n",
       "    }\n",
       "\n",
       "    .dataframe thead th {\n",
       "        text-align: right;\n",
       "    }\n",
       "</style>\n",
       "<table border=\"1\" class=\"dataframe\">\n",
       "  <thead>\n",
       "    <tr style=\"text-align: right;\">\n",
       "      <th></th>\n",
       "      <th>Species</th>\n",
       "      <th>Region</th>\n",
       "      <th>Island</th>\n",
       "      <th>Culmen Length (mm)</th>\n",
       "      <th>Culmen Length (cm)</th>\n",
       "      <th>Culmen Depth (mm)</th>\n",
       "      <th>Sex</th>\n",
       "      <th>Anvers</th>\n",
       "    </tr>\n",
       "  </thead>\n",
       "  <tbody>\n",
       "    <tr>\n",
       "      <th>0</th>\n",
       "      <td>Adelie Penguin (Pygoscelis adeliae)</td>\n",
       "      <td>Anvers</td>\n",
       "      <td>Torgersen</td>\n",
       "      <td>39.1</td>\n",
       "      <td>3.91</td>\n",
       "      <td>18.7</td>\n",
       "      <td>MALE</td>\n",
       "      <td>True</td>\n",
       "    </tr>\n",
       "    <tr>\n",
       "      <th>1</th>\n",
       "      <td>Adelie Penguin (Pygoscelis adeliae)</td>\n",
       "      <td>Anvers</td>\n",
       "      <td>Torgersen</td>\n",
       "      <td>39.5</td>\n",
       "      <td>3.95</td>\n",
       "      <td>17.4</td>\n",
       "      <td>FEMALE</td>\n",
       "      <td>True</td>\n",
       "    </tr>\n",
       "    <tr>\n",
       "      <th>2</th>\n",
       "      <td>Adelie Penguin (Pygoscelis adeliae)</td>\n",
       "      <td>Anvers</td>\n",
       "      <td>Torgersen</td>\n",
       "      <td>40.3</td>\n",
       "      <td>4.03</td>\n",
       "      <td>18.0</td>\n",
       "      <td>FEMALE</td>\n",
       "      <td>True</td>\n",
       "    </tr>\n",
       "    <tr>\n",
       "      <th>3</th>\n",
       "      <td>Adelie Penguin (Pygoscelis adeliae)</td>\n",
       "      <td>Anvers</td>\n",
       "      <td>Torgersen</td>\n",
       "      <td>NaN</td>\n",
       "      <td>NaN</td>\n",
       "      <td>NaN</td>\n",
       "      <td>NaN</td>\n",
       "      <td>True</td>\n",
       "    </tr>\n",
       "    <tr>\n",
       "      <th>4</th>\n",
       "      <td>Adelie Penguin (Pygoscelis adeliae)</td>\n",
       "      <td>Anvers</td>\n",
       "      <td>Torgersen</td>\n",
       "      <td>36.7</td>\n",
       "      <td>3.67</td>\n",
       "      <td>19.3</td>\n",
       "      <td>FEMALE</td>\n",
       "      <td>True</td>\n",
       "    </tr>\n",
       "    <tr>\n",
       "      <th>...</th>\n",
       "      <td>...</td>\n",
       "      <td>...</td>\n",
       "      <td>...</td>\n",
       "      <td>...</td>\n",
       "      <td>...</td>\n",
       "      <td>...</td>\n",
       "      <td>...</td>\n",
       "      <td>...</td>\n",
       "    </tr>\n",
       "    <tr>\n",
       "      <th>339</th>\n",
       "      <td>Gentoo penguin (Pygoscelis papua)</td>\n",
       "      <td>Anvers</td>\n",
       "      <td>Biscoe</td>\n",
       "      <td>NaN</td>\n",
       "      <td>NaN</td>\n",
       "      <td>NaN</td>\n",
       "      <td>NaN</td>\n",
       "      <td>True</td>\n",
       "    </tr>\n",
       "    <tr>\n",
       "      <th>340</th>\n",
       "      <td>Gentoo penguin (Pygoscelis papua)</td>\n",
       "      <td>Anvers</td>\n",
       "      <td>Biscoe</td>\n",
       "      <td>46.8</td>\n",
       "      <td>4.68</td>\n",
       "      <td>14.3</td>\n",
       "      <td>FEMALE</td>\n",
       "      <td>True</td>\n",
       "    </tr>\n",
       "    <tr>\n",
       "      <th>341</th>\n",
       "      <td>Gentoo penguin (Pygoscelis papua)</td>\n",
       "      <td>Anvers</td>\n",
       "      <td>Biscoe</td>\n",
       "      <td>50.4</td>\n",
       "      <td>5.04</td>\n",
       "      <td>15.7</td>\n",
       "      <td>MALE</td>\n",
       "      <td>True</td>\n",
       "    </tr>\n",
       "    <tr>\n",
       "      <th>342</th>\n",
       "      <td>Gentoo penguin (Pygoscelis papua)</td>\n",
       "      <td>Anvers</td>\n",
       "      <td>Biscoe</td>\n",
       "      <td>45.2</td>\n",
       "      <td>4.52</td>\n",
       "      <td>14.8</td>\n",
       "      <td>FEMALE</td>\n",
       "      <td>True</td>\n",
       "    </tr>\n",
       "    <tr>\n",
       "      <th>343</th>\n",
       "      <td>Gentoo penguin (Pygoscelis papua)</td>\n",
       "      <td>Anvers</td>\n",
       "      <td>Biscoe</td>\n",
       "      <td>49.9</td>\n",
       "      <td>4.99</td>\n",
       "      <td>16.1</td>\n",
       "      <td>MALE</td>\n",
       "      <td>True</td>\n",
       "    </tr>\n",
       "  </tbody>\n",
       "</table>\n",
       "<p>344 rows × 8 columns</p>\n",
       "</div>"
      ],
      "text/plain": [
       "                                 Species  Region     Island  \\\n",
       "0    Adelie Penguin (Pygoscelis adeliae)  Anvers  Torgersen   \n",
       "1    Adelie Penguin (Pygoscelis adeliae)  Anvers  Torgersen   \n",
       "2    Adelie Penguin (Pygoscelis adeliae)  Anvers  Torgersen   \n",
       "3    Adelie Penguin (Pygoscelis adeliae)  Anvers  Torgersen   \n",
       "4    Adelie Penguin (Pygoscelis adeliae)  Anvers  Torgersen   \n",
       "..                                   ...     ...        ...   \n",
       "339    Gentoo penguin (Pygoscelis papua)  Anvers     Biscoe   \n",
       "340    Gentoo penguin (Pygoscelis papua)  Anvers     Biscoe   \n",
       "341    Gentoo penguin (Pygoscelis papua)  Anvers     Biscoe   \n",
       "342    Gentoo penguin (Pygoscelis papua)  Anvers     Biscoe   \n",
       "343    Gentoo penguin (Pygoscelis papua)  Anvers     Biscoe   \n",
       "\n",
       "     Culmen Length (mm)  Culmen Length (cm)  Culmen Depth (mm)     Sex  Anvers  \n",
       "0                  39.1                3.91               18.7    MALE    True  \n",
       "1                  39.5                3.95               17.4  FEMALE    True  \n",
       "2                  40.3                4.03               18.0  FEMALE    True  \n",
       "3                   NaN                 NaN                NaN     NaN    True  \n",
       "4                  36.7                3.67               19.3  FEMALE    True  \n",
       "..                  ...                 ...                ...     ...     ...  \n",
       "339                 NaN                 NaN                NaN     NaN    True  \n",
       "340                46.8                4.68               14.3  FEMALE    True  \n",
       "341                50.4                5.04               15.7    MALE    True  \n",
       "342                45.2                4.52               14.8  FEMALE    True  \n",
       "343                49.9                4.99               16.1    MALE    True  \n",
       "\n",
       "[344 rows x 8 columns]"
      ]
     },
     "execution_count": 56,
     "metadata": {},
     "output_type": "execute_result"
    }
   ],
   "source": [
    "penguins"
   ]
  },
  {
   "cell_type": "code",
   "execution_count": 57,
   "id": "114c4255",
   "metadata": {
    "tags": []
   },
   "outputs": [
    {
     "data": {
      "text/plain": [
       "0        MALE\n",
       "1      FEMALE\n",
       "2      FEMALE\n",
       "3         NaN\n",
       "4      FEMALE\n",
       "        ...  \n",
       "339       NaN\n",
       "340    FEMALE\n",
       "341      MALE\n",
       "342    FEMALE\n",
       "343      MALE\n",
       "Name: Sex, Length: 344, dtype: object"
      ]
     },
     "execution_count": 57,
     "metadata": {},
     "output_type": "execute_result"
    }
   ],
   "source": [
    "penguins[\"Sex\"]"
   ]
  },
  {
   "cell_type": "code",
   "execution_count": 58,
   "id": "a91acc38",
   "metadata": {
    "tags": []
   },
   "outputs": [],
   "source": [
    "# keys are original data codes \n",
    "# values are new codes\n",
    "recode = {\n",
    "    \"MALE\"   : \"m\",\n",
    "    \"FEMALE\" : \"f\",\n",
    "     np.nan  : \"unknown\"\n",
    "}\n",
    "\n",
    "penguins[\"Sex\"] = penguins[\"Sex\"].map(recode)"
   ]
  },
  {
   "cell_type": "code",
   "execution_count": 59,
   "id": "e4e09a57",
   "metadata": {
    "tags": []
   },
   "outputs": [
    {
     "data": {
      "text/plain": [
       "0            m\n",
       "1            f\n",
       "2            f\n",
       "3      unknown\n",
       "4            f\n",
       "        ...   \n",
       "339    unknown\n",
       "340          f\n",
       "341          m\n",
       "342          f\n",
       "343          m\n",
       "Name: Sex, Length: 344, dtype: object"
      ]
     },
     "execution_count": 59,
     "metadata": {},
     "output_type": "execute_result"
    }
   ],
   "source": [
    "penguins[\"Sex\"]"
   ]
  },
  {
   "cell_type": "markdown",
   "id": "e91b1aaa",
   "metadata": {},
   "source": [
    "## `apply()` method\n",
    "\n",
    "Somewhat confusingly, the `apply()` method is not the method used in standard split-apply-combine operations -- `aggregate()` is your go-to. The `apply` method is used when you want to operate on groups without necessarily producing a reduced data frame. \n",
    "\n",
    "When using `apply()`, it is necessary to supply a function whose first argument is a data frame. This function will be applied to each group. \n",
    "\n",
    "Don't use for loops when you can use apply -- vectorization!\n",
    "\n",
    "Here, we call `.apply()` method of a `Series`, applying the function in the argument to each of the element."
   ]
  },
  {
   "cell_type": "code",
   "execution_count": 60,
   "id": "fa9dbca1-f369-4767-bb3a-91c421a94d76",
   "metadata": {
    "tags": []
   },
   "outputs": [],
   "source": [
    "penguins[\"Species\"] = penguins[\"Species\"].apply(lambda x: x.upper()) # same as penguins[\"Species\"].str.upper() "
   ]
  },
  {
   "cell_type": "code",
   "execution_count": 77,
   "id": "7e3fc608-2306-4594-a245-9ac0fea9a24e",
   "metadata": {
    "tags": []
   },
   "outputs": [
    {
     "data": {
      "text/html": [
       "<div>\n",
       "<style scoped>\n",
       "    .dataframe tbody tr th:only-of-type {\n",
       "        vertical-align: middle;\n",
       "    }\n",
       "\n",
       "    .dataframe tbody tr th {\n",
       "        vertical-align: top;\n",
       "    }\n",
       "\n",
       "    .dataframe thead th {\n",
       "        text-align: right;\n",
       "    }\n",
       "</style>\n",
       "<table border=\"1\" class=\"dataframe\">\n",
       "  <thead>\n",
       "    <tr style=\"text-align: right;\">\n",
       "      <th></th>\n",
       "      <th>Species</th>\n",
       "      <th>Region</th>\n",
       "      <th>Island</th>\n",
       "      <th>Culmen Length (mm)</th>\n",
       "      <th>Culmen Length (cm)</th>\n",
       "      <th>Culmen Depth (mm)</th>\n",
       "      <th>Sex</th>\n",
       "      <th>Anvers</th>\n",
       "    </tr>\n",
       "  </thead>\n",
       "  <tbody>\n",
       "    <tr>\n",
       "      <th>0</th>\n",
       "      <td>ADELIE</td>\n",
       "      <td>Anvers</td>\n",
       "      <td>Torgersen</td>\n",
       "      <td>39.1</td>\n",
       "      <td>3.91</td>\n",
       "      <td>18.7</td>\n",
       "      <td>m</td>\n",
       "      <td>True</td>\n",
       "    </tr>\n",
       "    <tr>\n",
       "      <th>1</th>\n",
       "      <td>ADELIE</td>\n",
       "      <td>Anvers</td>\n",
       "      <td>Torgersen</td>\n",
       "      <td>39.5</td>\n",
       "      <td>3.95</td>\n",
       "      <td>17.4</td>\n",
       "      <td>f</td>\n",
       "      <td>True</td>\n",
       "    </tr>\n",
       "    <tr>\n",
       "      <th>2</th>\n",
       "      <td>ADELIE</td>\n",
       "      <td>Anvers</td>\n",
       "      <td>Torgersen</td>\n",
       "      <td>40.3</td>\n",
       "      <td>4.03</td>\n",
       "      <td>18.0</td>\n",
       "      <td>f</td>\n",
       "      <td>True</td>\n",
       "    </tr>\n",
       "    <tr>\n",
       "      <th>3</th>\n",
       "      <td>ADELIE</td>\n",
       "      <td>Anvers</td>\n",
       "      <td>Torgersen</td>\n",
       "      <td>NaN</td>\n",
       "      <td>NaN</td>\n",
       "      <td>NaN</td>\n",
       "      <td>unknown</td>\n",
       "      <td>True</td>\n",
       "    </tr>\n",
       "    <tr>\n",
       "      <th>4</th>\n",
       "      <td>ADELIE</td>\n",
       "      <td>Anvers</td>\n",
       "      <td>Torgersen</td>\n",
       "      <td>36.7</td>\n",
       "      <td>3.67</td>\n",
       "      <td>19.3</td>\n",
       "      <td>f</td>\n",
       "      <td>True</td>\n",
       "    </tr>\n",
       "    <tr>\n",
       "      <th>...</th>\n",
       "      <td>...</td>\n",
       "      <td>...</td>\n",
       "      <td>...</td>\n",
       "      <td>...</td>\n",
       "      <td>...</td>\n",
       "      <td>...</td>\n",
       "      <td>...</td>\n",
       "      <td>...</td>\n",
       "    </tr>\n",
       "    <tr>\n",
       "      <th>339</th>\n",
       "      <td>GENTOO</td>\n",
       "      <td>Anvers</td>\n",
       "      <td>Biscoe</td>\n",
       "      <td>NaN</td>\n",
       "      <td>NaN</td>\n",
       "      <td>NaN</td>\n",
       "      <td>unknown</td>\n",
       "      <td>True</td>\n",
       "    </tr>\n",
       "    <tr>\n",
       "      <th>340</th>\n",
       "      <td>GENTOO</td>\n",
       "      <td>Anvers</td>\n",
       "      <td>Biscoe</td>\n",
       "      <td>46.8</td>\n",
       "      <td>4.68</td>\n",
       "      <td>14.3</td>\n",
       "      <td>f</td>\n",
       "      <td>True</td>\n",
       "    </tr>\n",
       "    <tr>\n",
       "      <th>341</th>\n",
       "      <td>GENTOO</td>\n",
       "      <td>Anvers</td>\n",
       "      <td>Biscoe</td>\n",
       "      <td>50.4</td>\n",
       "      <td>5.04</td>\n",
       "      <td>15.7</td>\n",
       "      <td>m</td>\n",
       "      <td>True</td>\n",
       "    </tr>\n",
       "    <tr>\n",
       "      <th>342</th>\n",
       "      <td>GENTOO</td>\n",
       "      <td>Anvers</td>\n",
       "      <td>Biscoe</td>\n",
       "      <td>45.2</td>\n",
       "      <td>4.52</td>\n",
       "      <td>14.8</td>\n",
       "      <td>f</td>\n",
       "      <td>True</td>\n",
       "    </tr>\n",
       "    <tr>\n",
       "      <th>343</th>\n",
       "      <td>GENTOO</td>\n",
       "      <td>Anvers</td>\n",
       "      <td>Biscoe</td>\n",
       "      <td>49.9</td>\n",
       "      <td>4.99</td>\n",
       "      <td>16.1</td>\n",
       "      <td>m</td>\n",
       "      <td>True</td>\n",
       "    </tr>\n",
       "  </tbody>\n",
       "</table>\n",
       "<p>344 rows × 8 columns</p>\n",
       "</div>"
      ],
      "text/plain": [
       "    Species  Region     Island  Culmen Length (mm)  Culmen Length (cm)  \\\n",
       "0    ADELIE  Anvers  Torgersen                39.1                3.91   \n",
       "1    ADELIE  Anvers  Torgersen                39.5                3.95   \n",
       "2    ADELIE  Anvers  Torgersen                40.3                4.03   \n",
       "3    ADELIE  Anvers  Torgersen                 NaN                 NaN   \n",
       "4    ADELIE  Anvers  Torgersen                36.7                3.67   \n",
       "..      ...     ...        ...                 ...                 ...   \n",
       "339  GENTOO  Anvers     Biscoe                 NaN                 NaN   \n",
       "340  GENTOO  Anvers     Biscoe                46.8                4.68   \n",
       "341  GENTOO  Anvers     Biscoe                50.4                5.04   \n",
       "342  GENTOO  Anvers     Biscoe                45.2                4.52   \n",
       "343  GENTOO  Anvers     Biscoe                49.9                4.99   \n",
       "\n",
       "     Culmen Depth (mm)      Sex  Anvers  \n",
       "0                 18.7        m    True  \n",
       "1                 17.4        f    True  \n",
       "2                 18.0        f    True  \n",
       "3                  NaN  unknown    True  \n",
       "4                 19.3        f    True  \n",
       "..                 ...      ...     ...  \n",
       "339                NaN  unknown    True  \n",
       "340               14.3        f    True  \n",
       "341               15.7        m    True  \n",
       "342               14.8        f    True  \n",
       "343               16.1        m    True  \n",
       "\n",
       "[344 rows x 8 columns]"
      ]
     },
     "execution_count": 77,
     "metadata": {},
     "output_type": "execute_result"
    }
   ],
   "source": [
    "penguins[\"Species\"] = penguins[\"Species\"].str.split().str[0]\n",
    "penguins"
   ]
  },
  {
   "cell_type": "markdown",
   "id": "a506f20f-dd9d-4d32-b381-c72900b48d59",
   "metadata": {},
   "source": [
    "`GroupBy` objects also have the `.apply()` method. In this case, the function is applied for each group. "
   ]
  },
  {
   "cell_type": "code",
   "execution_count": 84,
   "id": "df81de4c",
   "metadata": {
    "tags": []
   },
   "outputs": [
    {
     "name": "stderr",
     "output_type": "stream",
     "text": [
      "/var/folders/jt/m55yxv8d0wxgwy79rkghhwsc0000gn/T/ipykernel_52974/4089997195.py:7: DeprecationWarning: DataFrameGroupBy.apply operated on the grouping columns. This behavior is deprecated, and in a future version of pandas the grouping columns will be excluded from the operation. Either pass `include_groups=False` to exclude the groupings or explicitly select the grouping columns after groupby to silence this warning.\n",
      "  penguins.groupby(\"Species\").apply(plot_hist)\n"
     ]
    },
    {
     "data": {
      "text/plain": [
       "Text(0.5, 1.0, 'Culmen Length Distribution by Species')"
      ]
     },
     "execution_count": 84,
     "metadata": {},
     "output_type": "execute_result"
    },
    {
     "data": {
      "image/png": "[encoded data removed]",
      "text/plain": [
       "<Figure size 640x480 with 1 Axes>"
      ]
     },
     "metadata": {},
     "output_type": "display_data"
    }
   ],
   "source": [
    "import matplotlib.pyplot as plt\n",
    "fig, ax = plt.subplots(1)\n",
    "\n",
    "def plot_hist(df):\n",
    "    ax.hist(df['Culmen Length (mm)'], alpha = 0.5)\n",
    "\n",
    "penguins.groupby(\"Species\").apply(plot_hist)\n",
    "\n",
    "ax.set_ylabel(\"Frequency\")\n",
    "ax.set_xlabel(\"Culmen Length (mm)\")\n",
    "ax.set_title(\"Culmen Length Distribution by Species\")"
   ]
  },
  {
   "cell_type": "markdown",
   "id": "b524b772",
   "metadata": {},
   "source": [
    "Further arguments can be specified as `*args` or `**kwargs` to the call to `apply`. "
   ]
  },
  {
   "cell_type": "code",
   "execution_count": 85,
   "id": "3ade1bf3",
   "metadata": {
    "tags": []
   },
   "outputs": [
    {
     "name": "stderr",
     "output_type": "stream",
     "text": [
      "/var/folders/jt/m55yxv8d0wxgwy79rkghhwsc0000gn/T/ipykernel_52974/2560164348.py:6: DeprecationWarning: DataFrameGroupBy.apply operated on the grouping columns. This behavior is deprecated, and in a future version of pandas the grouping columns will be excluded from the operation. Either pass `include_groups=False` to exclude the groupings or explicitly select the grouping columns after groupby to silence this warning.\n",
      "  penguins.groupby(\"Species\").apply(plot_hist, 'Culmen Length (mm)', 0.5)\n"
     ]
    },
    {
     "data": {
      "text/plain": [
       "Text(0.5, 1.0, 'Culmen Length Distribution by Species')"
      ]
     },
     "execution_count": 85,
     "metadata": {},
     "output_type": "execute_result"
    },
    {
     "data": {
      "image/png": "[encoded data removed]",
      "text/plain": [
       "<Figure size 640x480 with 1 Axes>"
      ]
     },
     "metadata": {},
     "output_type": "display_data"
    }
   ],
   "source": [
    "fig, ax = plt.subplots(1)\n",
    "\n",
    "def plot_hist(df, colname, alpha):\n",
    "    ax.hist(df[colname], alpha = alpha)\n",
    "\n",
    "penguins.groupby(\"Species\").apply(plot_hist, 'Culmen Length (mm)', 0.5)\n",
    "\n",
    "ax.set_ylabel(\"Frequency\")\n",
    "ax.set_xlabel(\"Culmen Length (mm)\")\n",
    "ax.set_title(\"Culmen Length Distribution by Species\")"
   ]
  },
  {
   "cell_type": "markdown",
   "id": "8d6e13f6",
   "metadata": {},
   "source": [
    "Use of `apply` can save you from having to write `for`-loops when iterating over the possible values of data in a column. "
   ]
  },
  {
   "cell_type": "code",
   "execution_count": 86,
   "id": "2c872b91-d13d-4a17-9159-22a61393382b",
   "metadata": {
    "tags": []
   },
   "outputs": [
    {
     "data": {
      "text/plain": [
       "Text(0.5, 1.0, 'Culmen Length Distribution by Species')"
      ]
     },
     "execution_count": 86,
     "metadata": {},
     "output_type": "execute_result"
    },
    {
     "data": {
      "image/png": "[encoded data removed]",
      "text/plain": [
       "<Figure size 640x480 with 1 Axes>"
      ]
     },
     "metadata": {},
     "output_type": "display_data"
    }
   ],
   "source": [
    "# NOT RECOMMENDED\n",
    "fig, ax = plt.subplots(1)\n",
    "x = penguins[penguins[\"Species\"] == 'ADELIE']\n",
    "y = penguins[penguins[\"Species\"] == 'GENTOO']\n",
    "z = penguins[penguins[\"Species\"] == 'CHINSTRAP']\n",
    "\n",
    "ax.hist(x['Culmen Length (mm)'], alpha= 0.5)\n",
    "ax.hist(y['Culmen Length (mm)'], alpha= 0.5)\n",
    "ax.hist(z['Culmen Length (mm)'], alpha= 0.5)\n",
    "\n",
    "ax.set_ylabel(\"Frequency\")\n",
    "ax.set_xlabel(\"Culmen Length (mm)\")\n",
    "ax.set_title(\"Culmen Length Distribution by Species\")"
   ]
  },
  {
   "cell_type": "code",
   "execution_count": null,
   "id": "b7f26130",
   "metadata": {},
   "outputs": [],
   "source": []
  }
 ],
 "metadata": {
  "kernelspec": {
   "display_name": "Python 3 (ipykernel)",
   "language": "python",
   "name": "python3"
  },
  "language_info": {
   "codemirror_mode": {
    "name": "ipython",
    "version": 3
   },
   "file_extension": ".py",
   "mimetype": "text/x-python",
   "name": "python",
   "nbconvert_exporter": "python",
   "pygments_lexer": "ipython3",
   "version": "3.11.7"
  }
 },
 "nbformat": 4,
 "nbformat_minor": 5
}
