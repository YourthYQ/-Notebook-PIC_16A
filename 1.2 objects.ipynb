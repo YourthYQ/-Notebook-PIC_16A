{
 "cells": [
  {
   "cell_type": "markdown",
   "metadata": {},
   "source": [
    "Announcements:\n",
    "- HW1 is released! Due next Thursday. \n"
   ]
  },
  {
   "cell_type": "markdown",
   "metadata": {},
   "source": [
    "Monday: `int`, `float`, `bool`, `str`, variable naming\n",
    "\n",
    "Today: indexing, slicing, `list`, how objects work in Python\n",
    "\n",
    "### `int` and `float` operations:"
   ]
  },
  {
   "cell_type": "code",
   "execution_count": 249,
   "metadata": {},
   "outputs": [
    {
     "name": "stdout",
     "output_type": "stream",
     "text": [
      "7\n",
      "3\n",
      "10\n",
      "2.5 <class 'float'>\n"
     ]
    }
   ],
   "source": [
    "print(5 + 2)\n",
    "print(5 - 2)\n",
    "print(5 * 2)\n",
    "print(5 / 2, type(5 / 2)) # always returns a float "
   ]
  },
  {
   "cell_type": "code",
   "execution_count": 250,
   "metadata": {},
   "outputs": [
    {
     "name": "stdout",
     "output_type": "stream",
     "text": [
      "2 <class 'int'>\n",
      "1\n",
      "25\n"
     ]
    }
   ],
   "source": [
    "print(5 // 2, type(5 // 2)) # floor division (divide and take the int)\n",
    "print(5 % 2) # remainder\n",
    "print(5 ** 2) # raise to power"
   ]
  },
  {
   "cell_type": "code",
   "execution_count": 251,
   "metadata": {},
   "outputs": [
    {
     "name": "stdout",
     "output_type": "stream",
     "text": [
      "0.30000000000000004\n"
     ]
    }
   ],
   "source": [
    "print(0.2 + 0.1)"
   ]
  },
  {
   "cell_type": "markdown",
   "metadata": {},
   "source": [
    "### A little bit more about `str`:"
   ]
  },
  {
   "cell_type": "code",
   "execution_count": 9,
   "metadata": {},
   "outputs": [
    {
     "name": "stdout",
     "output_type": "stream",
     "text": [
      "\n",
      "Hello\n",
      "World\n",
      "\n",
      "10\n",
      "abc def\n"
     ]
    }
   ],
   "source": [
    "s = 'abcdefghij'\n",
    "# multiple-line string\n",
    "str = \"\"\"\n",
    "Hello\n",
    "World\n",
    "\"\"\"\n",
    "print(str)\n",
    "\n",
    "# get length\n",
    "print(len(s))\n",
    "\n",
    "# concatenate with +\n",
    "print(\"abc\" + \" \" + \"def\")\n"
   ]
  },
  {
   "cell_type": "code",
   "execution_count": 10,
   "metadata": {},
   "outputs": [
    {
     "name": "stdout",
     "output_type": "stream",
     "text": [
      "a d\n",
      "j j j\n",
      "h\n",
      "abc\n",
      "ace\n",
      "abc\n",
      "bc\n",
      "hij\n",
      "\n",
      "jihgfedcba\n",
      "jihgfedcba\n",
      "jihgfedcba\n",
      "jihgfedcb\n"
     ]
    }
   ],
   "source": [
    "# indexing: 0-based\n",
    "\n",
    "print(s[0], s[3])\n",
    "print(s[9], s[len(s)-1], s[-1])\n",
    "print(s[-3])\n",
    "\n",
    "# slicing \n",
    "\n",
    "print(s[0:3:1])\n",
    "print(s[0:5:2])\n",
    "# s[start:end:step] does NOT include s[end]\n",
    "    # [a,b), and step means skip\n",
    "# if there is no step, assume 1.\n",
    "# if there is no start, assume 0 (if step is positive) or -1 (if step is negative).\n",
    "# if there is no end, assume len(s) (if step is positive) or start of the sequence (if step is negative).\n",
    "# very intuitive once you see it a couple of times - s[:x] and s[-x:] have length x.\n",
    "\n",
    "print(s[:3]) # s[0:3:1]\n",
    "print(s[1:3]) # s[1:3:1]\n",
    "print(s[-3:]) # s[-3:len(s):1]\n",
    "print(s[-3:0:1]) # space - starts at index of -3 cannot end up with index of 0\n",
    "\n",
    "# following three lines show a method to reverse the string\n",
    "print(s[::-1]) # see below\n",
    "print(s[-1::-1]) # see below\n",
    "print(s[-1:-len(s)-1:-1]) # s[-1:-11:-1] it will print the start of the sequence: s[0]\n",
    "\n",
    "print(s[-1:0:-1]) # [len(s) - 1, 0) backward, since it is an open interval for 0, then we cannot print s[0]"
   ]
  },
  {
   "cell_type": "markdown",
   "metadata": {},
   "source": [
    "More string methods https://docs.python.org/3/library/stdtypes.html#string-methods (hint, some might be useful for HW1...)\n",
    "\n",
    "I use `strip`, `replace`, `split`, `splitlines`, `join`, and capitalization-related ones pretty often. Definitely *don't* sit down and memorize them, but keep this link handy!\n",
    "\n",
    "Try running these lines later:\n",
    "```python\n",
    "s =  '   spacious    '\n",
    "print(s.strip())\n",
    "\n",
    "s =  'aaahh   panic    aahhh'\n",
    "print(s.strip('ah'))\n",
    "print(s.strip('ah '))\n",
    "\n",
    "L = [\"ba\", \"na\", \"na\"]\n",
    "print(\"\".join(L))\n",
    "print(\" \".join(L))\n",
    "print(\"---\".join(L))\n",
    "```\n",
    "\n",
    "They can be useful tools for file paths (e.g. `'/Users/kose/Box Sync/PIC/16A/lectures'`) - why?"
   ]
  },
  {
   "cell_type": "markdown",
   "metadata": {},
   "source": [
    "`str.strip()`\n",
    "\n",
    "1. Default Behavior (No Arguments): \n",
    "    When strip() is used without any arguments, it removes all leading and trailing whitespace characters (like spaces, tabs, newlines) from the string.\n",
    "    \n",
    "2. Specifying Characters: \n",
    "    You can also specify a string of characters to be stripped. strip() will then remove all combinations of those characters from both the start and the end of the string.\n"
   ]
  },
  {
   "cell_type": "code",
   "execution_count": 3,
   "metadata": {},
   "outputs": [
    {
     "name": "stdout",
     "output_type": "stream",
     "text": [
      "spacious\n"
     ]
    }
   ],
   "source": [
    "s = '   spacious    '\n",
    "\n",
    "# strip(No_Argument) removes all leading and trailing whitespace characters (like spaces, tabs, newlines)\n",
    "print(s.strip())"
   ]
  },
  {
   "cell_type": "code",
   "execution_count": 4,
   "metadata": {},
   "outputs": [
    {
     "name": "stdout",
     "output_type": "stream",
     "text": [
      "   panic    \n",
      "panic\n"
     ]
    }
   ],
   "source": [
    "s = 'aaahh   panic    aahhh'\n",
    "\n",
    "# strip(Argument) remove all combinations of those characters from both the start and the end of the string\n",
    "print(s.strip('ah')) # remove all combinations of 'a' & 'h'\n",
    "print(s.strip('ah ')) # remove all combinations of 'a', 'h', ' '"
   ]
  },
  {
   "cell_type": "markdown",
   "metadata": {},
   "source": [
    "`str.rstrip()`\n",
    "\n",
    "1. This method is used to remove trailing characters (characters at the end of a string). <br>\n",
    "\n",
    "2. By default, it removes any whitespace characters, such as space, newline (\\n), or tab (\\t). However, you can specify a string of characters to be removed."
   ]
  },
  {
   "cell_type": "code",
   "execution_count": 39,
   "metadata": {},
   "outputs": [
    {
     "name": "stdout",
     "output_type": "stream",
     "text": [
      "'This is a sentence with whitespace at the end.'\n",
      "'  This is a sentence with whitespace at the end.'\n"
     ]
    }
   ],
   "source": [
    "text = \"  This is a sentence with whitespace at the end.     \\n\"\n",
    "cleaned_text = text.strip()\n",
    "print(repr(cleaned_text))\n",
    "\n",
    "cleaned_text = text.rstrip()\n",
    "print(repr(cleaned_text))"
   ]
  },
  {
   "cell_type": "code",
   "execution_count": 16,
   "metadata": {},
   "outputs": [
    {
     "name": "stdout",
     "output_type": "stream",
     "text": [
      "'This is a sentence with a period at the end'\n",
      "'....This is a sentence with a period at the end'\n"
     ]
    }
   ],
   "source": [
    "text = \"....This is a sentence with a period at the end....\"\n",
    "cleaned_text = text.strip('.')\n",
    "print(repr(cleaned_text))\n",
    "\n",
    "cleaned_text = text.rstrip('.')\n",
    "print(repr(cleaned_text))"
   ]
  },
  {
   "cell_type": "markdown",
   "metadata": {},
   "source": [
    "`str.join(\"\")`"
   ]
  },
  {
   "cell_type": "code",
   "execution_count": 18,
   "metadata": {},
   "outputs": [
    {
     "name": "stdout",
     "output_type": "stream",
     "text": [
      "banana\n",
      "ba na na\n",
      "ba---na---na\n"
     ]
    }
   ],
   "source": [
    "L = [\"ba\", \"na\", \"na\"]\n",
    "print(\"\".join(L))\n",
    "print(\" \".join(L))\n",
    "print(\"---\".join(L))"
   ]
  },
  {
   "cell_type": "markdown",
   "metadata": {},
   "source": [
    "`str.split()`\n",
    "\n",
    "1. Default Use (No Arguments): \n",
    "    When used without arguments, split() will treat consecutive whitespace as a single separator, splitting the string at each occurrence of whitespace.\n",
    "\n",
    "2. Specifying a Separator: \n",
    "    You can specify a string as the separator. The method will split the string at each occurrence of this separator.\n",
    "    \n",
    "3. Using maxsplit: \n",
    "    If the maxsplit parameter is provided, the method will split the string at most maxsplit times, with the remainder of the string being returned as the last element of the list."
   ]
  },
  {
   "cell_type": "code",
   "execution_count": 6,
   "metadata": {},
   "outputs": [
    {
     "name": "stdout",
     "output_type": "stream",
     "text": [
      "['hello', 'world', 'welcome', 'to', 'Python']\n"
     ]
    }
   ],
   "source": [
    "text = \"hello world welcome to Python\"\n",
    "print(text.split()) # use whitespace as separator, splitting the string at each occurrence of whitespace"
   ]
  },
  {
   "cell_type": "code",
   "execution_count": 7,
   "metadata": {},
   "outputs": [
    {
     "name": "stdout",
     "output_type": "stream",
     "text": [
      "['apple', 'banana', 'cherry']\n"
     ]
    }
   ],
   "source": [
    "text = \"apple,banana,cherry\"\n",
    "print(text.split(',')) # use ',' as separator, splitting the string at each occurrence of comma"
   ]
  },
  {
   "cell_type": "code",
   "execution_count": 8,
   "metadata": {},
   "outputs": [
    {
     "name": "stdout",
     "output_type": "stream",
     "text": [
      "['one', 'two', 'three:four']\n"
     ]
    }
   ],
   "source": [
    "text = \"one:two:three:four\"\n",
    "print(text.split(':', 2)) # use ':' as separator, splitting the string at most 2 times"
   ]
  },
  {
   "cell_type": "markdown",
   "metadata": {},
   "source": [
    "`str.splitlines()`\n",
    "This method splits a string into a list where each element is a line from the string. It splits the string at line breaks (\\r, \\n, \\r\\n). This is useful when you have a string that contains multiple lines and you want to work with each line separately."
   ]
  },
  {
   "cell_type": "code",
   "execution_count": 11,
   "metadata": {},
   "outputs": [
    {
     "name": "stdout",
     "output_type": "stream",
     "text": [
      "['First line.', 'Second line.', 'Third line.', 'Fourth line.']\n"
     ]
    }
   ],
   "source": [
    "text = \"First line.\\nSecond line.\\rThird line.\\r\\nFourth line.\"\n",
    "lines = text.splitlines()\n",
    "print(lines)"
   ]
  },
  {
   "cell_type": "markdown",
   "metadata": {},
   "source": [
    "`str.replace()`\n",
    "\n",
    "1. Basic Usage: \n",
    "    The method returns a new string where all occurrences of the old substring are replaced with the new substring.\n",
    "\n",
    "2. Lmiting the Number of Replacements: \n",
    "    By using the count parameter, you can limit the number of replacements."
   ]
  },
  {
   "cell_type": "code",
   "execution_count": 9,
   "metadata": {},
   "outputs": [
    {
     "name": "stdout",
     "output_type": "stream",
     "text": [
      "I like oranges. Apples are great!\n"
     ]
    }
   ],
   "source": [
    "text = \"I like apples. Apples are great!\"\n",
    "print(text.replace(\"apples\", \"oranges\"))  \n",
    "# Output: \"I like oranges. Oranges are great!\""
   ]
  },
  {
   "cell_type": "code",
   "execution_count": 10,
   "metadata": {},
   "outputs": [
    {
     "name": "stdout",
     "output_type": "stream",
     "text": [
      "I like oranges. Apples are great! Apples are healthy!\n"
     ]
    }
   ],
   "source": [
    "text = \"I like apples. Apples are great! Apples are healthy!\"\n",
    "print(text.replace(\"apples\", \"oranges\", 1))\n",
    "# Output: \"I like oranges. Apples are great! Apples are healthy!\""
   ]
  },
  {
   "cell_type": "markdown",
   "metadata": {},
   "source": [
    "### `list`"
   ]
  },
  {
   "cell_type": "code",
   "execution_count": 11,
   "metadata": {},
   "outputs": [
    {
     "name": "stdout",
     "output_type": "stream",
     "text": [
      "[1, 2, 'kitty', 4, '5'] <class 'list'>\n"
     ]
    }
   ],
   "source": [
    "L = [1, 2, 'kitty', 4, '5'] # lists can have mixed types\n",
    "print(L, type(L))"
   ]
  },
  {
   "cell_type": "code",
   "execution_count": 37,
   "metadata": {
    "tags": []
   },
   "outputs": [
    {
     "name": "stdout",
     "output_type": "stream",
     "text": [
      "5\n",
      "[0, 1, 2, 3, 4, 5.0]\n",
      "2\n",
      "[4, 3, 2, 1, 0]\n",
      "[0]\n",
      "[0, 1, [1, 2]]\n"
     ]
    },
    {
     "ename": "TypeError",
     "evalue": "list.extend() takes exactly one argument (2 given)",
     "output_type": "error",
     "traceback": [
      "\u001b[0;31m---------------------------------------------------------------------------\u001b[0m",
      "\u001b[0;31mTypeError\u001b[0m                                 Traceback (most recent call last)",
      "Cell \u001b[0;32mIn[37], line 19\u001b[0m\n\u001b[1;32m     15\u001b[0m \u001b[38;5;28mprint\u001b[39m(L)\n\u001b[1;32m     17\u001b[0m \u001b[38;5;66;03m# For a list with multiple elements\u001b[39;00m\n\u001b[1;32m     18\u001b[0m \u001b[38;5;66;03m# lists have extend()\u001b[39;00m\n\u001b[0;32m---> 19\u001b[0m \u001b[43mL\u001b[49m\u001b[38;5;241;43m.\u001b[39;49m\u001b[43mextend\u001b[49m\u001b[43m(\u001b[49m\u001b[43m[\u001b[49m\u001b[38;5;241;43m2\u001b[39;49m\u001b[43m,\u001b[49m\u001b[43m \u001b[49m\u001b[38;5;241;43m3\u001b[39;49m\u001b[43m]\u001b[49m\u001b[43m,\u001b[49m\u001b[43m \u001b[49m\u001b[43m[\u001b[49m\u001b[38;5;241;43m3\u001b[39;49m\u001b[43m,\u001b[49m\u001b[43m \u001b[49m\u001b[38;5;241;43m4\u001b[39;49m\u001b[43m]\u001b[49m\u001b[43m)\u001b[49m\n\u001b[1;32m     20\u001b[0m \u001b[38;5;28mprint\u001b[39m(L) \u001b[38;5;66;03m# [0, 1, 2, 3]\u001b[39;00m\n\u001b[1;32m     22\u001b[0m \u001b[38;5;66;03m# item assignment\u001b[39;00m\n",
      "\u001b[0;31mTypeError\u001b[0m: list.extend() takes exactly one argument (2 given)"
     ]
    }
   ],
   "source": [
    "L = [0, 1, 2, 3, 4]\n",
    "# len, +, indexing, slicing - same as str\n",
    "\n",
    "print(len(L))\n",
    "print(L + [5.0]) # [0, 1, 2, 3, 4, 5.0]\n",
    "print(L[2])\n",
    "print(L[::-1]) # L[-1,-len(L)-1,-1], reverse the list\n",
    "\n",
    "# For one single element\n",
    "# lists have append()\n",
    "L = [0]\n",
    "print(L)\n",
    "L.append(1) # [0,1]\n",
    "L.append([1, 2]) # [0, 1, [1, 2]]\n",
    "# ERROR: L.append([1,2], [3,4]) # append() can only use with one single element(with any type)\n",
    "print(L)\n",
    "\n",
    "# For one single element\n",
    "# lists also have extend()\n",
    "L.extend([2, 3])\n",
    "print(L) # [0, 1, 2, 3]\n",
    "# ERROR: L.extend([1,2], [3,4]) # append() can only use with one single element(with any type)\n",
    "\n",
    "# item assignment\n",
    "L[0] = 99 \n",
    "print(L)\n",
    "\n",
    "# list.count()\n",
    "L = [1, 2, 3, 2, 4, 2]\n",
    "count = L.count(2)  # count will be 3 because 2 appears three times in the list\n",
    "\n",
    "# list.index()\n",
    "L = ['a', 'b', 'c', 'b']\n",
    "index = L.index('b')  # index will be 1\n",
    "# L.index('z')  # Would raise a ValueError because 'z' is not in the list\n",
    "\n",
    "# list.insert(INDEX, ELEMENT) - inserts the specified value at the specified INDEX.\n",
    "L = [1, 2, 3, 4]\n",
    "L.insert(2, 8)  # The list will now be [1, 2, 8, 3, 4]\n",
    "\n",
    "# list.pop()\n",
    "# removes and returns the element at the given index. \n",
    "# If no index is specified, pop() removes and returns the last item in the list.\n",
    "L = [1, 2, 3, 4]\n",
    "print(L.pop()) # 4\n",
    "print(L.pop(0)) # 1\n",
    "\n",
    "# list.reverse()\n",
    "L = [1, 2, 3, 4]\n",
    "L.reverse()  # The list will now be [4, 3, 2, 1]\n",
    "\n",
    "# list.sort()\n",
    "L = [3, 1, 4, 2]\n",
    "L.sort()  # The list will now be [1, 2, 3, 4]\n",
    "L.sort(reverse=True)  # The list will now be [4, 3, 2, 1]"
   ]
  },
  {
   "cell_type": "markdown",
   "metadata": {},
   "source": [
    "Quiz 1.4\n",
    "What is value of the list y a!er running the following code?"
   ]
  },
  {
   "cell_type": "code",
   "execution_count": 13,
   "metadata": {},
   "outputs": [
    {
     "name": "stdout",
     "output_type": "stream",
     "text": [
      "[2, 3, 2, 3]\n",
      "4\n",
      "[[1, 3], [2, 3, 2, 3]]\n"
     ]
    }
   ],
   "source": [
    "l = [2,3]\n",
    "print(2*l) # [2, 3, 2, 3]\n",
    "print(2*l[0]) # 4\n",
    "\n",
    "y = [l, 2*l]\n",
    "l[0]=1\n",
    "print(y) # [[1, 3], [2, 3, 2, 3]]"
   ]
  },
  {
   "cell_type": "markdown",
   "metadata": {},
   "source": [
    "More list methods: https://docs.python.org/3/tutorial/datastructures.html#more-on-lists\n",
    "\n",
    "Some more exercises in https://docs.python.org/3/tutorial/introduction.html#lists."
   ]
  },
  {
   "cell_type": "markdown",
   "metadata": {},
   "source": [
    "## Objects --- this part is important!\n",
    "Objects are Python's abstractions of data. https://docs.python.org/3/reference/datamodel.html#objects-values-and-types\n",
    "\n",
    "In `x = 0`, `x` is name (variable name), `0` is the object.\n",
    "\n",
    "An object has\n",
    "- an identity: basically object's address in memory. Use `id()`.\n",
    "- a type. Use `type()`. \n",
    "- a value.  "
   ]
  },
  {
   "cell_type": "code",
   "execution_count": 14,
   "metadata": {
    "tags": []
   },
   "outputs": [
    {
     "name": "stdout",
     "output_type": "stream",
     "text": [
      "4376176912\n",
      "<class 'int'>\n",
      "0\n"
     ]
    }
   ],
   "source": [
    "x = 0 \n",
    "print(id(x)) # identity in Python is its memory address\n",
    "print(type(x))\n",
    "print(x)"
   ]
  },
  {
   "cell_type": "code",
   "execution_count": 15,
   "metadata": {
    "tags": []
   },
   "outputs": [
    {
     "name": "stdout",
     "output_type": "stream",
     "text": [
      "0 0\n",
      "0 1\n"
     ]
    }
   ],
   "source": [
    "x = 0\n",
    "y = x\n",
    "\n",
    "print(x, y)\n",
    "\n",
    "y = 1\n",
    "\n",
    "print(x, y)"
   ]
  },
  {
   "cell_type": "code",
   "execution_count": 16,
   "metadata": {
    "tags": []
   },
   "outputs": [
    {
     "name": "stdout",
     "output_type": "stream",
     "text": [
      "[0] [0]\n",
      "[0] [1]\n"
     ]
    }
   ],
   "source": [
    "x = [0]\n",
    "y = x\n",
    "\n",
    "print(x, y)\n",
    "\n",
    "y = [1]\n",
    "\n",
    "print(x, y)"
   ]
  },
  {
   "cell_type": "code",
   "execution_count": 17,
   "metadata": {
    "tags": []
   },
   "outputs": [
    {
     "name": "stdout",
     "output_type": "stream",
     "text": [
      "[0] [0]\n",
      "[0, 1] [0, 1]\n"
     ]
    }
   ],
   "source": [
    "x = [0]\n",
    "y = x\n",
    "\n",
    "print(x, y)\n",
    "\n",
    "y.append(1) # the changes made by function are based on memory address\n",
    "\n",
    "print(x, y)"
   ]
  },
  {
   "cell_type": "code",
   "execution_count": 18,
   "metadata": {
    "tags": []
   },
   "outputs": [
    {
     "name": "stdout",
     "output_type": "stream",
     "text": [
      "[0] [0]\n",
      "[0] [0, 1]\n"
     ]
    }
   ],
   "source": [
    "x = [0]\n",
    "y = [0]\n",
    "\n",
    "print(x, y)\n",
    "\n",
    "y.append(1)\n",
    "\n",
    "print(x, y)"
   ]
  },
  {
   "cell_type": "code",
   "execution_count": 19,
   "metadata": {
    "tags": []
   },
   "outputs": [
    {
     "name": "stdout",
     "output_type": "stream",
     "text": [
      "4421797248 4421797248\n",
      "[0, 1, 2] [0, 1, 2]\n",
      "4421797248 4421797248\n"
     ]
    }
   ],
   "source": [
    "x = [0]\n",
    "y = x # '=' sent not only value, but also memory address (deep copy)\n",
    "\n",
    "print(id(x), id(y)) # x and y have the same memory address\n",
    "\n",
    "x.append(1)\n",
    "y.append(2)\n",
    "\n",
    "print(x, y)\n",
    "\n",
    "print(id(x), id(y))"
   ]
  },
  {
   "cell_type": "code",
   "execution_count": 20,
   "metadata": {
    "tags": []
   },
   "outputs": [
    {
     "name": "stdout",
     "output_type": "stream",
     "text": [
      "4420587904 4420587904\n",
      "[0, 1] [0, 2]\n",
      "4421797248 4421799488\n"
     ]
    }
   ],
   "source": [
    "x = [0]\n",
    "y = x\n",
    "print(id(x), id(y))\n",
    "\n",
    "# for a = b, b assigns the value to a, and a points to b\n",
    "# which means that b has its original memory address, and after a = b, a points to the same address as b\n",
    "x = x + [1] # x points to a new memory address of 'x + [1]'\n",
    "y = y + [2] # y points to a new memory address of 'y + [2]'\n",
    "\n",
    "print(x, y)\n",
    "print(id(x), id(y))"
   ]
  },
  {
   "cell_type": "markdown",
   "metadata": {},
   "source": [
    "List of lists ..."
   ]
  },
  {
   "cell_type": "code",
   "execution_count": 21,
   "metadata": {
    "tags": []
   },
   "outputs": [
    {
     "name": "stdout",
     "output_type": "stream",
     "text": [
      "[0, [1, 2, 3]]\n"
     ]
    }
   ],
   "source": [
    "L = [0, [1,2]]\n",
    "\n",
    "inner = L[1] # inner points to L[1]\n",
    "inner.append(3) # L[1].append(3)\n",
    "\n",
    "print(L)"
   ]
  },
  {
   "cell_type": "markdown",
   "metadata": {},
   "source": [
    "Identity and type of an object are unchangeable once the object is created,\n",
    "but value can be changed in SOME objects.\n",
    "\n",
    "Those are called 'mutable'(可变的) vs. 'immutable'(不可改变的). This is an important bit of \"theory\" to prevent many common bugs!"
   ]
  },
  {
   "cell_type": "code",
   "execution_count": 22,
   "metadata": {
    "tags": []
   },
   "outputs": [
    {
     "name": "stdout",
     "output_type": "stream",
     "text": [
      "[[1, 1]]\n",
      "[[2, 1], [2, 1]]\n",
      "[[3, 1], [3, 1], [3, 1]]\n"
     ]
    }
   ],
   "source": [
    "### '=' is deep copy ###\n",
    "\n",
    "res = []\n",
    "y = [0, 1]\n",
    "\n",
    "y[0] = y[0] + 1 # y[0] = 0 + 1 = 1, y = [1,1]\n",
    "res.append(y) # res = [[1,1]]\n",
    "# res[0] points to y\n",
    "print(res)\n",
    "\n",
    "y[0] = y[0] + 1 # y[0] = 2, y = [2,1]\n",
    "res.append(y) # res = [res[0], [2,1]]\n",
    "# res[1] points to y\n",
    "# since res[0] points to y, and res[1] also points to y\n",
    "# then res = [[2,1], [2,1]]\n",
    "print(res)\n",
    "\n",
    "y[0] = y[0] + 1 # y[0] = 3, y = [3,1]\n",
    "res.append(y) # res = [[3,1], [3,1], [3,1]]\n",
    "# res[0], res[1], res[2] all point to y\n",
    "\n",
    "print(res)"
   ]
  },
  {
   "cell_type": "code",
   "execution_count": 23,
   "metadata": {
    "tags": []
   },
   "outputs": [
    {
     "name": "stdout",
     "output_type": "stream",
     "text": [
      "[[1, 1]]\n",
      "[[1, 1], [2, 1]]\n",
      "[[1, 1], [2, 1], [3, 1]]\n"
     ]
    }
   ],
   "source": [
    "### 'L[:]' is shallow copy ###\n",
    "\n",
    "res = []\n",
    "y = [0, 1]\n",
    "\n",
    "y[0] = y[0] + 1 # y[0] = 0 + 1 = 1, y = [1,1]\n",
    "res.append(y[:]) # res = [[1,1]]\n",
    "print(res)\n",
    "\n",
    "y[0] = y[0] + 1 # y[0] = 2, y = [2,1]\n",
    "res.append(y[:]) # res = [[1,1], [2,1]]\n",
    "print(res)\n",
    "\n",
    "y[0] = y[0] + 1 # y[0] = 3, y = [3,1]\n",
    "res.append(y[:]) # res = [[1,1], [2,1], [3,1]]\n",
    "print(res)"
   ]
  },
  {
   "cell_type": "code",
   "execution_count": 24,
   "metadata": {
    "tags": []
   },
   "outputs": [
    {
     "name": "stdout",
     "output_type": "stream",
     "text": [
      "[[1, 1], [2, 1], [3, 1]]\n"
     ]
    }
   ],
   "source": [
    "### 'L.copy()' is shallow copy ###\n",
    "\n",
    "res = []\n",
    "y = [0, 1]\n",
    "\n",
    "y[0] = y[0] + 1\n",
    "res.append(y.copy())\n",
    "\n",
    "y[0] = y[0] + 1\n",
    "res.append(y.copy())\n",
    "\n",
    "y[0] = y[0] + 1\n",
    "res.append(y.copy())\n",
    "\n",
    "print(res)"
   ]
  },
  {
   "cell_type": "markdown",
   "metadata": {},
   "source": [
    "\"Assignment statements in Python do not copy objects, they create bindings between a target and an object. For collections that are mutable or contain mutable items, a copy is sometimes needed so one can change one copy without changing the other.\"\n",
    "\n",
    "\n",
    "shallow copy vs. deep copy: https://docs.python.org/3/library/copy.html\n",
    "no need to know the intricacies of deep copy, just know what shallow copy is \n",
    "and that L[:], L.copy() both return shallow copies."
   ]
  },
  {
   "cell_type": "markdown",
   "metadata": {},
   "source": [
    "Strings are an example of immutable sequences and \n",
    "lists are an example of mutable sequences. \n",
    "They're both \"sequences\", which is why they both support a lot of the same\n",
    "operations (e.g. indexing, slicing, len, etc).\n",
    "But you can't change the value of a string. You need to make a new object if you \n",
    "want to make changes.\n",
    "\n",
    "### `tuple`\n",
    "`tuple` is another immutable sequence. Regarded/used as an \"immutable list\"."
   ]
  },
  {
   "cell_type": "code",
   "execution_count": 25,
   "metadata": {},
   "outputs": [
    {
     "name": "stdout",
     "output_type": "stream",
     "text": [
      "[1, 2, 3]\n",
      "[99, 2, 3]\n"
     ]
    }
   ],
   "source": [
    "# here is a list, which is mutable\n",
    "L = [1, 2, 3]\n",
    "print(L)\n",
    "L[0] = 99 \n",
    "print(L)"
   ]
  },
  {
   "cell_type": "code",
   "execution_count": 26,
   "metadata": {},
   "outputs": [
    {
     "name": "stdout",
     "output_type": "stream",
     "text": [
      "123\n"
     ]
    },
    {
     "ename": "TypeError",
     "evalue": "'str' object does not support item assignment",
     "output_type": "error",
     "traceback": [
      "\u001b[0;31m---------------------------------------------------------------------------\u001b[0m",
      "\u001b[0;31mTypeError\u001b[0m                                 Traceback (most recent call last)",
      "Cell \u001b[0;32mIn[26], line 3\u001b[0m\n\u001b[1;32m      1\u001b[0m s \u001b[38;5;241m=\u001b[39m \u001b[38;5;124m'\u001b[39m\u001b[38;5;124m123\u001b[39m\u001b[38;5;124m'\u001b[39m\n\u001b[1;32m      2\u001b[0m \u001b[38;5;28mprint\u001b[39m(s)\n\u001b[0;32m----> 3\u001b[0m \u001b[43ms\u001b[49m\u001b[43m[\u001b[49m\u001b[38;5;241;43m0\u001b[39;49m\u001b[43m]\u001b[49m \u001b[38;5;241m=\u001b[39m \u001b[38;5;241m99\u001b[39m \u001b[38;5;66;03m## TypeError: 'str' object does not support item assignment\u001b[39;00m\n\u001b[1;32m      4\u001b[0m \u001b[38;5;28mprint\u001b[39m(s)\n",
      "\u001b[0;31mTypeError\u001b[0m: 'str' object does not support item assignment"
     ]
    }
   ],
   "source": [
    "# here is a string, which is immutable\n",
    "s = '123'\n",
    "print(s)\n",
    "s[0] = 99 ## TypeError: 'str' object does not support item assignment\n",
    "print(s)"
   ]
  },
  {
   "cell_type": "code",
   "execution_count": 1,
   "metadata": {},
   "outputs": [
    {
     "name": "stdout",
     "output_type": "stream",
     "text": [
      "(1, 2, 3)\n"
     ]
    },
    {
     "ename": "TypeError",
     "evalue": "'tuple' object does not support item assignment",
     "output_type": "error",
     "traceback": [
      "\u001b[0;31m---------------------------------------------------------------------------\u001b[0m",
      "\u001b[0;31mTypeError\u001b[0m                                 Traceback (most recent call last)",
      "Cell \u001b[0;32mIn[1], line 4\u001b[0m\n\u001b[1;32m      2\u001b[0m t \u001b[38;5;241m=\u001b[39m (\u001b[38;5;241m1\u001b[39m, \u001b[38;5;241m2\u001b[39m, \u001b[38;5;241m3\u001b[39m)\n\u001b[1;32m      3\u001b[0m \u001b[38;5;28mprint\u001b[39m(t)\n\u001b[0;32m----> 4\u001b[0m \u001b[43mt\u001b[49m\u001b[43m[\u001b[49m\u001b[38;5;241;43m0\u001b[39;49m\u001b[43m]\u001b[49m \u001b[38;5;241m=\u001b[39m \u001b[38;5;241m99\u001b[39m \u001b[38;5;66;03m## TypeError: 'tuple' object does not support item assignment\u001b[39;00m\n\u001b[1;32m      5\u001b[0m \u001b[38;5;28mprint\u001b[39m(t)\n",
      "\u001b[0;31mTypeError\u001b[0m: 'tuple' object does not support item assignment"
     ]
    }
   ],
   "source": [
    "# here is a tuple, which is immutable\n",
    "t = (1, 2, 3)\n",
    "print(t)\n",
    "t[0] = 99 ## TypeError: 'tuple' object does not support item assignment\n",
    "print(t)"
   ]
  },
  {
   "cell_type": "code",
   "execution_count": 34,
   "metadata": {},
   "outputs": [
    {
     "name": "stdout",
     "output_type": "stream",
     "text": [
      "[1, 2, 3, 4]\n",
      "1234\n"
     ]
    },
    {
     "ename": "TypeError",
     "evalue": "can only concatenate tuple (not \"int\") to tuple",
     "output_type": "error",
     "traceback": [
      "\u001b[0;31m---------------------------------------------------------------------------\u001b[0m",
      "\u001b[0;31mTypeError\u001b[0m                                 Traceback (most recent call last)",
      "Cell \u001b[0;32mIn[34], line 12\u001b[0m\n\u001b[1;32m     10\u001b[0m t \u001b[38;5;241m=\u001b[39m (\u001b[38;5;241m1\u001b[39m, \u001b[38;5;241m2\u001b[39m, \u001b[38;5;241m3\u001b[39m)\n\u001b[1;32m     11\u001b[0m \u001b[38;5;66;03m# print(t + (4)) ## TypeError: can only concatenate tuple (not \"int\") to tuple\u001b[39;00m\n\u001b[0;32m---> 12\u001b[0m \u001b[38;5;28mprint\u001b[39m(\u001b[43mt\u001b[49m\u001b[43m \u001b[49m\u001b[38;5;241;43m+\u001b[39;49m\u001b[43m \u001b[49m\u001b[43m(\u001b[49m\u001b[38;5;241;43m4\u001b[39;49m\u001b[43m)\u001b[49m)\n\u001b[1;32m     13\u001b[0m \u001b[38;5;66;03m# While concatenate a single element as a tuple with another tuple, \u001b[39;00m\n\u001b[1;32m     14\u001b[0m \u001b[38;5;66;03m# a comma is needed after the element to indicate that it is indeed a tuple.\u001b[39;00m\n\u001b[1;32m     15\u001b[0m \u001b[38;5;66;03m# Without the comma, it's just seen as an integer in parentheses, not a tuple.\u001b[39;00m\n\u001b[1;32m     16\u001b[0m \n\u001b[1;32m     17\u001b[0m \u001b[38;5;66;03m# but the immutable data types dont have something equivalent to list append!\u001b[39;00m\n",
      "\u001b[0;31mTypeError\u001b[0m: can only concatenate tuple (not \"int\") to tuple"
     ]
    }
   ],
   "source": [
    "# lists, strings, and tuples all support this operation\n",
    "\n",
    "L = [1, 2, 3]\n",
    "print(L + [4])\n",
    "\n",
    "s = '123'\n",
    "print(s + '4')\n",
    "\n",
    "# tuples\n",
    "t = (1, 2, 3)\n",
    "# print(t + (4)) ## TypeError: can only concatenate tuple (not \"int\") to tuple\n",
    "print(t + (4,))\n",
    "# While concatenate a single element as a tuple with another tuple, \n",
    "# a comma is needed after the element to indicate that it is indeed a tuple.\n",
    "# Without the comma, it's just seen as an integer in parentheses, not a tuple.\n",
    "\n",
    "# but the immutable data types dont have something equivalent to list append!\n"
   ]
  },
  {
   "cell_type": "markdown",
   "metadata": {},
   "source": [
    "More explanation on lists and tuples: https://docs.python.org/3/library/stdtypes.html#sequence-types-list-tuple-range"
   ]
  }
 ],
 "metadata": {
  "kernelspec": {
   "display_name": "Python 3 (ipykernel)",
   "language": "python",
   "name": "python3"
  },
  "language_info": {
   "codemirror_mode": {
    "name": "ipython",
    "version": 3
   },
   "file_extension": ".py",
   "mimetype": "text/x-python",
   "name": "python",
   "nbconvert_exporter": "python",
   "pygments_lexer": "ipython3",
   "version": "3.9.6"
  }
 },
 "nbformat": 4,
 "nbformat_minor": 4
}
