{
 "cells": [
  {
   "cell_type": "markdown",
   "id": "71636a93-5f99-49fb-a347-324bd36d5bfb",
   "metadata": {},
   "source": [
    "Announcements:\n",
    "- Note on group work: You'll want to read it before tomorrow's discussion\n",
    "- Groups will be announced later today\n",
    "\n",
    "Last Friday: positional and keyword arguments, global and local scopes, default values\n",
    "\n",
    "Things you can care less about: sets, anything involving dict comprehension, function argument unpacking (`better_add(*(1, 3, 4), 7, *[9, 3])` stuff), enclosed scope -- will not be on the exam. I will mark these with `(*)` from today.\n",
    "\n",
    "Today: lambda expressions, classes and object oriented programming\n"
   ]
  },
  {
   "cell_type": "code",
   "execution_count": 1,
   "id": "1e6a0e88-79e4-4468-b23b-481a96583f68",
   "metadata": {
    "tags": []
   },
   "outputs": [
    {
     "name": "stdout",
     "output_type": "stream",
     "text": [
      "[1]\n",
      "[1, 5, 2]\n",
      "[1, 5, 2, 3]\n"
     ]
    }
   ],
   "source": [
    "x = [] # makes an empty list object, and create variable x in global scope (x -> list obj.)\n",
    "\n",
    "######### function definition\n",
    "def f(a, L=x):\n",
    "    L.append(a)\n",
    "    L = [8]\n",
    "# creates a new function object named f (f -> function obj.)\n",
    "# value of this function obj. includes a reference to the same list obj. \n",
    "# that x points to for default value.\n",
    "# variable L in local scope is NOT CREATED during function definition.\n",
    "#########\n",
    "\n",
    "######### function call with positional argument 1\n",
    "f(1)\n",
    "print(x)\n",
    "#########\n",
    "x.append(5) # modifies the list object that x points to \n",
    "f(2)\n",
    "print(x) # [1, 5, 2] \n",
    "f(3)\n",
    "print(x)"
   ]
  },
  {
   "cell_type": "code",
   "execution_count": 10,
   "id": "7eac44a2-fe3e-497f-a3f8-661b743aa774",
   "metadata": {
    "tags": []
   },
   "outputs": [
    {
     "name": "stdout",
     "output_type": "stream",
     "text": [
      "[1]\n",
      "[8]\n"
     ]
    },
    {
     "ename": "NameError",
     "evalue": "name 'L' is not defined",
     "output_type": "error",
     "traceback": [
      "\u001b[0;31m---------------------------------------------------------------------------\u001b[0m",
      "\u001b[0;31mNameError\u001b[0m                                 Traceback (most recent call last)",
      "Cell \u001b[0;32mIn[10], line 13\u001b[0m\n\u001b[1;32m     11\u001b[0m \u001b[38;5;28;01mdel\u001b[39;00m L\n\u001b[1;32m     12\u001b[0m \u001b[38;5;28;01mdel\u001b[39;00m a\n\u001b[0;32m---> 13\u001b[0m \u001b[38;5;28mprint\u001b[39m(\u001b[43mL\u001b[49m) \u001b[38;5;66;03m# NameError: name 'L' is not defined\u001b[39;00m\n",
      "\u001b[0;31mNameError\u001b[0m: name 'L' is not defined"
     ]
    }
   ],
   "source": [
    "# when you call f(1)\n",
    "# imagine you're in local scope now\n",
    "\n",
    "x = []\n",
    "a = 1\n",
    "L = x  # []\n",
    "L.append(a)\n",
    "L = [8] # L now points to a new list, but what default argument and global argument points to does not change.\n",
    "print(x)\n",
    "print(L)\n",
    "del L\n",
    "del a\n",
    "print(L) # NameError: name 'L' is not defined"
   ]
  },
  {
   "cell_type": "markdown",
   "id": "88dcc227",
   "metadata": {},
   "source": [
    "### Run and Observe following two code blocks, and find out why f1 and f2 have different behavior."
   ]
  },
  {
   "cell_type": "markdown",
   "id": "c5ff6250",
   "metadata": {},
   "source": [
    "f1 is defined with a mutable default argument L=[].\n",
    "This means the default list is created once when the function is defined, not each time the function is called.\n",
    "Every time f1 is called without specifying L, it uses the same list. Therefore, the list keeps growing with each call."
   ]
  },
  {
   "cell_type": "code",
   "execution_count": 12,
   "id": "618e2249",
   "metadata": {},
   "outputs": [
    {
     "name": "stdout",
     "output_type": "stream",
     "text": [
      "[1]\n",
      "[1, 2]\n",
      "[1, 2, 3]\n"
     ]
    }
   ],
   "source": [
    "def f1(a, L = []):\n",
    "    L.append(a)\n",
    "    return L\n",
    "\n",
    "print(f1(1))\n",
    "print(f1(2))\n",
    "print(f1(3))"
   ]
  },
  {
   "cell_type": "markdown",
   "id": "6e82b829",
   "metadata": {},
   "source": [
    "f2 is designed to avoid the issue with mutable default arguments by using L=None,\n",
    "and then checking if L is None inside the function. If it is, a new list is created each time.\n",
    "This ensures that a new list is used for each call unless a specific list is passed as an argument."
   ]
  },
  {
   "cell_type": "code",
   "execution_count": 11,
   "id": "a40fcbc8-a09f-4bd3-888c-fa12e691671d",
   "metadata": {
    "tags": []
   },
   "outputs": [
    {
     "name": "stdout",
     "output_type": "stream",
     "text": [
      "[1]\n",
      "[2]\n",
      "[3]\n"
     ]
    }
   ],
   "source": [
    "def f2(a, L=None):\n",
    "    if L is None:\n",
    "        L = []\n",
    "    L.append(a)\n",
    "    return L\n",
    "\n",
    "print(f2(1)) # skipping an argument with default value is same as giving None as an argument\n",
    "print(f2(2)) # equivalent to f(2, L=None), f(2, None)\n",
    "print(f2(3))"
   ]
  },
  {
   "cell_type": "markdown",
   "id": "9be86644-9904-417a-b860-7ed81ee1360f",
   "metadata": {},
   "source": [
    "### Anonymous functions\n",
    "You can define a function without a name if the function definition is a one-liner. "
   ]
  },
  {
   "cell_type": "code",
   "execution_count": 2,
   "id": "d1bd45e2-3f7b-406e-bf80-d20e34103aa5",
   "metadata": {},
   "outputs": [
    {
     "name": "stdout",
     "output_type": "stream",
     "text": [
      "4\n"
     ]
    }
   ],
   "source": [
    "def double(x):\n",
    "    return 2*x\n",
    "\n",
    "print(double(2))"
   ]
  },
  {
   "cell_type": "code",
   "execution_count": 3,
   "id": "ed1ae64d-2387-4163-9d83-8b50c02fc013",
   "metadata": {
    "tags": []
   },
   "outputs": [
    {
     "name": "stdout",
     "output_type": "stream",
     "text": [
      "6\n"
     ]
    }
   ],
   "source": [
    "double = lambda x : 2 * x # double(x) = 2x\n",
    "print(double(3))"
   ]
  },
  {
   "cell_type": "code",
   "execution_count": 4,
   "id": "90c05861-b6f9-4194-908f-ace5b7bafaf0",
   "metadata": {},
   "outputs": [
    {
     "name": "stdout",
     "output_type": "stream",
     "text": [
      "6\n"
     ]
    }
   ],
   "source": [
    "multiply = lambda x, y: x * y\n",
    "\n",
    "print(multiply(2, 3))"
   ]
  },
  {
   "cell_type": "code",
   "execution_count": 5,
   "id": "9eb7bbc9-e948-4e6e-955f-f9f7245a1ca5",
   "metadata": {
    "tags": []
   },
   "outputs": [
    {
     "name": "stdout",
     "output_type": "stream",
     "text": [
      "2\n"
     ]
    }
   ],
   "source": [
    "f = lambda x: print(x)\n",
    "\n",
    "f(2)"
   ]
  },
  {
   "cell_type": "code",
   "execution_count": 6,
   "id": "4ee9e636-207d-488d-84ee-f1f9fc9b33c4",
   "metadata": {
    "tags": []
   },
   "outputs": [],
   "source": [
    "def remain(x):\n",
    "    return x % 2"
   ]
  },
  {
   "cell_type": "markdown",
   "id": "16eb5ea5-4bb4-40c2-aa4d-dbfb99801d77",
   "metadata": {},
   "source": [
    "Anonymous function is useful when passed as a function argument."
   ]
  },
  {
   "cell_type": "code",
   "execution_count": 7,
   "id": "393a5b86-31d7-4612-9151-af40103d817f",
   "metadata": {
    "tags": []
   },
   "outputs": [
    {
     "name": "stdout",
     "output_type": "stream",
     "text": [
      "[4, 6, 100, 3, 1, 23]\n"
     ]
    }
   ],
   "source": [
    "L = [3, 1, 23, 4, 6, 100]\n",
    "L.sort(key=lambda x: x % 2) # [1, 1, 1, 0, 0, 0] \n",
    "print(L)"
   ]
  },
  {
   "cell_type": "code",
   "execution_count": 8,
   "id": "1c053b8e-47e3-47a5-a302-792abc3de174",
   "metadata": {
    "tags": []
   },
   "outputs": [
    {
     "name": "stdout",
     "output_type": "stream",
     "text": [
      "\u001b[0;31mSignature:\u001b[0m \u001b[0mL\u001b[0m\u001b[0;34m.\u001b[0m\u001b[0msort\u001b[0m\u001b[0;34m(\u001b[0m\u001b[0;34m*\u001b[0m\u001b[0;34m,\u001b[0m \u001b[0mkey\u001b[0m\u001b[0;34m=\u001b[0m\u001b[0;32mNone\u001b[0m\u001b[0;34m,\u001b[0m \u001b[0mreverse\u001b[0m\u001b[0;34m=\u001b[0m\u001b[0;32mFalse\u001b[0m\u001b[0;34m)\u001b[0m\u001b[0;34m\u001b[0m\u001b[0;34m\u001b[0m\u001b[0m\n",
      "\u001b[0;31mDocstring:\u001b[0m\n",
      "Sort the list in ascending order and return None.\n",
      "\n",
      "The sort is in-place (i.e. the list itself is modified) and stable (i.e. the\n",
      "order of two equal elements is maintained).\n",
      "\n",
      "If a key function is given, apply it once to each list item and sort them,\n",
      "ascending or descending, according to their function values.\n",
      "\n",
      "The reverse flag can be set to sort in descending order.\n",
      "\u001b[0;31mType:\u001b[0m      builtin_function_or_method"
     ]
    }
   ],
   "source": [
    "?L.sort"
   ]
  },
  {
   "cell_type": "markdown",
   "id": "81273511-77b0-498b-b424-f353f74db3e3",
   "metadata": {},
   "source": [
    "## Object oriented programming (OOP) \n",
    "\n",
    "Basically everything in Python is an object. Objects are bundles of data (properties) and methods (functions or behaviors). A class in Python are similar to class and structs from C++.\n",
    "\n",
    "A class defines an abstract set of possible objects sharing certain characteristics. Once you define the class, you can *instantiate* it, which gives you an instance of the class.\n",
    "\n",
    "> \"Classes provide a means of bundling data and functionality together. Creating a new class creates a new *type* of object, allowing new *instances* of that type to be made.\"\n",
    "\n",
    "https://docs.python.org/3/tutorial/classes.html\n",
    "\n",
    "https://realpython.com/python3-object-oriented-programming/"
   ]
  },
  {
   "cell_type": "code",
   "execution_count": 9,
   "id": "ba173145-3731-4b11-a4af-f6ba5d27f3b2",
   "metadata": {
    "tags": []
   },
   "outputs": [],
   "source": [
    "class Cat: # define class\n",
    "    pass "
   ]
  },
  {
   "cell_type": "code",
   "execution_count": 10,
   "id": "21f076c1-e513-4747-a3b3-7c35484d6e28",
   "metadata": {
    "tags": []
   },
   "outputs": [],
   "source": [
    "kitty = Cat() # kitty is an instance of class Cat"
   ]
  },
  {
   "cell_type": "code",
   "execution_count": 11,
   "id": "03a34442-d4da-4451-aff2-d594d8d3b906",
   "metadata": {
    "tags": []
   },
   "outputs": [
    {
     "name": "stdout",
     "output_type": "stream",
     "text": [
      "<class '__main__.Cat'>\n"
     ]
    }
   ],
   "source": [
    "print(type(kitty))"
   ]
  },
  {
   "cell_type": "code",
   "execution_count": 15,
   "id": "8e7b4b81-8ce0-44df-8c24-86d160a75584",
   "metadata": {
    "tags": []
   },
   "outputs": [
    {
     "name": "stdout",
     "output_type": "stream",
     "text": [
      "<class 'type'>\n"
     ]
    }
   ],
   "source": [
    "print(type(Cat)) # <class 'type'>"
   ]
  },
  {
   "cell_type": "code",
   "execution_count": 16,
   "id": "44cda50d-5480-41d4-a478-cc69e8c6f9d2",
   "metadata": {
    "tags": []
   },
   "outputs": [
    {
     "name": "stdout",
     "output_type": "stream",
     "text": [
      "<class 'type'> <class 'type'>\n",
      "<class 'list'> <class 'int'>\n"
     ]
    }
   ],
   "source": [
    "print(type(list), type(int))\n",
    "\n",
    "print(type([]), type(1))"
   ]
  },
  {
   "cell_type": "markdown",
   "id": "4a70d382-33d4-4df1-a296-b8302d7b9fbd",
   "metadata": {},
   "source": [
    "### Methods, class variables, self\n",
    "Methods: functions defined inside a class. \n",
    "\n",
    "The `self` prefix is used within class methods to refer to the instance of the class on which a method is being called. It's not a keyword in the strict sense but a naming convention for the first parameter of instance methods in class definitions, allowing access to the attributes and methods of the class instance.\n",
    "\n",
    "Additionally, all methods automatically take `self` as their first argument -- even when they are not named `self`! Always use `self` as the first argument of a method to avoid confusion.\n",
    "\n",
    "\n",
    "__class variables__: defined outside any method, shared across all instances of that class "
   ]
  },
  {
   "cell_type": "code",
   "execution_count": 17,
   "id": "76abf73a-9569-4ee5-84da-22436cc2d4f6",
   "metadata": {
    "tags": []
   },
   "outputs": [],
   "source": [
    "class Cat: # define class\n",
    "    # class variables: shared across all instances of Cat \n",
    "    genus = \"Felis\"\n",
    "    species = \"catus\"\n",
    "    \n",
    "    def get_scientific_name(self): # self has to be the first argument in class methods. self refers to the instance of that class.\n",
    "        return self.genus + \" \" + self.species"
   ]
  },
  {
   "cell_type": "code",
   "execution_count": 5,
   "id": "4cf38e4c-e58e-493e-8340-76ef5aab321c",
   "metadata": {
    "tags": []
   },
   "outputs": [
    {
     "name": "stdout",
     "output_type": "stream",
     "text": [
      "Felis\n",
      "Felis catus\n",
      "Felis catus\n"
     ]
    }
   ],
   "source": [
    "kitty = Cat()\n",
    "print(kitty.genus) # access class variable\n",
    "\n",
    "print(kitty.get_scientific_name()) # think of it as shorthand for Cat.get_scientific_name(kitty), self is special argument name\n",
    "print(Cat.get_scientific_name(kitty)) # The line above translates to this."
   ]
  },
  {
   "cell_type": "code",
   "execution_count": 21,
   "id": "c51b65ec-03a9-44ab-b1cd-af96f8c97f90",
   "metadata": {
    "tags": []
   },
   "outputs": [
    {
     "name": "stdout",
     "output_type": "stream",
     "text": [
      "Felis <class '__main__.Cat'>\n",
      "Felis catus\n"
     ]
    }
   ],
   "source": [
    "boba = Cat()\n",
    "print(boba.genus, type(boba))\n",
    "print(boba.get_scientific_name())"
   ]
  },
  {
   "cell_type": "markdown",
   "id": "b9727ae4-0b3e-4f1f-a67c-9bd6e6587a22",
   "metadata": {},
   "source": [
    "## Magic methods - opreation for class"
   ]
  },
  {
   "cell_type": "markdown",
   "id": "f31a9f37",
   "metadata": {},
   "source": [
    "### __`__init__()` method__ \n",
    "\n",
    "similars to the constructor in C++/Java, which allows one to pass additional data when initializing an object.\n",
    "\n",
    "But in Python, after __init__() is created, the default constructor will no longer exist. "
   ]
  },
  {
   "cell_type": "code",
   "execution_count": 29,
   "id": "3829e5bc-8db9-4527-b567-b04c3672d13e",
   "metadata": {
    "tags": []
   },
   "outputs": [],
   "source": [
    "class Cat: # define class\n",
    "    # class variables: shared across all instances of Cat \n",
    "    genus = \"Felis\"\n",
    "    species = \"catus\"\n",
    "    \n",
    "    def __init__(self, size, color):\n",
    "        self.size = size\n",
    "        self.color = color # instance variables: specific to the instance of Cat\n",
    "    \n",
    "    def describe(self, s):\n",
    "        print(s, 'color:', self.color, 'size:', self.size)\n",
    " "
   ]
  },
  {
   "cell_type": "code",
   "execution_count": 30,
   "id": "99ef4c76-d8ec-4926-89fa-a4cd81c38629",
   "metadata": {
    "tags": []
   },
   "outputs": [
    {
     "name": "stdout",
     "output_type": "stream",
     "text": [
      "hello i am a cat with color: tortie size: medium\n"
     ]
    }
   ],
   "source": [
    "kitty = Cat('medium', 'tortie') # equivalent to Cat.__init__(kitty, 'medium', 'tortie')\n",
    "kitty.describe('hello i am a cat with')"
   ]
  },
  {
   "cell_type": "code",
   "execution_count": 31,
   "id": "efd5eec1-787f-4113-97f8-2c4d97719f00",
   "metadata": {
    "tags": []
   },
   "outputs": [
    {
     "ename": "TypeError",
     "evalue": "Cat.__init__() missing 2 required positional arguments: 'size' and 'color'",
     "output_type": "error",
     "traceback": [
      "\u001b[0;31m---------------------------------------------------------------------------\u001b[0m",
      "\u001b[0;31mTypeError\u001b[0m                                 Traceback (most recent call last)",
      "Cell \u001b[0;32mIn[31], line 3\u001b[0m\n\u001b[1;32m      1\u001b[0m \u001b[38;5;66;03m# After __init__() method is declared, we have to pass parameters while create a new instance\u001b[39;00m\n\u001b[1;32m      2\u001b[0m \u001b[38;5;66;03m# In Python, after __init__() is created, the default constructor will no longer exist. \u001b[39;00m\n\u001b[0;32m----> 3\u001b[0m boba \u001b[38;5;241m=\u001b[39m \u001b[43mCat\u001b[49m\u001b[43m(\u001b[49m\u001b[43m)\u001b[49m \u001b[38;5;66;03m# TypeError: __init__() missing 2 required positional arguments: 'size' and 'color'\u001b[39;00m\n",
      "\u001b[0;31mTypeError\u001b[0m: Cat.__init__() missing 2 required positional arguments: 'size' and 'color'"
     ]
    }
   ],
   "source": [
    "# After __init__() method is declared, we have to pass parameters while create a new instance\n",
    "# In Python, after __init__() is created, the default constructor will no longer exist. \n",
    "boba = Cat() # TypeError: __init__() missing 2 required positional arguments: 'size' and 'color'"
   ]
  },
  {
   "cell_type": "code",
   "execution_count": 32,
   "id": "f5435db7",
   "metadata": {},
   "outputs": [
    {
     "data": {
      "text/plain": [
       "'Felis'"
      ]
     },
     "execution_count": 32,
     "metadata": {},
     "output_type": "execute_result"
    }
   ],
   "source": [
    "kitty.genus"
   ]
  },
  {
   "cell_type": "code",
   "execution_count": 43,
   "id": "0be18872-4708-4188-8ad4-125d5a93b553",
   "metadata": {
    "tags": []
   },
   "outputs": [
    {
     "data": {
      "text/plain": [
       "'Felis'"
      ]
     },
     "execution_count": 43,
     "metadata": {},
     "output_type": "execute_result"
    }
   ],
   "source": [
    "Cat.genus # recommended way for accessing class variables"
   ]
  },
  {
   "cell_type": "markdown",
   "id": "0155f758",
   "metadata": {},
   "source": [
    "### __`__del__()` method__ \n",
    "\n",
    "similars to the destructor in C++, which is called when an instance is about to be destroyed."
   ]
  },
  {
   "cell_type": "code",
   "execution_count": 33,
   "id": "f760645b",
   "metadata": {},
   "outputs": [],
   "source": [
    "class Cat:\n",
    "    # Class variables: shared across all instances of Cat\n",
    "    genus = \"Felis\"\n",
    "    species = \"catus\"\n",
    "    \n",
    "    def __init__(self, size, color):\n",
    "        self.size = size\n",
    "        self.color = color  # Instance variables: specific to the instance of Cat\n",
    "    \n",
    "    def describe(self, s):\n",
    "        print(s, 'color:', self.color, 'size:', self.size)\n",
    "\n",
    "    def __del__(self):\n",
    "        print(f\"A {self.color} cat of size {self.size} is being deleted.\")"
   ]
  },
  {
   "cell_type": "code",
   "execution_count": 36,
   "id": "2e5e712d",
   "metadata": {},
   "outputs": [
    {
     "name": "stdout",
     "output_type": "stream",
     "text": [
      "A british longhair cat of size small is being deleted.\n"
     ]
    }
   ],
   "source": [
    "kitten = Cat(\"small\", 'british longhair')\n",
    "del kitten"
   ]
  },
  {
   "cell_type": "markdown",
   "id": "902ad485",
   "metadata": {},
   "source": [
    "The role of `__del__()` is to define behavior that happens just before an object is destroyed, such as closing files, releasing external resources, or notifying other parts of an application that the object is being deleted. \n",
    "\n",
    "However, the actual destruction and memory cleanup of the object is handled by Python's garbage collector, not by anything you write in `__del__()`."
   ]
  },
  {
   "cell_type": "markdown",
   "id": "677324d4",
   "metadata": {},
   "source": [
    "### __`__repr__()` method__ \n",
    "\n",
    "provides an “official” string representation of the object, which should ideally be unambiguous. \n",
    "\n",
    "It's typically used for debugging and development. \n",
    "\n",
    "It's common to make it return a string that would recreate the object if passed to eval()."
   ]
  },
  {
   "cell_type": "code",
   "execution_count": null,
   "id": "5b6dbf8a",
   "metadata": {},
   "outputs": [],
   "source": [
    "class Cat:\n",
    "    # Class variables: shared across all instances of Cat\n",
    "    genus = \"Felis\"\n",
    "    species = \"catus\"\n",
    "    \n",
    "    def __init__(self, size, color):\n",
    "        self.size = size\n",
    "        self.color = color  # Instance variables: specific to the instance of Cat\n",
    "    \n",
    "    def describe(self, s):\n",
    "        print(s, 'color:', self.color, 'size:', self.size)\n",
    "\n",
    "    def __del__(self):\n",
    "        print(f\"A {self.color} cat of size {self.size} is being deleted.\")\n",
    "    \n",
    "    def __repr__(self):\n",
    "        return f\"Cat(size='{self.size}', color='{self.color}')\""
   ]
  },
  {
   "cell_type": "code",
   "execution_count": 39,
   "id": "57b01e83",
   "metadata": {},
   "outputs": [
    {
     "name": "stdout",
     "output_type": "stream",
     "text": [
      "A black cat of size medium is being deleted.\n",
      "<__main__.Cat object at 0x106bf9580>\n"
     ]
    }
   ],
   "source": [
    "kitten = Cat(\"medium\", \"black\")\n",
    "print(kitten)"
   ]
  },
  {
   "cell_type": "markdown",
   "id": "1ef2a61d",
   "metadata": {},
   "source": [
    "### `__str__()`\n",
    "The `__str__()` is a special method designed to return a string representation of an object, which is more readable and user-friendly. \n",
    "\n",
    "This method is called when you use the `str()` function on an object or when you use the `print()` function to display the object. \n",
    "\n",
    "The purpose of `__str__()` is to return a nicely printable representation of an object, which is often more for end-users than for developers (as opposed to `__repr__()` which is aimed more at developers)."
   ]
  },
  {
   "cell_type": "code",
   "execution_count": 50,
   "id": "8725e884",
   "metadata": {},
   "outputs": [],
   "source": [
    "class Cat:\n",
    "    # Class variables\n",
    "    genus = \"Felis\"\n",
    "    species = \"catus\"\n",
    "    \n",
    "    def __init__(self, size, color):\n",
    "        self.size = size\n",
    "        self.color = color\n",
    "    \n",
    "    def __str__(self):\n",
    "        return f\"A {self.color} cat of size {self.size}.\""
   ]
  },
  {
   "cell_type": "code",
   "execution_count": 51,
   "id": "c7b53a75",
   "metadata": {},
   "outputs": [
    {
     "name": "stdout",
     "output_type": "stream",
     "text": [
      "A black cat of size medium.\n",
      "A black cat of size medium.\n"
     ]
    }
   ],
   "source": [
    "my_cat = Cat(\"medium\", \"black\")\n",
    "print(str(my_cat))\n",
    "\n",
    "print(my_cat)"
   ]
  },
  {
   "cell_type": "markdown",
   "id": "52ffc35f",
   "metadata": {},
   "source": [
    "**Difference Between `__str__()` and `__repr__()`:**\n",
    "\n",
    "`__repr__()` aims to be unambiguous and is mainly used for debugging and development. The output of __repr__() should, ideally, be a valid Python expression that could be used to recreate the object (though this is more a guideline than a hard rule).\n",
    "\n",
    "`__str__()` is intended to be readable and is meant for end-user consumption. It's the string representation of an object when you're printing it out or converting it to a string for display purposes.\n",
    "\n",
    "In summary, __str__() provides a way to define a user-friendly string representation of an object, and it's typically called automatically by built-in Python functions and statements that require converting an object to a string."
   ]
  },
  {
   "cell_type": "markdown",
   "id": "31c177ee-bf54-4f8d-9708-91fbbff1bb27",
   "metadata": {},
   "source": [
    "### Interaction between class variables and instance variables (*)\n",
    "\n",
    "Here is a reason why we want to avoid confusion between class variables and instance variables.\n",
    "\n",
    "\n",
    "There's something to note about the interaction between class variables and instance variables.\n",
    " - If an instance `i` of a class `C` has an instance variable `v`, \n",
    "\n",
    "   then `i.v` will access the instance variable \n",
    "   regardless of whether `C` has a class variable `v` or not.\n",
    " - Suppose an instance `i` of a class `C` does *not* have an instance variable `v`, \n",
    "   but `C` does have a class variable `v`. \n",
    "\n",
    "   - Referencing `i.v` will access the class variable;\n",
    "   - Assigning to `i.v` will create an instance variable;\n",
    "   - Only instance variable can be deleted, double execute `i.v` will cause an error."
   ]
  },
  {
   "cell_type": "code",
   "execution_count": 41,
   "id": "f396b2a9-fd75-4a4b-9ed1-b3c51f3a9414",
   "metadata": {
    "tags": []
   },
   "outputs": [
    {
     "name": "stdout",
     "output_type": "stream",
     "text": [
      "1 1\n",
      "1 2\n",
      "3 2\n",
      "3 3\n"
     ]
    }
   ],
   "source": [
    "class MyClass:\n",
    "    v = 1             # there is a class variable v throughout\n",
    "\n",
    "i = MyClass()         # i does not have an instance variable v\n",
    "print(MyClass.v, i.v) # i.v accesses the class variable\n",
    "\n",
    "i.v = 2               # assignment creates an instance variable\n",
    "print(MyClass.v, i.v) # i.v accesses the new instance variable\n",
    "\n",
    "MyClass.v = 3         # assignment changes the class variable\n",
    "print(MyClass.v, i.v) # i.v accesses the instance variable\n",
    "\n",
    "del i.v               # del deletes the instance variable\n",
    "print(MyClass.v, i.v) # i.v accesses the class variable"
   ]
  },
  {
   "cell_type": "code",
   "execution_count": 42,
   "id": "89313333-a073-4ad7-bed8-b499ea0196c4",
   "metadata": {
    "tags": []
   },
   "outputs": [
    {
     "ename": "AttributeError",
     "evalue": "'MyClass' object has no attribute 'v'",
     "output_type": "error",
     "traceback": [
      "\u001b[0;31m---------------------------------------------------------------------------\u001b[0m",
      "\u001b[0;31mAttributeError\u001b[0m                            Traceback (most recent call last)",
      "Cell \u001b[0;32mIn[42], line 1\u001b[0m\n\u001b[0;32m----> 1\u001b[0m \u001b[38;5;28;01mdel\u001b[39;00m \u001b[43mi\u001b[49m\u001b[38;5;241;43m.\u001b[39;49m\u001b[43mv\u001b[49m               \u001b[38;5;66;03m# AttributeError: there's no instance variable to delete\u001b[39;00m\n",
      "\u001b[0;31mAttributeError\u001b[0m: 'MyClass' object has no attribute 'v'"
     ]
    }
   ],
   "source": [
    "del i.v               # AttributeError: there's no instance variable to delete"
   ]
  },
  {
   "cell_type": "code",
   "execution_count": 45,
   "id": "34f14607",
   "metadata": {},
   "outputs": [
    {
     "ename": "AttributeError",
     "evalue": "type object 'MyClass' has no attribute 'v'",
     "output_type": "error",
     "traceback": [
      "\u001b[0;31m---------------------------------------------------------------------------\u001b[0m",
      "\u001b[0;31mAttributeError\u001b[0m                            Traceback (most recent call last)",
      "Cell \u001b[0;32mIn[45], line 1\u001b[0m\n\u001b[0;32m----> 1\u001b[0m \u001b[38;5;28;01mdel\u001b[39;00m \u001b[43mMyClass\u001b[49m\u001b[38;5;241;43m.\u001b[39;49m\u001b[43mv\u001b[49m\n\u001b[1;32m      2\u001b[0m \u001b[38;5;28mprint\u001b[39m(MyClass\u001b[38;5;241m.\u001b[39mv)     \u001b[38;5;66;03m# AttributeError: type object 'MyClass' has no attribute 'v'\u001b[39;00m\n",
      "\u001b[0;31mAttributeError\u001b[0m: type object 'MyClass' has no attribute 'v'"
     ]
    }
   ],
   "source": [
    "del MyClass.v\n",
    "print(MyClass.v)     # AttributeError: type object 'MyClass' has no attribute 'v'"
   ]
  },
  {
   "cell_type": "markdown",
   "id": "38dc5b3b-6db4-484c-b7d1-73f34f6db943",
   "metadata": {},
   "source": [
    "Tips for good code:\n",
    "\n",
    " - Write class variables as attributes of class objects, e.g. `MyClass.classVar`.\n",
    " - Write instance variables as attributes of instance objects, e.g. `instance.instanceVar`.\n",
    " - Avoid writing a class variable as an attribute of an instance object \n",
    "   unless you have a good reason for doing so, \n",
    "   i.e. avoid `instance.classVar`."
   ]
  },
  {
   "cell_type": "markdown",
   "id": "ffe6137e-b1df-4642-89be-60305a88191b",
   "metadata": {},
   "source": [
    "### Magic methods - Operand\n",
    "\n",
    "The \"magic\" in \"magic method\" refers to the fact that Python will automatically use these methods when interpreting symbols like `+`, `-`, `*`, `/`, `>`, `<`, `=`, `== 0`.\n",
    "\n",
    "https://rszalski.github.io/magicmethods/"
   ]
  },
  {
   "cell_type": "code",
   "execution_count": 46,
   "id": "4c853af2-3b40-4085-a9ab-fde23a91be2c",
   "metadata": {
    "tags": []
   },
   "outputs": [
    {
     "data": {
      "text/plain": [
       "(1, 2, 3, 4)"
      ]
     },
     "execution_count": 46,
     "metadata": {},
     "output_type": "execute_result"
    }
   ],
   "source": [
    "# we want vectors that work like (1, 2) + (3, 4) = (4, 6)\n",
    "(1, 2) + (3, 4) # because for lists and tuples, A + B is A concetante B"
   ]
  },
  {
   "cell_type": "code",
   "execution_count": 15,
   "id": "32f07e9f-698a-4974-b476-cbe4a1697140",
   "metadata": {
    "tags": []
   },
   "outputs": [],
   "source": [
    "class Vector:\n",
    "    \"\"\"\n",
    "    Class for 2-dimensional vectors\n",
    "    Supports standard vector operations, including scalar multiplication and vector addition. \n",
    "    \"\"\"\n",
    "    def __init__(self, x, y): # this is called when you instantiate\n",
    "        self.x = x\n",
    "        self.y = y\n",
    "        \n",
    "    def scalar_multiply(self, c):\n",
    "        \"\"\"\n",
    "        Return a Vector with components multiplied by c\n",
    "        \"\"\"\n",
    "        return (Vector(c*self.x, c*self.y)) # it will return an instance of this class (return a Vector instance)\n",
    "    \n",
    "    def __str__(self): # this is called when you print instance\n",
    "        return \"Vector(\" + str(self.x) + ',' + str(self.y) + \")\"\n",
    "    \n",
    "    def __add__(self, other): # this is called when you ask for instance + other instance\n",
    "        return Vector(self.x + other.x, self.y + other.y)\n",
    "    \n",
    "    def __sub__(self, other): # this is called when you ask for instance - other instance\n",
    "        return Vector(self.x - other.x, self.y - other.y)\n",
    "    \n",
    "    def __cmp__(self, other): # this is called when you ask for instance + other instance\n",
    "        return Vector(self.x + other.x, self.y + other.y)\n",
    "    \n",
    "    def __nonzero__(self, other): # this is called when you ask for instance - other instance\n",
    "        return Vector(self.x - other.x, self.y - other.y)\n",
    "        \n",
    "        "
   ]
  },
  {
   "cell_type": "code",
   "execution_count": 47,
   "id": "254e81a1-3ee7-4876-a951-75d0959eb4c2",
   "metadata": {
    "tags": []
   },
   "outputs": [
    {
     "name": "stdout",
     "output_type": "stream",
     "text": [
      "Vector(1,2)\n",
      "<class '__main__.Vector'>\n",
      "Vector(4,6)\n",
      "Vector(-2,-2)\n"
     ]
    }
   ],
   "source": [
    "u = Vector(1, 2) # Vector.__init__\n",
    "print(u) # print(Vector.__str__(u))\n",
    "\n",
    "v = Vector(3, 4)\n",
    "w = u + v # w = Vector.__add__(u, v)\n",
    "print(type(w))\n",
    "print(w) \n",
    "\n",
    "print(u - v)"
   ]
  },
  {
   "cell_type": "markdown",
   "id": "fa45b696-1427-4931-be0f-4c5c7e818332",
   "metadata": {},
   "source": [
    "### \"Private\" instance variables\n",
    "Python does not have private variables in strict sense. It is a convention to treat instance variables starting with `_` as a private variable. Python treats instance variables starting with `__` in a special way:"
   ]
  },
  {
   "cell_type": "code",
   "execution_count": 52,
   "id": "0cde4394-5e79-4499-a16d-e97c2c75956d",
   "metadata": {},
   "outputs": [],
   "source": [
    "class tmp: # \"private\" instance variables\n",
    "    def __init__(self, foo):\n",
    "        self.__foo = foo\n",
    "        print(self, type(self), id(self))"
   ]
  },
  {
   "cell_type": "code",
   "execution_count": 53,
   "id": "9f094233-59c1-41ed-b759-751e7be5228e",
   "metadata": {},
   "outputs": [
    {
     "name": "stdout",
     "output_type": "stream",
     "text": [
      "<__main__.tmp object at 0x1067cc7d0> <class '__main__.tmp'> 4403808208\n"
     ]
    }
   ],
   "source": [
    "x = tmp(3)\n",
    "x.__foo = 5 # a new instance variable of x called __foo is created, but not the original private class variable\n",
    "\n",
    "# When you attempt to set x.__foo = 5, it appears as though you're modifying the private variable __foo.\n",
    "# However, what actually happens is that you're creating a new instance variable __foo in the x instance namespace, \n",
    "# which is entirely separate from the \"private\" variable __foo defined in the class. \n",
    "# The original __foo defined in the class, due to name mangling, is still inaccessible directly by its original name and remains unchanged."
   ]
  },
  {
   "cell_type": "code",
   "execution_count": 54,
   "id": "9f97fb39-7019-45bf-aafd-ea973aefbd1b",
   "metadata": {},
   "outputs": [
    {
     "name": "stdout",
     "output_type": "stream",
     "text": [
      "<__main__.tmp object at 0x1067cc350> <class '__main__.tmp'> 4403807056\n"
     ]
    },
    {
     "ename": "AttributeError",
     "evalue": "'tmp' object has no attribute '__foo'",
     "output_type": "error",
     "traceback": [
      "\u001b[0;31m---------------------------------------------------------------------------\u001b[0m",
      "\u001b[0;31mAttributeError\u001b[0m                            Traceback (most recent call last)",
      "Cell \u001b[0;32mIn[54], line 2\u001b[0m\n\u001b[1;32m      1\u001b[0m y \u001b[38;5;241m=\u001b[39m tmp(\u001b[38;5;241m3\u001b[39m)\n\u001b[0;32m----> 2\u001b[0m \u001b[38;5;28mprint\u001b[39m(\u001b[43my\u001b[49m\u001b[38;5;241;43m.\u001b[39;49m\u001b[43m__foo\u001b[49m) \u001b[38;5;66;03m# AttributeError: 'tmp' object has no attribute '__foo'\u001b[39;00m\n",
      "\u001b[0;31mAttributeError\u001b[0m: 'tmp' object has no attribute '__foo'"
     ]
    }
   ],
   "source": [
    "y = tmp(3)\n",
    "print(y.__foo) # AttributeError: 'tmp' object has no attribute '__foo'"
   ]
  },
  {
   "cell_type": "code",
   "execution_count": 56,
   "id": "c0074ffa-54bb-4bad-8dba-0c7a957a7756",
   "metadata": {},
   "outputs": [
    {
     "data": {
      "text/plain": [
       "3"
      ]
     },
     "execution_count": 56,
     "metadata": {},
     "output_type": "execute_result"
    }
   ],
   "source": [
    "x._tmp__foo # you can access to the private foo this way"
   ]
  },
  {
   "cell_type": "code",
   "execution_count": 57,
   "id": "020aa3e0-07a2-42a8-b06b-d1359e2e02d2",
   "metadata": {},
   "outputs": [
    {
     "data": {
      "text/plain": [
       "4403808208"
      ]
     },
     "execution_count": 57,
     "metadata": {},
     "output_type": "execute_result"
    }
   ],
   "source": [
    "id(x)"
   ]
  },
  {
   "cell_type": "markdown",
   "id": "b8962b23-da14-44fb-a824-3438dfce17e4",
   "metadata": {},
   "source": [
    "This is useful for avoiding name clashes when subclassing. "
   ]
  }
 ],
 "metadata": {
  "kernelspec": {
   "display_name": "Python 3 (ipykernel)",
   "language": "python",
   "name": "python3"
  },
  "language_info": {
   "codemirror_mode": {
    "name": "ipython",
    "version": 3
   },
   "file_extension": ".py",
   "mimetype": "text/x-python",
   "name": "python",
   "nbconvert_exporter": "python",
   "pygments_lexer": "ipython3",
   "version": "3.12.2"
  }
 },
 "nbformat": 4,
 "nbformat_minor": 5
}
